{
  "nbformat": 4,
  "nbformat_minor": 0,
  "metadata": {
    "colab": {
      "provenance": [],
      "collapsed_sections": [
        "7sPHNxudGuMO"
      ]
    },
    "kernelspec": {
      "name": "python3",
      "display_name": "Python 3"
    },
    "language_info": {
      "name": "python"
    },
    "accelerator": "GPU",
    "gpuClass": "standard"
  },
  "cells": [
    {
      "cell_type": "markdown",
      "source": [
        "### **Data Preprocessing**\n",
        "\n"
      ],
      "metadata": {
        "id": "7sPHNxudGuMO"
      }
    },
    {
      "cell_type": "code",
      "execution_count": null,
      "metadata": {
        "id": "UF_fkc-rEH5Q"
      },
      "outputs": [],
      "source": [
        "import numpy as np\n",
        "import matplotlib\n",
        "import matplotlib.pyplot as plt\n",
        "import tensorflow as tf  # Version 1.0.0 (some previous versions are used in past commits)\n",
        "from sklearn import metrics\n",
        "\n",
        "import os"
      ]
    },
    {
      "cell_type": "code",
      "source": [
        "# Useful Constants\n",
        "\n",
        "# Those are separate normalised input features for the neural network\n",
        "INPUT_SIGNAL_TYPES = [\n",
        "    \"x_accel\",\n",
        "    \"y_accel\",\n",
        "    \"z_accel\",\n",
        "]\n",
        "\n",
        "# Output classes to learn how to classify\n",
        "LABELS = [\n",
        "    \"Walking\", \n",
        "    \"Jogging\", \n",
        "    \"Uptairs\", \n",
        "    \"Downstairs\", \n",
        "    \"Sitting\", \n",
        "    \"Standing\"\n",
        "] "
      ],
      "metadata": {
        "id": "u9gSA8uiEilq"
      },
      "execution_count": null,
      "outputs": []
    },
    {
      "cell_type": "code",
      "source": [
        "from numpy import genfromtxt\n",
        "import pandas as pd\n",
        "x = genfromtxt('/content/drive/MyDrive/Colab Notebooks/WISDM_x.csv', delimiter=',')\n",
        "y = pd.read_csv('/content/drive/MyDrive/Colab Notebooks/WISDM_y.csv').to_numpy()"
      ],
      "metadata": {
        "id": "gLppIs7ZEiof"
      },
      "execution_count": null,
      "outputs": []
    },
    {
      "cell_type": "code",
      "source": [
        "def create_series(x,y,timestep,overlap):\n",
        "\n",
        "  slide_step = int(timestep*(1-overlap))\n",
        "  data_num = int((len(x)/slide_step)-1)\n",
        "  \n",
        "  dataset = np.ndarray(shape=(data_num,timestep,len(x[0])))\n",
        "  labels = list()\n",
        "\n",
        "  for i in range(data_num):\n",
        "    labels.append(y[slide_step*(i+1)-1])\n",
        "    for j in range(timestep):\n",
        "      dataset[i,j,:] = x[slide_step*i+j,:]\n",
        "\n",
        "  return dataset,np.array(labels)\n"
      ],
      "metadata": {
        "id": "_WAym-ErEirn"
      },
      "execution_count": null,
      "outputs": []
    },
    {
      "cell_type": "code",
      "source": [
        "from sklearn.preprocessing import LabelEncoder,OneHotEncoder\n",
        "le = LabelEncoder()\n",
        "y = le.fit_transform(y).reshape(-1,1)\n",
        "\n",
        "\n",
        "ohe = OneHotEncoder()\n",
        "y = ohe.fit_transform(y).toarray()\n"
      ],
      "metadata": {
        "colab": {
          "base_uri": "https://localhost:8080/"
        },
        "id": "QMSJFqjJEiuw",
        "outputId": "63099073-7367-4e53-a2d7-d086cb1a1c77"
      },
      "execution_count": null,
      "outputs": [
        {
          "output_type": "stream",
          "name": "stderr",
          "text": [
            "/usr/local/lib/python3.8/dist-packages/sklearn/preprocessing/_label.py:115: DataConversionWarning: A column-vector y was passed when a 1d array was expected. Please change the shape of y to (n_samples, ), for example using ravel().\n",
            "  y = column_or_1d(y, warn=True)\n"
          ]
        }
      ]
    },
    {
      "cell_type": "code",
      "source": [
        "# y_pred.append(\"5\")\n",
        "dataset,labels = create_series(x,y,16,0.5)\n",
        "\n",
        "from sklearn.model_selection import train_test_split\n",
        "X_train, X_test, y_train, y_test = train_test_split(dataset,labels,test_size=0.3, random_state=412)\n",
        "# X_test, X_val, y_test, y_val = train_test_split(X_toSplit,y_toSplit,test_size=0.25, random_state=412)"
      ],
      "metadata": {
        "id": "HbSCGJkjFj-j"
      },
      "execution_count": null,
      "outputs": []
    },
    {
      "cell_type": "code",
      "source": [
        "# Input Data \n",
        "\n",
        "training_data_count = len(X_train)  # 96092 training series (with 50% overlap between each serie)\n",
        "test_data_count = len(X_test)  # 41183 testing series\n",
        "n_steps = len(X_train[0])  # 16 timesteps per series\n",
        "n_input = len(X_train[0][0])  # 3 input parameters per timestep\n",
        "\n",
        "\n",
        "# LSTM Neural Network's internal structure\n",
        "# n_hidden = 32 # Hidden layer num of features\n",
        "n_classes = 6 # Total classes (should go up, or should go down)\n",
        "\n",
        "\n",
        "# Training \n",
        "\n",
        "learning_rate = 0.0025\n",
        "lambda_loss_amount = 0.0015\n",
        "training_iters = training_data_count * 300  # Loop 300 times on the dataset\n",
        "batch_size = 64\n",
        "display_iter = 30000  # To show test set accuracy during training\n",
        "\n",
        "\n",
        "# Some debugging info\n",
        "\n",
        "print(\"Some useful info to get an insight on dataset's shape and normalisation:\")\n",
        "print(\"(X shape, y shape, every X's mean, every X's standard deviation)\")\n",
        "print(X_test.shape, y_test.shape, np.mean(X_test), np.std(X_test))\n",
        "print(\"The dataset is therefore properly normalised, as expected, but not yet one-hot encoded.\")"
      ],
      "metadata": {
        "colab": {
          "base_uri": "https://localhost:8080/"
        },
        "id": "tquU7j8yEujG",
        "outputId": "43ba7f71-9b1e-4d91-8ec1-7d28cad82fdb"
      },
      "execution_count": null,
      "outputs": [
        {
          "output_type": "stream",
          "name": "stdout",
          "text": [
            "Some useful info to get an insight on dataset's shape and normalisation:\n",
            "(X shape, y shape, every X's mean, every X's standard deviation)\n",
            "(39321, 16, 3) (39321, 6) 2.873419266367973 6.908464983446615\n",
            "The dataset is therefore properly normalised, as expected, but not yet one-hot encoded.\n"
          ]
        }
      ]
    },
    {
      "cell_type": "markdown",
      "source": [
        "### **Model**"
      ],
      "metadata": {
        "id": "d3KdN1PRHCqc"
      }
    },
    {
      "cell_type": "code",
      "source": [
        "import numpy as np\n",
        "import tensorflow as tf\n",
        "from tensorflow import keras\n",
        "from tensorflow.keras import layers\n",
        "\n",
        "model = keras.Sequential()\n",
        "model.add(layers.GRU(256, return_sequences=True,input_shape=(n_steps, n_input)))\n",
        "model.add(layers.Dropout(0.2))\n",
        "model.add(layers.GRU(128, return_sequences=True))\n",
        "model.add(layers.Dropout(0.2))\n",
        "model.add(layers.GRU(64, return_sequences=True))\n",
        "model.add(layers.Dropout(0.2))\n",
        "model.add(layers.GRU(32))\n",
        "model.add(layers.Dropout(0.2))\n",
        "model.add(layers.Dense(6, activation='softmax'))\n",
        "\n",
        "callback = tf.keras.callbacks.EarlyStopping(monitor='loss', patience=10)\n",
        "\n",
        "model.compile(loss=\"categorical_crossentropy\",optimizer='adam',metrics=[\"accuracy\"])\n",
        "\n",
        "history = model.fit(X_train,y_train,batch_size=64,epochs=10000,validation_split=0.1,callbacks=[callback])\n",
        "\n",
        "model.save('/Users/wangshiyu/Desktop/gru_model')\n"
      ],
      "metadata": {
        "colab": {
          "base_uri": "https://localhost:8080/"
        },
        "id": "WmDnJvcVEvHU",
        "outputId": "0cda2eea-b959-4c2f-cf19-2d1dc963a71d"
      },
      "execution_count": null,
      "outputs": [
        {
          "output_type": "stream",
          "name": "stdout",
          "text": [
            "Epoch 1/10000\n",
            "1291/1291 [==============================] - 27s 15ms/step - loss: 0.4195 - accuracy: 0.8559 - val_loss: 0.2185 - val_accuracy: 0.9263\n",
            "Epoch 2/10000\n",
            "1291/1291 [==============================] - 16s 12ms/step - loss: 0.2083 - accuracy: 0.9324 - val_loss: 0.1713 - val_accuracy: 0.9460\n",
            "Epoch 3/10000\n",
            "1291/1291 [==============================] - 16s 12ms/step - loss: 0.1577 - accuracy: 0.9493 - val_loss: 0.1657 - val_accuracy: 0.9505\n",
            "Epoch 4/10000\n",
            "1291/1291 [==============================] - 16s 12ms/step - loss: 0.1280 - accuracy: 0.9596 - val_loss: 0.1454 - val_accuracy: 0.9560\n",
            "Epoch 5/10000\n",
            "1291/1291 [==============================] - 16s 12ms/step - loss: 0.1081 - accuracy: 0.9654 - val_loss: 0.1469 - val_accuracy: 0.9588\n",
            "Epoch 6/10000\n",
            "1291/1291 [==============================] - 16s 12ms/step - loss: 0.0921 - accuracy: 0.9716 - val_loss: 0.1742 - val_accuracy: 0.9547\n",
            "Epoch 7/10000\n",
            "1291/1291 [==============================] - 16s 13ms/step - loss: 0.0832 - accuracy: 0.9744 - val_loss: 0.1297 - val_accuracy: 0.9648\n",
            "Epoch 8/10000\n",
            "1291/1291 [==============================] - 16s 13ms/step - loss: 0.0748 - accuracy: 0.9777 - val_loss: 0.1366 - val_accuracy: 0.9621\n",
            "Epoch 9/10000\n",
            "1291/1291 [==============================] - 16s 13ms/step - loss: 0.0682 - accuracy: 0.9794 - val_loss: 0.1336 - val_accuracy: 0.9650\n",
            "Epoch 10/10000\n",
            "1291/1291 [==============================] - 16s 13ms/step - loss: 0.0643 - accuracy: 0.9803 - val_loss: 0.1549 - val_accuracy: 0.9597\n",
            "Epoch 11/10000\n",
            "1291/1291 [==============================] - 16s 13ms/step - loss: 0.0585 - accuracy: 0.9825 - val_loss: 0.1364 - val_accuracy: 0.9641\n",
            "Epoch 12/10000\n",
            "1291/1291 [==============================] - 16s 13ms/step - loss: 0.0542 - accuracy: 0.9836 - val_loss: 0.1420 - val_accuracy: 0.9627\n",
            "Epoch 13/10000\n",
            "1291/1291 [==============================] - 16s 13ms/step - loss: 0.0520 - accuracy: 0.9843 - val_loss: 0.1552 - val_accuracy: 0.9602\n",
            "Epoch 14/10000\n",
            "1291/1291 [==============================] - 18s 14ms/step - loss: 0.0483 - accuracy: 0.9850 - val_loss: 0.1362 - val_accuracy: 0.9662\n",
            "Epoch 15/10000\n",
            "1291/1291 [==============================] - 17s 13ms/step - loss: 0.0460 - accuracy: 0.9858 - val_loss: 0.1372 - val_accuracy: 0.9658\n",
            "Epoch 16/10000\n",
            "1291/1291 [==============================] - 16s 13ms/step - loss: 0.0442 - accuracy: 0.9863 - val_loss: 0.1511 - val_accuracy: 0.9654\n",
            "Epoch 17/10000\n",
            "1291/1291 [==============================] - 16s 13ms/step - loss: 0.0448 - accuracy: 0.9867 - val_loss: 0.1449 - val_accuracy: 0.9636\n",
            "Epoch 18/10000\n",
            "1291/1291 [==============================] - 16s 13ms/step - loss: 0.0422 - accuracy: 0.9870 - val_loss: 0.1629 - val_accuracy: 0.9599\n",
            "Epoch 19/10000\n",
            "1291/1291 [==============================] - 16s 13ms/step - loss: 0.0402 - accuracy: 0.9875 - val_loss: 0.1612 - val_accuracy: 0.9623\n",
            "Epoch 20/10000\n",
            "1291/1291 [==============================] - 16s 13ms/step - loss: 0.0390 - accuracy: 0.9877 - val_loss: 0.1654 - val_accuracy: 0.9631\n",
            "Epoch 21/10000\n",
            "1291/1291 [==============================] - 16s 13ms/step - loss: 0.0411 - accuracy: 0.9874 - val_loss: 0.1576 - val_accuracy: 0.9634\n",
            "Epoch 22/10000\n",
            "1291/1291 [==============================] - 16s 13ms/step - loss: 0.0401 - accuracy: 0.9876 - val_loss: 0.1523 - val_accuracy: 0.9635\n",
            "Epoch 23/10000\n",
            "1291/1291 [==============================] - 16s 13ms/step - loss: 0.0365 - accuracy: 0.9886 - val_loss: 0.1654 - val_accuracy: 0.9639\n",
            "Epoch 24/10000\n",
            "1291/1291 [==============================] - 16s 13ms/step - loss: 0.0384 - accuracy: 0.9883 - val_loss: 0.1521 - val_accuracy: 0.9643\n",
            "Epoch 25/10000\n",
            "1291/1291 [==============================] - 16s 13ms/step - loss: 0.0382 - accuracy: 0.9886 - val_loss: 0.1543 - val_accuracy: 0.9649\n",
            "Epoch 26/10000\n",
            "1291/1291 [==============================] - 16s 13ms/step - loss: 0.0359 - accuracy: 0.9892 - val_loss: 0.1607 - val_accuracy: 0.9634\n",
            "Epoch 27/10000\n",
            "1291/1291 [==============================] - 16s 13ms/step - loss: 0.0368 - accuracy: 0.9887 - val_loss: 0.1623 - val_accuracy: 0.9634\n",
            "Epoch 28/10000\n",
            "1291/1291 [==============================] - 19s 15ms/step - loss: 0.0372 - accuracy: 0.9884 - val_loss: 0.1646 - val_accuracy: 0.9648\n",
            "Epoch 29/10000\n",
            "1291/1291 [==============================] - 16s 13ms/step - loss: 0.0361 - accuracy: 0.9888 - val_loss: 0.1673 - val_accuracy: 0.9625\n",
            "Epoch 30/10000\n",
            "1291/1291 [==============================] - 16s 13ms/step - loss: 0.0372 - accuracy: 0.9888 - val_loss: 0.1575 - val_accuracy: 0.9610\n",
            "Epoch 31/10000\n",
            "1291/1291 [==============================] - 16s 13ms/step - loss: 0.0374 - accuracy: 0.9880 - val_loss: 0.1663 - val_accuracy: 0.9628\n",
            "Epoch 32/10000\n",
            "1291/1291 [==============================] - 16s 13ms/step - loss: 0.0362 - accuracy: 0.9887 - val_loss: 0.1671 - val_accuracy: 0.9615\n",
            "Epoch 33/10000\n",
            "1291/1291 [==============================] - 16s 13ms/step - loss: 0.0384 - accuracy: 0.9878 - val_loss: 0.1621 - val_accuracy: 0.9611\n",
            "Epoch 34/10000\n",
            "1291/1291 [==============================] - 16s 13ms/step - loss: 0.0349 - accuracy: 0.9894 - val_loss: 0.1742 - val_accuracy: 0.9612\n",
            "Epoch 35/10000\n",
            "1291/1291 [==============================] - 16s 13ms/step - loss: 0.0404 - accuracy: 0.9872 - val_loss: 0.1670 - val_accuracy: 0.9634\n",
            "Epoch 36/10000\n",
            "1291/1291 [==============================] - 16s 13ms/step - loss: 0.0372 - accuracy: 0.9884 - val_loss: 0.1625 - val_accuracy: 0.9640\n",
            "Epoch 37/10000\n",
            "1291/1291 [==============================] - 16s 13ms/step - loss: 0.0353 - accuracy: 0.9890 - val_loss: 0.1706 - val_accuracy: 0.9612\n",
            "Epoch 38/10000\n",
            "1291/1291 [==============================] - 16s 13ms/step - loss: 0.0378 - accuracy: 0.9884 - val_loss: 0.1652 - val_accuracy: 0.9631\n",
            "Epoch 39/10000\n",
            "1291/1291 [==============================] - 16s 13ms/step - loss: 0.0377 - accuracy: 0.9881 - val_loss: 0.1747 - val_accuracy: 0.9597\n",
            "Epoch 40/10000\n",
            "1291/1291 [==============================] - 16s 13ms/step - loss: 0.0373 - accuracy: 0.9881 - val_loss: 0.1702 - val_accuracy: 0.9636\n",
            "Epoch 41/10000\n",
            "1291/1291 [==============================] - 16s 13ms/step - loss: 0.0377 - accuracy: 0.9882 - val_loss: 0.1629 - val_accuracy: 0.9616\n",
            "Epoch 42/10000\n",
            "1291/1291 [==============================] - 16s 13ms/step - loss: 0.0403 - accuracy: 0.9874 - val_loss: 0.1559 - val_accuracy: 0.9641\n",
            "Epoch 43/10000\n",
            "1291/1291 [==============================] - 16s 13ms/step - loss: 0.0401 - accuracy: 0.9871 - val_loss: 0.1498 - val_accuracy: 0.9635\n",
            "Epoch 44/10000\n",
            "1291/1291 [==============================] - 16s 13ms/step - loss: 0.0380 - accuracy: 0.9877 - val_loss: 0.1693 - val_accuracy: 0.9603\n"
          ]
        },
        {
          "output_type": "stream",
          "name": "stderr",
          "text": [
            "WARNING:absl:Found untraced functions such as gru_cell_16_layer_call_fn, gru_cell_16_layer_call_and_return_conditional_losses, gru_cell_17_layer_call_fn, gru_cell_17_layer_call_and_return_conditional_losses, gru_cell_18_layer_call_fn while saving (showing 5 of 8). These functions will not be directly callable after loading.\n"
          ]
        }
      ]
    },
    {
      "cell_type": "code",
      "source": [
        "model.evaluate(X_test, y_test)"
      ],
      "metadata": {
        "id": "NSMKGXfcKRm8",
        "colab": {
          "base_uri": "https://localhost:8080/"
        },
        "outputId": "765dbe25-5a37-4984-f54a-0816ddf40da2"
      },
      "execution_count": null,
      "outputs": [
        {
          "output_type": "stream",
          "name": "stdout",
          "text": [
            "1229/1229 [==============================] - 7s 6ms/step - loss: 0.1578 - accuracy: 0.9622\n"
          ]
        },
        {
          "output_type": "execute_result",
          "data": {
            "text/plain": [
              "[0.1577976644039154, 0.9622339010238647]"
            ]
          },
          "metadata": {},
          "execution_count": 45
        }
      ]
    },
    {
      "cell_type": "code",
      "source": [],
      "metadata": {
        "id": "vbeIwerUKRq1"
      },
      "execution_count": null,
      "outputs": []
    },
    {
      "cell_type": "code",
      "source": [],
      "metadata": {
        "id": "FkSEgcMlKRud"
      },
      "execution_count": null,
      "outputs": []
    }
  ]
}