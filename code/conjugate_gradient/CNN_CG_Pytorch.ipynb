{
 "cells": [
  {
   "cell_type": "code",
   "execution_count": 1,
   "id": "8fee4936",
   "metadata": {},
   "outputs": [],
   "source": [
    "import torch\n",
    "import torch.nn as nn\n",
    "import torch.nn.functional as F\n",
    "from torch.utils.data import DataLoader, TensorDataset\n",
    "from sklearn.model_selection import train_test_split\n",
    "import numpy as np\n",
    "import pandas as pd\n",
    "from numpy import genfromtxt\n",
    "from sklearn.preprocessing import LabelEncoder"
   ]
  },
  {
   "cell_type": "code",
   "execution_count": 2,
   "id": "84d70baf",
   "metadata": {},
   "outputs": [
    {
     "name": "stdout",
     "output_type": "stream",
     "text": [
      "Using cuda device\n",
      "Current GPU device: NVIDIA GeForce RTX 3080\n"
     ]
    }
   ],
   "source": [
    "# Torch device configuration\n",
    "device = (\n",
    "    \"cuda\" if torch.cuda.is_available() else \"mps\"\n",
    "    if torch.backends.mps.is_available() else \"cpu\"\n",
    ")\n",
    "print(f\"Using {device} device\")\n",
    "if torch.cuda.is_available():\n",
    "    print(f\"Current GPU device: {torch.cuda.get_device_name(device)}\")"
   ]
  },
  {
   "cell_type": "code",
   "execution_count": 3,
   "id": "15c2ac40",
   "metadata": {},
   "outputs": [],
   "source": [
    "# Load Data\n",
    "x = genfromtxt('../../Data/WISDM_x.csv', delimiter=',')\n",
    "y_df = pd.read_csv('../../Data/WISDM_y.csv')\n",
    "y = y_df.values.flatten()  # Flatten if y is 2D\n",
    "\n",
    "# Encode labels\n",
    "label_encoder = LabelEncoder()\n",
    "y_encoded = label_encoder.fit_transform(y)\n",
    "\n",
    "# Function to create time series dataset\n",
    "def create_series(x, y, timestep, overlap):\n",
    "    slide_step = int(timestep * (1 - overlap))\n",
    "    data_num = int((len(x) / slide_step) - 1)\n",
    "    dataset = np.ndarray(shape=(data_num, timestep, x.shape[1]))\n",
    "    labels = []\n",
    "\n",
    "    for i in range(data_num):\n",
    "        labels.append(y[slide_step * (i + 1) - 1])\n",
    "        for j in range(timestep):\n",
    "            dataset[i, j, :] = x[slide_step * i + j, :]\n",
    "\n",
    "    return dataset, np.array(labels)\n",
    "\n",
    "# Create time series\n",
    "timestep = 16  # Replace with your value\n",
    "overlap = 0.5  # Replace with your value\n",
    "X_series, y_series = create_series(x, y_encoded, timestep, overlap)"
   ]
  },
  {
   "cell_type": "code",
   "execution_count": 4,
   "id": "7842f098",
   "metadata": {},
   "outputs": [
    {
     "name": "stdout",
     "output_type": "stream",
     "text": [
      "X_train shape:(104856, 16, 3), X_test shape:(26214, 16, 3), y_train shape:(104856,), y_test shape:(26214,)\n"
     ]
    }
   ],
   "source": [
    "# Split into train and test sets\n",
    "X_train, X_test, y_train, y_test = train_test_split(X_series, y_series, test_size=0.2, random_state=42)\n",
    "print(f'X_train shape:{X_train.shape}, X_test shape:{X_test.shape}, y_train shape:{y_train.shape}, y_test shape:{y_test.shape}')"
   ]
  },
  {
   "cell_type": "code",
   "execution_count": 5,
   "id": "6f4e9ec9",
   "metadata": {},
   "outputs": [],
   "source": [
    "class MyModel(nn.Module):\n",
    "    def __init__(self, n_input, n_steps):\n",
    "        super(MyModel, self).__init__()\n",
    "        self.conv1 = nn.Conv1d(in_channels=n_input, out_channels=256, kernel_size=3)\n",
    "        self.conv2 = nn.Conv1d(in_channels=256, out_channels=128, kernel_size=3)\n",
    "        self.conv3 = nn.Conv1d(in_channels=128, out_channels=64, kernel_size=3)\n",
    "        self.conv4 = nn.Conv1d(in_channels=64, out_channels=32, kernel_size=3)\n",
    "        self.flatten = nn.Flatten()\n",
    "        self.fc = nn.Linear(32 * 8, 6)  # Adjusted for the output from the last Conv1d layer\n",
    "        self.dropout = nn.Dropout(0.2)\n",
    "        self.softmax = nn.Softmax(dim=1)\n",
    "\n",
    "    def forward(self, x):\n",
    "        x = self.dropout(torch.relu(self.conv1(x)))\n",
    "        x = self.dropout(torch.relu(self.conv2(x)))\n",
    "        x = self.dropout(torch.relu(self.conv3(x)))\n",
    "        x = self.dropout(torch.relu(self.conv4(x)))\n",
    "        x = self.flatten(x)\n",
    "        x = self.fc(x)\n",
    "        return self.softmax(x)\n",
    "\n",
    "# Example instantiation of the model\n",
    "model = MyModel(n_input=3, n_steps=16)\n"
   ]
  },
  {
   "cell_type": "code",
   "execution_count": 9,
   "id": "a929011a",
   "metadata": {},
   "outputs": [],
   "source": [
    "# Convert arrays to PyTorch Tensors\n",
    "X_train = torch.tensor(X_train, dtype=torch.float32)\n",
    "y_train = torch.tensor(y_train, dtype=torch.long)  # Assuming y_train is class labels for classification\n",
    "X_test = torch.tensor(X_test, dtype=torch.float32)\n",
    "y_test = torch.tensor(y_test, dtype=torch.long)\n",
    "\n",
    "# Creating TensorDatasets\n",
    "train_dataset = TensorDataset(X_train, y_train)\n",
    "test_dataset = TensorDataset(X_test, y_test)\n",
    "\n",
    "# Creating DataLoaders\n",
    "batch_size = 64\n",
    "train_loader = DataLoader(dataset=train_dataset, batch_size=batch_size, shuffle=True)\n",
    "test_loader = DataLoader(dataset=test_dataset, batch_size=batch_size, shuffle=False)"
   ]
  },
  {
   "cell_type": "code",
   "execution_count": 38,
   "id": "d3cc6c89",
   "metadata": {},
   "outputs": [
    {
     "name": "stdout",
     "output_type": "stream",
     "text": [
      "initial fval: 1.7970\n",
      "iter   1 - fval: 1.6234\n",
      "iter   2 - fval: 1.6167\n",
      "iter   3 - fval: 1.5301\n",
      "iter   4 - fval: 1.5231\n",
      "iter   5 - fval: 1.5229\n",
      "iter   6 - fval: 1.5217\n",
      "iter   7 - fval: 1.5173\n",
      "iter   8 - fval: 1.5117\n",
      "iter   9 - fval: 1.4981\n",
      "iter  10 - fval: 1.4760\n",
      "iter  11 - fval: 1.4671\n",
      "iter  12 - fval: 1.4564\n",
      "iter  13 - fval: 1.4341\n",
      "iter  14 - fval: 1.4096\n",
      "iter  15 - fval: 1.4091\n",
      "iter  16 - fval: 1.4077\n",
      "iter  17 - fval: 1.4064\n",
      "iter  18 - fval: 1.3986\n",
      "iter  19 - fval: 1.3963\n",
      "iter  20 - fval: 1.3944\n",
      "iter  21 - fval: 1.3939\n",
      "iter  22 - fval: 1.3878\n",
      "iter  23 - fval: 1.3878\n",
      "Warning: Initial step guess is negative.\n",
      "         Current function value: 1.387778\n",
      "         Iterations: 24\n",
      "         Function evaluations: 70\n"
     ]
    }
   ],
   "source": [
    "from torchmin import Minimizer\n",
    "\n",
    "# Loss function and optimizer\n",
    "criterion = nn.CrossEntropyLoss()\n",
    "\n",
    "# Initialize the optimizer\n",
    "optimizer = Minimizer(model.parameters(),\n",
    "                      method='cg',\n",
    "                      tol=1e-5,\n",
    "                      max_iter=2000,\n",
    "                      disp=2)\n",
    "\n",
    "# Training\n",
    "model.train()\n",
    "\n",
    "inputs, labels = X_train, y_train\n",
    "inputs = inputs.view(-1, 3, 16)  # Reshape input to match model expectations\n",
    "\n",
    "def closure():\n",
    "    optimizer.zero_grad()\n",
    "    output = model(inputs)\n",
    "    loss = criterion(output, labels)\n",
    "    # loss.backward()  <-- do not call backward!\n",
    "    return loss\n",
    "\n",
    "optimizer.step(closure)\n",
    "\n",
    "# Save the model\n",
    "model_path = \"models/MLPCG_base.pt\"\n",
    "torch.save(model.state_dict(), model_path)\n"
   ]
  },
  {
   "cell_type": "code",
   "execution_count": 39,
   "id": "e7634a5c",
   "metadata": {},
   "outputs": [
    {
     "name": "stdout",
     "output_type": "stream",
     "text": [
      "Test Loss: 1.3822 \tTest Accuracy: 66.00%\n"
     ]
    }
   ],
   "source": [
    "# Test phase - after training is complete\n",
    "model.eval()  # Set the model to evaluation mode\n",
    "test_loss = 0.0\n",
    "correct = 0\n",
    "total = 0\n",
    "\n",
    "with torch.no_grad():\n",
    "    for inputs, labels in test_loader:\n",
    "        inputs = inputs.view(-1, 3, 16)\n",
    "\n",
    "        outputs = model(inputs)\n",
    "        loss = criterion(outputs, labels)\n",
    "        test_loss += loss.item() * inputs.size(0)\n",
    "\n",
    "        _, predicted = torch.max(outputs.data, 1)\n",
    "        total += labels.size(0)\n",
    "        correct += (predicted == labels).sum().item()\n",
    "\n",
    "# Calculate average loss and accuracy\n",
    "test_loss = test_loss / len(test_loader.dataset)\n",
    "test_accuracy = 100 * correct / total\n",
    "\n",
    "# Print test statistics\n",
    "print(f'Test Loss: {test_loss:.4f} \\tTest Accuracy: {test_accuracy:.2f}%')\n"
   ]
  },
  {
   "cell_type": "code",
   "execution_count": 40,
   "id": "e15fa929",
   "metadata": {},
   "outputs": [],
   "source": [
    "model_path = \"models/CNN_CG_base.pt\"\n",
    "torch.save(model.state_dict(), model_path)"
   ]
  },
  {
   "cell_type": "code",
   "execution_count": 13,
   "id": "8fb1ecff",
   "metadata": {},
   "outputs": [],
   "source": [
    "from pathlib import Path\n",
    "\n",
    "def compute_metrics_base(model, test_loader, model_path):\n",
    "    \"\"\"\n",
    "    Compute the accuracy of the PyTorch model.\n",
    "\n",
    "    :param model: PyTorch model.\n",
    "    :param test_loader: DataLoader for the test dataset.\n",
    "    :param model_path: Path to the PyTorch model file.\n",
    "    :return: None\n",
    "    \"\"\"\n",
    "\n",
    "    model.eval()\n",
    "    correct = 0\n",
    "    total = 0\n",
    "    all_predicted = []\n",
    "    all_labels = []\n",
    "\n",
    "    with torch.no_grad():\n",
    "        for inputs, labels in test_loader:\n",
    "            # Reshaping and predictions\n",
    "            inputs = inputs.view(-1, 3, 16)  # Adjust the reshape as per your model input\n",
    "            outputs = model(inputs)\n",
    "            _, predicted_labels = torch.max(outputs, 1)\n",
    "\n",
    "            # Aggregate labels and predictions\n",
    "            all_predicted.extend(predicted_labels.cpu().numpy())\n",
    "            all_labels.extend(labels.cpu().numpy())\n",
    "\n",
    "            # Calculating accuracy\n",
    "            correct += (predicted_labels == labels).sum().item()\n",
    "            total += labels.size(0)\n",
    "\n",
    "    # Compute accuracy\n",
    "    accuracy = correct / total\n",
    "    print(f'Accuracy on the test set: {accuracy:.2%}')\n",
    "\n",
    "    # Model size\n",
    "    model_size_bytes = Path(model_path).stat().st_size\n",
    "    model_size_kb = model_size_bytes / 1024\n",
    "    print(f\"Size of the model: {model_size_kb:.2f} KB\")\n"
   ]
  },
  {
   "cell_type": "code",
   "execution_count": 14,
   "id": "1e2c5ea0",
   "metadata": {},
   "outputs": [],
   "source": [
    "import psutil\n",
    "import time\n",
    "\n",
    "def measure_cpu_utilization_and_run(func, *args, **kwargs):\n",
    "    \"\"\"\n",
    "    Measure CPU utilization while running a function.\n",
    "\n",
    "    Parameters:\n",
    "        func (function): The function to be executed.\n",
    "        *args: Arguments to be passed to func.\n",
    "        **kwargs: Keyword arguments to be passed to func.\n",
    "\n",
    "    Returns:\n",
    "        float: CPU utilization percentage during the execution of func.\n",
    "        float: The elapsed time during the execution of func.\n",
    "        any: The result of func execution.\n",
    "    \"\"\"\n",
    "    \n",
    "    # Measure CPU utilization before execution\n",
    "    cpu_percent_before = psutil.cpu_percent(interval=None)\n",
    "\n",
    "    # Record the start time\n",
    "    start_time = time.time()\n",
    "\n",
    "    # Execute the function and store its result\n",
    "    result = func(*args, **kwargs)\n",
    "\n",
    "    # Record the end time\n",
    "    end_time = time.time()\n",
    "\n",
    "    # Measure CPU utilization after execution\n",
    "    cpu_percent_after = psutil.cpu_percent(interval=None)\n",
    "\n",
    "    # Calculate elapsed time and average CPU utilization\n",
    "    elapsed_time = end_time - start_time\n",
    "    average_cpu_utilization = (cpu_percent_before + cpu_percent_after) / 2\n",
    "\n",
    "    return average_cpu_utilization, elapsed_time, result\n",
    "\n"
   ]
  },
  {
   "cell_type": "code",
   "execution_count": 43,
   "id": "7c5d5b39",
   "metadata": {},
   "outputs": [
    {
     "name": "stdout",
     "output_type": "stream",
     "text": [
      "Accuracy on the test set: 66.00%\n",
      "Size of the model: 524.61 KB\n",
      "CPU usage during inference: 10.00%\n",
      "Inference time: 0.7496 seconds\n"
     ]
    }
   ],
   "source": [
    "# Move model to CPU\n",
    "model.to('cpu')\n",
    "\n",
    "# Measure CPU usage and inference time\n",
    "cpu_usage, inference_time, _ = measure_cpu_utilization_and_run(compute_metrics_base, model, test_loader, model_path)\n",
    "\n",
    "print(f'CPU usage during inference: {cpu_usage:.2f}%')\n",
    "print(f'Inference time: {inference_time:.4f} seconds')\n"
   ]
  },
  {
   "cell_type": "markdown",
   "id": "b8d72f46",
   "metadata": {},
   "source": [
    "### Dynamic Quantization"
   ]
  },
  {
   "cell_type": "code",
   "execution_count": 45,
   "id": "4d855913",
   "metadata": {},
   "outputs": [],
   "source": [
    "import torch.quantization\n",
    "\n",
    "# Configure to qnnpack if available (ARM cpu)\n",
    "# torch.backends.quantized.engine = 'qnnpack'"
   ]
  },
  {
   "cell_type": "code",
   "execution_count": 54,
   "id": "3e3010fb",
   "metadata": {},
   "outputs": [],
   "source": [
    "quantized_model = torch.quantization.quantize_dynamic(\n",
    "    model,  # the original model\n",
    "    {nn.Conv1d},  # specify which layer types to quantize\n",
    "    dtype=torch.qint8  # the target data type for quantized weights\n",
    ")"
   ]
  },
  {
   "cell_type": "code",
   "execution_count": 55,
   "id": "d1c06710",
   "metadata": {},
   "outputs": [
    {
     "name": "stdout",
     "output_type": "stream",
     "text": [
      "Accuracy of the quantized model on the test dataset: 66.00%\n"
     ]
    }
   ],
   "source": [
    "# Save the quantized model\n",
    "torch.save(quantized_model.state_dict(), 'models/CNN_CG_Quantized.pt')\n",
    "\n",
    "# Use it for inference\n",
    "quantized_model.eval()\n",
    "quantized_model.to('cpu')\n",
    "with torch.no_grad():\n",
    "    for inputs, labels in test_loader:\n",
    "        inputs = inputs.view(-1, 3, 16)  # Reshape if needed, based on your model's requirement\n",
    "        inputs, labels = inputs.to('cpu'), labels.to('cpu')\n",
    "        outputs = quantized_model(inputs)\n",
    "        _, predicted = torch.max(outputs.data, 1)\n",
    "        total += labels.size(0)\n",
    "        correct += (predicted == labels).sum().item()\n",
    "\n",
    "accuracy = 100 * correct / total\n",
    "print(f'Accuracy of the quantized model on the test dataset: {accuracy:.2f}%')\n"
   ]
  },
  {
   "cell_type": "code",
   "execution_count": 58,
   "id": "c4d7d9bb",
   "metadata": {},
   "outputs": [
    {
     "name": "stdout",
     "output_type": "stream",
     "text": [
      "Accuracy on the test set: 66.00%\n",
      "Size of the model: 524.80 KB\n",
      "CPU usage during inference: 1.60%\n",
      "Inference time: 0.7699 seconds\n"
     ]
    }
   ],
   "source": [
    "# Measure CPU usage and inference time\n",
    "quantized_model_path = 'models/CNN_CG_Quantized.pt'\n",
    "cpu_usage, inference_time, _ = measure_cpu_utilization_and_run(compute_metrics_base, quantized_model, test_loader, quantized_model_path)\n",
    "\n",
    "print(f'CPU usage during inference: {cpu_usage:.2f}%')\n",
    "print(f'Inference time: {inference_time:.4f} seconds')\n"
   ]
  },
  {
   "cell_type": "markdown",
   "id": "ee4e007d",
   "metadata": {},
   "source": [
    "### Static Quantization"
   ]
  },
  {
   "cell_type": "code",
   "execution_count": 6,
   "id": "917dd311",
   "metadata": {},
   "outputs": [],
   "source": [
    "class CNN_Model(nn.Module):\n",
    "    def __init__(self, n_input, n_steps):\n",
    "        super(CNN_Model, self).__init__()\n",
    "        self.quant = torch.quantization.QuantStub()\n",
    "        self.conv1 = nn.Conv1d(in_channels=n_input, out_channels=256, kernel_size=3)\n",
    "        self.conv2 = nn.Conv1d(in_channels=256, out_channels=128, kernel_size=3)\n",
    "        self.conv3 = nn.Conv1d(in_channels=128, out_channels=64, kernel_size=3)\n",
    "        self.conv4 = nn.Conv1d(in_channels=64, out_channels=32, kernel_size=3)\n",
    "        self.flatten = nn.Flatten()\n",
    "        self.fc = nn.Linear(32 * 8, 6)  # Adjusted for the output from the last Conv1d layer\n",
    "        self.dropout = nn.Dropout(0.2)\n",
    "        self.softmax = nn.Softmax(dim=1)\n",
    "        self.dequant = torch.quantization.DeQuantStub()\n",
    "\n",
    "    def forward(self, x):\n",
    "        x = self.quant(x)\n",
    "        x = self.dropout(torch.relu(self.conv1(x)))\n",
    "        x = self.dropout(torch.relu(self.conv2(x)))\n",
    "        x = self.dropout(torch.relu(self.conv3(x)))\n",
    "        x = self.dropout(torch.relu(self.conv4(x)))\n",
    "        x = self.flatten(x)\n",
    "        x = self.fc(x)\n",
    "        x = self.dequant(x)\n",
    "        return self.softmax(x)"
   ]
  },
  {
   "cell_type": "code",
   "execution_count": 10,
   "id": "28d68426",
   "metadata": {},
   "outputs": [
    {
     "data": {
      "text/plain": [
       "CNN_Model(\n",
       "  (quant): Quantize(scale=tensor([0.1556]), zero_point=tensor([126]), dtype=torch.quint8)\n",
       "  (conv1): QuantizedConv1d(3, 256, kernel_size=(3,), stride=(1,), scale=0.15590274333953857, zero_point=129)\n",
       "  (conv2): QuantizedConv1d(256, 128, kernel_size=(3,), stride=(1,), scale=0.06991789489984512, zero_point=124)\n",
       "  (conv3): QuantizedConv1d(128, 64, kernel_size=(3,), stride=(1,), scale=0.0262898076325655, zero_point=130)\n",
       "  (conv4): QuantizedConv1d(64, 32, kernel_size=(3,), stride=(1,), scale=0.01119869016110897, zero_point=128)\n",
       "  (flatten): Flatten(start_dim=1, end_dim=-1)\n",
       "  (fc): QuantizedLinear(in_features=256, out_features=6, scale=0.0028389603830873966, zero_point=115, qscheme=torch.per_tensor_affine)\n",
       "  (dropout): QuantizedDropout(p=0.2, inplace=False)\n",
       "  (softmax): Softmax(dim=1)\n",
       "  (dequant): DeQuantize()\n",
       ")"
      ]
     },
     "execution_count": 10,
     "metadata": {},
     "output_type": "execute_result"
    }
   ],
   "source": [
    "model_path = \"models/CNN_CG_base.pt\"\n",
    "\n",
    "# Instantiate the model\n",
    "model_fp32 = CNN_Model(n_input=3, n_steps=16)\n",
    "model_fp32.load_state_dict(torch.load(model_path))\n",
    "model_fp32.eval()\n",
    "\n",
    "# Define a quantization configuration\n",
    "model_int8 = CNN_Model(n_input=3, n_steps=16)\n",
    "model_int8.eval()\n",
    "\n",
    "# Specify the quantization configuration\n",
    "model_int8.qconfig = torch.quantization.get_default_qconfig('qnnpack')\n",
    "\n",
    "# Prepare the model for static quantization\n",
    "torch.quantization.prepare(model_int8, inplace=True)\n",
    "\n",
    "# Calibrate the model with representative data\n",
    "# Assuming the train_loader is representative of the data distribution\n",
    "for data, _ in train_loader:\n",
    "    data = data.view(-1, 3, 16)\n",
    "    model_int8(data)\n",
    "\n",
    "# Convert to a quantized model\n",
    "torch.quantization.convert(model_int8, inplace=True)"
   ]
  },
  {
   "cell_type": "code",
   "execution_count": 11,
   "id": "47411a1d",
   "metadata": {},
   "outputs": [
    {
     "name": "stdout",
     "output_type": "stream",
     "text": [
      "Quantized model saved to models/CNN_Static_Quantized.pt\n"
     ]
    }
   ],
   "source": [
    "# Define the path where you want to save the quantized model\n",
    "static_quantized_model_path = \"models/CNN_Static_Quantized.pt\"\n",
    "\n",
    "# Save the state dictionary of the quantized model\n",
    "torch.save(model_int8.state_dict(), static_quantized_model_path)\n",
    "\n",
    "print(f\"Quantized model saved to {static_quantized_model_path}\")\n"
   ]
  },
  {
   "cell_type": "code",
   "execution_count": 15,
   "id": "fc05731c",
   "metadata": {},
   "outputs": [
    {
     "name": "stdout",
     "output_type": "stream",
     "text": [
      "Accuracy on the test set: 39.92%\n",
      "Size of the model: 138.97 KB\n",
      "CPU usage during inference: 1.05%\n",
      "Inference time: 0.6838 seconds\n"
     ]
    }
   ],
   "source": [
    "# Measure CPU usage and inference time\n",
    "cpu_usage, inference_time, _ = measure_cpu_utilization_and_run(compute_metrics_base, model_int8, test_loader, static_quantized_model_path)\n",
    "\n",
    "print(f'CPU usage during inference: {cpu_usage:.2f}%')\n",
    "print(f'Inference time: {inference_time:.4f} seconds')\n"
   ]
  },
  {
   "cell_type": "markdown",
   "id": "d574c7fa",
   "metadata": {},
   "source": [
    "### Quantization Aware Training"
   ]
  },
  {
   "cell_type": "code",
   "execution_count": 27,
   "id": "ce84826b",
   "metadata": {},
   "outputs": [
    {
     "name": "stdout",
     "output_type": "stream",
     "text": [
      "initial fval: 1.7961\n",
      "iter   1 - fval: 1.7961\n",
      "Optimization terminated successfully.\n",
      "         Current function value: 1.796093\n",
      "         Iterations: 1\n",
      "         Function evaluations: 2\n"
     ]
    }
   ],
   "source": [
    "from torchmin import Minimizer\n",
    "\n",
    "# Assuming the correct input size and number of classes\n",
    "input_size = 16 * 3  # 16 time steps with 3 features each\n",
    "num_classes = 6  # Assuming 6 classes as per your data\n",
    "\n",
    "# Instantiate and prepare the model for QAT\n",
    "model_qat = CNN_Model(n_input=3, n_steps=16)\n",
    "model_qat.qconfig = torch.quantization.get_default_qat_qconfig('qnnpack')\n",
    "model_qat.train()\n",
    "model_prepared = torch.quantization.prepare_qat(model_qat, inplace=True)\n",
    "\n",
    "# Define the optimizer and loss function\n",
    "optimizer = Minimizer(model_prepared.parameters(),\n",
    "                      method='cg',\n",
    "                      tol=1e-3,\n",
    "                      max_iter=2000,\n",
    "                      disp=2)\n",
    "\n",
    "criterion = nn.CrossEntropyLoss()\n",
    "\n",
    "inputs, labels = X_train, y_train\n",
    "inputs = inputs.view(-1, 3, 16)  # Reshape input to match model expectations\n",
    "\n",
    "model_prepared.train()\n",
    "\n",
    "def closure():\n",
    "    optimizer.zero_grad()\n",
    "    output = model(inputs)\n",
    "    loss = criterion(output, labels)\n",
    "    # loss.backward()  <-- do not call backward!\n",
    "    return loss\n",
    "\n",
    "loss = optimizer.step(closure)"
   ]
  },
  {
   "cell_type": "code",
   "execution_count": 47,
   "id": "bfa6bb43",
   "metadata": {},
   "outputs": [],
   "source": [
    "model_prepared.eval()\n",
    "# Convert the QAT model to a fully quantized model\n",
    "qat_model = torch.quantization.convert(model, inplace=False)\n",
    "\n",
    "# Save the fine-tuned quantized model\n",
    "qat_model_path = \"models/CNN_CG_QAT.pt\"\n",
    "torch.save(qat_model.state_dict(), qat_model_path)"
   ]
  },
  {
   "cell_type": "code",
   "execution_count": 48,
   "id": "9a8dd810",
   "metadata": {},
   "outputs": [
    {
     "data": {
      "text/plain": [
       "CNN_Model(\n",
       "  (quant): QuantStub()\n",
       "  (conv1): Conv1d(3, 256, kernel_size=(3,), stride=(1,))\n",
       "  (conv2): Conv1d(256, 128, kernel_size=(3,), stride=(1,))\n",
       "  (conv3): Conv1d(128, 64, kernel_size=(3,), stride=(1,))\n",
       "  (conv4): Conv1d(64, 32, kernel_size=(3,), stride=(1,))\n",
       "  (flatten): Flatten(start_dim=1, end_dim=-1)\n",
       "  (fc): Linear(in_features=256, out_features=6, bias=True)\n",
       "  (dropout): Dropout(p=0.2, inplace=False)\n",
       "  (softmax): Softmax(dim=1)\n",
       "  (dequant): DeQuantStub()\n",
       ")"
      ]
     },
     "execution_count": 48,
     "metadata": {},
     "output_type": "execute_result"
    }
   ],
   "source": [
    "#Load the QAT model from the saved file\n",
    "qat_model_saved = CNN_Model(n_input=3, n_steps=16)\n",
    "state_dict = torch.load(model_path)\n",
    "qat_model_saved.load_state_dict(state_dict)\n",
    "qat_model_saved.to('cpu')"
   ]
  },
  {
   "cell_type": "code",
   "execution_count": 49,
   "id": "7b77a9d8",
   "metadata": {},
   "outputs": [
    {
     "name": "stdout",
     "output_type": "stream",
     "text": [
      "Accuracy: 66.00%\n"
     ]
    }
   ],
   "source": [
    "# Prepare the model for evaluation\n",
    "qat_model_saved.eval()\n",
    "\n",
    "# Define the test dataset and dataloader\n",
    "test_dataset = TensorDataset(X_test, y_test)\n",
    "test_loader = DataLoader(test_dataset, batch_size=64, shuffle=False)\n",
    "\n",
    "# Evaluate the model on the test dataset\n",
    "correct = 0\n",
    "total = 0\n",
    "with torch.no_grad():\n",
    "    for inputs, labels in test_loader:\n",
    "        inputs = inputs.view(-1, 3, 16)  \n",
    "        outputs = qat_model_saved(inputs)\n",
    "        _, predicted = torch.max(outputs.data, 1)\n",
    "        total += labels.size(0)\n",
    "        correct += (predicted == labels).sum().item()\n",
    "\n",
    "accuracy = 100.0 * correct / total\n",
    "print(f'Accuracy: {accuracy:.2f}%')"
   ]
  },
  {
   "cell_type": "code",
   "execution_count": 54,
   "id": "8b162add",
   "metadata": {},
   "outputs": [],
   "source": [
    "import torch\n",
    "from sklearn.metrics import accuracy_score\n",
    "import numpy as np\n",
    "import time\n",
    "import psutil\n",
    "from pathlib import Path\n",
    "\n",
    "def compute_metrics_new(model, x_test, y_test, model_path):\n",
    "    \"\"\"\n",
    "    Compute the accuracy of the PyTorch model.\n",
    "\n",
    "    :param model: PyTorch model.\n",
    "    :param x_test: Test dataset features (as a PyTorch Tensor).\n",
    "    :param y_test: Test dataset labels (as a NumPy array).\n",
    "    :param model_dir: Directory where the PyTorch model files are stored.\n",
    "    :return: None\n",
    "    \"\"\"\n",
    "\n",
    "    model.eval()\n",
    "    test_dataset = TensorDataset(x_test, y_test)\n",
    "    test_loader = DataLoader(test_dataset, batch_size=64, shuffle=False)\n",
    "    \n",
    "    correct = 0\n",
    "    total = 0\n",
    "    with torch.no_grad():\n",
    "        for inputs, labels in test_loader:\n",
    "            inputs = inputs.view(-1, 3, 16)  # Flatten the input\n",
    "            outputs = model(inputs)\n",
    "            _, predicted = torch.max(outputs.data, 1)\n",
    "            total += labels.size(0)\n",
    "            correct += (predicted == labels).sum().item()\n",
    "\n",
    "        \n",
    "    model_file = Path(model_path)\n",
    "    # Size in bytes\n",
    "    model_size_bytes = model_file.stat().st_size\n",
    "\n",
    "    # Convert size to kilobytes (optional)\n",
    "    model_size_kb = model_size_bytes / 1024\n",
    "    print(f\"Size of the model: {model_size_kb:.2f} KB\")\n",
    "\n",
    "    # Compute accuracy\n",
    "    accuracy = correct / total\n",
    "    print(f'Accuracy on the test set: {accuracy:.2%}')\n"
   ]
  },
  {
   "cell_type": "code",
   "execution_count": 55,
   "id": "05f70391",
   "metadata": {},
   "outputs": [
    {
     "name": "stdout",
     "output_type": "stream",
     "text": [
      "Size of the model: 524.61 KB\n",
      "Accuracy on the test set: 66.00%\n",
      "CPU usage during inference: 0.60%\n",
      "Inference time: 0.7739 seconds\n"
     ]
    }
   ],
   "source": [
    "model.to('cpu')\n",
    "\n",
    "# Measure CPU usage and inference time\n",
    "cpu_usage, inference_time, _ = measure_cpu_utilization_and_run(compute_metrics_new, qat_model_saved, X_test, y_test, model_path)\n",
    "\n",
    "print(f'CPU usage during inference: {cpu_usage:.2f}%')\n",
    "print(f'Inference time: {inference_time:.4f} seconds')\n"
   ]
  },
  {
   "cell_type": "markdown",
   "id": "94d7502b",
   "metadata": {},
   "source": [
    "### Torch Pruning"
   ]
  },
  {
   "cell_type": "code",
   "execution_count": 33,
   "id": "e4b29c7d",
   "metadata": {},
   "outputs": [],
   "source": [
    "import torch\n",
    "import torch.nn as nn\n",
    "import torch.nn.utils.prune as prune\n",
    "\n",
    "\n",
    "# Assuming timestep and X_series.shape[2] are defined\n",
    "# input_size = timestep * X_series.shape[2]\n",
    "pruned_model = CNN_Model(n_input=3, n_steps=16)\n",
    "\n",
    "# Apply pruning to the convolutional layers\n",
    "# Here, we are using L1Unstructured pruning as an example\n",
    "prune.l1_unstructured(model.conv1, name=\"weight\", amount=0.2)\n",
    "prune.l1_unstructured(model.conv2, name=\"weight\", amount=0.2)\n",
    "prune.l1_unstructured(model.conv3, name=\"weight\", amount=0.2)\n",
    "prune.l1_unstructured(model.conv4, name=\"weight\", amount=0.2)\n",
    "\n",
    "# To make pruning permanent\n",
    "for module in [model.conv1, model.conv2, model.conv3, model.conv4]:\n",
    "    prune.remove(module, 'weight')\n",
    "\n",
    "pruned_model_path = \"models/QAT_CG_pruned.pt\"\n",
    "torch.save(model.state_dict(), pruned_model_path)\n"
   ]
  },
  {
   "cell_type": "code",
   "execution_count": 34,
   "id": "815b6255",
   "metadata": {},
   "outputs": [
    {
     "name": "stdout",
     "output_type": "stream",
     "text": [
      "Accuracy: 17.14%\n"
     ]
    }
   ],
   "source": [
    "# Prepare the model for evaluation\n",
    "pruned_model.eval()\n",
    "\n",
    "# Define the test dataset and dataloader\n",
    "test_dataset = TensorDataset(X_test, y_test)\n",
    "test_loader = DataLoader(test_dataset, batch_size=64, shuffle=False)\n",
    "\n",
    "# Evaluate the model on the test dataset\n",
    "correct = 0\n",
    "total = 0\n",
    "with torch.no_grad():\n",
    "    for inputs, labels in test_loader:\n",
    "        inputs = inputs.view(-1, 3, 16)  \n",
    "        outputs = pruned_model(inputs)\n",
    "        _, predicted = torch.max(outputs.data, 1)\n",
    "        total += labels.size(0)\n",
    "        correct += (predicted == labels).sum().item()\n",
    "\n",
    "accuracy = 100.0 * correct / total\n",
    "print(f'Accuracy: {accuracy:.2f}%')"
   ]
  },
  {
   "cell_type": "code",
   "execution_count": 35,
   "id": "8cf830ed",
   "metadata": {},
   "outputs": [
    {
     "name": "stdout",
     "output_type": "stream",
     "text": [
      "Size of the model: 524.64 KB\n",
      "Accuracy on the test set: 11.13%\n",
      "CPU usage during inference: 1.45%\n",
      "Inference time: 1.0296 seconds\n"
     ]
    }
   ],
   "source": [
    "# Measure CPU usage and inference time\n",
    "cpu_usage, inference_time, _ = measure_cpu_utilization_and_run(compute_metrics_new, pruned_model, X_test, y_test, pruned_model_path)\n",
    "\n",
    "print(f'CPU usage during inference: {cpu_usage:.2f}%')\n",
    "print(f'Inference time: {inference_time:.4f} seconds')\n"
   ]
  },
  {
   "cell_type": "code",
   "execution_count": null,
   "id": "6637984d",
   "metadata": {},
   "outputs": [],
   "source": []
  }
 ],
 "metadata": {
  "kernelspec": {
   "display_name": "Python 3 (ipykernel)",
   "language": "python",
   "name": "python3"
  },
  "language_info": {
   "codemirror_mode": {
    "name": "ipython",
    "version": 3
   },
   "file_extension": ".py",
   "mimetype": "text/x-python",
   "name": "python",
   "nbconvert_exporter": "python",
   "pygments_lexer": "ipython3",
   "version": "3.11.7"
  }
 },
 "nbformat": 4,
 "nbformat_minor": 5
}
