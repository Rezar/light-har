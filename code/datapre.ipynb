{
  "nbformat": 4,
  "nbformat_minor": 0,
  "metadata": {
    "colab": {
      "provenance": []
    },
    "kernelspec": {
      "name": "python3",
      "display_name": "Python 3"
    },
    "language_info": {
      "name": "python"
    }
  },
  "cells": [
    {
      "cell_type": "code",
      "execution_count": null,
      "metadata": {
        "id": "WSd6KCYCM1Dw"
      },
      "outputs": [],
      "source": [
        "import numpy as np\n",
        "import matplotlib\n",
        "import matplotlib.pyplot as plt\n",
        "import tensorflow as tf  # Version 1.0.0 (some previous versions are used in past commits)\n",
        "from sklearn import metrics\n",
        "\n",
        "import os"
      ]
    },
    {
      "cell_type": "code",
      "source": [
        "# Useful Constants\n",
        "\n",
        "# Those are separate normalised input features for the neural network\n",
        "INPUT_SIGNAL_TYPES = [\n",
        "    \"body_acc_x_\",\n",
        "    \"body_acc_y_\",\n",
        "    \"body_acc_z_\",\n",
        "    \"body_gyro_x_\",\n",
        "    \"body_gyro_y_\",\n",
        "    \"body_gyro_z_\",\n",
        "    \"total_acc_x_\",\n",
        "    \"total_acc_y_\",\n",
        "    \"total_acc_z_\"\n",
        "]\n",
        "\n",
        "# Output classes to learn how to classify\n",
        "LABELS = [\n",
        "    \"WALKING\", \n",
        "    \"WALKING_UPSTAIRS\", \n",
        "    \"WALKING_DOWNSTAIRS\", \n",
        "    \"SITTING\", \n",
        "    \"STANDING\", \n",
        "    \"LAYING\"\n",
        "] "
      ],
      "metadata": {
        "id": "Abl38L-SN2Xw"
      },
      "execution_count": null,
      "outputs": []
    },
    {
      "cell_type": "code",
      "source": [
        "from re import A\n",
        "text_file = open(\"/data/WISDM_ar_v1.1_raw.txt\")\n",
        "lines = text_file.read().split(';')\n",
        "text_file.close()\n",
        "\n",
        "x = np.ndarray(shape=(1098208,3))\n",
        "y = list()\n",
        "\n",
        "for i in range(1098208):\n",
        "  a = lines[i].split(',')\n",
        "  a = np.array(a) \n",
        "  # print(a[3:6])\n",
        "  x[i,:] = a[3:6]\n",
        "  y.append(a[1])\n",
        "  \n"
      ],
      "metadata": {
        "colab": {
          "base_uri": "https://localhost:8080/"
        },
        "id": "3VxI43UFN4bA",
        "outputId": "e4e8b24e-9f23-45ad-8825-4e5b1bd18852"
      },
      "execution_count": null,
      "outputs": [
        {
          "output_type": "stream",
          "name": "stdout",
          "text": [
            "/content\n",
            "sample_data\n",
            "/data\n",
            "download_dataset.py  source.txt\n",
            "\n",
            "Downloading...\n",
            "--2022-11-04 10:46:10--  https://archive.ics.uci.edu/ml/machine-learning-databases/00240/UCI%20HAR%20Dataset.zip\n",
            "Resolving archive.ics.uci.edu (archive.ics.uci.edu)... 128.195.10.252\n",
            "Connecting to archive.ics.uci.edu (archive.ics.uci.edu)|128.195.10.252|:443... connected.\n",
            "HTTP request sent, awaiting response... 200 OK\n",
            "Length: 60999314 (58M) [application/x-httpd-php]\n",
            "Saving to: ‘UCI HAR Dataset.zip’\n",
            "\n",
            "UCI HAR Dataset.zip 100%[===================>]  58.17M  45.1MB/s    in 1.3s    \n",
            "\n",
            "2022-11-04 10:46:11 (45.1 MB/s) - ‘UCI HAR Dataset.zip’ saved [60999314/60999314]\n",
            "\n",
            "Downloading done.\n",
            "\n",
            "Extracting...\n",
            "Extracting successfully done to /data/UCI HAR Dataset.\n",
            "/data\n",
            " download_dataset.py   source.txt\t 'UCI HAR Dataset.zip'\n",
            " __MACOSX\t      'UCI HAR Dataset'\n",
            "/\n",
            "bin\t datalab  lib\t mnt\t\t\t   python-apt  srv    usr\n",
            "boot\t dev\t  lib32  NGC-DL-CONTAINER-LICENSE  root        sys    var\n",
            "content  etc\t  lib64  opt\t\t\t   run\t       tmp\n",
            "data\t home\t  media  proc\t\t\t   sbin        tools\n",
            "\n",
            "Dataset is now located at: /data/UCI HAR Dataset/\n"
          ]
        }
      ]
    },
    {
      "cell_type": "code",
      "source": [
        "import pandas as pd\n",
        "pd.DataFrame(x).to_csv(\"/WISDM_x.csv\")\n",
        "pd.DataFrame(y).to_csv(\"/WISDM_y.csv\")"
      ],
      "metadata": {
        "id": "K0zyThxVOACO"
      },
      "execution_count": null,
      "outputs": []
    },
    {
      "cell_type": "code",
      "source": [
        "# y_prep = np.ndarray(shape=len(y))\n",
        "# for i in range(len(y)):\n",
        "#   if(y[i] == 'Walking'):\n",
        "#     y_prep[i] = 1\n",
        "#   elif(y[i] == \"Jogging\"):\n",
        "#     y_prep[i] = 2\n",
        "#   elif(y[i] == \"Uptairs\"):\n",
        "#     y_prep[i] = 3\n",
        "#   elif(y[i] == \"Downstairs\"):\n",
        "#     y_prep[i] = 4\n",
        "#   elif(y[i] == \"Sitting\"):\n",
        "#     y_prep[i] = 5\n",
        "#   elif(y[i] == \"Standing\"):\n",
        "#     y_prep[i] = 6\n"
      ],
      "metadata": {
        "id": "1kymv8MCRyIM"
      },
      "execution_count": null,
      "outputs": []
    },
    {
      "cell_type": "code",
      "source": [
        "# X_train.shape\n"
      ],
      "metadata": {
        "colab": {
          "base_uri": "https://localhost:8080/"
        },
        "id": "Ofr-KEjHQAWs",
        "outputId": "e6bab681-de02-4401-e270-107ef74c3704"
      },
      "execution_count": null,
      "outputs": [
        {
          "output_type": "execute_result",
          "data": {
            "text/plain": [
              "(7352, 128, 9)"
            ]
          },
          "metadata": {},
          "execution_count": 21
        }
      ]
    },
    {
      "cell_type": "code",
      "source": [
        "# y_train.shape"
      ],
      "metadata": {
        "colab": {
          "base_uri": "https://localhost:8080/"
        },
        "id": "6DwZAgSAU9Q6",
        "outputId": "c86a1cbc-77f3-409a-a486-fbc882c62e15"
      },
      "execution_count": null,
      "outputs": [
        {
          "output_type": "execute_result",
          "data": {
            "text/plain": [
              "(7352, 1)"
            ]
          },
          "metadata": {},
          "execution_count": 14
        }
      ]
    },
    {
      "cell_type": "code",
      "source": [
        "# print(y_train)"
      ],
      "metadata": {
        "id": "AuPt8z94fR9u",
        "outputId": "2c6b1109-3d5f-4388-a60b-fa39414d92cb",
        "colab": {
          "base_uri": "https://localhost:8080/"
        }
      },
      "execution_count": null,
      "outputs": [
        {
          "output_type": "stream",
          "name": "stdout",
          "text": [
            "[[4]\n",
            " [4]\n",
            " [4]\n",
            " ...\n",
            " [1]\n",
            " [1]\n",
            " [1]]\n"
          ]
        }
      ]
    },
    {
      "cell_type": "code",
      "source": [
        "# # Input Data \n",
        "\n",
        "# training_data_count = len(X_train)  # 7352 training series (with 50% overlap between each serie)\n",
        "# test_data_count = len(X_test)  # 2947 testing series\n",
        "# n_steps = len(X_train[0])  # 128 timesteps per series\n",
        "# n_input = len(X_train[0][0])  # 9 input parameters per timestep\n",
        "\n",
        "\n",
        "# # LSTM Neural Network's internal structure\n",
        "\n",
        "# n_hidden = 32 # Hidden layer num of features\n",
        "# n_classes = 6 # Total classes (should go up, or should go down)\n",
        "\n",
        "\n",
        "# # Training \n",
        "\n",
        "# learning_rate = 0.0025\n",
        "# lambda_loss_amount = 0.0015\n",
        "# training_iters = training_data_count * 300  # Loop 300 times on the dataset\n",
        "# batch_size = 1500\n",
        "# display_iter = 30000  # To show test set accuracy during training\n",
        "\n",
        "\n",
        "# # Some debugging info\n",
        "\n",
        "# print(\"Some useful info to get an insight on dataset's shape and normalisation:\")\n",
        "# print(\"(X shape, y shape, every X's mean, every X's standard deviation)\")\n",
        "# print(X_test.shape, y_test.shape, np.mean(X_test), np.std(X_test))\n",
        "# print(\"The dataset is therefore properly normalised, as expected, but not yet one-hot encoded.\")"
      ],
      "metadata": {
        "colab": {
          "base_uri": "https://localhost:8080/"
        },
        "id": "wA-gXitbZDhB",
        "outputId": "1a37005a-6bb4-4771-d97b-e9eaa40a3b6d"
      },
      "execution_count": null,
      "outputs": [
        {
          "output_type": "stream",
          "name": "stdout",
          "text": [
            "Some useful info to get an insight on dataset's shape and normalisation:\n",
            "(X shape, y shape, every X's mean, every X's standard deviation)\n",
            "(2947, 128, 9) (2947, 1) 0.09913992 0.39567086\n",
            "The dataset is therefore properly normalised, as expected, but not yet one-hot encoded.\n"
          ]
        }
      ]
    },
    {
      "cell_type": "code",
      "source": [
        "# def LSTM_RNN(_X, _weights, _biases):\n",
        "#     # Function returns a tensorflow LSTM (RNN) artificial neural network from given parameters. \n",
        "#     # Moreover, two LSTM cells are stacked which adds deepness to the neural network. \n",
        "#     # Note, some code of this notebook is inspired from an slightly different \n",
        "#     # RNN architecture used on another dataset, some of the credits goes to \n",
        "#     # \"aymericdamien\" under the MIT license.\n",
        "\n",
        "#     # (NOTE: This step could be greatly optimised by shaping the dataset once\n",
        "#     # input shape: (batch_size, n_steps, n_input)\n",
        "#     _X = tf.transpose(_X, [1, 0, 2])  # permute n_steps and batch_size\n",
        "#     # Reshape to prepare input to hidden activation\n",
        "#     _X = tf.reshape(_X, [-1, n_input]) \n",
        "#     # new shape: (n_steps*batch_size, n_input)\n",
        "    \n",
        "#     # ReLU activation, thanks to Yu Zhao for adding this improvement here:\n",
        "#     _X = tf.nn.relu(tf.matmul(_X, _weights['hidden']) + _biases['hidden'])\n",
        "#     # Split data because rnn cell needs a list of inputs for the RNN inner loop\n",
        "#     _X = tf.split(_X, n_steps, 0) \n",
        "#     # new shape: n_steps * (batch_size, n_hidden)\n",
        "\n",
        "#     # Define two stacked LSTM cells (two recurrent layers deep) with tensorflow\n",
        "#     lstm_cell_1 = tf.contrib.rnn.BasicLSTMCell(n_hidden, forget_bias=1.0, state_is_tuple=True)\n",
        "#     lstm_cell_2 = tf.contrib.rnn.BasicLSTMCell(n_hidden, forget_bias=1.0, state_is_tuple=True)\n",
        "#     lstm_cells = tf.contrib.rnn.MultiRNNCell([lstm_cell_1, lstm_cell_2], state_is_tuple=True)\n",
        "#     # Get LSTM cell output\n",
        "#     outputs, states = tf.contrib.rnn.static_rnn(lstm_cells, _X, dtype=tf.float32)\n",
        "\n",
        "#     # Get last time step's output feature for a \"many-to-one\" style classifier, \n",
        "#     # as in the image describing RNNs at the top of this page\n",
        "#     lstm_last_output = outputs[-1]\n",
        "    \n",
        "#     # Linear activation\n",
        "#     return tf.matmul(lstm_last_output, _weights['out']) + _biases['out']\n",
        "\n",
        "# def extract_batch_size(_train, step, batch_size):\n",
        "#     # Function to fetch a \"batch_size\" amount of data from \"(X|y)_train\" data. \n",
        "    \n",
        "#     shape = list(_train.shape)\n",
        "#     shape[0] = batch_size\n",
        "#     batch_s = np.empty(shape)\n",
        "\n",
        "#     for i in range(batch_size):\n",
        "#         # Loop index\n",
        "#         index = ((step-1)*batch_size + i) % len(_train)\n",
        "#         batch_s[i] = _train[index] \n",
        "\n",
        "#     return batch_s\n",
        "\n",
        "# def one_hot(y_, n_classes=n_classes):\n",
        "#     # Function to encode neural one-hot output labels from number indexes \n",
        "#     # e.g.: \n",
        "#     # one_hot(y_=[[5], [0], [3]], n_classes=6):\n",
        "#     #     return [[0, 0, 0, 0, 0, 1], [1, 0, 0, 0, 0, 0], [0, 0, 0, 1, 0, 0]]\n",
        "    \n",
        "#     y_ = y_.reshape(len(y_))\n",
        "#     return np.eye(n_classes)[np.array(y_, dtype=np.int32)]  # Returns FLOATS"
      ],
      "metadata": {
        "colab": {
          "base_uri": "https://localhost:8080/",
          "height": 292
        },
        "id": "h92LXlqFYzH0",
        "outputId": "0acb0d54-f723-49e7-daa2-994926436e7f"
      },
      "execution_count": null,
      "outputs": [
        {
          "output_type": "error",
          "ename": "NameError",
          "evalue": "ignored",
          "traceback": [
            "\u001b[0;31m---------------------------------------------------------------------------\u001b[0m",
            "\u001b[0;31mNameError\u001b[0m                                 Traceback (most recent call last)",
            "\u001b[0;32m<ipython-input-15-3f2861ddc548>\u001b[0m in \u001b[0;36m<module>\u001b[0;34m\u001b[0m\n\u001b[1;32m     47\u001b[0m     \u001b[0;32mreturn\u001b[0m \u001b[0mbatch_s\u001b[0m\u001b[0;34m\u001b[0m\u001b[0;34m\u001b[0m\u001b[0m\n\u001b[1;32m     48\u001b[0m \u001b[0;34m\u001b[0m\u001b[0m\n\u001b[0;32m---> 49\u001b[0;31m \u001b[0;32mdef\u001b[0m \u001b[0mone_hot\u001b[0m\u001b[0;34m(\u001b[0m\u001b[0my_\u001b[0m\u001b[0;34m,\u001b[0m \u001b[0mn_classes\u001b[0m\u001b[0;34m=\u001b[0m\u001b[0mn_classes\u001b[0m\u001b[0;34m)\u001b[0m\u001b[0;34m:\u001b[0m\u001b[0;34m\u001b[0m\u001b[0;34m\u001b[0m\u001b[0m\n\u001b[0m\u001b[1;32m     50\u001b[0m     \u001b[0;31m# Function to encode neural one-hot output labels from number indexes\u001b[0m\u001b[0;34m\u001b[0m\u001b[0;34m\u001b[0m\u001b[0;34m\u001b[0m\u001b[0m\n\u001b[1;32m     51\u001b[0m     \u001b[0;31m# e.g.:\u001b[0m\u001b[0;34m\u001b[0m\u001b[0;34m\u001b[0m\u001b[0;34m\u001b[0m\u001b[0m\n",
            "\u001b[0;31mNameError\u001b[0m: name 'n_classes' is not defined"
          ]
        }
      ]
    },
    {
      "cell_type": "code",
      "source": [],
      "metadata": {
        "id": "KPi1Mx8jY6L7"
      },
      "execution_count": null,
      "outputs": []
    }
  ]
}