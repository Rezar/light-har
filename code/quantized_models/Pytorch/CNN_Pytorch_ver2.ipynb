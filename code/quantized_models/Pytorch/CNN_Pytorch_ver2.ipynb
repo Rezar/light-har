{
 "cells": [
  {
   "cell_type": "code",
   "execution_count": 1,
   "id": "8fee4936",
   "metadata": {},
   "outputs": [],
   "source": [
    "import torch\n",
    "import torch.nn as nn\n",
    "import torch.nn.functional as F\n",
    "from torch.utils.data import DataLoader, TensorDataset\n",
    "from torch.optim import Adam\n",
    "from sklearn.model_selection import train_test_split\n",
    "import numpy as np\n",
    "import pandas as pd\n",
    "from numpy import genfromtxt\n",
    "from sklearn.preprocessing import LabelEncoder\n",
    "\n"
   ]
  },
  {
   "cell_type": "code",
   "execution_count": 2,
   "id": "15c2ac40",
   "metadata": {},
   "outputs": [],
   "source": [
    "# Load Data\n",
    "x = genfromtxt('../Data/WISDM_x.csv', delimiter=',')\n",
    "y_df = pd.read_csv('../Data/WISDM_y.csv')\n",
    "y = y_df.values.flatten()  # Flatten if y is 2D\n",
    "\n",
    "# Encode labels\n",
    "label_encoder = LabelEncoder()\n",
    "y_encoded = label_encoder.fit_transform(y)\n",
    "\n",
    "# Function to create time series dataset\n",
    "def create_series(x, y, timestep, overlap):\n",
    "    slide_step = int(timestep * (1 - overlap))\n",
    "    data_num = int((len(x) / slide_step) - 1)\n",
    "    dataset = np.ndarray(shape=(data_num, timestep, x.shape[1]))\n",
    "    labels = []\n",
    "\n",
    "    for i in range(data_num):\n",
    "        labels.append(y[slide_step * (i + 1) - 1])\n",
    "        for j in range(timestep):\n",
    "            dataset[i, j, :] = x[slide_step * i + j, :]\n",
    "\n",
    "    return dataset, np.array(labels)\n",
    "\n",
    "# Create time series\n",
    "timestep = 16  # Replace with your value\n",
    "overlap = 0.5  # Replace with your value\n",
    "X_series, y_series = create_series(x, y_encoded, timestep, overlap)"
   ]
  },
  {
   "cell_type": "code",
   "execution_count": 3,
   "id": "7842f098",
   "metadata": {},
   "outputs": [
    {
     "name": "stdout",
     "output_type": "stream",
     "text": [
      "X_train shape:(109820, 16, 3), X_test shape:(27455, 16, 3), y_train shape:(109820,), y_test shape:(27455,)\n"
     ]
    }
   ],
   "source": [
    "# Split into train and test sets\n",
    "X_train, X_test, y_train, y_test = train_test_split(X_series, y_series, test_size=0.2, random_state=42)\n",
    "print(f'X_train shape:{X_train.shape}, X_test shape:{X_test.shape}, y_train shape:{y_train.shape}, y_test shape:{y_test.shape}')"
   ]
  },
  {
   "cell_type": "code",
   "execution_count": 4,
   "id": "6f4e9ec9",
   "metadata": {},
   "outputs": [],
   "source": [
    "class MyModel(nn.Module):\n",
    "    def __init__(self, n_input, n_steps):\n",
    "        super(MyModel, self).__init__()\n",
    "        self.conv1 = nn.Conv1d(in_channels=n_input, out_channels=256, kernel_size=3)\n",
    "        self.conv2 = nn.Conv1d(in_channels=256, out_channels=128, kernel_size=3)\n",
    "        self.conv3 = nn.Conv1d(in_channels=128, out_channels=64, kernel_size=3)\n",
    "        self.conv4 = nn.Conv1d(in_channels=64, out_channels=32, kernel_size=3)\n",
    "        self.flatten = nn.Flatten()\n",
    "        self.fc = nn.Linear(32 * 8, 6)  # Adjusted for the output from the last Conv1d layer\n",
    "        self.dropout = nn.Dropout(0.2)\n",
    "        self.softmax = nn.Softmax(dim=1)\n",
    "\n",
    "    def forward(self, x):\n",
    "        x = self.dropout(torch.relu(self.conv1(x)))\n",
    "        x = self.dropout(torch.relu(self.conv2(x)))\n",
    "        x = self.dropout(torch.relu(self.conv3(x)))\n",
    "        x = self.dropout(torch.relu(self.conv4(x)))\n",
    "        x = self.flatten(x)\n",
    "        x = self.fc(x)\n",
    "        return self.softmax(x)\n",
    "\n",
    "# Example instantiation of the model\n",
    "model = MyModel(n_input=3, n_steps=16)\n"
   ]
  },
  {
   "cell_type": "code",
   "execution_count": 5,
   "id": "a929011a",
   "metadata": {},
   "outputs": [],
   "source": [
    "# Convert arrays to PyTorch Tensors\n",
    "X_train = torch.tensor(X_train, dtype=torch.float32)\n",
    "y_train = torch.tensor(y_train, dtype=torch.long)  # Assuming y_train is class labels for classification\n",
    "X_test = torch.tensor(X_test, dtype=torch.float32)\n",
    "y_test = torch.tensor(y_test, dtype=torch.long)\n",
    "\n",
    "# Creating TensorDatasets\n",
    "train_dataset = TensorDataset(X_train, y_train)\n",
    "test_dataset = TensorDataset(X_test, y_test)\n",
    "\n",
    "# Creating DataLoaders\n",
    "batch_size = 64\n",
    "train_loader = DataLoader(dataset=train_dataset, batch_size=batch_size, shuffle=True)\n",
    "test_loader = DataLoader(dataset=test_dataset, batch_size=batch_size, shuffle=False)\n"
   ]
  },
  {
   "cell_type": "code",
   "execution_count": 6,
   "id": "d3cc6c89",
   "metadata": {},
   "outputs": [
    {
     "name": "stdout",
     "output_type": "stream",
     "text": [
      "Epoch: 1/20 \tTraining Loss: 1.3126 \tValidation Loss: 1.2947 \tValidation Accuracy: 74.75%\n",
      "Epoch: 2/20 \tTraining Loss: 1.2756 \tValidation Loss: 1.2621 \tValidation Accuracy: 78.05%\n",
      "Epoch: 3/20 \tTraining Loss: 1.2508 \tValidation Loss: 1.2404 \tValidation Accuracy: 80.13%\n",
      "Epoch: 4/20 \tTraining Loss: 1.2441 \tValidation Loss: 1.2472 \tValidation Accuracy: 79.42%\n",
      "Epoch: 5/20 \tTraining Loss: 1.2401 \tValidation Loss: 1.2250 \tValidation Accuracy: 81.70%\n",
      "Epoch: 6/20 \tTraining Loss: 1.2131 \tValidation Loss: 1.1898 \tValidation Accuracy: 85.31%\n",
      "Epoch: 7/20 \tTraining Loss: 1.2028 \tValidation Loss: 1.1870 \tValidation Accuracy: 85.62%\n",
      "Epoch: 8/20 \tTraining Loss: 1.1982 \tValidation Loss: 1.1930 \tValidation Accuracy: 84.99%\n",
      "Epoch: 9/20 \tTraining Loss: 1.2053 \tValidation Loss: 1.1941 \tValidation Accuracy: 84.88%\n",
      "Epoch: 10/20 \tTraining Loss: 1.2068 \tValidation Loss: 1.2181 \tValidation Accuracy: 82.52%\n",
      "Epoch: 11/20 \tTraining Loss: 1.2081 \tValidation Loss: 1.2003 \tValidation Accuracy: 84.31%\n",
      "Epoch: 12/20 \tTraining Loss: 1.2029 \tValidation Loss: 1.1934 \tValidation Accuracy: 85.00%\n",
      "Epoch: 13/20 \tTraining Loss: 1.2079 \tValidation Loss: 1.1963 \tValidation Accuracy: 84.70%\n",
      "Epoch: 14/20 \tTraining Loss: 1.2133 \tValidation Loss: 1.1996 \tValidation Accuracy: 84.38%\n",
      "Epoch: 15/20 \tTraining Loss: 1.2232 \tValidation Loss: 1.2058 \tValidation Accuracy: 83.77%\n",
      "Epoch: 16/20 \tTraining Loss: 1.2103 \tValidation Loss: 1.2092 \tValidation Accuracy: 83.43%\n",
      "Epoch: 17/20 \tTraining Loss: 1.2261 \tValidation Loss: 1.2116 \tValidation Accuracy: 83.19%\n",
      "Epoch: 18/20 \tTraining Loss: 1.2256 \tValidation Loss: 1.2069 \tValidation Accuracy: 83.66%\n",
      "Epoch: 19/20 \tTraining Loss: 1.2222 \tValidation Loss: 1.2192 \tValidation Accuracy: 82.44%\n",
      "Epoch: 20/20 \tTraining Loss: 1.2282 \tValidation Loss: 1.2292 \tValidation Accuracy: 81.42%\n",
      "Training complete\n"
     ]
    }
   ],
   "source": [
    "import torch.optim as optim\n",
    "\n",
    "# Setting up the device (GPU/CPU)\n",
    "device = torch.device(\"cuda\" if torch.cuda.is_available() else \"cpu\")\n",
    "model.to(device)\n",
    "\n",
    "# Loss function and optimizer\n",
    "criterion = nn.CrossEntropyLoss()\n",
    "optimizer = optim.Adam(model.parameters(), lr=0.001)\n",
    "\n",
    "# Training loop\n",
    "epochs = 20\n",
    "for epoch in range(epochs):\n",
    "    model.train()  # Set the model to training mode\n",
    "    train_loss = 0.0\n",
    "\n",
    "    for inputs, labels in train_loader:\n",
    "        inputs, labels = inputs.to(device), labels.to(device)\n",
    "        inputs = inputs.view(-1, 3, 16)  # Reshape input to match model expectations\n",
    "\n",
    "        # Zero the parameter gradients\n",
    "        optimizer.zero_grad()\n",
    "\n",
    "        # Forward pass\n",
    "        outputs = model(inputs)\n",
    "        loss = criterion(outputs, labels)\n",
    "\n",
    "        # Backward pass and optimize\n",
    "        loss.backward()\n",
    "        optimizer.step()\n",
    "\n",
    "        train_loss += loss.item() * inputs.size(0)\n",
    "\n",
    "    # Validation phase\n",
    "    model.eval()  # Set the model to evaluation mode\n",
    "    val_loss = 0.0\n",
    "    correct = 0\n",
    "    total = 0\n",
    "\n",
    "    with torch.no_grad():\n",
    "        for inputs, labels in test_loader:\n",
    "            inputs, labels = inputs.to(device), labels.to(device)\n",
    "            inputs = inputs.view(-1, 3, 16)\n",
    "\n",
    "            outputs = model(inputs)\n",
    "            loss = criterion(outputs, labels)\n",
    "            val_loss += loss.item() * inputs.size(0)\n",
    "\n",
    "            _, predicted = torch.max(outputs.data, 1)\n",
    "            total += labels.size(0)\n",
    "            correct += (predicted == labels).sum().item()\n",
    "\n",
    "    # Calculate average losses and accuracy\n",
    "    train_loss = train_loss / len(train_loader.dataset)\n",
    "    val_loss = val_loss / len(test_loader.dataset)\n",
    "    val_accuracy = 100 * correct / total\n",
    "\n",
    "    # Print training/validation statistics\n",
    "    print(f'Epoch: {epoch+1}/{epochs} \\tTraining Loss: {train_loss:.4f} \\tValidation Loss: {val_loss:.4f} \\tValidation Accuracy: {val_accuracy:.2f}%')\n",
    "\n",
    "print('Training complete')\n"
   ]
  },
  {
   "cell_type": "code",
   "execution_count": 7,
   "id": "e7634a5c",
   "metadata": {},
   "outputs": [
    {
     "name": "stdout",
     "output_type": "stream",
     "text": [
      "Test Loss: 1.2292 \tTest Accuracy: 81.42%\n"
     ]
    }
   ],
   "source": [
    "# Test phase - after training is complete\n",
    "model.eval()  # Set the model to evaluation mode\n",
    "test_loss = 0.0\n",
    "correct = 0\n",
    "total = 0\n",
    "\n",
    "with torch.no_grad():\n",
    "    for inputs, labels in test_loader:\n",
    "        inputs, labels = inputs.to(device), labels.to(device)\n",
    "        inputs = inputs.view(-1, 3, 16)\n",
    "\n",
    "        outputs = model(inputs)\n",
    "        loss = criterion(outputs, labels)\n",
    "        test_loss += loss.item() * inputs.size(0)\n",
    "\n",
    "        _, predicted = torch.max(outputs.data, 1)\n",
    "        total += labels.size(0)\n",
    "        correct += (predicted == labels).sum().item()\n",
    "\n",
    "# Calculate average loss and accuracy\n",
    "test_loss = test_loss / len(test_loader.dataset)\n",
    "test_accuracy = 100 * correct / total\n",
    "\n",
    "# Print test statistics\n",
    "print(f'Test Loss: {test_loss:.4f} \\tTest Accuracy: {test_accuracy:.2f}%')\n"
   ]
  },
  {
   "cell_type": "code",
   "execution_count": 8,
   "id": "e15fa929",
   "metadata": {},
   "outputs": [],
   "source": [
    "model_path = \"/Users/sandeep/Desktop/BUCourses/Project/saved_models/Pytorch/CNN_base.pth\"\n",
    "torch.save(model.state_dict(), model_path)\n"
   ]
  },
  {
   "cell_type": "code",
   "execution_count": 52,
   "id": "8fb1ecff",
   "metadata": {},
   "outputs": [],
   "source": [
    "def compute_metrics_base(model, test_loader, model_path):\n",
    "    \"\"\"\n",
    "    Compute the accuracy of the PyTorch model.\n",
    "\n",
    "    :param model: PyTorch model.\n",
    "    :param test_loader: DataLoader for the test dataset.\n",
    "    :param model_path: Path to the PyTorch model file.\n",
    "    :return: None\n",
    "    \"\"\"\n",
    "\n",
    "    model.eval()\n",
    "    correct = 0\n",
    "    total = 0\n",
    "    all_predicted = []\n",
    "    all_labels = []\n",
    "\n",
    "    with torch.no_grad():\n",
    "        for inputs, labels in test_loader:\n",
    "            # Reshaping and predictions\n",
    "            inputs = inputs.view(-1, 3, 16)  # Adjust the reshape as per your model input\n",
    "            outputs = model(inputs)\n",
    "            _, predicted_labels = torch.max(outputs, 1)\n",
    "\n",
    "            # Aggregate labels and predictions\n",
    "            all_predicted.extend(predicted_labels.cpu().numpy())\n",
    "            all_labels.extend(labels.cpu().numpy())\n",
    "\n",
    "            # Calculating accuracy\n",
    "            correct += (predicted_labels == labels).sum().item()\n",
    "            total += labels.size(0)\n",
    "\n",
    "    # Compute accuracy\n",
    "    accuracy = correct / total\n",
    "    print(f'Accuracy on the test set: {accuracy:.2%}')\n",
    "\n",
    "    # Model size\n",
    "    model_size_bytes = Path(model_path).stat().st_size\n",
    "    model_size_kb = model_size_bytes / 1024\n",
    "    print(f\"Size of the model: {model_size_kb:.2f} KB\")\n"
   ]
  },
  {
   "cell_type": "code",
   "execution_count": 30,
   "id": "1e2c5ea0",
   "metadata": {},
   "outputs": [],
   "source": [
    "def measure_cpu_utilization_and_run(func, *args, **kwargs):\n",
    "    \"\"\"\n",
    "    Measure CPU utilization while running a function.\n",
    "\n",
    "    Parameters:\n",
    "        func (function): The function to be executed.\n",
    "        *args: Arguments to be passed to func.\n",
    "        **kwargs: Keyword arguments to be passed to func.\n",
    "\n",
    "    Returns:\n",
    "        float: CPU utilization percentage during the execution of func.\n",
    "        float: The elapsed time during the execution of func.\n",
    "        any: The result of func execution.\n",
    "    \"\"\"\n",
    "    \n",
    "    # Measure CPU utilization before execution\n",
    "    cpu_percent_before = psutil.cpu_percent(interval=None)\n",
    "\n",
    "    # Record the start time\n",
    "    start_time = time.time()\n",
    "\n",
    "    # Execute the function and store its result\n",
    "    result = func(*args, **kwargs)\n",
    "\n",
    "    # Record the end time\n",
    "    end_time = time.time()\n",
    "\n",
    "    # Measure CPU utilization after execution\n",
    "    cpu_percent_after = psutil.cpu_percent(interval=None)\n",
    "\n",
    "    # Calculate elapsed time and average CPU utilization\n",
    "    elapsed_time = end_time - start_time\n",
    "    average_cpu_utilization = (cpu_percent_before + cpu_percent_after) / 2\n",
    "\n",
    "    return average_cpu_utilization, elapsed_time, result\n",
    "\n"
   ]
  },
  {
   "cell_type": "code",
   "execution_count": 31,
   "id": "7c5d5b39",
   "metadata": {},
   "outputs": [
    {
     "name": "stdout",
     "output_type": "stream",
     "text": [
      "Accuracy on the test set: 32.89%\n",
      "Size of the model: 524.57 KB\n",
      "CPU usage during inference: 40.15%\n",
      "Inference time: 4.8102 seconds\n"
     ]
    }
   ],
   "source": [
    "import psutil\n",
    "import time\n",
    "from pathlib import Path\n",
    "\n",
    "# Measure CPU usage and inference time\n",
    "cpu_usage, inference_time, _ = measure_cpu_utilization_and_run(compute_metrics_base, model, test_loader, model_path)\n",
    "\n",
    "print(f'CPU usage during inference: {cpu_usage:.2f}%')\n",
    "print(f'Inference time: {inference_time:.4f} seconds')\n"
   ]
  },
  {
   "cell_type": "markdown",
   "id": "b8d72f46",
   "metadata": {},
   "source": [
    "### Dynamic Quantization"
   ]
  },
  {
   "cell_type": "code",
   "execution_count": 32,
   "id": "4d855913",
   "metadata": {},
   "outputs": [],
   "source": [
    "import torch.quantization\n",
    "torch.backends.quantized.engine = 'qnnpack'"
   ]
  },
  {
   "cell_type": "code",
   "execution_count": 33,
   "id": "3e3010fb",
   "metadata": {},
   "outputs": [],
   "source": [
    "quantized_model = torch.quantization.quantize_dynamic(\n",
    "    model,  # the original model\n",
    "    {nn.Linear, nn.Conv1d},  # specify which layer types to quantize\n",
    "    dtype=torch.qint8  # the target data type for quantized weights\n",
    ")"
   ]
  },
  {
   "cell_type": "code",
   "execution_count": 34,
   "id": "d1c06710",
   "metadata": {},
   "outputs": [
    {
     "name": "stdout",
     "output_type": "stream",
     "text": [
      "Accuracy of the quantized model on the test dataset: 65.24%\n"
     ]
    }
   ],
   "source": [
    "# Save the quantized model\n",
    "torch.save(quantized_model.state_dict(), '/Users/sandeep/Desktop/BUCourses/Project/saved_models/Pytorch/CNN_Quantized.pth')\n",
    "\n",
    "# Use it for inference\n",
    "quantized_model.eval()\n",
    "with torch.no_grad():\n",
    "    for inputs, labels in test_loader:\n",
    "        inputs = inputs.view(-1, 3, 16)  # Reshape if needed, based on your model's requirement\n",
    "        outputs = quantized_model(inputs)\n",
    "        _, predicted = torch.max(outputs.data, 1)\n",
    "        total += labels.size(0)\n",
    "        correct += (predicted == labels).sum().item()\n",
    "\n",
    "accuracy = 100 * correct / total\n",
    "print(f'Accuracy of the quantized model on the test dataset: {accuracy:.2f}%')\n"
   ]
  },
  {
   "cell_type": "code",
   "execution_count": 18,
   "id": "c4d7d9bb",
   "metadata": {},
   "outputs": [
    {
     "name": "stdout",
     "output_type": "stream",
     "text": [
      "Accuracy on the test set: 81.34%\n",
      "Size of the model: 520.83 KB\n",
      "CPU usage during inference: 43.85%\n",
      "Inference time: 4.8436 seconds\n"
     ]
    }
   ],
   "source": [
    "# Measure CPU usage and inference time\n",
    "quantized_model_path = '/Users/sandeep/Desktop/BUCourses/Project/saved_models/Pytorch/CNN_Quantized.pth'\n",
    "cpu_usage, inference_time, _ = measure_cpu_utilization_and_run(compute_metrics_base, quantized_model, test_loader, quantized_model_path)\n",
    "\n",
    "print(f'CPU usage during inference: {cpu_usage:.2f}%')\n",
    "print(f'Inference time: {inference_time:.4f} seconds')\n"
   ]
  },
  {
   "cell_type": "markdown",
   "id": "ee4e007d",
   "metadata": {},
   "source": [
    "### Static Quantization"
   ]
  },
  {
   "cell_type": "code",
   "execution_count": 45,
   "id": "917dd311",
   "metadata": {},
   "outputs": [],
   "source": [
    "class CNN_Model(nn.Module):\n",
    "    def __init__(self, n_input, n_steps):\n",
    "        super(CNN_Model, self).__init__()\n",
    "        self.quant = torch.quantization.QuantStub()\n",
    "        self.conv1 = nn.Conv1d(in_channels=n_input, out_channels=256, kernel_size=3)\n",
    "        self.conv2 = nn.Conv1d(in_channels=256, out_channels=128, kernel_size=3)\n",
    "        self.conv3 = nn.Conv1d(in_channels=128, out_channels=64, kernel_size=3)\n",
    "        self.conv4 = nn.Conv1d(in_channels=64, out_channels=32, kernel_size=3)\n",
    "        self.flatten = nn.Flatten()\n",
    "        self.fc = nn.Linear(32 * 8, 6)  # Adjusted for the output from the last Conv1d layer\n",
    "        self.dropout = nn.Dropout(0.2)\n",
    "        self.softmax = nn.Softmax(dim=1)\n",
    "        self.dequant = torch.quantization.DeQuantStub()\n",
    "\n",
    "    def forward(self, x):\n",
    "        x = self.quant(x)\n",
    "        x = self.dropout(torch.relu(self.conv1(x)))\n",
    "        x = self.dropout(torch.relu(self.conv2(x)))\n",
    "        x = self.dropout(torch.relu(self.conv3(x)))\n",
    "        x = self.dropout(torch.relu(self.conv4(x)))\n",
    "        x = self.flatten(x)\n",
    "        x = self.fc(x)\n",
    "        x = self.dequant(x)\n",
    "        return self.softmax(x)"
   ]
  },
  {
   "cell_type": "code",
   "execution_count": 46,
   "id": "28d68426",
   "metadata": {},
   "outputs": [
    {
     "data": {
      "text/plain": [
       "CNN_Model(\n",
       "  (quant): Quantize(scale=tensor([0.1557]), zero_point=tensor([126]), dtype=torch.quint8)\n",
       "  (conv1): QuantizedConv1d(3, 256, kernel_size=(3,), stride=(1,), scale=0.1553564816713333, zero_point=126)\n",
       "  (conv2): QuantizedConv1d(256, 128, kernel_size=(3,), stride=(1,), scale=0.07083342224359512, zero_point=133)\n",
       "  (conv3): QuantizedConv1d(128, 64, kernel_size=(3,), stride=(1,), scale=0.023683937266469002, zero_point=121)\n",
       "  (conv4): QuantizedConv1d(64, 32, kernel_size=(3,), stride=(1,), scale=0.009826918132603168, zero_point=144)\n",
       "  (flatten): Flatten(start_dim=1, end_dim=-1)\n",
       "  (fc): QuantizedLinear(in_features=256, out_features=6, scale=0.002805757336318493, zero_point=135, qscheme=torch.per_tensor_affine)\n",
       "  (dropout): QuantizedDropout(p=0.2, inplace=False)\n",
       "  (softmax): Softmax(dim=1)\n",
       "  (dequant): DeQuantize()\n",
       ")"
      ]
     },
     "execution_count": 46,
     "metadata": {},
     "output_type": "execute_result"
    }
   ],
   "source": [
    "# Instantiate the model\n",
    "model_fp32 = CNN_Model(n_input=3, n_steps=16)\n",
    "model_fp32.load_state_dict(torch.load(model_path))\n",
    "model_fp32.eval()\n",
    "\n",
    "# Define a quantization configuration\n",
    "model_int8 = CNN_Model(n_input=3, n_steps=16)\n",
    "model_int8.eval()\n",
    "\n",
    "# Specify the quantization configuration\n",
    "model_int8.qconfig = torch.quantization.get_default_qconfig('qnnpack')\n",
    "\n",
    "# Prepare the model for static quantization\n",
    "torch.quantization.prepare(model_int8, inplace=True)\n",
    "\n",
    "# Calibrate the model with representative data\n",
    "# Assuming the train_loader is representative of the data distribution\n",
    "for data, _ in train_loader:\n",
    "    data = data.view(-1, 3, 16)\n",
    "    model_int8(data)\n",
    "\n",
    "# Convert to a quantized model\n",
    "torch.quantization.convert(model_int8, inplace=True)"
   ]
  },
  {
   "cell_type": "code",
   "execution_count": 47,
   "id": "92e1db70",
   "metadata": {},
   "outputs": [
    {
     "name": "stdout",
     "output_type": "stream",
     "text": [
      "Test Loss: 1.7999 \tTest Accuracy: 8.96%\n"
     ]
    }
   ],
   "source": [
    "# Test phase - after training is complete\n",
    "model.eval()  # Set the model to evaluation mode\n",
    "test_loss = 0.0\n",
    "correct = 0\n",
    "total = 0\n",
    "\n",
    "with torch.no_grad():\n",
    "    for inputs, labels in test_loader:\n",
    "        inputs, labels = inputs.to(device), labels.to(device)\n",
    "        inputs = inputs.view(-1, 3, 16)\n",
    "\n",
    "        outputs = model_int8(inputs)\n",
    "        loss = criterion(outputs, labels)\n",
    "        test_loss += loss.item() * inputs.size(0)\n",
    "\n",
    "        _, predicted = torch.max(outputs.data, 1)\n",
    "        total += labels.size(0)\n",
    "        correct += (predicted == labels).sum().item()\n",
    "\n",
    "# Calculate average loss and accuracy\n",
    "test_loss = test_loss / len(test_loader.dataset)\n",
    "test_accuracy = 100 * correct / total\n",
    "\n",
    "# Print test statistics\n",
    "print(f'Test Loss: {test_loss:.4f} \\tTest Accuracy: {test_accuracy:.2f}%')\n"
   ]
  },
  {
   "cell_type": "code",
   "execution_count": 48,
   "id": "47411a1d",
   "metadata": {},
   "outputs": [
    {
     "name": "stdout",
     "output_type": "stream",
     "text": [
      "Quantized model saved to /Users/sandeep/Desktop/BUCourses/Project/saved_models/Pytorch/CNN_Static_Quantized.pth\n"
     ]
    }
   ],
   "source": [
    "# Define the path where you want to save the quantized model\n",
    "static_quantized_model_path = \"/Users/sandeep/Desktop/BUCourses/Project/saved_models/Pytorch/CNN_Static_Quantized.pth\"\n",
    "\n",
    "# Save the state dictionary of the quantized model\n",
    "torch.save(model_int8.state_dict(), static_quantized_model_path)\n",
    "\n",
    "print(f\"Quantized model saved to {static_quantized_model_path}\")\n"
   ]
  },
  {
   "cell_type": "code",
   "execution_count": 53,
   "id": "fc05731c",
   "metadata": {},
   "outputs": [
    {
     "name": "stdout",
     "output_type": "stream",
     "text": [
      "Accuracy on the test set: 8.96%\n",
      "Size of the model: 138.97 KB\n",
      "CPU usage during inference: 23.20%\n",
      "Inference time: 0.8024 seconds\n"
     ]
    }
   ],
   "source": [
    "# Measure CPU usage and inference time\n",
    "cpu_usage, inference_time, _ = measure_cpu_utilization_and_run(compute_metrics_base, model_int8, test_loader, static_quantized_model_path)\n",
    "\n",
    "print(f'CPU usage during inference: {cpu_usage:.2f}%')\n",
    "print(f'Inference time: {inference_time:.4f} seconds')\n"
   ]
  },
  {
   "cell_type": "markdown",
   "id": "d574c7fa",
   "metadata": {},
   "source": [
    "### Quantization Aware Training"
   ]
  },
  {
   "cell_type": "code",
   "execution_count": 54,
   "id": "ce84826b",
   "metadata": {},
   "outputs": [
    {
     "name": "stdout",
     "output_type": "stream",
     "text": [
      "Epoch 0: Loss 1.2295314073562622\n",
      "Epoch 1: Loss 1.3871519565582275\n",
      "Epoch 2: Loss 1.2905480861663818\n",
      "Epoch 3: Loss 1.3854707479476929\n",
      "Epoch 4: Loss 1.31768000125885\n",
      "Epoch 5: Loss 1.294910192489624\n",
      "Epoch 6: Loss 1.3618433475494385\n",
      "Epoch 7: Loss 1.320515751838684\n",
      "Epoch 8: Loss 1.3665053844451904\n",
      "Epoch 9: Loss 1.2665741443634033\n"
     ]
    }
   ],
   "source": [
    "# Assuming the correct input size and number of classes\n",
    "input_size = 16 * 3  # 16 time steps with 3 features each\n",
    "num_classes = 6  # Assuming 6 classes as per your data\n",
    "\n",
    "# Instantiate and prepare the model for QAT\n",
    "model_qat = CNN_Model(n_input=3, n_steps=16)\n",
    "model_qat.qconfig = torch.quantization.get_default_qat_qconfig('qnnpack')\n",
    "model_qat.train()\n",
    "model_prepared = torch.quantization.prepare_qat(model_qat, inplace=True)\n",
    "\n",
    "# Define the optimizer and loss function\n",
    "optimizer = optim.Adam(model_prepared.parameters(), lr=0.00001)\n",
    "criterion = nn.CrossEntropyLoss()\n",
    "\n",
    "# Fine-tuning loop for QAT\n",
    "num_fine_tune_epochs = 10\n",
    "model_prepared.train()\n",
    "for epoch in range(num_fine_tune_epochs):\n",
    "    for inputs, labels in train_loader:\n",
    "        inputs = inputs.view(-1, 3, 16)  \n",
    "        optimizer.zero_grad()\n",
    "        outputs = model_prepared(inputs)\n",
    "        loss = criterion(outputs, labels)\n",
    "        loss.backward()\n",
    "        optimizer.step()\n",
    "    print(f'Epoch {epoch}: Loss {loss.item()}')"
   ]
  },
  {
   "cell_type": "code",
   "execution_count": 55,
   "id": "bfa6bb43",
   "metadata": {},
   "outputs": [],
   "source": [
    "model_prepared.eval()\n",
    "# Convert the QAT model to a fully quantized model\n",
    "qat_model = torch.quantization.convert(model, inplace=False)\n",
    "\n",
    "# Save the fine-tuned quantized model\n",
    "qat_model_path = \"/Users/sandeep/Desktop/BUCourses/Project/saved_models/Pytorch/CNN_QAT.pth\"\n",
    "torch.save(qat_model.state_dict(), qat_model_path)"
   ]
  },
  {
   "cell_type": "code",
   "execution_count": 56,
   "id": "9a8dd810",
   "metadata": {},
   "outputs": [
    {
     "data": {
      "text/plain": [
       "CNN_Model(\n",
       "  (quant): QuantStub()\n",
       "  (conv1): Conv1d(3, 256, kernel_size=(3,), stride=(1,))\n",
       "  (conv2): Conv1d(256, 128, kernel_size=(3,), stride=(1,))\n",
       "  (conv3): Conv1d(128, 64, kernel_size=(3,), stride=(1,))\n",
       "  (conv4): Conv1d(64, 32, kernel_size=(3,), stride=(1,))\n",
       "  (flatten): Flatten(start_dim=1, end_dim=-1)\n",
       "  (fc): Linear(in_features=256, out_features=6, bias=True)\n",
       "  (dropout): Dropout(p=0.2, inplace=False)\n",
       "  (softmax): Softmax(dim=1)\n",
       "  (dequant): DeQuantStub()\n",
       ")"
      ]
     },
     "execution_count": 56,
     "metadata": {},
     "output_type": "execute_result"
    }
   ],
   "source": [
    "#Load the QAT model from the saved file\n",
    "qat_model_saved = CNN_Model(n_input=3, n_steps=16)\n",
    "state_dict = torch.load(model_path)\n",
    "qat_model_saved.load_state_dict(state_dict)\n",
    "qat_model_saved.to('cpu')"
   ]
  },
  {
   "cell_type": "code",
   "execution_count": 57,
   "id": "7b77a9d8",
   "metadata": {},
   "outputs": [
    {
     "name": "stdout",
     "output_type": "stream",
     "text": [
      "Accuracy: 81.42%\n"
     ]
    }
   ],
   "source": [
    "# Prepare the model for evaluation\n",
    "qat_model_saved.eval()\n",
    "\n",
    "# Define the test dataset and dataloader\n",
    "test_dataset = TensorDataset(X_test, y_test)\n",
    "test_loader = DataLoader(test_dataset, batch_size=64, shuffle=False)\n",
    "\n",
    "# Evaluate the model on the test dataset\n",
    "correct = 0\n",
    "total = 0\n",
    "with torch.no_grad():\n",
    "    for inputs, labels in test_loader:\n",
    "        inputs = inputs.view(-1, 3, 16)  \n",
    "        outputs = qat_model_saved(inputs)\n",
    "        _, predicted = torch.max(outputs.data, 1)\n",
    "        total += labels.size(0)\n",
    "        correct += (predicted == labels).sum().item()\n",
    "\n",
    "accuracy = 100.0 * correct / total\n",
    "print(f'Accuracy: {accuracy:.2f}%')"
   ]
  },
  {
   "cell_type": "code",
   "execution_count": 61,
   "id": "8b162add",
   "metadata": {},
   "outputs": [],
   "source": [
    "import torch\n",
    "from sklearn.metrics import accuracy_score\n",
    "import numpy as np\n",
    "import time\n",
    "import psutil\n",
    "from pathlib import Path\n",
    "\n",
    "def compute_metrics_new(model, x_test, y_test, model_path):\n",
    "    \"\"\"\n",
    "    Compute the accuracy of the PyTorch model.\n",
    "\n",
    "    :param model: PyTorch model.\n",
    "    :param x_test: Test dataset features (as a PyTorch Tensor).\n",
    "    :param y_test: Test dataset labels (as a NumPy array).\n",
    "    :param model_dir: Directory where the PyTorch model files are stored.\n",
    "    :return: None\n",
    "    \"\"\"\n",
    "\n",
    "    model.eval()\n",
    "    test_dataset = TensorDataset(x_test, y_test)\n",
    "    test_loader = DataLoader(test_dataset, batch_size=64, shuffle=False)\n",
    "    \n",
    "    correct = 0\n",
    "    total = 0\n",
    "    with torch.no_grad():\n",
    "        for inputs, labels in test_loader:\n",
    "            inputs = inputs.view(-1, 3, 16)  # Flatten the input\n",
    "            outputs = qat_model(inputs)\n",
    "            _, predicted = torch.max(outputs.data, 1)\n",
    "            total += labels.size(0)\n",
    "            correct += (predicted == labels).sum().item()\n",
    "\n",
    "        \n",
    "    model_file = Path(model_path)\n",
    "    # Size in bytes\n",
    "    model_size_bytes = model_file.stat().st_size\n",
    "\n",
    "    # Convert size to kilobytes (optional)\n",
    "    model_size_kb = model_size_bytes / 1024\n",
    "    print(f\"Size of the model: {model_size_kb:.2f} KB\")\n",
    "\n",
    "    # Compute accuracy\n",
    "    accuracy = correct / total\n",
    "    print(f'Accuracy on the test set: {accuracy:.2%}')\n"
   ]
  },
  {
   "cell_type": "code",
   "execution_count": 62,
   "id": "05f70391",
   "metadata": {},
   "outputs": [
    {
     "name": "stdout",
     "output_type": "stream",
     "text": [
      "Size of the model: 524.05 KB\n",
      "Accuracy on the test set: 32.89%\n",
      "CPU usage during inference: 41.50%\n",
      "Inference time: 4.7991 seconds\n"
     ]
    }
   ],
   "source": [
    "# Measure CPU usage and inference time\n",
    "cpu_usage, inference_time, _ = measure_cpu_utilization_and_run(compute_metrics_new, qat_model_saved, X_test, y_test, qat_model_path)\n",
    "\n",
    "print(f'CPU usage during inference: {cpu_usage:.2f}%')\n",
    "print(f'Inference time: {inference_time:.4f} seconds')\n"
   ]
  },
  {
   "cell_type": "markdown",
   "id": "94d7502b",
   "metadata": {},
   "source": [
    "### Torch Pruning"
   ]
  },
  {
   "cell_type": "code",
   "execution_count": 64,
   "id": "e4b29c7d",
   "metadata": {},
   "outputs": [],
   "source": [
    "import torch\n",
    "import torch.nn as nn\n",
    "import torch.nn.utils.prune as prune\n",
    "\n",
    "\n",
    "# Assuming timestep and X_series.shape[2] are defined\n",
    "# input_size = timestep * X_series.shape[2]\n",
    "pruned_model = CNN_Model(n_input=3, n_steps=16)\n",
    "\n",
    "# Apply pruning to the convolutional layers\n",
    "# Here, we are using L1Unstructured pruning as an example\n",
    "prune.l1_unstructured(model.conv1, name=\"weight\", amount=0.2)\n",
    "prune.l1_unstructured(model.conv2, name=\"weight\", amount=0.2)\n",
    "prune.l1_unstructured(model.conv3, name=\"weight\", amount=0.2)\n",
    "prune.l1_unstructured(model.conv4, name=\"weight\", amount=0.2)\n",
    "\n",
    "# To make pruning permanent\n",
    "for module in [model.conv1, model.conv2, model.conv3, model.conv4]:\n",
    "    prune.remove(module, 'weight')\n",
    "\n",
    "pruned_model_path = \"/Users/sandeep/Desktop/BUCourses/Project/saved_models/Pytorch/QAT_pruned.pth\"\n",
    "torch.save(model.state_dict(), pruned_model_path)\n"
   ]
  },
  {
   "cell_type": "code",
   "execution_count": 65,
   "id": "815b6255",
   "metadata": {},
   "outputs": [
    {
     "name": "stdout",
     "output_type": "stream",
     "text": [
      "Accuracy: 23.37%\n"
     ]
    }
   ],
   "source": [
    "# Prepare the model for evaluation\n",
    "pruned_model.eval()\n",
    "\n",
    "# Define the test dataset and dataloader\n",
    "test_dataset = TensorDataset(X_test, y_test)\n",
    "test_loader = DataLoader(test_dataset, batch_size=64, shuffle=False)\n",
    "\n",
    "# Evaluate the model on the test dataset\n",
    "correct = 0\n",
    "total = 0\n",
    "with torch.no_grad():\n",
    "    for inputs, labels in test_loader:\n",
    "        inputs = inputs.view(-1, 3, 16)  \n",
    "        outputs = pruned_model(inputs)\n",
    "        _, predicted = torch.max(outputs.data, 1)\n",
    "        total += labels.size(0)\n",
    "        correct += (predicted == labels).sum().item()\n",
    "\n",
    "accuracy = 100.0 * correct / total\n",
    "print(f'Accuracy: {accuracy:.2f}%')"
   ]
  },
  {
   "cell_type": "code",
   "execution_count": 66,
   "id": "8cf830ed",
   "metadata": {},
   "outputs": [
    {
     "name": "stdout",
     "output_type": "stream",
     "text": [
      "Size of the model: 524.66 KB\n",
      "Accuracy on the test set: 32.89%\n",
      "CPU usage during inference: 42.55%\n",
      "Inference time: 4.8011 seconds\n"
     ]
    }
   ],
   "source": [
    "# Measure CPU usage and inference time\n",
    "cpu_usage, inference_time, _ = measure_cpu_utilization_and_run(compute_metrics_new, pruned_model, X_test, y_test, pruned_model_path)\n",
    "\n",
    "print(f'CPU usage during inference: {cpu_usage:.2f}%')\n",
    "print(f'Inference time: {inference_time:.4f} seconds')\n"
   ]
  },
  {
   "cell_type": "code",
   "execution_count": null,
   "id": "6637984d",
   "metadata": {},
   "outputs": [],
   "source": []
  }
 ],
 "metadata": {
  "kernelspec": {
   "display_name": "Python 3 (ipykernel)",
   "language": "python",
   "name": "python3"
  },
  "language_info": {
   "codemirror_mode": {
    "name": "ipython",
    "version": 3
   },
   "file_extension": ".py",
   "mimetype": "text/x-python",
   "name": "python",
   "nbconvert_exporter": "python",
   "pygments_lexer": "ipython3",
   "version": "3.11.3"
  }
 },
 "nbformat": 4,
 "nbformat_minor": 5
}
