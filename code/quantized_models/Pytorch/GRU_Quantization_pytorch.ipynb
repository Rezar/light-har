{
 "cells": [
  {
   "cell_type": "markdown",
   "metadata": {
    "id": "7sPHNxudGuMO"
   },
   "source": [
    "### **Data Preprocessing**\n",
    "\n"
   ]
  },
  {
   "cell_type": "code",
   "execution_count": 4,
   "metadata": {
    "id": "UF_fkc-rEH5Q"
   },
   "outputs": [],
   "source": [
    "import torch\n",
    "import torch.nn as nn\n",
    "import torch.nn.functional as F\n",
    "from torch.utils.data import DataLoader, TensorDataset\n",
    "from torch.optim import Adam\n",
    "from sklearn.model_selection import train_test_split\n",
    "import numpy as np\n",
    "import pandas as pd\n",
    "from numpy import genfromtxt\n",
    "from sklearn.preprocessing import LabelEncoder\n",
    "\n"
   ]
  },
  {
   "cell_type": "code",
   "execution_count": 5,
   "metadata": {
    "id": "u9gSA8uiEilq"
   },
   "outputs": [],
   "source": [
    "# Load Data\n",
    "x = genfromtxt('../Data/WISDM_x.csv', delimiter=',')\n",
    "y_df = pd.read_csv('../Data/WISDM_y.csv')\n",
    "y = y_df.values.flatten()  # Flatten if y is 2D\n",
    "\n",
    "# Encode labels\n",
    "label_encoder = LabelEncoder()\n",
    "y_encoded = label_encoder.fit_transform(y)\n",
    "\n",
    "# Function to create time series dataset\n",
    "def create_series(x, y, timestep, overlap):\n",
    "    slide_step = int(timestep * (1 - overlap))\n",
    "    data_num = int((len(x) / slide_step) - 1)\n",
    "    dataset = np.ndarray(shape=(data_num, timestep, x.shape[1]))\n",
    "    labels = []\n",
    "\n",
    "    for i in range(data_num):\n",
    "        labels.append(y[slide_step * (i + 1) - 1])\n",
    "        for j in range(timestep):\n",
    "            dataset[i, j, :] = x[slide_step * i + j, :]\n",
    "\n",
    "    return dataset, np.array(labels)\n",
    "\n",
    "# Create time series\n",
    "timestep = 16  # Replace with your value\n",
    "overlap = 0.5  # Replace with your value\n",
    "X_series, y_series = create_series(x, y_encoded, timestep, overlap)"
   ]
  },
  {
   "cell_type": "code",
   "execution_count": 6,
   "metadata": {
    "id": "gLppIs7ZEiof"
   },
   "outputs": [],
   "source": [
    "# Split into train and test sets\n",
    "X_train, X_test, y_train, y_test = train_test_split(X_series, y_series, test_size=0.2, random_state=42)\n",
    "\n",
    "# Convert to PyTorch tensors\n",
    "x_train_tensor = torch.tensor(X_train, dtype=torch.float32)\n",
    "x_test_tensor = torch.tensor(X_test, dtype=torch.float32)\n",
    "y_train_tensor = torch.tensor(y_train, dtype=torch.long)\n",
    "y_test_tensor = torch.tensor(y_test, dtype=torch.long)\n",
    "\n"
   ]
  },
  {
   "cell_type": "code",
   "execution_count": 7,
   "metadata": {},
   "outputs": [],
   "source": [
    "import torch\n",
    "import torch.nn as nn\n",
    "\n",
    "class GRUNet(nn.Module):\n",
    "    def __init__(self, input_size, hidden_size1, hidden_size2, output_size):\n",
    "        super(GRUNet, self).__init__()\n",
    "        self.hidden_size1 = hidden_size1\n",
    "        self.hidden_size2 = hidden_size2\n",
    "\n",
    "        self.gru1 = nn.GRU(input_size, hidden_size1, batch_first=True)\n",
    "        self.dropout1 = nn.Dropout(0.2)\n",
    "        self.gru2 = nn.GRU(hidden_size1, hidden_size2, batch_first=True)\n",
    "        self.dropout2 = nn.Dropout(0.2)\n",
    "        self.fc = nn.Linear(hidden_size2, output_size)\n",
    "\n",
    "    def forward(self, x):\n",
    "        # Initialize hidden state\n",
    "        h0 = torch.zeros(1, x.size(0), self.hidden_size1).to(x.device)\n",
    "        \n",
    "        # First GRU layer\n",
    "        out, _ = self.gru1(x, h0)\n",
    "        out = self.dropout1(out)\n",
    "        \n",
    "        # Second GRU layer\n",
    "        h1 = torch.zeros(1, x.size(0), self.hidden_size2).to(x.device)\n",
    "        out, _ = self.gru2(out, h1)\n",
    "        out = self.dropout2(out)\n",
    "\n",
    "        # Dense layer\n",
    "        out = self.fc(out[:, -1, :])  # Taking the last time step\n",
    "        return out\n"
   ]
  },
  {
   "cell_type": "code",
   "execution_count": 10,
   "metadata": {},
   "outputs": [],
   "source": [
    "# Parameters\n",
    "input_size = 3  # Number of features\n",
    "hidden_size1 = 50\n",
    "hidden_size2 = 25\n",
    "output_size = 6\n",
    "n_steps = 16\n",
    "\n",
    "# Create the model\n",
    "model = GRUNet(input_size, hidden_size1, hidden_size2, output_size)\n",
    "\n",
    "# Training setup (for demonstration)\n",
    "# Define your dataset here\n",
    "train_dataset = TensorDataset(torch.tensor(X_train, dtype=torch.float32), torch.tensor(y_train, dtype=torch.int64))\n",
    "train_loader = DataLoader(train_dataset, batch_size=64, shuffle=True)\n",
    "\n",
    "loss_fn = nn.CrossEntropyLoss()\n",
    "optimizer = torch.optim.Adam(model.parameters(), lr=0.001)\n"
   ]
  },
  {
   "cell_type": "code",
   "execution_count": 11,
   "metadata": {},
   "outputs": [
    {
     "name": "stdout",
     "output_type": "stream",
     "text": [
      "Epoch [1/20], Loss: 0.5680, Accuracy: 80.35%\n",
      "Epoch [2/20], Loss: 0.3758, Accuracy: 86.63%\n",
      "Epoch [3/20], Loss: 0.2995, Accuracy: 89.84%\n",
      "Epoch [4/20], Loss: 0.2623, Accuracy: 91.28%\n",
      "Epoch [5/20], Loss: 0.2375, Accuracy: 92.18%\n",
      "Epoch [6/20], Loss: 0.2203, Accuracy: 92.74%\n",
      "Epoch [7/20], Loss: 0.2093, Accuracy: 93.18%\n",
      "Epoch [8/20], Loss: 0.1980, Accuracy: 93.61%\n",
      "Epoch [9/20], Loss: 0.1899, Accuracy: 93.85%\n",
      "Epoch [10/20], Loss: 0.1823, Accuracy: 94.14%\n",
      "Epoch [11/20], Loss: 0.1741, Accuracy: 94.42%\n",
      "Epoch [12/20], Loss: 0.1691, Accuracy: 94.60%\n",
      "Epoch [13/20], Loss: 0.1641, Accuracy: 94.74%\n",
      "Epoch [14/20], Loss: 0.1604, Accuracy: 94.86%\n",
      "Epoch [15/20], Loss: 0.1549, Accuracy: 94.99%\n",
      "Epoch [16/20], Loss: 0.1517, Accuracy: 95.23%\n",
      "Epoch [17/20], Loss: 0.1489, Accuracy: 95.27%\n",
      "Epoch [18/20], Loss: 0.1466, Accuracy: 95.28%\n",
      "Epoch [19/20], Loss: 0.1447, Accuracy: 95.40%\n",
      "Epoch [20/20], Loss: 0.1412, Accuracy: 95.46%\n"
     ]
    }
   ],
   "source": [
    "def train(model, train_loader, loss_fn, optimizer, epochs=0):\n",
    "    for epoch in range(epochs):\n",
    "        model.train()\n",
    "        running_loss = 0.0\n",
    "        correct = 0\n",
    "        total = 0\n",
    "\n",
    "        for X_batch, y_batch in train_loader:\n",
    "            optimizer.zero_grad()\n",
    "            y_pred = model(X_batch)\n",
    "            loss = loss_fn(y_pred, y_batch)\n",
    "            loss.backward()\n",
    "            optimizer.step()\n",
    "\n",
    "            running_loss += loss.item()\n",
    "            _, predicted = torch.max(y_pred.data, 1)\n",
    "            total += y_batch.size(0)\n",
    "            correct += (predicted == y_batch).sum().item()\n",
    "\n",
    "        avg_loss = running_loss / len(train_loader)\n",
    "        accuracy = 100 * correct / total\n",
    "        print(f\"Epoch [{epoch+1}/{epochs}], Loss: {avg_loss:.4f}, Accuracy: {accuracy:.2f}%\")\n",
    "\n",
    "train(model, train_loader, loss_fn, optimizer, epochs=20)\n"
   ]
  },
  {
   "cell_type": "code",
   "execution_count": 12,
   "metadata": {},
   "outputs": [
    {
     "name": "stdout",
     "output_type": "stream",
     "text": [
      "Test Loss: 0.1650, Test Accuracy: 0.9496\n"
     ]
    }
   ],
   "source": [
    "test_dataset = TensorDataset(torch.tensor(X_test, dtype=torch.float32), torch.tensor(y_test, dtype=torch.int64))\n",
    "test_loader = DataLoader(test_dataset, batch_size=64, shuffle=False)\n",
    "def evaluate(model, test_loader, loss_fn):\n",
    "    model.eval()\n",
    "    total_loss = 0\n",
    "    correct = 0\n",
    "    total = 0\n",
    "    with torch.no_grad():\n",
    "        for X_batch, y_batch in test_loader:\n",
    "            y_pred = model(X_batch)\n",
    "            total_loss += loss_fn(y_pred, y_batch).item()\n",
    "            _, predicted = torch.max(y_pred.data, 1)\n",
    "            total += y_batch.size(0)\n",
    "            correct += (predicted == y_batch).sum().item()\n",
    "\n",
    "    avg_loss = total_loss / len(test_loader)\n",
    "    accuracy = correct / total\n",
    "    return avg_loss, accuracy\n",
    "\n",
    "avg_loss, accuracy = evaluate(model, test_loader, loss_fn)\n",
    "print(f\"Test Loss: {avg_loss:.4f}, Test Accuracy: {accuracy:.4f}\")\n",
    "\n"
   ]
  },
  {
   "cell_type": "code",
   "execution_count": 13,
   "metadata": {},
   "outputs": [],
   "source": [
    "model_path = \"/Users/sandeep/Desktop/BUCourses/Project/saved_models/Pytorch/gru_base.pth\"\n",
    "torch.save(model.state_dict(), model_path)"
   ]
  },
  {
   "cell_type": "code",
   "execution_count": 14,
   "metadata": {},
   "outputs": [],
   "source": [
    "def measure_cpu_utilization_and_run(func, *args, **kwargs):\n",
    "    \"\"\"\n",
    "    Measure CPU utilization while running a function.\n",
    "\n",
    "    Parameters:\n",
    "        func (function): The function to be executed.\n",
    "        *args: Arguments to be passed to func.\n",
    "        **kwargs: Keyword arguments to be passed to func.\n",
    "\n",
    "    Returns:\n",
    "        float: CPU utilization percentage during the execution of func.\n",
    "        float: The elapsed time during the execution of func.\n",
    "        any: The result of func execution.\n",
    "    \"\"\"\n",
    "    \n",
    "    # Measure CPU utilization before execution\n",
    "    cpu_percent_before = psutil.cpu_percent(interval=None)\n",
    "\n",
    "    # Record the start time\n",
    "    start_time = time.time()\n",
    "\n",
    "    # Execute the function and store its result\n",
    "    result = func(*args, **kwargs)\n",
    "\n",
    "    # Record the end time\n",
    "    end_time = time.time()\n",
    "\n",
    "    # Measure CPU utilization after execution\n",
    "    cpu_percent_after = psutil.cpu_percent(interval=None)\n",
    "\n",
    "    # Calculate elapsed time and average CPU utilization\n",
    "    elapsed_time = end_time - start_time\n",
    "    average_cpu_utilization = (cpu_percent_before + cpu_percent_after) / 2\n",
    "\n",
    "    return average_cpu_utilization, elapsed_time, result\n"
   ]
  },
  {
   "cell_type": "code",
   "execution_count": 15,
   "metadata": {},
   "outputs": [],
   "source": [
    "import torch\n",
    "from sklearn.metrics import accuracy_score\n",
    "import numpy as np\n",
    "import time\n",
    "import psutil\n",
    "from pathlib import Path\n",
    "\n",
    "def compute_metrics_base(model, x_test, y_test, model_path):\n",
    "    \"\"\"\n",
    "    Compute the accuracy of the PyTorch model.\n",
    "\n",
    "    :param model: PyTorch model.\n",
    "    :param x_test: Test dataset features (as a PyTorch Tensor).\n",
    "    :param y_test: Test dataset labels (as a NumPy array).\n",
    "    :param model_dir: Directory where the PyTorch model files are stored.\n",
    "    :return: None\n",
    "    \"\"\"\n",
    "\n",
    "    model.eval()\n",
    "    with torch.no_grad():\n",
    "        # Get the model's predictions\n",
    "        outputs = model(x_test)\n",
    "        _, predicted_labels = torch.max(outputs, 1)\n",
    "\n",
    "        # Convert y_test to tensor if it's not already\n",
    "        true_labels = torch.tensor(y_test) if not isinstance(y_test, torch.Tensor) else y_test\n",
    "        true_labels = true_labels.squeeze()  # Remove unnecessary dimensions\n",
    "\n",
    "    model_file = Path(model_path)\n",
    "\n",
    "    # Size in bytes\n",
    "    model_size_bytes = model_file.stat().st_size\n",
    "\n",
    "    # Convert size to kilobytes (optional)\n",
    "    model_size_kb = model_size_bytes / 1024\n",
    "    print(f\"Size of the model: {model_size_kb:.2f} KB\")\n",
    "\n",
    "    # Compute accuracy\n",
    "    accuracy = accuracy_score(true_labels.numpy(), predicted_labels.numpy())\n",
    "    print(f'Accuracy on the test set: {accuracy:.2%}')\n"
   ]
  },
  {
   "cell_type": "code",
   "execution_count": 14,
   "metadata": {},
   "outputs": [
    {
     "name": "stdout",
     "output_type": "stream",
     "text": [
      "Size of the model: 77.08 KB\n",
      "Accuracy on the test set: 95.21%\n",
      "CPU usage during inference: 41.15%\n",
      "Inference time: 0.4529 seconds\n"
     ]
    }
   ],
   "source": [
    "# Measure CPU usage and inference time\n",
    "cpu_usage, inference_time, _ = measure_cpu_utilization_and_run(compute_metrics_base, model, x_test_tensor, y_test_tensor, model_path)\n",
    "\n",
    "print(f'CPU usage during inference: {cpu_usage:.2f}%')\n",
    "print(f'Inference time: {inference_time:.4f} seconds')\n"
   ]
  },
  {
   "cell_type": "code",
   "execution_count": 24,
   "metadata": {},
   "outputs": [],
   "source": [
    "def model_size_in_memory(model):\n",
    "    param_size = 0\n",
    "    for param in model.parameters():\n",
    "        param_size += param.numel() * param.element_size()\n",
    "    return param_size\n"
   ]
  },
  {
   "cell_type": "code",
   "execution_count": 25,
   "metadata": {},
   "outputs": [
    {
     "name": "stdout",
     "output_type": "stream",
     "text": [
      "Model size in memory: 0.05 MB\n"
     ]
    }
   ],
   "source": [
    "size_in_bytes = model_size_in_memory(model)\n",
    "size_in_megabytes = size_in_bytes / (1024 * 1024)\n",
    "print(f\"Model size in memory: {size_in_megabytes:.2f} MB\")\n"
   ]
  },
  {
   "cell_type": "code",
   "execution_count": 18,
   "metadata": {},
   "outputs": [],
   "source": [
    "torch.backends.quantized.engine = 'qnnpack'\n",
    "\n",
    "quantized_model = torch.quantization.quantize_dynamic(\n",
    "    model,  # the original model\n",
    "    {nn.Linear},  # a set of layers to dynamically quantize\n",
    "    dtype=torch.qint8)  # the target dtype for quantized weights\n"
   ]
  },
  {
   "cell_type": "code",
   "execution_count": 19,
   "metadata": {},
   "outputs": [],
   "source": [
    "quantized_model_path = \"/Users/sandeep/Desktop/BUCourses/Project/saved_models/Pytorch/gru_Quantized.pth\"\n",
    "torch.save(quantized_model.state_dict(), quantized_model_path)\n"
   ]
  },
  {
   "cell_type": "code",
   "execution_count": 20,
   "metadata": {},
   "outputs": [
    {
     "name": "stdout",
     "output_type": "stream",
     "text": [
      "Size of the model: 59.08 KB\n",
      "Accuracy on the test set: 94.97%\n",
      "CPU usage during inference: 39.65%\n",
      "Inference time: 0.3715 seconds\n"
     ]
    },
    {
     "name": "stderr",
     "output_type": "stream",
     "text": [
      "[W qlinear_dynamic.cpp:247] Warning: Currently, qnnpack incorrectly ignores reduce_range when it is set to true; this may change in a future release. (function operator())\n"
     ]
    }
   ],
   "source": [
    "# Measure CPU usage and inference time\n",
    "cpu_usage, inference_time, _ = measure_cpu_utilization_and_run(compute_metrics_base, quantized_model, x_test_tensor, y_test_tensor, quantized_model_path)\n",
    "\n",
    "print(f'CPU usage during inference: {cpu_usage:.2f}%')\n",
    "print(f'Inference time: {inference_time:.4f} seconds')\n"
   ]
  },
  {
   "cell_type": "code",
   "execution_count": 27,
   "metadata": {},
   "outputs": [
    {
     "name": "stdout",
     "output_type": "stream",
     "text": [
      "Model size in memory: 0.05 MB\n"
     ]
    }
   ],
   "source": [
    "size_in_bytes = model_size_in_memory(quantized_model)\n",
    "size_in_megabytes = size_in_bytes / (1024 * 1024)\n",
    "print(f\"Model size in memory: {size_in_megabytes:.2f} MB\")\n"
   ]
  },
  {
   "cell_type": "code",
   "execution_count": 21,
   "metadata": {},
   "outputs": [],
   "source": [
    "def print_sample_predictions(model, x_test, y_test, num_samples=5):\n",
    "    model.eval()  # Set the model to evaluation mode\n",
    "    with torch.no_grad():\n",
    "        # Predict on the test set\n",
    "        outputs = model(x_test)\n",
    "        _, predicted = torch.max(outputs, 1)\n",
    "\n",
    "        print(\"Sample predictions:\\n\")\n",
    "        for i in range(num_samples):\n",
    "            print(f\"x_test[{i}]: {x_test[i]}\")\n",
    "            print(f\"Actual label (y_test[{i}]): {y_test[i]}\")\n",
    "            print(f\"Predicted label: {predicted[i]}\")\n",
    "            print(\"\\n\")\n"
   ]
  },
  {
   "cell_type": "code",
   "execution_count": 22,
   "metadata": {},
   "outputs": [
    {
     "name": "stdout",
     "output_type": "stream",
     "text": [
      "Sample predictions:\n",
      "\n",
      "x_test[0]: tensor([[-19.5700,  13.0600,  -1.3100],\n",
      "        [-19.5700,  -4.2900,  -3.9100],\n",
      "        [ -6.5900,  -5.7500,   6.5100],\n",
      "        [ -0.4600,  -9.5300,   6.0900],\n",
      "        [  8.3900,  -7.5000,   9.3400],\n",
      "        [ -5.2400,   6.5100, -10.9900],\n",
      "        [ -7.5000,   4.6000,   1.8000],\n",
      "        [-13.5900,   4.3700,  -7.4600],\n",
      "        [-19.5700,   4.4800,   6.6600],\n",
      "        [-19.1500,  -3.8300,  -4.1800],\n",
      "        [-17.8800,   0.1900,  -4.1800],\n",
      "        [ -5.0900,   9.5800,  15.3200],\n",
      "        [ -5.7500,   6.9700,  -2.1800],\n",
      "        [  7.0400,  11.6500,   5.6700],\n",
      "        [ -2.1800,   1.9200,  -1.5700],\n",
      "        [-16.4000,   5.7100,   1.5000]])\n",
      "Actual label (y_test[0]): 1\n",
      "Predicted label: 1\n",
      "\n",
      "\n",
      "x_test[1]: tensor([[ 4.8200, 11.2600,  2.7200],\n",
      "        [ 5.9400, 12.0300,  0.5000],\n",
      "        [ 5.4300, 13.5300, -3.3400],\n",
      "        [-0.1100, 12.5700, -5.3300],\n",
      "        [-2.4500, 13.8700, -0.6900],\n",
      "        [ 2.1500, 10.4200,  1.0400],\n",
      "        [ 3.7600,  6.0500, -3.7200],\n",
      "        [ 2.8300,  3.2100, -0.3400],\n",
      "        [ 0.2700,  5.2200,  1.7300],\n",
      "        [ 2.1100,  8.2400,  3.3800],\n",
      "        [ 4.7100, 10.7300,  0.5700],\n",
      "        [ 3.1100, 13.9100,  1.2300],\n",
      "        [-1.7600, 19.1500,  0.5000],\n",
      "        [ 2.4100, 10.1200, -3.7600],\n",
      "        [ 2.4100, 10.1200, -3.7600],\n",
      "        [ 2.6800,  6.8200, -4.2100]])\n",
      "Actual label (y_test[1]): 5\n",
      "Predicted label: 5\n",
      "\n",
      "\n",
      "x_test[2]: tensor([[-4.1400, -3.4100,  7.3141],\n",
      "        [-4.1400, -3.4100,  7.3141],\n",
      "        [-8.2400, -0.6500,  5.4073],\n",
      "        [-9.7700, -2.2200,  6.1292],\n",
      "        [-8.4700, -2.9100,  4.9850],\n",
      "        [-7.2100, -5.0900,  5.9793],\n",
      "        [-8.0500, -4.4800,  6.3198],\n",
      "        [-8.0100, -3.9500,  6.5514],\n",
      "        [-8.2400, -4.9000,  6.0883],\n",
      "        [-8.2400, -4.9000,  6.0883],\n",
      "        [-8.1200, -4.2900,  5.7886],\n",
      "        [-8.2000, -4.5900,  6.7829],\n",
      "        [-8.2400, -4.1800,  8.2403],\n",
      "        [-6.7000, -3.5300,  2.7922],\n",
      "        [-5.7100, -2.7200,  3.4051],\n",
      "        [-5.7100, -2.7200,  3.4051]])\n",
      "Actual label (y_test[2]): 4\n",
      "Predicted label: 2\n",
      "\n",
      "\n",
      "x_test[3]: tensor([[-1.8800,  4.0600, -0.2724],\n",
      "        [-1.4600,  8.2400,  1.7298],\n",
      "        [-0.8000, 12.6000,  2.1520],\n",
      "        [ 1.6500,  8.7300,  0.1498],\n",
      "        [ 1.5400,  9.3400,  0.1498],\n",
      "        [ 2.7600,  9.8900, -2.7513],\n",
      "        [ 2.7200, 11.5000, -3.2144],\n",
      "        [ 7.5000,  9.8100, -8.0769],\n",
      "        [ 7.1200, 10.5700, -4.2087],\n",
      "        [-4.2500, 19.5700,  7.3550],\n",
      "        [-6.2800, 18.9200,  2.3427],\n",
      "        [-0.2300,  5.8600,  3.7592],\n",
      "        [-0.2300,  8.4300,  6.0883],\n",
      "        [-2.0700,  5.9400, -4.7944],\n",
      "        [-5.2400,  3.9900, -8.6625],\n",
      "        [-6.4300,  3.1700, -4.4811]])\n",
      "Actual label (y_test[3]): 5\n",
      "Predicted label: 5\n",
      "\n",
      "\n",
      "x_test[4]: tensor([[-1.8800,  2.3700, -0.2996],\n",
      "        [ 4.1400,  3.7600, -2.4108],\n",
      "        [ 6.5100,  4.7900, -3.4868],\n",
      "        [14.7500,  9.6200, -8.1586],\n",
      "        [ 1.2300, 13.0200,  3.7592],\n",
      "        [ 3.8300,  8.1200, -3.8682],\n",
      "        [ 3.1100, 10.6500, -3.1463],\n",
      "        [ 2.7600,  8.6600, -0.4222],\n",
      "        [ 2.1500, 10.2300,  0.4631],\n",
      "        [ 2.2600,  8.5000, -0.3814],\n",
      "        [ 2.4500,  8.5800, -0.5721],\n",
      "        [ 3.5700,  8.7700, -0.6946],\n",
      "        [ 3.0600,  7.8600, -0.0000],\n",
      "        [ 1.5400,  8.6600,  1.1441],\n",
      "        [ 2.4500,  9.4300, -0.7219],\n",
      "        [ 2.2200,  8.5400, -2.1384]])\n",
      "Actual label (y_test[4]): 4\n",
      "Predicted label: 0\n",
      "\n",
      "\n"
     ]
    }
   ],
   "source": [
    "# Assuming you're using the first num_samples of x_test and y_test\n",
    "num_samples = 5\n",
    "print_sample_predictions(model, x_test_tensor[:num_samples], y_test_tensor[:num_samples], num_samples=5)"
   ]
  },
  {
   "cell_type": "code",
   "execution_count": null,
   "metadata": {},
   "outputs": [],
   "source": []
  }
 ],
 "metadata": {
  "accelerator": "GPU",
  "colab": {
   "collapsed_sections": [
    "7sPHNxudGuMO"
   ],
   "provenance": []
  },
  "gpuClass": "standard",
  "kernelspec": {
   "display_name": "Python 3 (ipykernel)",
   "language": "python",
   "name": "python3"
  },
  "language_info": {
   "codemirror_mode": {
    "name": "ipython",
    "version": 3
   },
   "file_extension": ".py",
   "mimetype": "text/x-python",
   "name": "python",
   "nbconvert_exporter": "python",
   "pygments_lexer": "ipython3",
   "version": "3.11.3"
  }
 },
 "nbformat": 4,
 "nbformat_minor": 1
}
