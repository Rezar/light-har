{
 "cells": [
  {
   "cell_type": "code",
   "execution_count": 6,
   "id": "8fee4936",
   "metadata": {},
   "outputs": [],
   "source": [
    "import torch\n",
    "import torch.nn as nn\n",
    "import torch.nn.functional as F\n",
    "from torch.utils.data import DataLoader, TensorDataset\n",
    "from torch.optim import Adam\n",
    "from sklearn.model_selection import train_test_split\n",
    "import numpy as np\n",
    "import pandas as pd\n",
    "from numpy import genfromtxt\n",
    "from sklearn.preprocessing import LabelEncoder\n",
    "\n"
   ]
  },
  {
   "cell_type": "code",
   "execution_count": 7,
   "id": "15c2ac40",
   "metadata": {},
   "outputs": [],
   "source": [
    "# Load Data\n",
    "x = genfromtxt('../Data/WISDM_x.csv', delimiter=',')\n",
    "y_df = pd.read_csv('../Data/WISDM_y.csv')\n",
    "y = y_df.values.flatten()  # Flatten if y is 2D\n",
    "\n",
    "# Encode labels\n",
    "label_encoder = LabelEncoder()\n",
    "y_encoded = label_encoder.fit_transform(y)\n",
    "\n",
    "# Function to create time series dataset\n",
    "def create_series(x, y, timestep, overlap):\n",
    "    slide_step = int(timestep * (1 - overlap))\n",
    "    data_num = int((len(x) / slide_step) - 1)\n",
    "    dataset = np.ndarray(shape=(data_num, timestep, x.shape[1]))\n",
    "    labels = []\n",
    "\n",
    "    for i in range(data_num):\n",
    "        labels.append(y[slide_step * (i + 1) - 1])\n",
    "        for j in range(timestep):\n",
    "            dataset[i, j, :] = x[slide_step * i + j, :]\n",
    "\n",
    "    return dataset, np.array(labels)\n",
    "\n",
    "# Create time series\n",
    "timestep = 16  # Replace with your value\n",
    "overlap = 0.5  # Replace with your value\n",
    "X_series, y_series = create_series(x, y_encoded, timestep, overlap)"
   ]
  },
  {
   "cell_type": "code",
   "execution_count": 11,
   "id": "7842f098",
   "metadata": {},
   "outputs": [
    {
     "name": "stdout",
     "output_type": "stream",
     "text": [
      "X_train shape:(109820, 16, 3), X_test shape:(27455, 16, 3), y_train shape:(109820,), y_test shape:(27455,)\n"
     ]
    }
   ],
   "source": [
    "# Split into train and test sets\n",
    "X_train, X_test, y_train, y_test = train_test_split(X_series, y_series, test_size=0.2, random_state=42)\n",
    "print(f'X_train shape:{X_train.shape}, X_test shape:{X_test.shape}, y_train shape:{y_train.shape}, y_test shape:{y_test.shape}')"
   ]
  },
  {
   "cell_type": "code",
   "execution_count": 10,
   "id": "6f4e9ec9",
   "metadata": {},
   "outputs": [],
   "source": [
    "class MyModel(nn.Module):\n",
    "    def __init__(self, n_input, n_steps):\n",
    "        super(MyModel, self).__init__()\n",
    "        self.conv1 = nn.Conv1d(in_channels=n_input, out_channels=256, kernel_size=3)\n",
    "        self.conv2 = nn.Conv1d(in_channels=256, out_channels=128, kernel_size=3)\n",
    "        self.conv3 = nn.Conv1d(in_channels=128, out_channels=64, kernel_size=3)\n",
    "        self.conv4 = nn.Conv1d(in_channels=64, out_channels=32, kernel_size=3)\n",
    "        self.flatten = nn.Flatten()\n",
    "        self.fc = nn.Linear(32 * 8, 6)  # Adjusted for the output from the last Conv1d layer\n",
    "        self.dropout = nn.Dropout(0.2)\n",
    "        self.softmax = nn.Softmax(dim=1)\n",
    "\n",
    "    def forward(self, x):\n",
    "        x = self.dropout(torch.relu(self.conv1(x)))\n",
    "        x = self.dropout(torch.relu(self.conv2(x)))\n",
    "        x = self.dropout(torch.relu(self.conv3(x)))\n",
    "        x = self.dropout(torch.relu(self.conv4(x)))\n",
    "        x = self.flatten(x)\n",
    "        x = self.fc(x)\n",
    "        return self.softmax(x)\n",
    "\n",
    "# Example instantiation of the model\n",
    "model = MyModel(n_input=3, n_steps=16)\n"
   ]
  },
  {
   "cell_type": "code",
   "execution_count": 12,
   "id": "a929011a",
   "metadata": {},
   "outputs": [],
   "source": [
    "\n",
    "# Convert arrays to PyTorch Tensors\n",
    "X_train = torch.tensor(X_train, dtype=torch.float32)\n",
    "y_train = torch.tensor(y_train, dtype=torch.long)  # Assuming y_train is class labels for classification\n",
    "X_test = torch.tensor(X_test, dtype=torch.float32)\n",
    "y_test = torch.tensor(y_test, dtype=torch.long)\n",
    "\n",
    "# Creating TensorDatasets\n",
    "train_dataset = TensorDataset(X_train, y_train)\n",
    "test_dataset = TensorDataset(X_test, y_test)\n",
    "\n",
    "# Creating DataLoaders\n",
    "batch_size = 64\n",
    "train_loader = DataLoader(dataset=train_dataset, batch_size=batch_size, shuffle=True)\n",
    "test_loader = DataLoader(dataset=test_dataset, batch_size=batch_size, shuffle=False)\n"
   ]
  },
  {
   "cell_type": "code",
   "execution_count": 15,
   "id": "d3cc6c89",
   "metadata": {},
   "outputs": [
    {
     "name": "stdout",
     "output_type": "stream",
     "text": [
      "Epoch: 1/20 \tTraining Loss: 1.2956 \tValidation Loss: 1.2914 \tValidation Accuracy: 75.18%\n",
      "Epoch: 2/20 \tTraining Loss: 1.3012 \tValidation Loss: 1.2932 \tValidation Accuracy: 75.02%\n",
      "Epoch: 3/20 \tTraining Loss: 1.2983 \tValidation Loss: 1.2874 \tValidation Accuracy: 75.61%\n",
      "Epoch: 4/20 \tTraining Loss: 1.3037 \tValidation Loss: 1.3023 \tValidation Accuracy: 74.12%\n",
      "Epoch: 5/20 \tTraining Loss: 1.3084 \tValidation Loss: 1.2967 \tValidation Accuracy: 74.69%\n",
      "Epoch: 6/20 \tTraining Loss: 1.3030 \tValidation Loss: 1.3070 \tValidation Accuracy: 73.65%\n",
      "Epoch: 7/20 \tTraining Loss: 1.3092 \tValidation Loss: 1.2960 \tValidation Accuracy: 74.76%\n",
      "Epoch: 8/20 \tTraining Loss: 1.3044 \tValidation Loss: 1.3109 \tValidation Accuracy: 73.27%\n",
      "Epoch: 9/20 \tTraining Loss: 1.3017 \tValidation Loss: 1.3039 \tValidation Accuracy: 73.97%\n",
      "Epoch: 10/20 \tTraining Loss: 1.3105 \tValidation Loss: 1.3079 \tValidation Accuracy: 73.57%\n",
      "Epoch: 11/20 \tTraining Loss: 1.3112 \tValidation Loss: 1.2980 \tValidation Accuracy: 74.56%\n",
      "Epoch: 12/20 \tTraining Loss: 1.3037 \tValidation Loss: 1.3047 \tValidation Accuracy: 73.89%\n",
      "Epoch: 13/20 \tTraining Loss: 1.3250 \tValidation Loss: 1.3312 \tValidation Accuracy: 71.23%\n",
      "Epoch: 14/20 \tTraining Loss: 1.3213 \tValidation Loss: 1.3212 \tValidation Accuracy: 72.24%\n",
      "Epoch: 15/20 \tTraining Loss: 1.3681 \tValidation Loss: 1.3196 \tValidation Accuracy: 72.40%\n",
      "Epoch: 16/20 \tTraining Loss: 1.3312 \tValidation Loss: 1.3364 \tValidation Accuracy: 70.72%\n",
      "Epoch: 17/20 \tTraining Loss: 1.3372 \tValidation Loss: 1.3896 \tValidation Accuracy: 65.40%\n",
      "Epoch: 18/20 \tTraining Loss: 1.3359 \tValidation Loss: 1.3236 \tValidation Accuracy: 72.00%\n",
      "Epoch: 19/20 \tTraining Loss: 1.3254 \tValidation Loss: 1.3663 \tValidation Accuracy: 67.73%\n",
      "Epoch: 20/20 \tTraining Loss: 1.3429 \tValidation Loss: 1.3202 \tValidation Accuracy: 72.34%\n",
      "Training complete\n"
     ]
    }
   ],
   "source": [
    "import torch.optim as optim\n",
    "\n",
    "# Setting up the device (GPU/CPU)\n",
    "device = torch.device(\"cuda\" if torch.cuda.is_available() else \"cpu\")\n",
    "model.to(device)\n",
    "\n",
    "# Loss function and optimizer\n",
    "criterion = nn.CrossEntropyLoss()\n",
    "optimizer = optim.Adam(model.parameters(), lr=0.001)\n",
    "\n",
    "# Training loop\n",
    "epochs = 20\n",
    "for epoch in range(epochs):\n",
    "    model.train()  # Set the model to training mode\n",
    "    train_loss = 0.0\n",
    "\n",
    "    for inputs, labels in train_loader:\n",
    "        inputs, labels = inputs.to(device), labels.to(device)\n",
    "        inputs = inputs.view(-1, 3, 16)  # Reshape input to match model expectations\n",
    "\n",
    "        # Zero the parameter gradients\n",
    "        optimizer.zero_grad()\n",
    "\n",
    "        # Forward pass\n",
    "        outputs = model(inputs)\n",
    "        loss = criterion(outputs, labels)\n",
    "\n",
    "        # Backward pass and optimize\n",
    "        loss.backward()\n",
    "        optimizer.step()\n",
    "\n",
    "        train_loss += loss.item() * inputs.size(0)\n",
    "\n",
    "    # Validation phase\n",
    "    model.eval()  # Set the model to evaluation mode\n",
    "    val_loss = 0.0\n",
    "    correct = 0\n",
    "    total = 0\n",
    "\n",
    "    with torch.no_grad():\n",
    "        for inputs, labels in test_loader:\n",
    "            inputs, labels = inputs.to(device), labels.to(device)\n",
    "            inputs = inputs.view(-1, 3, 16)\n",
    "\n",
    "            outputs = model(inputs)\n",
    "            loss = criterion(outputs, labels)\n",
    "            val_loss += loss.item() * inputs.size(0)\n",
    "\n",
    "            _, predicted = torch.max(outputs.data, 1)\n",
    "            total += labels.size(0)\n",
    "            correct += (predicted == labels).sum().item()\n",
    "\n",
    "    # Calculate average losses and accuracy\n",
    "    train_loss = train_loss / len(train_loader.dataset)\n",
    "    val_loss = val_loss / len(test_loader.dataset)\n",
    "    val_accuracy = 100 * correct / total\n",
    "\n",
    "    # Print training/validation statistics\n",
    "    print(f'Epoch: {epoch+1}/{epochs} \\tTraining Loss: {train_loss:.4f} \\tValidation Loss: {val_loss:.4f} \\tValidation Accuracy: {val_accuracy:.2f}%')\n",
    "\n",
    "print('Training complete')\n"
   ]
  },
  {
   "cell_type": "code",
   "execution_count": 17,
   "id": "e7634a5c",
   "metadata": {},
   "outputs": [
    {
     "name": "stdout",
     "output_type": "stream",
     "text": [
      "Test Loss: 1.3202 \tTest Accuracy: 72.34%\n"
     ]
    }
   ],
   "source": [
    "# Test phase - after training is complete\n",
    "model.eval()  # Set the model to evaluation mode\n",
    "test_loss = 0.0\n",
    "correct = 0\n",
    "total = 0\n",
    "\n",
    "with torch.no_grad():\n",
    "    for inputs, labels in test_loader:\n",
    "        inputs, labels = inputs.to(device), labels.to(device)\n",
    "        inputs = inputs.view(-1, 3, 16)\n",
    "\n",
    "        outputs = model(inputs)\n",
    "        loss = criterion(outputs, labels)\n",
    "        test_loss += loss.item() * inputs.size(0)\n",
    "\n",
    "        _, predicted = torch.max(outputs.data, 1)\n",
    "        total += labels.size(0)\n",
    "        correct += (predicted == labels).sum().item()\n",
    "\n",
    "# Calculate average loss and accuracy\n",
    "test_loss = test_loss / len(test_loader.dataset)\n",
    "test_accuracy = 100 * correct / total\n",
    "\n",
    "# Print test statistics\n",
    "print(f'Test Loss: {test_loss:.4f} \\tTest Accuracy: {test_accuracy:.2f}%')\n"
   ]
  },
  {
   "cell_type": "code",
   "execution_count": 21,
   "id": "e15fa929",
   "metadata": {},
   "outputs": [],
   "source": [
    "model_path = \"/Users/sandeep/Desktop/BUCourses/Project/saved_models/Pytorch/CNN_base.pth\"\n",
    "torch.save(model.state_dict(), model_path)\n"
   ]
  },
  {
   "cell_type": "code",
   "execution_count": 27,
   "id": "8fb1ecff",
   "metadata": {},
   "outputs": [],
   "source": [
    "def compute_metrics_base(model, test_loader, model_path):\n",
    "    \"\"\"\n",
    "    Compute the accuracy of the PyTorch model.\n",
    "\n",
    "    :param model: PyTorch model.\n",
    "    :param test_loader: DataLoader for the test dataset.\n",
    "    :param model_path: Path to the PyTorch model file.\n",
    "    :return: None\n",
    "    \"\"\"\n",
    "\n",
    "    model.eval()\n",
    "    correct = 0\n",
    "    total = 0\n",
    "    all_predicted = []\n",
    "    all_labels = []\n",
    "\n",
    "    with torch.no_grad():\n",
    "        for inputs, labels in test_loader:\n",
    "            # Reshaping and predictions\n",
    "            inputs = inputs.view(-1, 3, 16)  # Adjust the reshape as per your model input\n",
    "            outputs = model(inputs)\n",
    "            _, predicted_labels = torch.max(outputs, 1)\n",
    "\n",
    "            # Aggregate labels and predictions\n",
    "            all_predicted.extend(predicted_labels.cpu().numpy())\n",
    "            all_labels.extend(labels.cpu().numpy())\n",
    "\n",
    "            # Calculating accuracy\n",
    "            correct += (predicted_labels == labels).sum().item()\n",
    "            total += labels.size(0)\n",
    "\n",
    "    # Compute accuracy\n",
    "    accuracy = correct / total\n",
    "    print(f'Accuracy on the test set: {accuracy:.2%}')\n",
    "\n",
    "    # Model size\n",
    "    model_size_bytes = Path(model_path).stat().st_size\n",
    "    model_size_kb = model_size_bytes / 1024\n",
    "    print(f\"Size of the model: {model_size_kb:.2f} KB\")\n"
   ]
  },
  {
   "cell_type": "code",
   "execution_count": 24,
   "id": "1e2c5ea0",
   "metadata": {},
   "outputs": [],
   "source": [
    "def measure_cpu_utilization_and_run(func, *args, **kwargs):\n",
    "    \"\"\"\n",
    "    Measure CPU utilization while running a function.\n",
    "\n",
    "    Parameters:\n",
    "        func (function): The function to be executed.\n",
    "        *args: Arguments to be passed to func.\n",
    "        **kwargs: Keyword arguments to be passed to func.\n",
    "\n",
    "    Returns:\n",
    "        float: CPU utilization percentage during the execution of func.\n",
    "        float: The elapsed time during the execution of func.\n",
    "        any: The result of func execution.\n",
    "    \"\"\"\n",
    "    \n",
    "    # Measure CPU utilization before execution\n",
    "    cpu_percent_before = psutil.cpu_percent(interval=None)\n",
    "\n",
    "    # Record the start time\n",
    "    start_time = time.time()\n",
    "\n",
    "    # Execute the function and store its result\n",
    "    result = func(*args, **kwargs)\n",
    "\n",
    "    # Record the end time\n",
    "    end_time = time.time()\n",
    "\n",
    "    # Measure CPU utilization after execution\n",
    "    cpu_percent_after = psutil.cpu_percent(interval=None)\n",
    "\n",
    "    # Calculate elapsed time and average CPU utilization\n",
    "    elapsed_time = end_time - start_time\n",
    "    average_cpu_utilization = (cpu_percent_before + cpu_percent_after) / 2\n",
    "\n",
    "    return average_cpu_utilization, elapsed_time, result\n",
    "\n"
   ]
  },
  {
   "cell_type": "code",
   "execution_count": 28,
   "id": "7c5d5b39",
   "metadata": {},
   "outputs": [
    {
     "name": "stdout",
     "output_type": "stream",
     "text": [
      "Accuracy on the test set: 72.34%\n",
      "Size of the model: 524.57 KB\n",
      "CPU usage during inference: 40.60%\n",
      "Inference time: 4.8561 seconds\n"
     ]
    }
   ],
   "source": [
    "# Measure CPU usage and inference time\n",
    "cpu_usage, inference_time, _ = measure_cpu_utilization_and_run(compute_metrics_base, model, test_loader, model_path)\n",
    "\n",
    "print(f'CPU usage during inference: {cpu_usage:.2f}%')\n",
    "print(f'Inference time: {inference_time:.4f} seconds')\n"
   ]
  },
  {
   "cell_type": "code",
   "execution_count": 31,
   "id": "4d855913",
   "metadata": {},
   "outputs": [],
   "source": [
    "import torch.quantization\n",
    "torch.backends.quantized.engine = 'qnnpack'\n"
   ]
  },
  {
   "cell_type": "code",
   "execution_count": 32,
   "id": "3e3010fb",
   "metadata": {},
   "outputs": [],
   "source": [
    "\n",
    "quantized_model = torch.quantization.quantize_dynamic(\n",
    "    model,  # the original model\n",
    "    {nn.Linear, nn.Conv1d},  # specify which layer types to quantize\n",
    "    dtype=torch.qint8  # the target data type for quantized weights\n",
    ")\n"
   ]
  },
  {
   "cell_type": "code",
   "execution_count": 35,
   "id": "d1c06710",
   "metadata": {},
   "outputs": [
    {
     "name": "stderr",
     "output_type": "stream",
     "text": [
      "[W qlinear_dynamic.cpp:247] Warning: Currently, qnnpack incorrectly ignores reduce_range when it is set to true; this may change in a future release. (function operator())\n"
     ]
    },
    {
     "name": "stdout",
     "output_type": "stream",
     "text": [
      "Accuracy of the quantized model on the test dataset: 72.33%\n"
     ]
    }
   ],
   "source": [
    "# Save the quantized model\n",
    "torch.save(quantized_model.state_dict(), '/Users/sandeep/Desktop/BUCourses/Project/saved_models/Pytorch/CNN_Quantized.pth')\n",
    "\n",
    "# Use it for inference\n",
    "quantized_model.eval()\n",
    "with torch.no_grad():\n",
    "    for inputs, labels in test_loader:\n",
    "        inputs = inputs.view(-1, 3, 16)  # Reshape if needed, based on your model's requirement\n",
    "        outputs = quantized_model(inputs)\n",
    "        _, predicted = torch.max(outputs.data, 1)\n",
    "        total += labels.size(0)\n",
    "        correct += (predicted == labels).sum().item()\n",
    "\n",
    "accuracy = 100 * correct / total\n",
    "print(f'Accuracy of the quantized model on the test dataset: {accuracy:.2f}%')\n"
   ]
  },
  {
   "cell_type": "code",
   "execution_count": 37,
   "id": "c4d7d9bb",
   "metadata": {},
   "outputs": [
    {
     "name": "stdout",
     "output_type": "stream",
     "text": [
      "Accuracy on the test set: 72.33%\n",
      "Size of the model: 520.83 KB\n",
      "CPU usage during inference: 42.65%\n",
      "Inference time: 5.0864 seconds\n"
     ]
    }
   ],
   "source": [
    "# Measure CPU usage and inference time\n",
    "quantized_model_path = '/Users/sandeep/Desktop/BUCourses/Project/saved_models/Pytorch/CNN_Quantized.pth'\n",
    "cpu_usage, inference_time, _ = measure_cpu_utilization_and_run(compute_metrics_base, quantized_model, test_loader, quantized_model_path)\n",
    "\n",
    "print(f'CPU usage during inference: {cpu_usage:.2f}%')\n",
    "print(f'Inference time: {inference_time:.4f} seconds')\n"
   ]
  },
  {
   "cell_type": "code",
   "execution_count": null,
   "id": "7fa6c041",
   "metadata": {},
   "outputs": [],
   "source": []
  }
 ],
 "metadata": {
  "kernelspec": {
   "display_name": "Python 3 (ipykernel)",
   "language": "python",
   "name": "python3"
  },
  "language_info": {
   "codemirror_mode": {
    "name": "ipython",
    "version": 3
   },
   "file_extension": ".py",
   "mimetype": "text/x-python",
   "name": "python",
   "nbconvert_exporter": "python",
   "pygments_lexer": "ipython3",
   "version": "3.11.3"
  }
 },
 "nbformat": 4,
 "nbformat_minor": 5
}
