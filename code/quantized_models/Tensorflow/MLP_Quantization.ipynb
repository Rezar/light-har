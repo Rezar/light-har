{
 "cells": [
  {
   "cell_type": "code",
   "execution_count": 1,
   "id": "91e4447f",
   "metadata": {},
   "outputs": [],
   "source": [
    "import numpy as np\n",
    "import matplotlib\n",
    "import matplotlib.pyplot as plt\n",
    "import tensorflow as tf  # Version 1.0.0 (some previous versions are used in past commits)\n",
    "from sklearn import metrics\n",
    "\n",
    "import os"
   ]
  },
  {
   "cell_type": "code",
   "execution_count": 2,
   "id": "26c308b2",
   "metadata": {},
   "outputs": [],
   "source": [
    "# Useful Constants\n",
    "\n",
    "# Those are separate normalised input features for the neural network\n",
    "INPUT_SIGNAL_TYPES = [\n",
    "    \"x_accel\",\n",
    "    \"y_accel\",\n",
    "    \"z_accel\",\n",
    "]\n",
    "\n",
    "# Output classes to learn how to classify\n",
    "LABELS = [\n",
    "    \"Walking\", \n",
    "    \"Jogging\", \n",
    "    \"Uptairs\", \n",
    "    \"Downstairs\", \n",
    "    \"Sitting\", \n",
    "    \"Standing\"\n",
    "] "
   ]
  },
  {
   "cell_type": "code",
   "execution_count": 3,
   "id": "b8bbb39e",
   "metadata": {},
   "outputs": [
    {
     "name": "stdout",
     "output_type": "stream",
     "text": [
      "(1098209, 3) (1098208, 1)\n"
     ]
    }
   ],
   "source": [
    "from numpy import genfromtxt\n",
    "import numpy as np\n",
    "import pandas as pd\n",
    "x = genfromtxt('../Data/WISDM_x.csv', delimiter=',')\n",
    "y = pd.read_csv('../Data/WISDM_y.csv')\n",
    "\n",
    "print(x.shape, y.shape)"
   ]
  },
  {
   "cell_type": "code",
   "execution_count": 4,
   "id": "5cf3ae39",
   "metadata": {},
   "outputs": [],
   "source": [
    "def create_series(x,y,timestep,overlap):\n",
    "\n",
    "    slide_step = int(timestep*(1-overlap))\n",
    "    data_num = int((len(x)/slide_step)-1)\n",
    "  \n",
    "    dataset = np.ndarray(shape=(data_num,timestep,len(x[0])))\n",
    "    labels = list()\n",
    "\n",
    "    for i in range(data_num):\n",
    "        labels.append(y[slide_step*(i+1)-1])\n",
    "        for j in range(timestep):\n",
    "            dataset[i,j,:] = x[slide_step*i+j,:]\n",
    "\n",
    "    return dataset,np.array(labels)\n"
   ]
  },
  {
   "cell_type": "code",
   "execution_count": 5,
   "id": "4b1b4f34",
   "metadata": {},
   "outputs": [
    {
     "name": "stderr",
     "output_type": "stream",
     "text": [
      "/Users/sandeep/anaconda3/lib/python3.11/site-packages/sklearn/preprocessing/_label.py:116: DataConversionWarning: A column-vector y was passed when a 1d array was expected. Please change the shape of y to (n_samples, ), for example using ravel().\n",
      "  y = column_or_1d(y, warn=True)\n"
     ]
    }
   ],
   "source": [
    "from sklearn.preprocessing import LabelEncoder,OneHotEncoder\n",
    "le = LabelEncoder()\n",
    "y = le.fit_transform(y).reshape(-1,1)\n",
    "\n",
    "\n",
    "ohe = OneHotEncoder()\n",
    "y = ohe.fit_transform(y).toarray()\n"
   ]
  },
  {
   "cell_type": "code",
   "execution_count": 6,
   "id": "32c36ee2",
   "metadata": {},
   "outputs": [],
   "source": [
    "dataset,labels = create_series(x,y,16,0.5)\n",
    "\n",
    "from sklearn.model_selection import train_test_split\n",
    "X_train, X_test, y_train, y_test = train_test_split(dataset,labels,test_size=0.3, random_state=412)\n",
    "# X_test, X_val, y_test, y_val = train_test_split(X_toSplit,y_toSplit,test_size=0.25, random_state=412)"
   ]
  },
  {
   "cell_type": "code",
   "execution_count": 7,
   "id": "688db20a",
   "metadata": {},
   "outputs": [
    {
     "name": "stdout",
     "output_type": "stream",
     "text": [
      "Some useful info to get an insight on dataset's shape and normalisation:\n",
      "(X shape, y shape, every X's mean, every X's standard deviation)\n",
      "(41183, 16, 3) (41183, 6) 2.769982662671871 6.952643412201609\n",
      "The dataset is therefore properly normalised, as expected, but not yet one-hot encoded.\n"
     ]
    }
   ],
   "source": [
    "# Input Data \n",
    "\n",
    "training_data_count = len(X_train)  # 96092 training series (with 50% overlap between each serie)\n",
    "test_data_count = len(X_test)  # 41183 testing series\n",
    "n_steps = len(X_train[0])  # 16 timesteps per series\n",
    "n_input = len(X_train[0][0])  # 3 input parameters per timestep\n",
    "\n",
    "\n",
    "# LSTM Neural Network's internal structure\n",
    "# n_hidden = 32 # Hidden layer num of features\n",
    "n_classes = 6 # Total classes (should go up, or should go down)\n",
    "\n",
    "\n",
    "# Training \n",
    "\n",
    "learning_rate = 0.0025\n",
    "lambda_loss_amount = 0.0015\n",
    "training_iters = training_data_count * 300  # Loop 300 times on the dataset\n",
    "batch_size = 64\n",
    "display_iter = 30000  # To show test set accuracy during training\n",
    "\n",
    "\n",
    "# Some debugging info\n",
    "\n",
    "print(\"Some useful info to get an insight on dataset's shape and normalisation:\")\n",
    "print(\"(X shape, y shape, every X's mean, every X's standard deviation)\")\n",
    "print(X_test.shape, y_test.shape, np.mean(X_test), np.std(X_test))\n",
    "print(\"The dataset is therefore properly normalised, as expected, but not yet one-hot encoded.\")"
   ]
  },
  {
   "cell_type": "code",
   "execution_count": 8,
   "id": "1a1095b7",
   "metadata": {},
   "outputs": [
    {
     "name": "stdout",
     "output_type": "stream",
     "text": [
      "Model: \"sequential\"\n",
      "_________________________________________________________________\n",
      " Layer (type)                Output Shape              Param #   \n",
      "=================================================================\n",
      " flatten (Flatten)           (None, 48)                0         \n",
      "                                                                 \n",
      " dense (Dense)               (None, 256)               12544     \n",
      "                                                                 \n",
      " dropout (Dropout)           (None, 256)               0         \n",
      "                                                                 \n",
      " dense_1 (Dense)             (None, 128)               32896     \n",
      "                                                                 \n",
      " dropout_1 (Dropout)         (None, 128)               0         \n",
      "                                                                 \n",
      " dense_2 (Dense)             (None, 64)                8256      \n",
      "                                                                 \n",
      " dropout_2 (Dropout)         (None, 64)                0         \n",
      "                                                                 \n",
      " dense_3 (Dense)             (None, 32)                2080      \n",
      "                                                                 \n",
      " dropout_3 (Dropout)         (None, 32)                0         \n",
      "                                                                 \n",
      " dense_4 (Dense)             (None, 6)                 198       \n",
      "                                                                 \n",
      "=================================================================\n",
      "Total params: 55974 (218.65 KB)\n",
      "Trainable params: 55974 (218.65 KB)\n",
      "Non-trainable params: 0 (0.00 Byte)\n",
      "_________________________________________________________________\n",
      "Epoch 1/10\n",
      "1352/1352 [==============================] - 1s 884us/step - loss: 0.7506 - accuracy: 0.7376 - val_loss: 0.4874 - val_accuracy: 0.8198\n",
      "Epoch 2/10\n",
      "1352/1352 [==============================] - 1s 839us/step - loss: 0.5172 - accuracy: 0.8147 - val_loss: 0.4238 - val_accuracy: 0.8400\n",
      "Epoch 3/10\n",
      "1352/1352 [==============================] - 1s 835us/step - loss: 0.4625 - accuracy: 0.8321 - val_loss: 0.3822 - val_accuracy: 0.8571\n",
      "Epoch 4/10\n",
      "1352/1352 [==============================] - 1s 814us/step - loss: 0.4242 - accuracy: 0.8451 - val_loss: 0.3618 - val_accuracy: 0.8644\n",
      "Epoch 5/10\n",
      "1352/1352 [==============================] - 1s 811us/step - loss: 0.4013 - accuracy: 0.8550 - val_loss: 0.3351 - val_accuracy: 0.8786\n",
      "Epoch 6/10\n",
      "1352/1352 [==============================] - 1s 828us/step - loss: 0.3799 - accuracy: 0.8649 - val_loss: 0.3166 - val_accuracy: 0.8867\n",
      "Epoch 7/10\n",
      "1352/1352 [==============================] - 1s 844us/step - loss: 0.3577 - accuracy: 0.8735 - val_loss: 0.3092 - val_accuracy: 0.8891\n",
      "Epoch 8/10\n",
      "1352/1352 [==============================] - 1s 831us/step - loss: 0.3446 - accuracy: 0.8795 - val_loss: 0.2987 - val_accuracy: 0.8948\n",
      "Epoch 9/10\n",
      "1352/1352 [==============================] - 1s 857us/step - loss: 0.3345 - accuracy: 0.8833 - val_loss: 0.2925 - val_accuracy: 0.8920\n",
      "Epoch 10/10\n",
      "1352/1352 [==============================] - 1s 822us/step - loss: 0.3202 - accuracy: 0.8883 - val_loss: 0.2897 - val_accuracy: 0.8989\n",
      "INFO:tensorflow:Assets written to: /Users/sandeep/Desktop/BUCourses/Project/saved_models/MLP/assets\n"
     ]
    },
    {
     "name": "stderr",
     "output_type": "stream",
     "text": [
      "INFO:tensorflow:Assets written to: /Users/sandeep/Desktop/BUCourses/Project/saved_models/MLP/assets\n"
     ]
    }
   ],
   "source": [
    "import numpy as np\n",
    "import tensorflow as tf\n",
    "from tensorflow import keras\n",
    "from tensorflow.keras import layers\n",
    "\n",
    "model = keras.Sequential()\n",
    "\n",
    "# Flatten the input data\n",
    "model.add(layers.Flatten(input_shape=(n_steps, n_input)))\n",
    "\n",
    "# Dense layer equivalent to first GRU\n",
    "model.add(layers.Dense(256, activation='relu'))\n",
    "model.add(layers.Dropout(0.2))\n",
    "\n",
    "# Dense layer equivalent to second GRU\n",
    "model.add(layers.Dense(128, activation='relu'))\n",
    "model.add(layers.Dropout(0.2))\n",
    "\n",
    "# Dense layer equivalent to third GRU\n",
    "model.add(layers.Dense(64, activation='relu'))\n",
    "model.add(layers.Dropout(0.2))\n",
    "\n",
    "# Dense layer equivalent to fourth GRU\n",
    "model.add(layers.Dense(32, activation='relu'))\n",
    "model.add(layers.Dropout(0.2))\n",
    "\n",
    "# Output layer remains the same\n",
    "model.add(layers.Dense(6, activation='softmax'))\n",
    "\n",
    "model.summary()\n",
    "\n",
    "callback = tf.keras.callbacks.EarlyStopping(monitor='loss', patience=10)\n",
    "\n",
    "model.compile(loss=\"categorical_crossentropy\",optimizer='adam',metrics=[\"accuracy\"])\n",
    "\n",
    "history = model.fit(X_train,y_train,batch_size=64,epochs=10,validation_split=0.1,callbacks=[callback])\n",
    "\n",
    "model.save('/Users/sandeep/Desktop/BUCourses/Project/saved_models/MLP')\n"
   ]
  },
  {
   "cell_type": "code",
   "execution_count": 9,
   "id": "c567e03d",
   "metadata": {},
   "outputs": [
    {
     "name": "stdout",
     "output_type": "stream",
     "text": [
      "1287/1287 [==============================] - 0s 277us/step - loss: 0.2863 - accuracy: 0.9000\n"
     ]
    },
    {
     "data": {
      "text/plain": [
       "[0.28632891178131104, 0.8999587297439575]"
      ]
     },
     "execution_count": 9,
     "metadata": {},
     "output_type": "execute_result"
    }
   ],
   "source": [
    "model.evaluate(X_test, y_test)"
   ]
  },
  {
   "cell_type": "code",
   "execution_count": 10,
   "id": "3feea3b9",
   "metadata": {},
   "outputs": [],
   "source": [
    "import tensorflow as tf\n",
    "from helper import compute_metrics_base, compute_metrics, measure_cpu_utilization_and_run\n",
    "from tensorflow.keras import layers, models\n",
    "import matplotlib.pyplot as plt\n",
    "import os\n",
    "os.environ['TF_CPP_MIN_LOG_LEVEL'] = '2'"
   ]
  },
  {
   "cell_type": "code",
   "execution_count": 11,
   "id": "e5e885e1",
   "metadata": {},
   "outputs": [
    {
     "name": "stdout",
     "output_type": "stream",
     "text": [
      "1287/1287 [==============================] - 0s 255us/step\n",
      "Size of the model: 866.48 KB\n",
      "Accuracy on the test set: 90.00%\n",
      "Elapsed time: 0.49 seconds\n",
      "Average CPU utilization: 18.55%\n"
     ]
    }
   ],
   "source": [
    "model_dir = '/Users/sandeep/Desktop/BUCourses/Project/saved_models/MLP'\n",
    "model = tf.keras.models.load_model('/Users/sandeep/Desktop/BUCourses/Project/saved_models/MLP')\n",
    "average_cpu_utilization, elapsed_time, result = measure_cpu_utilization_and_run(\n",
    "                                                compute_metrics_base, model, X_test, y_test, model_dir)\n",
    "\n",
    "print(f\"Elapsed time: {elapsed_time:.2f} seconds\")\n",
    "print(f\"Average CPU utilization: {average_cpu_utilization:.2f}%\")\n"
   ]
  },
  {
   "cell_type": "code",
   "execution_count": 12,
   "id": "8753947b",
   "metadata": {},
   "outputs": [],
   "source": [
    "from helper import compute_metrics_base, compute_metrics, measure_cpu_utilization_and_run\n"
   ]
  },
  {
   "cell_type": "code",
   "execution_count": 13,
   "id": "3b567256",
   "metadata": {},
   "outputs": [
    {
     "name": "stdout",
     "output_type": "stream",
     "text": [
      "INFO:tensorflow:Assets written to: /var/folders/l4/2y2z7y6s4f39zqdkw_9jv51h0000gn/T/tmprhtbhslf/assets\n"
     ]
    },
    {
     "name": "stderr",
     "output_type": "stream",
     "text": [
      "INFO:tensorflow:Assets written to: /var/folders/l4/2y2z7y6s4f39zqdkw_9jv51h0000gn/T/tmprhtbhslf/assets\n"
     ]
    }
   ],
   "source": [
    "#Implemented Dynamic Range Quantization\n",
    "\n",
    "import tensorflow as tf\n",
    "from tensorflow import keras\n",
    "from tensorflow.keras import layers\n",
    "from tensorflow_model_optimization.sparsity import keras as sparsity\n",
    "\n",
    "#Load saved model\n",
    "model = tf.keras.models.load_model('/Users/sandeep/Desktop/BUCourses/Project/saved_models/MLP')\n",
    "\n",
    "\n",
    "converter = tf.lite.TFLiteConverter.from_keras_model(model)\n",
    "converter.optimizations = [tf.lite.Optimize.DEFAULT]\n",
    "converter.target_spec.supported_ops = [\n",
    "    tf.lite.OpsSet.TFLITE_BUILTINS,\n",
    "    tf.lite.OpsSet.SELECT_TF_OPS\n",
    "]\n",
    "converter._experimental_lower_tensor_list_ops = False\n",
    "\n",
    "# Now, convert the model\n",
    "mlp_dynamicQ_tflite_model = converter.convert()\n",
    "\n",
    "\n",
    "# Save the quantized model to a file\n",
    "with open('/Users/sandeep/Desktop/BUCourses/Project/saved_models/mlp_dynamicQ_model.tflite', 'wb') as f:\n",
    "    f.write(mlp_dynamicQ_tflite_model)\n"
   ]
  },
  {
   "cell_type": "code",
   "execution_count": 14,
   "id": "e8e6c1e3",
   "metadata": {},
   "outputs": [
    {
     "name": "stdout",
     "output_type": "stream",
     "text": [
      "Size of TFLite model: 59.95 KB\n"
     ]
    },
    {
     "name": "stderr",
     "output_type": "stream",
     "text": [
      "INFO: Created TensorFlow Lite XNNPACK delegate for CPU.\n"
     ]
    },
    {
     "name": "stdout",
     "output_type": "stream",
     "text": [
      "Accuracy on the test set: 90.01%\n",
      "Elapsed time: 0.37 seconds\n",
      "Average CPU utilization: 15.85%\n"
     ]
    }
   ],
   "source": [
    "average_cpu_utilization, elapsed_time, result = measure_cpu_utilization_and_run(\n",
    "                                                compute_metrics, mlp_dynamicQ_tflite_model, X_test, y_test, input_type='float32'\n",
    "                                                )\n",
    "\n",
    "print(f\"Elapsed time: {elapsed_time:.2f} seconds\")\n",
    "print(f\"Average CPU utilization: {average_cpu_utilization:.2f}%\")\n"
   ]
  },
  {
   "cell_type": "code",
   "execution_count": null,
   "id": "1a3711d6",
   "metadata": {},
   "outputs": [],
   "source": []
  }
 ],
 "metadata": {
  "kernelspec": {
   "display_name": "Python 3 (ipykernel)",
   "language": "python",
   "name": "python3"
  },
  "language_info": {
   "codemirror_mode": {
    "name": "ipython",
    "version": 3
   },
   "file_extension": ".py",
   "mimetype": "text/x-python",
   "name": "python",
   "nbconvert_exporter": "python",
   "pygments_lexer": "ipython3",
   "version": "3.11.3"
  }
 },
 "nbformat": 4,
 "nbformat_minor": 5
}
