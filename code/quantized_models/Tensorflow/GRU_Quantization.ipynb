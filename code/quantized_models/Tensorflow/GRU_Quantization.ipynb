{
 "cells": [
  {
   "cell_type": "markdown",
   "metadata": {
    "id": "7sPHNxudGuMO"
   },
   "source": [
    "### **Data Preprocessing**\n",
    "\n"
   ]
  },
  {
   "cell_type": "code",
   "execution_count": 1,
   "metadata": {
    "id": "UF_fkc-rEH5Q"
   },
   "outputs": [],
   "source": [
    "import numpy as np\n",
    "import matplotlib\n",
    "import matplotlib.pyplot as plt\n",
    "import tensorflow as tf  # Version 1.0.0 (some previous versions are used in past commits)\n",
    "from sklearn import metrics\n",
    "\n",
    "import os"
   ]
  },
  {
   "cell_type": "code",
   "execution_count": 2,
   "metadata": {
    "id": "u9gSA8uiEilq"
   },
   "outputs": [],
   "source": [
    "# Useful Constants\n",
    "\n",
    "# Those are separate normalised input features for the neural network\n",
    "INPUT_SIGNAL_TYPES = [\n",
    "    \"x_accel\",\n",
    "    \"y_accel\",\n",
    "    \"z_accel\",\n",
    "]\n",
    "\n",
    "# Output classes to learn how to classify\n",
    "LABELS = [\n",
    "    \"Walking\", \n",
    "    \"Jogging\", \n",
    "    \"Uptairs\", \n",
    "    \"Downstairs\", \n",
    "    \"Sitting\", \n",
    "    \"Standing\"\n",
    "] "
   ]
  },
  {
   "cell_type": "code",
   "execution_count": 4,
   "metadata": {
    "id": "gLppIs7ZEiof"
   },
   "outputs": [
    {
     "name": "stdout",
     "output_type": "stream",
     "text": [
      "(1098209, 3) (1098208, 1)\n"
     ]
    }
   ],
   "source": [
    "from numpy import genfromtxt\n",
    "import numpy as np\n",
    "import pandas as pd\n",
    "x = genfromtxt('../Data/WISDM_x.csv', delimiter=',')\n",
    "y = pd.read_csv('../Data/WISDM_y.csv')\n",
    "\n",
    "print(x.shape, y.shape)"
   ]
  },
  {
   "cell_type": "code",
   "execution_count": 5,
   "metadata": {
    "id": "_WAym-ErEirn"
   },
   "outputs": [],
   "source": [
    "def create_series(x,y,timestep,overlap):\n",
    "\n",
    "    slide_step = int(timestep*(1-overlap))\n",
    "    data_num = int((len(x)/slide_step)-1)\n",
    "  \n",
    "    dataset = np.ndarray(shape=(data_num,timestep,len(x[0])))\n",
    "    labels = list()\n",
    "\n",
    "    for i in range(data_num):\n",
    "        labels.append(y[slide_step*(i+1)-1])\n",
    "        for j in range(timestep):\n",
    "            dataset[i,j,:] = x[slide_step*i+j,:]\n",
    "\n",
    "    return dataset,np.array(labels)\n"
   ]
  },
  {
   "cell_type": "code",
   "execution_count": 6,
   "metadata": {
    "colab": {
     "base_uri": "https://localhost:8080/"
    },
    "id": "QMSJFqjJEiuw",
    "outputId": "63099073-7367-4e53-a2d7-d086cb1a1c77"
   },
   "outputs": [
    {
     "name": "stderr",
     "output_type": "stream",
     "text": [
      "/Users/sandeep/anaconda3/lib/python3.11/site-packages/sklearn/preprocessing/_label.py:116: DataConversionWarning: A column-vector y was passed when a 1d array was expected. Please change the shape of y to (n_samples, ), for example using ravel().\n",
      "  y = column_or_1d(y, warn=True)\n"
     ]
    }
   ],
   "source": [
    "from sklearn.preprocessing import LabelEncoder,OneHotEncoder\n",
    "le = LabelEncoder()\n",
    "y = le.fit_transform(y).reshape(-1,1)\n",
    "\n",
    "\n",
    "ohe = OneHotEncoder()\n",
    "y = ohe.fit_transform(y).toarray()\n"
   ]
  },
  {
   "cell_type": "code",
   "execution_count": 7,
   "metadata": {
    "id": "HbSCGJkjFj-j"
   },
   "outputs": [],
   "source": [
    "# y_pred.append(\"5\")\n",
    "dataset,labels = create_series(x,y,16,0.5)\n",
    "\n",
    "from sklearn.model_selection import train_test_split\n",
    "X_train, X_test, y_train, y_test = train_test_split(dataset,labels,test_size=0.3, random_state=412)\n",
    "# X_test, X_val, y_test, y_val = train_test_split(X_toSplit,y_toSplit,test_size=0.25, random_state=412)"
   ]
  },
  {
   "cell_type": "code",
   "execution_count": 8,
   "metadata": {
    "colab": {
     "base_uri": "https://localhost:8080/"
    },
    "id": "tquU7j8yEujG",
    "outputId": "43ba7f71-9b1e-4d91-8ec1-7d28cad82fdb"
   },
   "outputs": [
    {
     "name": "stdout",
     "output_type": "stream",
     "text": [
      "Some useful info to get an insight on dataset's shape and normalisation:\n",
      "(X shape, y shape, every X's mean, every X's standard deviation)\n",
      "(41183, 16, 3) (41183, 6) 2.769982662671871 6.952643412201609\n",
      "The dataset is therefore properly normalised, as expected, but not yet one-hot encoded.\n"
     ]
    }
   ],
   "source": [
    "# Input Data \n",
    "\n",
    "training_data_count = len(X_train)  # 96092 training series (with 50% overlap between each serie)\n",
    "test_data_count = len(X_test)  # 41183 testing series\n",
    "n_steps = len(X_train[0])  # 16 timesteps per series\n",
    "n_input = len(X_train[0][0])  # 3 input parameters per timestep\n",
    "\n",
    "\n",
    "# LSTM Neural Network's internal structure\n",
    "# n_hidden = 32 # Hidden layer num of features\n",
    "n_classes = 6 # Total classes (should go up, or should go down)\n",
    "\n",
    "\n",
    "# Training \n",
    "\n",
    "learning_rate = 0.0025\n",
    "lambda_loss_amount = 0.0015\n",
    "training_iters = training_data_count * 300  # Loop 300 times on the dataset\n",
    "batch_size = 64\n",
    "display_iter = 30000  # To show test set accuracy during training\n",
    "\n",
    "\n",
    "# Some debugging info\n",
    "\n",
    "print(\"Some useful info to get an insight on dataset's shape and normalisation:\")\n",
    "print(\"(X shape, y shape, every X's mean, every X's standard deviation)\")\n",
    "print(X_test.shape, y_test.shape, np.mean(X_test), np.std(X_test))\n",
    "print(\"The dataset is therefore properly normalised, as expected, but not yet one-hot encoded.\")"
   ]
  },
  {
   "cell_type": "markdown",
   "metadata": {
    "id": "d3KdN1PRHCqc"
   },
   "source": [
    "### **Model**"
   ]
  },
  {
   "cell_type": "code",
   "execution_count": 9,
   "metadata": {
    "colab": {
     "base_uri": "https://localhost:8080/"
    },
    "id": "WmDnJvcVEvHU",
    "outputId": "0cda2eea-b959-4c2f-cf19-2d1dc963a71d"
   },
   "outputs": [
    {
     "name": "stdout",
     "output_type": "stream",
     "text": [
      "Epoch 1/10\n",
      "1352/1352 [==============================] - 55s 39ms/step - loss: 0.4144 - accuracy: 0.8611 - val_loss: 0.2258 - val_accuracy: 0.9281\n",
      "Epoch 2/10\n",
      "1352/1352 [==============================] - 53s 39ms/step - loss: 0.2105 - accuracy: 0.9312 - val_loss: 0.1817 - val_accuracy: 0.9440\n",
      "Epoch 3/10\n",
      "1352/1352 [==============================] - 53s 40ms/step - loss: 0.1580 - accuracy: 0.9499 - val_loss: 0.1533 - val_accuracy: 0.9547\n",
      "Epoch 4/10\n",
      "1352/1352 [==============================] - 55s 40ms/step - loss: 0.1275 - accuracy: 0.9603 - val_loss: 0.1551 - val_accuracy: 0.9541\n",
      "Epoch 5/10\n",
      "1352/1352 [==============================] - 55s 41ms/step - loss: 0.1108 - accuracy: 0.9656 - val_loss: 0.1469 - val_accuracy: 0.9560\n",
      "Epoch 6/10\n",
      "1352/1352 [==============================] - 54s 40ms/step - loss: 0.0937 - accuracy: 0.9717 - val_loss: 0.1400 - val_accuracy: 0.9601\n",
      "Epoch 7/10\n",
      "1352/1352 [==============================] - 52s 38ms/step - loss: 0.0833 - accuracy: 0.9742 - val_loss: 0.1455 - val_accuracy: 0.9610\n",
      "Epoch 8/10\n",
      "1352/1352 [==============================] - 53s 39ms/step - loss: 0.0751 - accuracy: 0.9767 - val_loss: 0.1476 - val_accuracy: 0.9589\n",
      "Epoch 9/10\n",
      "1352/1352 [==============================] - 56s 41ms/step - loss: 0.0677 - accuracy: 0.9793 - val_loss: 0.1533 - val_accuracy: 0.9613\n",
      "Epoch 10/10\n",
      "1352/1352 [==============================] - 54s 40ms/step - loss: 0.0621 - accuracy: 0.9816 - val_loss: 0.1515 - val_accuracy: 0.9610\n",
      "INFO:tensorflow:Assets written to: /Users/sandeep/Desktop/BUCourses/Project/saved_models/GRU/assets\n"
     ]
    },
    {
     "name": "stderr",
     "output_type": "stream",
     "text": [
      "INFO:tensorflow:Assets written to: /Users/sandeep/Desktop/BUCourses/Project/saved_models/GRU/assets\n"
     ]
    }
   ],
   "source": [
    "import numpy as np\n",
    "import tensorflow as tf\n",
    "from tensorflow import keras\n",
    "from tensorflow.keras import layers\n",
    "\n",
    "model = keras.Sequential()\n",
    "model.add(layers.GRU(256, return_sequences=True,input_shape=(n_steps, n_input)))\n",
    "model.add(layers.Dropout(0.2))\n",
    "model.add(layers.GRU(128, return_sequences=True))\n",
    "model.add(layers.Dropout(0.2))\n",
    "model.add(layers.GRU(64, return_sequences=True))\n",
    "model.add(layers.Dropout(0.2))\n",
    "model.add(layers.GRU(32))\n",
    "model.add(layers.Dropout(0.2))\n",
    "model.add(layers.Dense(6, activation='softmax'))\n",
    "\n",
    "callback = tf.keras.callbacks.EarlyStopping(monitor='loss', patience=10)\n",
    "\n",
    "model.compile(loss=\"categorical_crossentropy\",optimizer='adam',metrics=[\"accuracy\"])\n",
    "\n",
    "history = model.fit(X_train,y_train,batch_size=64,epochs=10,validation_split=0.1,callbacks=[callback])\n",
    "\n",
    "model.save('/Users/sandeep/Desktop/BUCourses/Project/saved_models/GRU')\n"
   ]
  },
  {
   "cell_type": "code",
   "execution_count": 10,
   "metadata": {
    "colab": {
     "base_uri": "https://localhost:8080/"
    },
    "id": "NSMKGXfcKRm8",
    "outputId": "765dbe25-5a37-4984-f54a-0816ddf40da2"
   },
   "outputs": [
    {
     "name": "stdout",
     "output_type": "stream",
     "text": [
      "1287/1287 [==============================] - 8s 6ms/step - loss: 0.1436 - accuracy: 0.9619\n"
     ]
    },
    {
     "data": {
      "text/plain": [
       "[0.1435728669166565, 0.9619017839431763]"
      ]
     },
     "execution_count": 10,
     "metadata": {},
     "output_type": "execute_result"
    }
   ],
   "source": [
    "model.evaluate(X_test, y_test)"
   ]
  },
  {
   "cell_type": "code",
   "execution_count": 11,
   "metadata": {
    "id": "vbeIwerUKRq1"
   },
   "outputs": [],
   "source": [
    "import tensorflow as tf\n",
    "from helper import compute_metrics_base, compute_metrics, measure_cpu_utilization_and_run\n",
    "from tensorflow.keras import layers, models\n",
    "import matplotlib.pyplot as plt\n",
    "import os\n",
    "os.environ['TF_CPP_MIN_LOG_LEVEL'] = '2'"
   ]
  },
  {
   "cell_type": "code",
   "execution_count": 12,
   "metadata": {},
   "outputs": [
    {
     "name": "stdout",
     "output_type": "stream",
     "text": [
      "1287/1287 [==============================] - 8s 6ms/step\n",
      "Size of the model: 6771.75 KB\n",
      "Accuracy on the test set: 96.19%\n",
      "Elapsed time: 8.32 seconds\n",
      "Average CPU utilization: 36.00%\n"
     ]
    }
   ],
   "source": [
    "model_dir = '/Users/sandeep/Desktop/BUCourses/Project/saved_models/GRU'\n",
    "model = tf.keras.models.load_model('/Users/sandeep/Desktop/BUCourses/Project/saved_models/GRU')\n",
    "average_cpu_utilization, elapsed_time, result = measure_cpu_utilization_and_run(\n",
    "                                                compute_metrics_base, model, X_test, y_test, model_dir)\n",
    "\n",
    "print(f\"Elapsed time: {elapsed_time:.2f} seconds\")\n",
    "print(f\"Average CPU utilization: {average_cpu_utilization:.2f}%\")\n"
   ]
  },
  {
   "cell_type": "code",
   "execution_count": 14,
   "metadata": {},
   "outputs": [],
   "source": [
    "from helper import compute_metrics_base, compute_metrics, measure_cpu_utilization_and_run\n"
   ]
  },
  {
   "cell_type": "code",
   "execution_count": 15,
   "metadata": {
    "id": "FkSEgcMlKRud"
   },
   "outputs": [
    {
     "name": "stdout",
     "output_type": "stream",
     "text": [
      "INFO:tensorflow:Assets written to: /var/folders/l4/2y2z7y6s4f39zqdkw_9jv51h0000gn/T/tmp_g_gzwhz/assets\n"
     ]
    },
    {
     "name": "stderr",
     "output_type": "stream",
     "text": [
      "INFO:tensorflow:Assets written to: /var/folders/l4/2y2z7y6s4f39zqdkw_9jv51h0000gn/T/tmp_g_gzwhz/assets\n"
     ]
    }
   ],
   "source": [
    "#Implemented Dynamic Range Quantization\n",
    "\n",
    "import tensorflow as tf\n",
    "from tensorflow import keras\n",
    "from tensorflow.keras import layers\n",
    "from tensorflow_model_optimization.sparsity import keras as sparsity\n",
    "\n",
    "#Load saved model\n",
    "model = tf.keras.models.load_model('/Users/sandeep/Desktop/BUCourses/Project/saved_models/GRU')\n",
    "\n",
    "\n",
    "converter = tf.lite.TFLiteConverter.from_keras_model(model)\n",
    "converter.optimizations = [tf.lite.Optimize.DEFAULT]\n",
    "converter.target_spec.supported_ops = [\n",
    "    tf.lite.OpsSet.TFLITE_BUILTINS,\n",
    "    tf.lite.OpsSet.SELECT_TF_OPS\n",
    "]\n",
    "converter._experimental_lower_tensor_list_ops = False\n",
    "\n",
    "# Now, convert the model\n",
    "gru_dynamicQ_tflite_model = converter.convert()\n",
    "\n",
    "\n",
    "# Save the quantized model to a file\n",
    "with open('/Users/sandeep/Desktop/BUCourses/Project/saved_models/gru_dynamicQ_model.tflite', 'wb') as f:\n",
    "    f.write(gru_dynamicQ_tflite_model)\n"
   ]
  },
  {
   "cell_type": "code",
   "execution_count": 16,
   "metadata": {},
   "outputs": [
    {
     "name": "stderr",
     "output_type": "stream",
     "text": [
      "INFO: Created TensorFlow Lite delegate for select TF ops.\n",
      "INFO: TfLiteFlexDelegate delegate: 8 nodes delegated out of 41 nodes with 7 partitions.\n",
      "\n",
      "INFO: Created TensorFlow Lite XNNPACK delegate for CPU.\n"
     ]
    },
    {
     "name": "stdout",
     "output_type": "stream",
     "text": [
      "Size of TFLite model: 437.23 KB\n",
      "Accuracy on the test set: 96.18%\n",
      "Elapsed time: 43.89 seconds\n",
      "Average CPU utilization: 17.10%\n"
     ]
    }
   ],
   "source": [
    "average_cpu_utilization, elapsed_time, result = measure_cpu_utilization_and_run(\n",
    "                                                compute_metrics, gru_dynamicQ_tflite_model, X_test, y_test, input_type='float32'\n",
    "                                                )\n",
    "\n",
    "print(f\"Elapsed time: {elapsed_time:.2f} seconds\")\n",
    "print(f\"Average CPU utilization: {average_cpu_utilization:.2f}%\")\n"
   ]
  },
  {
   "cell_type": "code",
   "execution_count": null,
   "metadata": {},
   "outputs": [],
   "source": []
  }
 ],
 "metadata": {
  "accelerator": "GPU",
  "colab": {
   "collapsed_sections": [
    "7sPHNxudGuMO"
   ],
   "provenance": []
  },
  "gpuClass": "standard",
  "kernelspec": {
   "display_name": "Python 3 (ipykernel)",
   "language": "python",
   "name": "python3"
  },
  "language_info": {
   "codemirror_mode": {
    "name": "ipython",
    "version": 3
   },
   "file_extension": ".py",
   "mimetype": "text/x-python",
   "name": "python",
   "nbconvert_exporter": "python",
   "pygments_lexer": "ipython3",
   "version": "3.11.3"
  }
 },
 "nbformat": 4,
 "nbformat_minor": 1
}
