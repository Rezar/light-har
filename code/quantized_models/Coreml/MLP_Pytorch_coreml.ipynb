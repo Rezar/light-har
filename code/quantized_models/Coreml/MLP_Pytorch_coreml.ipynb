{
 "cells": [
  {
   "cell_type": "code",
   "execution_count": 8,
   "outputs": [
    {
     "name": "stdout",
     "output_type": "stream",
     "text": [
      "Requirement already satisfied: torch in /opt/homebrew/lib/python3.10/site-packages (2.0.0)\r\n",
      "Requirement already satisfied: filelock in /opt/homebrew/lib/python3.10/site-packages (from torch) (3.13.4)\r\n",
      "Requirement already satisfied: typing-extensions in /opt/homebrew/lib/python3.10/site-packages (from torch) (4.11.0)\r\n",
      "Requirement already satisfied: sympy in /opt/homebrew/lib/python3.10/site-packages (from torch) (1.12)\r\n",
      "Requirement already satisfied: networkx in /opt/homebrew/lib/python3.10/site-packages (from torch) (3.3)\r\n",
      "Requirement already satisfied: jinja2 in /opt/homebrew/lib/python3.10/site-packages (from torch) (3.1.3)\r\n",
      "Requirement already satisfied: MarkupSafe>=2.0 in /opt/homebrew/lib/python3.10/site-packages (from jinja2->torch) (2.1.5)\r\n",
      "Requirement already satisfied: mpmath>=0.19 in /opt/homebrew/lib/python3.10/site-packages (from sympy->torch) (1.3.0)\r\n",
      "Note: you may need to restart the kernel to use updated packages.\n",
      "Requirement already satisfied: numpy in /opt/homebrew/lib/python3.10/site-packages (1.26.4)\r\n",
      "Note: you may need to restart the kernel to use updated packages.\n",
      "Requirement already satisfied: pandas in /opt/homebrew/lib/python3.10/site-packages (2.2.2)\r\n",
      "Requirement already satisfied: numpy>=1.22.4 in /opt/homebrew/lib/python3.10/site-packages (from pandas) (1.26.4)\r\n",
      "Requirement already satisfied: python-dateutil>=2.8.2 in /opt/homebrew/lib/python3.10/site-packages (from pandas) (2.9.0.post0)\r\n",
      "Requirement already satisfied: pytz>=2020.1 in /opt/homebrew/lib/python3.10/site-packages (from pandas) (2024.1)\r\n",
      "Requirement already satisfied: tzdata>=2022.7 in /opt/homebrew/lib/python3.10/site-packages (from pandas) (2024.1)\r\n",
      "Requirement already satisfied: six>=1.5 in /opt/homebrew/lib/python3.10/site-packages (from python-dateutil>=2.8.2->pandas) (1.16.0)\r\n",
      "Note: you may need to restart the kernel to use updated packages.\n",
      "Requirement already satisfied: scikit-learn in /opt/homebrew/lib/python3.10/site-packages (1.1.2)\r\n",
      "Requirement already satisfied: numpy>=1.17.3 in /opt/homebrew/lib/python3.10/site-packages (from scikit-learn) (1.26.4)\r\n",
      "Requirement already satisfied: scipy>=1.3.2 in /opt/homebrew/lib/python3.10/site-packages (from scikit-learn) (1.13.0)\r\n",
      "Requirement already satisfied: joblib>=1.0.0 in /opt/homebrew/lib/python3.10/site-packages (from scikit-learn) (1.4.0)\r\n",
      "Requirement already satisfied: threadpoolctl>=2.0.0 in /opt/homebrew/lib/python3.10/site-packages (from scikit-learn) (3.4.0)\r\n",
      "Note: you may need to restart the kernel to use updated packages.\n",
      "Requirement already satisfied: coremltools in /opt/homebrew/lib/python3.10/site-packages (7.1)\r\n",
      "Requirement already satisfied: numpy>=1.14.5 in /opt/homebrew/lib/python3.10/site-packages (from coremltools) (1.26.4)\r\n",
      "Requirement already satisfied: protobuf<=4.0.0,>=3.1.0 in /opt/homebrew/lib/python3.10/site-packages (from coremltools) (3.20.3)\r\n",
      "Requirement already satisfied: sympy in /opt/homebrew/lib/python3.10/site-packages (from coremltools) (1.12)\r\n",
      "Requirement already satisfied: tqdm in /opt/homebrew/lib/python3.10/site-packages (from coremltools) (4.66.2)\r\n",
      "Requirement already satisfied: packaging in /opt/homebrew/lib/python3.10/site-packages (from coremltools) (24.0)\r\n",
      "Requirement already satisfied: attrs>=21.3.0 in /opt/homebrew/lib/python3.10/site-packages (from coremltools) (23.2.0)\r\n",
      "Requirement already satisfied: cattrs in /opt/homebrew/lib/python3.10/site-packages (from coremltools) (23.2.3)\r\n",
      "Requirement already satisfied: pyaml in /opt/homebrew/lib/python3.10/site-packages (from coremltools) (23.12.0)\r\n",
      "Requirement already satisfied: exceptiongroup>=1.1.1 in /opt/homebrew/lib/python3.10/site-packages (from cattrs->coremltools) (1.2.0)\r\n",
      "Requirement already satisfied: typing-extensions!=4.6.3,>=4.1.0 in /opt/homebrew/lib/python3.10/site-packages (from cattrs->coremltools) (4.11.0)\r\n",
      "Requirement already satisfied: PyYAML in /opt/homebrew/lib/python3.10/site-packages (from pyaml->coremltools) (6.0.1)\r\n",
      "Requirement already satisfied: mpmath>=0.19 in /opt/homebrew/lib/python3.10/site-packages (from sympy->coremltools) (1.3.0)\r\n",
      "Note: you may need to restart the kernel to use updated packages.\n"
     ]
    }
   ],
   "source": [
    "%pip install torch\n",
    "%pip install numpy\n",
    "%pip install pandas\n",
    "%pip install scikit-learn\n",
    "%pip install coremltools"
   ],
   "metadata": {
    "collapsed": false,
    "ExecuteTime": {
     "end_time": "2024-04-11T21:04:03.407403Z",
     "start_time": "2024-04-11T21:03:59.544903Z"
    }
   },
   "id": "15a18373ef727e9e"
  },
  {
   "cell_type": "code",
   "execution_count": 9,
   "id": "91e4447f",
   "metadata": {
    "ExecuteTime": {
     "end_time": "2024-04-11T21:04:10.285708Z",
     "start_time": "2024-04-11T21:04:10.267919Z"
    }
   },
   "outputs": [],
   "source": [
    "import os\n",
    "import torch\n",
    "import torch.nn as nn\n",
    "import torch.nn.functional as F\n",
    "from torch.utils.data import DataLoader, TensorDataset\n",
    "from torch.optim import Adam\n",
    "from sklearn.model_selection import train_test_split\n",
    "import numpy as np\n",
    "import pandas as pd\n",
    "from numpy import genfromtxt\n",
    "from sklearn.preprocessing import LabelEncoder"
   ]
  },
  {
   "cell_type": "code",
   "execution_count": 10,
   "outputs": [],
   "source": [
    "# Set up the paths\n",
    "HOME_PATH = os.path.expanduser('~')\n",
    "MODELS_PATH = f'{HOME_PATH}/Developer/BU/research/models'\n",
    "DATASET_PATH = f'../../../data/'\n",
    "data_features = f'{DATASET_PATH}/WISDM_x.csv'\n",
    "data_labels = f'{DATASET_PATH}/WISDM_y.csv'"
   ],
   "metadata": {
    "collapsed": false,
    "ExecuteTime": {
     "end_time": "2024-04-11T21:04:11.265356Z",
     "start_time": "2024-04-11T21:04:11.254858Z"
    }
   },
   "id": "bb3569531dd86ca7"
  },
  {
   "cell_type": "code",
   "execution_count": 11,
   "id": "b8bbb39e",
   "metadata": {
    "ExecuteTime": {
     "end_time": "2024-04-11T21:04:14.269404Z",
     "start_time": "2024-04-11T21:04:12.113397Z"
    }
   },
   "outputs": [],
   "source": [
    "# Load Data\n",
    "x = genfromtxt(data_features, delimiter=',')\n",
    "y_df = pd.read_csv(data_labels)\n",
    "y = y_df.values.flatten()  # Flatten if y is 2D\n",
    "\n",
    "# Encode labels\n",
    "label_encoder = LabelEncoder()\n",
    "y_encoded = label_encoder.fit_transform(y)\n",
    "\n",
    "# Function to create time series dataset\n",
    "def create_series(x, y, timestep, overlap):\n",
    "    slide_step = int(timestep * (1 - overlap))\n",
    "    data_num = int((len(x) / slide_step) - 1)\n",
    "    dataset = np.ndarray(shape=(data_num, timestep, x.shape[1]))\n",
    "    labels = []\n",
    "\n",
    "    for i in range(data_num):\n",
    "        labels.append(y[slide_step * (i + 1) - 1])\n",
    "        for j in range(timestep):\n",
    "            dataset[i, j, :] = x[slide_step * i + j, :]\n",
    "\n",
    "    return dataset, np.array(labels)\n",
    "\n",
    "# Create time series\n",
    "timestep = 16  # Replace with your value\n",
    "overlap = 0.5  # Replace with your value\n",
    "X_series, y_series = create_series(x, y_encoded, timestep, overlap)"
   ]
  },
  {
   "cell_type": "code",
   "execution_count": 12,
   "id": "5cf3ae39",
   "metadata": {
    "ExecuteTime": {
     "end_time": "2024-04-11T21:04:16.087344Z",
     "start_time": "2024-04-11T21:04:16.053027Z"
    }
   },
   "outputs": [],
   "source": [
    "# Split into train and test sets\n",
    "X_train, X_test, y_train, y_test = train_test_split(X_series, y_series, test_size=0.2, random_state=42)\n",
    "\n",
    "# Convert to PyTorch tensors\n",
    "x_train_tensor = torch.tensor(X_train, dtype=torch.float32)\n",
    "x_test_tensor = torch.tensor(X_test, dtype=torch.float32)\n",
    "y_train_tensor = torch.tensor(y_train, dtype=torch.long)\n",
    "y_test_tensor = torch.tensor(y_test, dtype=torch.long)"
   ]
  },
  {
   "cell_type": "code",
   "execution_count": 13,
   "id": "a5ab7d9f",
   "metadata": {
    "ExecuteTime": {
     "end_time": "2024-04-11T21:04:17.895106Z",
     "start_time": "2024-04-11T21:04:17.877711Z"
    }
   },
   "outputs": [
    {
     "name": "stdout",
     "output_type": "stream",
     "text": [
      "X_train.shape:(104856, 16, 3), X_test.shape:(26214, 16, 3), y_train.shape:(104856,), y_test.shape:(26214,)\n"
     ]
    }
   ],
   "source": [
    "print(f'X_train.shape:{X_train.shape}, X_test.shape:{X_test.shape}, y_train.shape:{y_train.shape}, y_test.shape:{y_test.shape}')"
   ]
  },
  {
   "cell_type": "code",
   "execution_count": 14,
   "id": "1a3711d6",
   "metadata": {
    "ExecuteTime": {
     "end_time": "2024-04-11T21:04:24.433488Z",
     "start_time": "2024-04-11T21:04:24.423278Z"
    }
   },
   "outputs": [],
   "source": [
    "# Define the MLP model\n",
    "class MyMLP(nn.Module):\n",
    "    def __init__(self, input_size, num_classes=6):\n",
    "        super(MyMLP, self).__init__()\n",
    "        self.flatten = nn.Flatten()\n",
    "        self.fc1 = nn.Linear(input_size, 128)\n",
    "        self.fc2 = nn.Linear(128, 64)\n",
    "        self.fc3 = nn.Linear(64, num_classes)\n",
    "\n",
    "    def forward(self, x):\n",
    "        x = self.flatten(x)\n",
    "        x = F.relu(self.fc1(x))\n",
    "        x = F.relu(self.fc2(x))\n",
    "        return self.fc3(x)\n",
    "\n",
    "# Model Initialization\n",
    "input_size = timestep * X_series.shape[2]  # Calculate input size\n",
    "model = MyMLP(input_size)\n",
    "\n",
    "# DataLoader\n",
    "train_dataset = TensorDataset(x_train_tensor, y_train_tensor)\n",
    "train_loader = DataLoader(train_dataset, batch_size=64, shuffle=True)\n",
    "\n"
   ]
  },
  {
   "cell_type": "code",
   "execution_count": 15,
   "id": "3fed4e2a",
   "metadata": {
    "ExecuteTime": {
     "end_time": "2024-04-11T21:05:49.822196Z",
     "start_time": "2024-04-11T21:04:27.184187Z"
    }
   },
   "outputs": [
    {
     "name": "stdout",
     "output_type": "stream",
     "text": [
      "Epoch 0, Loss: 0.5094858575532755\n",
      "Epoch 1, Loss: 0.3675977605746751\n",
      "Epoch 2, Loss: 0.3169934956255739\n",
      "Epoch 3, Loss: 0.28529085023436623\n",
      "Epoch 4, Loss: 0.26287043613084504\n",
      "Epoch 5, Loss: 0.24820865482282828\n",
      "Epoch 6, Loss: 0.23512211444721198\n",
      "Epoch 7, Loss: 0.22353049599275202\n",
      "Epoch 8, Loss: 0.21587345948473502\n",
      "Epoch 9, Loss: 0.20771914165037444\n",
      "Epoch 10, Loss: 0.1991336875350247\n",
      "Epoch 11, Loss: 0.19441769759626998\n",
      "Epoch 12, Loss: 0.1875261401029132\n",
      "Epoch 13, Loss: 0.1831271066782113\n",
      "Epoch 14, Loss: 0.17878861868636975\n",
      "Epoch 15, Loss: 0.17520304096156936\n",
      "Epoch 16, Loss: 0.1710243168570524\n",
      "Epoch 17, Loss: 0.16520355892429597\n",
      "Epoch 18, Loss: 0.1639568588876548\n",
      "Epoch 19, Loss: 0.15894396949782194\n",
      "Epoch 20, Loss: 0.15904942914602632\n",
      "Epoch 21, Loss: 0.1547117856540845\n",
      "Epoch 22, Loss: 0.1516001032627869\n",
      "Epoch 23, Loss: 0.15000481451074568\n",
      "Epoch 24, Loss: 0.14704957723963036\n",
      "Epoch 25, Loss: 0.14400741521921406\n",
      "Epoch 26, Loss: 0.14195667339865028\n",
      "Epoch 27, Loss: 0.13847401537980755\n",
      "Epoch 28, Loss: 0.13853396749711477\n",
      "Epoch 29, Loss: 0.13391357278331997\n",
      "Epoch 30, Loss: 0.13375173166026022\n",
      "Epoch 31, Loss: 0.13283853033072268\n",
      "Epoch 32, Loss: 0.12908794124434003\n",
      "Epoch 33, Loss: 0.1292889533704232\n",
      "Epoch 34, Loss: 0.12731832671055912\n",
      "Epoch 35, Loss: 0.12527110202856193\n",
      "Epoch 36, Loss: 0.12519986362692567\n",
      "Epoch 37, Loss: 0.12199350820753162\n",
      "Epoch 38, Loss: 0.12290796135649394\n",
      "Epoch 39, Loss: 0.11960238091138495\n",
      "Epoch 40, Loss: 0.11823620524966567\n",
      "Epoch 41, Loss: 0.11826650743856298\n",
      "Epoch 42, Loss: 0.11802216524274166\n",
      "Epoch 43, Loss: 0.11490253407350168\n",
      "Epoch 44, Loss: 0.11568778331884165\n",
      "Epoch 45, Loss: 0.11174465719919567\n",
      "Epoch 46, Loss: 0.11231199769238424\n",
      "Epoch 47, Loss: 0.11090182009209322\n",
      "Epoch 48, Loss: 0.10957285293501241\n",
      "Epoch 49, Loss: 0.10873774917486002\n",
      "Epoch 50, Loss: 0.10801144156297027\n",
      "Epoch 51, Loss: 0.10861643255916109\n",
      "Epoch 52, Loss: 0.10500086922723575\n",
      "Epoch 53, Loss: 0.10692520406639261\n",
      "Epoch 54, Loss: 0.10389375381351831\n",
      "Epoch 55, Loss: 0.10437213378811233\n",
      "Epoch 56, Loss: 0.101954586444226\n",
      "Epoch 57, Loss: 0.1029638761337426\n",
      "Epoch 58, Loss: 0.1015587818852607\n",
      "Epoch 59, Loss: 0.100074974114281\n",
      "Epoch 60, Loss: 0.1000149938254603\n",
      "Epoch 61, Loss: 0.0996436238916201\n",
      "Epoch 62, Loss: 0.10018621077630362\n",
      "Epoch 63, Loss: 0.09750033126678886\n",
      "Epoch 64, Loss: 0.09849898004023638\n",
      "Epoch 65, Loss: 0.09477245949675818\n",
      "Epoch 66, Loss: 0.0972481015120713\n",
      "Epoch 67, Loss: 0.09516888505638856\n",
      "Epoch 68, Loss: 0.09515628748834179\n",
      "Epoch 69, Loss: 0.09432021650537403\n",
      "Epoch 70, Loss: 0.09650275464066832\n",
      "Epoch 71, Loss: 0.09240951008646953\n",
      "Epoch 72, Loss: 0.09327327259488079\n",
      "Epoch 73, Loss: 0.09029858878031237\n",
      "Epoch 74, Loss: 0.09082640701838979\n",
      "Epoch 75, Loss: 0.09002731969938604\n",
      "Epoch 76, Loss: 0.09097812071887525\n",
      "Epoch 77, Loss: 0.09071090771865538\n",
      "Epoch 78, Loss: 0.08934028489120836\n",
      "Epoch 79, Loss: 0.08675449473165144\n",
      "Epoch 80, Loss: 0.08835759732441532\n",
      "Epoch 81, Loss: 0.08866274621237645\n",
      "Epoch 82, Loss: 0.08669817655874601\n",
      "Epoch 83, Loss: 0.0872944365208656\n",
      "Epoch 84, Loss: 0.08668613849125935\n",
      "Epoch 85, Loss: 0.08598110985205196\n",
      "Epoch 86, Loss: 0.08567862095418678\n",
      "Epoch 87, Loss: 0.08556431401881791\n",
      "Epoch 88, Loss: 0.08372159636053277\n",
      "Epoch 89, Loss: 0.08478207747912793\n",
      "Epoch 90, Loss: 0.08453659659826615\n",
      "Epoch 91, Loss: 0.08241392745050563\n",
      "Epoch 92, Loss: 0.08249615490052434\n",
      "Epoch 93, Loss: 0.08232699347946332\n",
      "Epoch 94, Loss: 0.08320383961162461\n",
      "Epoch 95, Loss: 0.08366906362203023\n",
      "Epoch 96, Loss: 0.08165431420785864\n",
      "Epoch 97, Loss: 0.08022962709706415\n",
      "Epoch 98, Loss: 0.08156863730693437\n",
      "Epoch 99, Loss: 0.08068900810171924\n"
     ]
    }
   ],
   "source": [
    "# Loss and optimizer\n",
    "criterion = nn.CrossEntropyLoss()\n",
    "optimizer = Adam(model.parameters(), lr=0.001)\n",
    "\n",
    "# Training function\n",
    "def train(model, train_loader, criterion, optimizer, epochs=100):\n",
    "    model.train()\n",
    "    for epoch in range(epochs):\n",
    "        total_loss = 0\n",
    "        for data, target in train_loader:\n",
    "            optimizer.zero_grad()\n",
    "            output = model(data)\n",
    "            loss = criterion(output, target)\n",
    "            loss.backward()\n",
    "            optimizer.step()\n",
    "            total_loss += loss.item()\n",
    "        print(f'Epoch {epoch}, Loss: {total_loss / len(train_loader)}')\n",
    "\n",
    "# Train the model\n",
    "train(model, train_loader, criterion, optimizer)\n"
   ]
  },
  {
   "cell_type": "code",
   "execution_count": 16,
   "outputs": [],
   "source": [
    "model_path =  f'{MODELS_PATH}/MLP_base.pth'\n",
    "torch.save(model.state_dict(), model_path)"
   ],
   "metadata": {
    "collapsed": false,
    "ExecuteTime": {
     "end_time": "2024-04-11T21:06:03.349727Z",
     "start_time": "2024-04-11T21:06:03.335288Z"
    }
   },
   "id": "92fc1719dfba0eb3"
  },
  {
   "cell_type": "code",
   "execution_count": 17,
   "id": "74ae418a",
   "metadata": {
    "ExecuteTime": {
     "end_time": "2024-04-11T21:06:11.692831Z",
     "start_time": "2024-04-11T21:06:11.564175Z"
    }
   },
   "outputs": [
    {
     "name": "stdout",
     "output_type": "stream",
     "text": [
      "Test set: Average loss: 0.4916046664663931, Accuracy: 23973/26214 (91%)\n"
     ]
    }
   ],
   "source": [
    "def evaluate(model, test_loader, criterion):\n",
    "    model.eval()\n",
    "    total_loss = 0\n",
    "    correct = 0\n",
    "    with torch.no_grad():\n",
    "        for data, target in test_loader:\n",
    "            output = model(data)\n",
    "            loss = criterion(output, target)\n",
    "            total_loss += loss.item()\n",
    "            pred = output.data.max(1, keepdim=True)[1]\n",
    "            correct += pred.eq(target.data.view_as(pred)).sum()\n",
    "    accuracy = 100. * correct / len(test_loader.dataset)\n",
    "    print(f'Test set: Average loss: {total_loss / len(test_loader)}, Accuracy: {correct}/{len(test_loader.dataset)} ({accuracy:.0f}%)')\n",
    "\n",
    "# DataLoader for test set\n",
    "test_dataset = TensorDataset(x_test_tensor, y_test_tensor)\n",
    "test_loader = DataLoader(test_dataset, batch_size=64, shuffle=True)\n",
    "\n",
    "# Evaluate the model\n",
    "evaluate(model, test_loader, criterion)\n"
   ]
  },
  {
   "cell_type": "markdown",
   "id": "c00f05aa-36d2-4fee-923e-e5cf8c03ed21",
   "metadata": {},
   "source": [
    "#### Coreml evaluation"
   ]
  },
  {
   "cell_type": "code",
   "execution_count": 22,
   "id": "3968e717-ec01-4259-88dc-ced920ea3d41",
   "metadata": {
    "ExecuteTime": {
     "end_time": "2024-04-11T21:06:44.351139Z",
     "start_time": "2024-04-11T21:06:44.345836Z"
    }
   },
   "outputs": [],
   "source": [
    "from pathlib import Path\n",
    "\n",
    "def coreml_metrics(model_name, X_test, y_test, model_path):\n",
    "    predictions = []\n",
    "    for id in range(len(X_test)):\n",
    "        X_test_new = np.expand_dims(X_test[id], axis=0)\n",
    "        output_dict = model_name.predict({'x': X_test_new})\n",
    "        pred_class = np.argmax(output_dict['linear_2'])\n",
    "        predictions.append(pred_class)\n",
    "    \n",
    "    accuracy = np.sum(predictions == y_test) / len(predictions)\n",
    "    print(\"Accuracy:\", accuracy)\n",
    "    \n",
    "    model_file = Path(model_path)\n",
    "    \n",
    "    # Size in bytes\n",
    "    model_size_bytes = model_file.stat().st_size\n",
    "    \n",
    "    # Convert size to kilobytes (optional)\n",
    "    model_size_kb = model_size_bytes / 1024\n",
    "    print(f\"Size of the model: {model_size_kb:.2f} KB\")"
   ]
  },
  {
   "cell_type": "markdown",
   "id": "d279de98-309b-413d-bf17-25a121c6ba39",
   "metadata": {},
   "source": [
    "### Convert to Coreml"
   ]
  },
  {
   "cell_type": "code",
   "execution_count": 37,
   "id": "bbee7f1b",
   "metadata": {
    "ExecuteTime": {
     "end_time": "2024-04-11T21:42:22.169676Z",
     "start_time": "2024-04-11T21:42:21.972528Z"
    }
   },
   "outputs": [
    {
     "name": "stderr",
     "output_type": "stream",
     "text": [
      "Converting PyTorch Frontend ==> MIL Ops:  88%|████████▊ | 7/8 [00:00<00:00, 2572.74 ops/s]\n",
      "Running MIL frontend_pytorch pipeline: 100%|██████████| 5/5 [00:00<00:00, 15386.29 passes/s]\n",
      "Running MIL default pipeline: 100%|██████████| 71/71 [00:00<00:00, 3835.40 passes/s]\n",
      "Running MIL backend_mlprogram pipeline: 100%|██████████| 12/12 [00:00<00:00, 16572.82 passes/s]\n"
     ]
    }
   ],
   "source": [
    "import coremltools as ct\n",
    "example_input = torch.rand(1,16, 3) \n",
    "\n",
    "model.eval()\n",
    "traced_model = torch.jit.trace(model, example_input)\n",
    "out = traced_model(example_input)\n",
    "\n",
    "# Convert to Core ML program using the Unified Conversion API.\n",
    "mlp_coreml_model = ct.convert(\n",
    "    traced_model,\n",
    "    convert_to=\"mlprogram\",\n",
    "    inputs=[ct.TensorType(shape=example_input.shape)]\n",
    " )\n",
    "\n",
    "# Save the converted model.\n",
    "mlp_coreml_model.save(f'{MODELS_PATH}/mlp.mlpackage')"
   ]
  },
  {
   "cell_type": "code",
   "execution_count": 38,
   "id": "0e3b08e0",
   "metadata": {
    "ExecuteTime": {
     "end_time": "2024-04-11T21:42:23.618054Z",
     "start_time": "2024-04-11T21:42:23.548712Z"
    }
   },
   "outputs": [],
   "source": [
    "import coremltools as ct\n",
    "import coremltools.optimize.coreml as cto\n",
    "\n",
    "mlp_coreml_model = ct.models.MLModel(f'{MODELS_PATH}/mlp.mlpackage')"
   ]
  },
  {
   "cell_type": "code",
   "execution_count": 23,
   "id": "89abcd0c-b4fd-4e9e-899c-a89eb13556b1",
   "metadata": {
    "ExecuteTime": {
     "end_time": "2024-04-11T21:06:48.525986Z",
     "start_time": "2024-04-11T21:06:47.323237Z"
    }
   },
   "outputs": [
    {
     "name": "stdout",
     "output_type": "stream",
     "text": [
      "Accuracy: 0.9145494773785\n",
      "Size of the model: 0.12 KB\n"
     ]
    }
   ],
   "source": [
    "model_name = mlp_coreml_model\n",
    "model_path = f'{MODELS_PATH}/mlp.mlpackage'\n",
    "\n",
    "coreml_metrics(model_name, X_test, y_test, model_path)"
   ]
  },
  {
   "cell_type": "code",
   "execution_count": 24,
   "id": "dde7d74f-e985-40e6-8b84-86f68dce0144",
   "metadata": {
    "ExecuteTime": {
     "end_time": "2024-04-11T21:06:52.670139Z",
     "start_time": "2024-04-11T21:06:52.660658Z"
    }
   },
   "outputs": [
    {
     "data": {
      "text/plain": "128"
     },
     "execution_count": 24,
     "metadata": {},
     "output_type": "execute_result"
    }
   ],
   "source": [
    "import os\n",
    "os.path.getsize(f'{MODELS_PATH}/mlp.mlpackage')\n"
   ]
  },
  {
   "cell_type": "markdown",
   "source": [
    "## Post Training Optimization"
   ],
   "metadata": {
    "collapsed": false
   },
   "id": "9e74a585d4db7538"
  },
  {
   "cell_type": "code",
   "execution_count": 39,
   "outputs": [],
   "source": [
    "from coremltools.optimize.coreml import (\n",
    "    OpThresholdPrunerConfig,\n",
    "    OpMagnitudePrunerConfig,\n",
    "    OpPalettizerConfig,\n",
    "    OpLinearQuantizerConfig,\n",
    "    OptimizationConfig,\n",
    "    prune_weights,\n",
    ")"
   ],
   "metadata": {
    "collapsed": false,
    "ExecuteTime": {
     "end_time": "2024-04-19T21:29:57.979310Z",
     "start_time": "2024-04-19T21:29:57.905375Z"
    }
   },
   "id": "84afd32e81029538"
  },
  {
   "cell_type": "markdown",
   "source": [
    "### Quantization"
   ],
   "metadata": {
    "collapsed": false
   },
   "id": "fca8414c6dd84a93"
  },
  {
   "cell_type": "code",
   "execution_count": 40,
   "outputs": [
    {
     "name": "stderr",
     "output_type": "stream",
     "text": [
      "Running compression pass linear_quantize_weights: 100%|██████████| 5/5 [00:00<00:00, 1750.69 ops/s]\n",
      "Running MIL frontend_milinternal pipeline: 0 passes [00:00, ? passes/s]\n",
      "Running MIL default pipeline: 100%|██████████| 69/69 [00:00<00:00, 4564.35 passes/s]\n",
      "Running MIL backend_mlprogram pipeline: 100%|██████████| 12/12 [00:00<00:00, 8517.79 passes/s]\n"
     ]
    }
   ],
   "source": [
    "op_config = OpLinearQuantizerConfig(\n",
    "    mode=\"linear_symmetric\", weight_threshold=512\n",
    ")\n",
    "config = OptimizationConfig(global_config=op_config)\n",
    "\n",
    "compressed_8_bit_model = cto.linear_quantize_weights(mlp_coreml_model, config=config)"
   ],
   "metadata": {
    "collapsed": false,
    "ExecuteTime": {
     "end_time": "2024-04-19T21:31:46.206280Z",
     "start_time": "2024-04-19T21:31:45.963217Z"
    }
   },
   "id": "de719bb898521007"
  },
  {
   "cell_type": "code",
   "execution_count": 41,
   "outputs": [],
   "source": [
    "compressed_8_bit_model.save(f'{MODELS_PATH}/mlp_8bitQuantized_mlmodel.mlpackage')"
   ],
   "metadata": {
    "collapsed": false,
    "ExecuteTime": {
     "end_time": "2024-04-19T21:31:50.620544Z",
     "start_time": "2024-04-19T21:31:50.604131Z"
    }
   },
   "id": "ebd1d54d01282fb0"
  },
  {
   "cell_type": "code",
   "execution_count": 42,
   "outputs": [
    {
     "name": "stdout",
     "output_type": "stream",
     "text": [
      "Accuracy: 0.9143205920500496\n",
      "Size of the model: 0.12 KB\n"
     ]
    }
   ],
   "source": [
    "model_name = compressed_8_bit_model\n",
    "model_path = f'{MODELS_PATH}/mlp_8bitQuantized_mlmodel.mlpackage'\n",
    "\n",
    "coreml_metrics(model_name, X_test, y_test, model_path)"
   ],
   "metadata": {
    "collapsed": false,
    "ExecuteTime": {
     "end_time": "2024-04-19T21:31:53.446280Z",
     "start_time": "2024-04-19T21:31:52.227718Z"
    }
   },
   "id": "321e6cff26ca89e0"
  },
  {
   "cell_type": "markdown",
   "source": [
    "### Pruning"
   ],
   "metadata": {
    "collapsed": false
   },
   "id": "2d65b71eb83c993e"
  },
  {
   "cell_type": "markdown",
   "source": [
    "#### a) OpMagnitudePrunerConfig: Prune the weights with a constant sparsity percentile"
   ],
   "metadata": {
    "collapsed": false
   },
   "id": "f68cfcaeea26fa99"
  },
  {
   "cell_type": "code",
   "execution_count": 43,
   "outputs": [
    {
     "name": "stderr",
     "output_type": "stream",
     "text": [
      "Running compression pass prune_weights: 100%|██████████| 5/5 [00:00<00:00, 1398.94 ops/s]\n",
      "Running MIL frontend_milinternal pipeline: 0 passes [00:00, ? passes/s]\n",
      "Running MIL default pipeline: 100%|██████████| 69/69 [00:00<00:00, 4292.85 passes/s]\n",
      "Running MIL backend_mlprogram pipeline: 100%|██████████| 12/12 [00:00<00:00, 12110.60 passes/s]\n"
     ]
    }
   ],
   "source": [
    "op_config = OpMagnitudePrunerConfig(\n",
    "    target_sparsity=0.6,\n",
    "    weight_threshold=1024,\n",
    ")\n",
    "config = OptimizationConfig(global_config=op_config)\n",
    "mlp_magnitude_pruner = prune_weights(mlp_coreml_model, config=config)\n"
   ],
   "metadata": {
    "collapsed": false,
    "ExecuteTime": {
     "end_time": "2024-04-19T21:32:59.409183Z",
     "start_time": "2024-04-19T21:32:59.210685Z"
    }
   },
   "id": "2fa63432ab361f2b"
  },
  {
   "cell_type": "code",
   "execution_count": 44,
   "outputs": [],
   "source": [
    "mlp_magnitude_pruner.save(f'{MODELS_PATH}/mlp_magnitude_pruner.mlpackage')"
   ],
   "metadata": {
    "collapsed": false,
    "ExecuteTime": {
     "end_time": "2024-04-19T21:33:20.771169Z",
     "start_time": "2024-04-19T21:33:20.747528Z"
    }
   },
   "id": "ab69caa798bf72ad"
  },
  {
   "cell_type": "code",
   "execution_count": 45,
   "outputs": [
    {
     "name": "stdout",
     "output_type": "stream",
     "text": [
      "Accuracy: 0.6240558480201419\n",
      "Size of the model: 0.12 KB\n"
     ]
    }
   ],
   "source": [
    "model_name = mlp_magnitude_pruner\n",
    "model_path = f'{MODELS_PATH}/mlp_magnitude_pruner.mlpackage'\n",
    "\n",
    "coreml_metrics(model_name, X_test, y_test, model_path)"
   ],
   "metadata": {
    "collapsed": false,
    "ExecuteTime": {
     "end_time": "2024-04-19T21:33:42.502815Z",
     "start_time": "2024-04-19T21:33:40.863636Z"
    }
   },
   "id": "c4783a82501a0461"
  },
  {
   "cell_type": "markdown",
   "source": [
    "#### b) OpThresholdPrunerConfig: Sets all weight values below a certain value."
   ],
   "metadata": {
    "collapsed": false
   },
   "id": "eaac7f143355b5b"
  },
  {
   "cell_type": "code",
   "execution_count": 46,
   "outputs": [
    {
     "name": "stderr",
     "output_type": "stream",
     "text": [
      "Running compression pass prune_weights:   0%|          | 0/5 [00:00<?, ? ops/s]weight value has sparsity of 0.0016276041666666667 < minimum_sparsity_percentile 0.01. Skipped.\n",
      "weight value has sparsity of 0.0025634765625 < minimum_sparsity_percentile 0.01. Skipped.\n",
      "Running compression pass prune_weights: 100%|██████████| 5/5 [00:00<00:00, 3048.63 ops/s]\n",
      "Running MIL frontend_milinternal pipeline: 0 passes [00:00, ? passes/s]\n",
      "Running MIL default pipeline: 100%|██████████| 69/69 [00:00<00:00, 5098.25 passes/s]\n",
      "Running MIL backend_mlprogram pipeline: 100%|██████████| 12/12 [00:00<00:00, 18098.40 passes/s]\n"
     ]
    }
   ],
   "source": [
    "op_config = OpThresholdPrunerConfig(\n",
    "    threshold=0.001,\n",
    "    minimum_sparsity_percentile=0.01,\n",
    "    weight_threshold=1024,\n",
    ")\n",
    "\n",
    "config = OptimizationConfig(global_config=op_config)\n",
    "mlp_threshold_pruner = prune_weights(mlp_coreml_model, config=config)"
   ],
   "metadata": {
    "collapsed": false,
    "ExecuteTime": {
     "end_time": "2024-04-19T21:35:34.891711Z",
     "start_time": "2024-04-19T21:35:34.656420Z"
    }
   },
   "id": "525d23510337bdd8"
  },
  {
   "cell_type": "code",
   "execution_count": 47,
   "outputs": [],
   "source": [
    "mlp_threshold_pruner.save(f'{MODELS_PATH}/mlp_threshold_pruner.mlpackage')"
   ],
   "metadata": {
    "collapsed": false,
    "ExecuteTime": {
     "end_time": "2024-04-19T21:35:36.468428Z",
     "start_time": "2024-04-19T21:35:36.447125Z"
    }
   },
   "id": "6e2edc3c4a2600e"
  },
  {
   "cell_type": "code",
   "execution_count": 48,
   "outputs": [
    {
     "name": "stdout",
     "output_type": "stream",
     "text": [
      "Accuracy: 0.9145494773785\n",
      "Size of the model: 0.12 KB\n"
     ]
    }
   ],
   "source": [
    "model_name = mlp_threshold_pruner\n",
    "model_path = f'{MODELS_PATH}/mlp_threshold_pruner.mlpackage'\n",
    "\n",
    "coreml_metrics(model_name, X_test, y_test, model_path)"
   ],
   "metadata": {
    "collapsed": false,
    "ExecuteTime": {
     "end_time": "2024-04-19T21:35:39.089835Z",
     "start_time": "2024-04-19T21:35:37.488802Z"
    }
   },
   "id": "1637c28b61d1a6f1"
  },
  {
   "cell_type": "markdown",
   "id": "c8327f59-5d63-4592-95b7-973dff37f749",
   "metadata": {},
   "source": [
    "### Palletization \n"
   ]
  },
  {
   "cell_type": "code",
   "execution_count": 49,
   "outputs": [
    {
     "name": "stderr",
     "output_type": "stream",
     "text": [
      "Running compression pass palettize_weights: 100%|██████████| 5/5 [00:00<00:00, 119.10 ops/s]\n",
      "Running MIL frontend_milinternal pipeline: 0 passes [00:00, ? passes/s]\n",
      "Running MIL default pipeline: 100%|██████████| 69/69 [00:00<00:00, 5271.24 passes/s]\n",
      "Running MIL backend_mlprogram pipeline: 100%|██████████| 12/12 [00:00<00:00, 7793.69 passes/s]\n"
     ]
    }
   ],
   "source": [
    "op_config = OpPalettizerConfig(\n",
    "    mode=\"kmeans\",\n",
    "    nbits=6\n",
    ")\n",
    "\n",
    "config = OptimizationConfig(global_config=op_config)\n",
    "mlp_palettizer = cto.palettize_weights(mlp_coreml_model, config=config)"
   ],
   "metadata": {
    "collapsed": false,
    "ExecuteTime": {
     "end_time": "2024-04-19T21:36:19.304361Z",
     "start_time": "2024-04-19T21:36:19.070205Z"
    }
   },
   "id": "30cbd9abf09699e4"
  },
  {
   "cell_type": "code",
   "execution_count": 51,
   "outputs": [],
   "source": [
    "mlp_palettizer.save(f'{MODELS_PATH}/mlp_palettizer.mlpackage')\n"
   ],
   "metadata": {
    "collapsed": false,
    "ExecuteTime": {
     "end_time": "2024-04-19T21:36:54.038151Z",
     "start_time": "2024-04-19T21:36:53.998306Z"
    }
   },
   "id": "fb383d86f20ec70e"
  },
  {
   "cell_type": "code",
   "execution_count": 52,
   "outputs": [
    {
     "name": "stdout",
     "output_type": "stream",
     "text": [
      "Accuracy: 0.912489509422446\n",
      "Size of the model: 0.12 KB\n"
     ]
    }
   ],
   "source": [
    "model_name = mlp_palettizer\n",
    "model_path = f'{MODELS_PATH}/mlp_palettizer.mlpackage'\n",
    "\n",
    "coreml_metrics(model_name, X_test, y_test, model_path)\n"
   ],
   "metadata": {
    "collapsed": false,
    "ExecuteTime": {
     "end_time": "2024-04-19T21:36:56.217420Z",
     "start_time": "2024-04-19T21:36:54.621094Z"
    }
   },
   "id": "5e137c3056550309"
  },
  {
   "cell_type": "code",
   "execution_count": 25,
   "id": "703a4a1a",
   "metadata": {
    "ExecuteTime": {
     "end_time": "2024-04-11T21:07:00.659433Z",
     "start_time": "2024-04-11T21:06:57.016448Z"
    }
   },
   "outputs": [
    {
     "name": "stderr",
     "output_type": "stream",
     "text": [
      "Running compression pass palettize_weights: 100%|██████████| 5/5 [00:03<00:00,  1.41 ops/s]\n",
      "Running MIL frontend_milinternal pipeline: 0 passes [00:00, ? passes/s]\n",
      "Running MIL default pipeline: 100%|██████████| 69/69 [00:00<00:00, 6051.12 passes/s]\n",
      "Running MIL backend_mlprogram pipeline: 100%|██████████| 12/12 [00:00<00:00, 9780.73 passes/s]\n"
     ]
    }
   ],
   "source": [
    "# define op config \n",
    "op_config = cto.OpPalettizerConfig(mode=\"kmeans\", nbits=6)\n",
    "\n",
    "# define optimization config by applying the op config globally to all ops \n",
    "config = cto.OptimizationConfig(global_config=op_config)\n",
    "\n",
    "# palettize weights\n",
    "#compressed_mlmodel = cto.palettize_weights(mlmodel, config)\n",
    "compressed_mlmodel = cto.palettize_weights(mlp_coreml_model, config)\n",
    "\n",
    "compressed_mlmodel.save(f'{MODELS_PATH}/mlp_palletization.mlpackage')"
   ]
  },
  {
   "cell_type": "code",
   "execution_count": 26,
   "id": "581e3766-f80a-4790-8a5f-ea85a5703350",
   "metadata": {
    "ExecuteTime": {
     "end_time": "2024-04-11T21:07:03.759491Z",
     "start_time": "2024-04-11T21:07:03.757143Z"
    }
   },
   "outputs": [],
   "source": [
    "import coremltools as ct\n",
    "import coremltools.optimize.coreml as cto\n",
    "\n",
    "compressed_mlmodel = ct.models.MLModel(f'{MODELS_PATH}/mlp_palletization.mlpackage')"
   ]
  },
  {
   "cell_type": "code",
   "execution_count": 53,
   "id": "9d8789d1-fa97-45f1-97f3-4ed7af6a87b6",
   "metadata": {
    "ExecuteTime": {
     "end_time": "2024-04-19T21:38:47.962137Z",
     "start_time": "2024-04-19T21:38:46.368663Z"
    }
   },
   "outputs": [
    {
     "name": "stdout",
     "output_type": "stream",
     "text": [
      "Accuracy: 0.912489509422446\n",
      "Size of the model: 0.12 KB\n"
     ]
    }
   ],
   "source": [
    "model_name = compressed_mlmodel\n",
    "model_path = f'{MODELS_PATH}/mlp_palletization.mlpackage'\n",
    "\n",
    "coreml_metrics(model_name, X_test, y_test, model_path)"
   ]
  },
  {
   "cell_type": "code",
   "execution_count": null,
   "outputs": [],
   "source": [],
   "metadata": {
    "collapsed": false
   },
   "id": "64c39471307c7e1d"
  }
 ],
 "metadata": {
  "kernelspec": {
   "name": "python3",
   "language": "python",
   "display_name": "Python 3 (ipykernel)"
  },
  "language_info": {
   "codemirror_mode": {
    "name": "ipython",
    "version": 3
   },
   "file_extension": ".py",
   "mimetype": "text/x-python",
   "name": "python",
   "nbconvert_exporter": "python",
   "pygments_lexer": "ipython3",
   "version": "3.8.18"
  }
 },
 "nbformat": 4,
 "nbformat_minor": 5
}
