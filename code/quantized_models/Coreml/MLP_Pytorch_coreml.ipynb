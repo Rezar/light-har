{
 "cells": [
  {
   "cell_type": "code",
   "execution_count": 1,
   "id": "91e4447f",
   "metadata": {},
   "outputs": [],
   "source": [
    "import torch\n",
    "import torch.nn as nn\n",
    "import torch.nn.functional as F\n",
    "from torch.utils.data import DataLoader, TensorDataset\n",
    "from torch.optim import Adam\n",
    "from sklearn.model_selection import train_test_split\n",
    "import numpy as np\n",
    "import pandas as pd\n",
    "from numpy import genfromtxt\n",
    "from sklearn.preprocessing import LabelEncoder"
   ]
  },
  {
   "cell_type": "code",
   "execution_count": 2,
   "id": "b8bbb39e",
   "metadata": {},
   "outputs": [],
   "source": [
    "# Load Data\n",
    "x = genfromtxt('../Data/WISDM_x.csv', delimiter=',')\n",
    "y_df = pd.read_csv('../Data/WISDM_y.csv')\n",
    "y = y_df.values.flatten()  # Flatten if y is 2D\n",
    "\n",
    "# Encode labels\n",
    "label_encoder = LabelEncoder()\n",
    "y_encoded = label_encoder.fit_transform(y)\n",
    "\n",
    "# Function to create time series dataset\n",
    "def create_series(x, y, timestep, overlap):\n",
    "    slide_step = int(timestep * (1 - overlap))\n",
    "    data_num = int((len(x) / slide_step) - 1)\n",
    "    dataset = np.ndarray(shape=(data_num, timestep, x.shape[1]))\n",
    "    labels = []\n",
    "\n",
    "    for i in range(data_num):\n",
    "        labels.append(y[slide_step * (i + 1) - 1])\n",
    "        for j in range(timestep):\n",
    "            dataset[i, j, :] = x[slide_step * i + j, :]\n",
    "\n",
    "    return dataset, np.array(labels)\n",
    "\n",
    "# Create time series\n",
    "timestep = 16  # Replace with your value\n",
    "overlap = 0.5  # Replace with your value\n",
    "X_series, y_series = create_series(x, y_encoded, timestep, overlap)"
   ]
  },
  {
   "cell_type": "code",
   "execution_count": 3,
   "id": "5cf3ae39",
   "metadata": {},
   "outputs": [],
   "source": [
    "# Split into train and test sets\n",
    "X_train, X_test, y_train, y_test = train_test_split(X_series, y_series, test_size=0.2, random_state=42)\n",
    "\n",
    "# Convert to PyTorch tensors\n",
    "x_train_tensor = torch.tensor(X_train, dtype=torch.float32)\n",
    "x_test_tensor = torch.tensor(X_test, dtype=torch.float32)\n",
    "y_train_tensor = torch.tensor(y_train, dtype=torch.long)\n",
    "y_test_tensor = torch.tensor(y_test, dtype=torch.long)"
   ]
  },
  {
   "cell_type": "code",
   "execution_count": 4,
   "id": "a5ab7d9f",
   "metadata": {},
   "outputs": [
    {
     "name": "stdout",
     "output_type": "stream",
     "text": [
      "X_train.shape:(109820, 16, 3), X_test.shape:(27455, 16, 3), y_train.shape:(109820,), y_test.shape:(27455,)\n"
     ]
    }
   ],
   "source": [
    "print(f'X_train.shape:{X_train.shape}, X_test.shape:{X_test.shape}, y_train.shape:{y_train.shape}, y_test.shape:{y_test.shape}')"
   ]
  },
  {
   "cell_type": "code",
   "execution_count": 5,
   "id": "1a3711d6",
   "metadata": {},
   "outputs": [],
   "source": [
    "# Define the MLP model\n",
    "class MyMLP(nn.Module):\n",
    "    def __init__(self, input_size, num_classes=6):\n",
    "        super(MyMLP, self).__init__()\n",
    "        self.flatten = nn.Flatten()\n",
    "        self.fc1 = nn.Linear(input_size, 128)\n",
    "        self.fc2 = nn.Linear(128, 64)\n",
    "        self.fc3 = nn.Linear(64, num_classes)\n",
    "\n",
    "    def forward(self, x):\n",
    "        x = self.flatten(x)\n",
    "        x = F.relu(self.fc1(x))\n",
    "        x = F.relu(self.fc2(x))\n",
    "        return self.fc3(x)\n",
    "\n",
    "# Model Initialization\n",
    "input_size = timestep * X_series.shape[2]  # Calculate input size\n",
    "model = MyMLP(input_size)\n",
    "\n",
    "# DataLoader\n",
    "train_dataset = TensorDataset(x_train_tensor, y_train_tensor)\n",
    "train_loader = DataLoader(train_dataset, batch_size=64, shuffle=True)\n",
    "\n"
   ]
  },
  {
   "cell_type": "code",
   "execution_count": 6,
   "id": "3fed4e2a",
   "metadata": {},
   "outputs": [
    {
     "name": "stdout",
     "output_type": "stream",
     "text": [
      "Epoch 0, Loss: 0.5021717630170442\n",
      "Epoch 1, Loss: 0.36609900722796823\n",
      "Epoch 2, Loss: 0.31904657409116105\n",
      "Epoch 3, Loss: 0.29136974481748534\n",
      "Epoch 4, Loss: 0.2719781262613399\n",
      "Epoch 5, Loss: 0.25419779397147796\n",
      "Epoch 6, Loss: 0.2422728936289956\n",
      "Epoch 7, Loss: 0.22908410076746644\n",
      "Epoch 8, Loss: 0.2196793676221565\n",
      "Epoch 9, Loss: 0.21247534934726559\n",
      "Epoch 10, Loss: 0.20520914606923685\n",
      "Epoch 11, Loss: 0.19735367139171817\n",
      "Epoch 12, Loss: 0.19158412968969984\n",
      "Epoch 13, Loss: 0.18667062871822424\n",
      "Epoch 14, Loss: 0.1815280131507222\n",
      "Epoch 15, Loss: 0.1771163104670795\n",
      "Epoch 16, Loss: 0.1735728815673375\n",
      "Epoch 17, Loss: 0.17065010669734546\n",
      "Epoch 18, Loss: 0.16690869244045659\n",
      "Epoch 19, Loss: 0.16357700967192998\n",
      "Epoch 20, Loss: 0.16093596258246295\n",
      "Epoch 21, Loss: 0.15654324774200526\n",
      "Epoch 22, Loss: 0.15464142740580378\n",
      "Epoch 23, Loss: 0.1527086095596796\n",
      "Epoch 24, Loss: 0.14820801055315005\n",
      "Epoch 25, Loss: 0.14857439270963793\n",
      "Epoch 26, Loss: 0.1447292214242138\n",
      "Epoch 27, Loss: 0.1430949682672671\n",
      "Epoch 28, Loss: 0.14234246628408892\n",
      "Epoch 29, Loss: 0.14001134556874476\n",
      "Epoch 30, Loss: 0.1384476478269111\n",
      "Epoch 31, Loss: 0.13605811832948111\n",
      "Epoch 32, Loss: 0.13571122186236725\n",
      "Epoch 33, Loss: 0.13307839523380002\n",
      "Epoch 34, Loss: 0.1335146818548823\n",
      "Epoch 35, Loss: 0.1300039512940003\n",
      "Epoch 36, Loss: 0.12935482122173364\n",
      "Epoch 37, Loss: 0.1279048838591342\n",
      "Epoch 38, Loss: 0.1255785761675678\n",
      "Epoch 39, Loss: 0.12445517150318307\n",
      "Epoch 40, Loss: 0.1256862358284554\n",
      "Epoch 41, Loss: 0.12306387632996243\n",
      "Epoch 42, Loss: 0.12329476031676664\n",
      "Epoch 43, Loss: 0.1194198802677971\n",
      "Epoch 44, Loss: 0.12114317392678563\n",
      "Epoch 45, Loss: 0.11927402928734246\n",
      "Epoch 46, Loss: 0.11725312896617764\n",
      "Epoch 47, Loss: 0.11678738560796756\n",
      "Epoch 48, Loss: 0.11623886095263315\n",
      "Epoch 49, Loss: 0.11676644208940888\n",
      "Epoch 50, Loss: 0.11383263652792552\n",
      "Epoch 51, Loss: 0.11233042153048965\n",
      "Epoch 52, Loss: 0.11312823083755368\n",
      "Epoch 53, Loss: 0.11231446073776967\n",
      "Epoch 54, Loss: 0.11123008861223839\n",
      "Epoch 55, Loss: 0.10950336240053976\n",
      "Epoch 56, Loss: 0.10812352517009702\n",
      "Epoch 57, Loss: 0.10861404253536779\n",
      "Epoch 58, Loss: 0.10888450439218302\n",
      "Epoch 59, Loss: 0.10502903776662316\n",
      "Epoch 60, Loss: 0.10704888275928691\n",
      "Epoch 61, Loss: 0.10661718238954865\n",
      "Epoch 62, Loss: 0.10571989290457488\n",
      "Epoch 63, Loss: 0.1056802012300388\n",
      "Epoch 64, Loss: 0.10442466462993807\n",
      "Epoch 65, Loss: 0.10267475139407228\n",
      "Epoch 66, Loss: 0.10397275105891597\n",
      "Epoch 67, Loss: 0.10232507464848242\n",
      "Epoch 68, Loss: 0.10114731167815952\n",
      "Epoch 69, Loss: 0.10137028492621357\n",
      "Epoch 70, Loss: 0.09885920854616424\n",
      "Epoch 71, Loss: 0.10031787650893054\n",
      "Epoch 72, Loss: 0.09876196510684926\n",
      "Epoch 73, Loss: 0.09960561559322813\n",
      "Epoch 74, Loss: 0.09952475161005098\n",
      "Epoch 75, Loss: 0.09788909978841134\n",
      "Epoch 76, Loss: 0.09847103481236325\n",
      "Epoch 77, Loss: 0.09668589010604034\n",
      "Epoch 78, Loss: 0.09917232556874259\n",
      "Epoch 79, Loss: 0.0956287810631587\n",
      "Epoch 80, Loss: 0.09456797583068836\n",
      "Epoch 81, Loss: 0.0958330149565322\n",
      "Epoch 82, Loss: 0.09343893552038358\n",
      "Epoch 83, Loss: 0.09510308794871554\n",
      "Epoch 84, Loss: 0.09280301992062888\n",
      "Epoch 85, Loss: 0.09161981220122661\n",
      "Epoch 86, Loss: 0.09449614050061635\n",
      "Epoch 87, Loss: 0.09162262081964233\n",
      "Epoch 88, Loss: 0.0923931245810932\n",
      "Epoch 89, Loss: 0.09071044409501047\n",
      "Epoch 90, Loss: 0.09201003213837473\n",
      "Epoch 91, Loss: 0.09166878802915666\n",
      "Epoch 92, Loss: 0.09002603787471843\n",
      "Epoch 93, Loss: 0.08878338756202557\n",
      "Epoch 94, Loss: 0.09119820954630342\n",
      "Epoch 95, Loss: 0.08874867145636386\n",
      "Epoch 96, Loss: 0.08989753907381955\n",
      "Epoch 97, Loss: 0.08873162688760712\n",
      "Epoch 98, Loss: 0.0887037685840002\n",
      "Epoch 99, Loss: 0.08883981208009255\n"
     ]
    }
   ],
   "source": [
    "# Loss and optimizer\n",
    "criterion = nn.CrossEntropyLoss()\n",
    "optimizer = Adam(model.parameters(), lr=0.001)\n",
    "\n",
    "# Training function\n",
    "def train(model, train_loader, criterion, optimizer, epochs=100):\n",
    "    model.train()\n",
    "    for epoch in range(epochs):\n",
    "        total_loss = 0\n",
    "        for data, target in train_loader:\n",
    "            optimizer.zero_grad()\n",
    "            output = model(data)\n",
    "            loss = criterion(output, target)\n",
    "            loss.backward()\n",
    "            optimizer.step()\n",
    "            total_loss += loss.item()\n",
    "        print(f'Epoch {epoch}, Loss: {total_loss / len(train_loader)}')\n",
    "\n",
    "# Train the model\n",
    "train(model, train_loader, criterion, optimizer)\n",
    "\n",
    "#\n",
    "model_path = \"/Users/sandeep/Desktop/BUCourses/Project/saved_models/Pytorch/MLP_base.pth\"\n",
    "torch.save(model.state_dict(), model_path)\n"
   ]
  },
  {
   "cell_type": "code",
   "execution_count": 7,
   "id": "74ae418a",
   "metadata": {},
   "outputs": [
    {
     "name": "stdout",
     "output_type": "stream",
     "text": [
      "Test set: Average loss: 0.4590757123318377, Accuracy: 25037/27455 (91%)\n"
     ]
    }
   ],
   "source": [
    "def evaluate(model, test_loader, criterion):\n",
    "    model.eval()\n",
    "    total_loss = 0\n",
    "    correct = 0\n",
    "    with torch.no_grad():\n",
    "        for data, target in test_loader:\n",
    "            output = model(data)\n",
    "            loss = criterion(output, target)\n",
    "            total_loss += loss.item()\n",
    "            pred = output.data.max(1, keepdim=True)[1]\n",
    "            correct += pred.eq(target.data.view_as(pred)).sum()\n",
    "    accuracy = 100. * correct / len(test_loader.dataset)\n",
    "    print(f'Test set: Average loss: {total_loss / len(test_loader)}, Accuracy: {correct}/{len(test_loader.dataset)} ({accuracy:.0f}%)')\n",
    "\n",
    "# DataLoader for test set\n",
    "test_dataset = TensorDataset(x_test_tensor, y_test_tensor)\n",
    "test_loader = DataLoader(test_dataset, batch_size=64, shuffle=True)\n",
    "\n",
    "# Evaluate the model\n",
    "evaluate(model, test_loader, criterion)\n"
   ]
  },
  {
   "cell_type": "markdown",
   "id": "c00f05aa-36d2-4fee-923e-e5cf8c03ed21",
   "metadata": {},
   "source": [
    "#### Coreml evaluation"
   ]
  },
  {
   "cell_type": "code",
   "execution_count": 22,
   "id": "3968e717-ec01-4259-88dc-ced920ea3d41",
   "metadata": {},
   "outputs": [],
   "source": [
    "from pathlib import Path\n",
    "\n",
    "def coreml_metrics(model_name, X_test, y_test, model_path):\n",
    "    predictions = []\n",
    "    for id in range(len(X_test)):\n",
    "        X_test_new = np.expand_dims(X_test[id], axis=0)\n",
    "        output_dict = model_name.predict({'x': X_test_new})\n",
    "        pred_class = np.argmax(output_dict['linear_2'])\n",
    "        predictions.append(pred_class)\n",
    "    \n",
    "    accuracy = np.sum(predictions == y_test) / len(predictions)\n",
    "    print(\"Accuracy:\", accuracy)\n",
    "    \n",
    "    model_file = Path(model_path)\n",
    "    \n",
    "    # Size in bytes\n",
    "    model_size_bytes = model_file.stat().st_size\n",
    "    \n",
    "    # Convert size to kilobytes (optional)\n",
    "    model_size_kb = model_size_bytes / 1024\n",
    "    print(f\"Size of the model: {model_size_kb:.2f} KB\")"
   ]
  },
  {
   "cell_type": "markdown",
   "id": "d279de98-309b-413d-bf17-25a121c6ba39",
   "metadata": {},
   "source": [
    "### Convert to Coreml"
   ]
  },
  {
   "cell_type": "code",
   "execution_count": 25,
   "id": "bbee7f1b",
   "metadata": {},
   "outputs": [
    {
     "name": "stderr",
     "output_type": "stream",
     "text": [
      "Converting PyTorch Frontend ==> MIL Ops:  88%|██████████████████████████████████████████▉      | 7/8 [00:00<00:00, 2784.53 ops/s]\n",
      "Running MIL frontend_pytorch pipeline: 100%|███████████████████████████████████████████████| 5/5 [00:00<00:00, 12787.51 passes/s]\n",
      "Running MIL default pipeline: 100%|███████████████████████████████████████████████████████| 71/71 [00:00<00:00, 3458.84 passes/s]\n",
      "Running MIL backend_mlprogram pipeline: 100%|█████████████████████████████████████████████| 12/12 [00:00<00:00, 7308.21 passes/s]\n"
     ]
    }
   ],
   "source": [
    "import coremltools as ct\n",
    "example_input = torch.rand(1,16, 3) \n",
    "\n",
    "model.eval()\n",
    "traced_model = torch.jit.trace(model, example_input)\n",
    "out = traced_model(example_input)\n",
    "\n",
    "# Convert to Core ML program using the Unified Conversion API.\n",
    "mlp_coreml_model = ct.convert(\n",
    "    traced_model,\n",
    "    convert_to=\"mlprogram\",\n",
    "    inputs=[ct.TensorType(shape=example_input.shape)]\n",
    " )\n",
    "\n",
    "# Save the converted model.\n",
    "mlp_coreml_model.save(\"mlp.mlpackage\")"
   ]
  },
  {
   "cell_type": "code",
   "execution_count": 26,
   "id": "0e3b08e0",
   "metadata": {},
   "outputs": [],
   "source": [
    "import coremltools as ct\n",
    "import coremltools.optimize.coreml as cto\n",
    "\n",
    "mlp_coreml_model = ct.models.MLModel(\"mlp.mlpackage\")"
   ]
  },
  {
   "cell_type": "code",
   "execution_count": 27,
   "id": "89abcd0c-b4fd-4e9e-899c-a89eb13556b1",
   "metadata": {},
   "outputs": [
    {
     "name": "stdout",
     "output_type": "stream",
     "text": [
      "Accuracy: 0.9117829175013659\n",
      "Size of the model: 0.12 KB\n"
     ]
    }
   ],
   "source": [
    "model_name = mlp_coreml_model\n",
    "model_path = \"mlp.mlpackage\"\n",
    "\n",
    "coreml_metrics(model_name, X_test, y_test, model_path)"
   ]
  },
  {
   "cell_type": "code",
   "execution_count": 42,
   "id": "dde7d74f-e985-40e6-8b84-86f68dce0144",
   "metadata": {},
   "outputs": [
    {
     "data": {
      "text/plain": [
       "128"
      ]
     },
     "execution_count": 42,
     "metadata": {},
     "output_type": "execute_result"
    }
   ],
   "source": [
    "import os\n",
    "os.path.getsize(\"/Users/sandeep/Desktop/BUCourses/Project/light-har/code/\" + \"mlp.mlpackage\")\n"
   ]
  },
  {
   "cell_type": "markdown",
   "id": "c8327f59-5d63-4592-95b7-973dff37f749",
   "metadata": {},
   "source": [
    "### Palletization example \n"
   ]
  },
  {
   "cell_type": "code",
   "execution_count": 43,
   "id": "703a4a1a",
   "metadata": {},
   "outputs": [
    {
     "name": "stderr",
     "output_type": "stream",
     "text": [
      "Running compression pass palettize_weights: 100%|███████████████████████████████████████████████| 5/5 [00:00<00:00, 121.25 ops/s]\n",
      "Running MIL frontend_milinternal pipeline: 0 passes [00:00, ? passes/s]\n",
      "Running MIL default pipeline: 100%|███████████████████████████████████████████████████████| 69/69 [00:00<00:00, 7047.36 passes/s]\n",
      "Running MIL backend_mlprogram pipeline: 100%|████████████████████████████████████████████| 12/12 [00:00<00:00, 11037.64 passes/s]\n"
     ]
    }
   ],
   "source": [
    "# define op config \n",
    "op_config = cto.OpPalettizerConfig(mode=\"kmeans\", nbits=6)\n",
    "\n",
    "# define optimization config by applying the op config globally to all ops \n",
    "config = cto.OptimizationConfig(global_config=op_config)\n",
    "\n",
    "# palettize weights\n",
    "compressed_mlmodel = cto.palettize_weights(mlmodel, config)\n",
    "\n",
    "compressed_mlmodel.save(\"mlp_palletization.mlpackage\")"
   ]
  },
  {
   "cell_type": "code",
   "execution_count": 13,
   "id": "581e3766-f80a-4790-8a5f-ea85a5703350",
   "metadata": {},
   "outputs": [],
   "source": [
    "import coremltools as ct\n",
    "import coremltools.optimize.coreml as cto\n",
    "\n",
    "compressed_mlmodel = ct.models.MLModel(\"mlp_palletization.mlpackage\")"
   ]
  },
  {
   "cell_type": "code",
   "execution_count": 14,
   "id": "9d8789d1-fa97-45f1-97f3-4ed7af6a87b6",
   "metadata": {},
   "outputs": [
    {
     "name": "stdout",
     "output_type": "stream",
     "text": [
      "Accuracy: 0.9098160626479694\n",
      "Size of the model: 0.12 KB\n"
     ]
    }
   ],
   "source": [
    "model_name = compressed_mlmodel\n",
    "model_path = \"mlp_palletization.mlpackage\"\n",
    "\n",
    "coreml_metrics(model_name, X_test, y_test, model_path)"
   ]
  },
  {
   "cell_type": "markdown",
   "id": "73eb55cd-2684-428a-9d9f-b0bd1026a805",
   "metadata": {},
   "source": [
    "### Pruning in Coreml"
   ]
  },
  {
   "cell_type": "markdown",
   "id": "9d078937-347c-46f6-a23d-19de466d15a4",
   "metadata": {},
   "source": [
    "#### OpThresholdPrunerConfig: Sets all weight values below a certain value."
   ]
  },
  {
   "cell_type": "code",
   "execution_count": 15,
   "id": "f43983c6-5b93-4d72-a04c-e6a6926e6513",
   "metadata": {},
   "outputs": [
    {
     "name": "stderr",
     "output_type": "stream",
     "text": [
      "Running compression pass prune_weights:   0%|                                                            | 0/5 [00:00<?, ? ops/s]weight value has sparsity of 0.0017903645833333333 < minimum_sparsity_percentile 0.01. Skipped.\n",
      "weight value has sparsity of 0.002197265625 < minimum_sparsity_percentile 0.01. Skipped.\n",
      "Running compression pass prune_weights: 100%|██████████████████████████████████████████████████| 5/5 [00:00<00:00, 5939.26 ops/s]\n",
      "Running MIL frontend_milinternal pipeline: 0 passes [00:00, ? passes/s]\n",
      "Running MIL default pipeline: 100%|███████████████████████████████████████████████████████| 69/69 [00:00<00:00, 6711.20 passes/s]\n",
      "Running MIL backend_mlprogram pipeline: 100%|████████████████████████████████████████████| 12/12 [00:00<00:00, 22682.13 passes/s]\n"
     ]
    }
   ],
   "source": [
    "from coremltools.optimize.coreml import (\n",
    "    OpThresholdPrunerConfig,\n",
    "    OptimizationConfig,\n",
    "    prune_weights,\n",
    ")\n",
    "\n",
    "op_config = OpThresholdPrunerConfig(\n",
    "    threshold=0.001,\n",
    "    minimum_sparsity_percentile=0.01,\n",
    "    weight_threshold=1024,\n",
    ")\n",
    "config = OptimizationConfig(global_config=op_config)\n",
    "pruned_model = prune_weights(mlmodel, config=config)\n"
   ]
  },
  {
   "cell_type": "code",
   "execution_count": 16,
   "id": "2b321287",
   "metadata": {},
   "outputs": [],
   "source": [
    "pruned_model.save(\"pruned_mlmodel.mlpackage\")"
   ]
  },
  {
   "cell_type": "code",
   "execution_count": 17,
   "id": "f0a3d5cd",
   "metadata": {},
   "outputs": [
    {
     "name": "stdout",
     "output_type": "stream",
     "text": [
      "Accuracy: 0.9117829175013659\n",
      "Size of the model: 0.12 KB\n"
     ]
    }
   ],
   "source": [
    "model_name = pruned_model\n",
    "model_path = \"pruned_mlmodel.mlpackage\"\n",
    "\n",
    "coreml_metrics(model_name, X_test, y_test, model_path)"
   ]
  },
  {
   "cell_type": "markdown",
   "id": "a4c5139c-4da0-4252-905f-bfbc0023812e",
   "metadata": {},
   "source": [
    "#### OpMagnitudePrunerConfig: Prune the weights with a constant sparsity percentile"
   ]
  },
  {
   "cell_type": "code",
   "execution_count": 18,
   "id": "ce145e85-a39e-422a-9b3e-68b5025257ea",
   "metadata": {},
   "outputs": [
    {
     "name": "stderr",
     "output_type": "stream",
     "text": [
      "Running compression pass prune_weights: 100%|██████████████████████████████████████████████████| 5/5 [00:00<00:00, 2313.46 ops/s]\n",
      "Running MIL frontend_milinternal pipeline: 0 passes [00:00, ? passes/s]\n",
      "Running MIL default pipeline: 100%|███████████████████████████████████████████████████████| 69/69 [00:00<00:00, 6662.22 passes/s]\n",
      "Running MIL backend_mlprogram pipeline: 100%|████████████████████████████████████████████| 12/12 [00:00<00:00, 16485.96 passes/s]\n"
     ]
    }
   ],
   "source": [
    "from coremltools.optimize.coreml import (\n",
    "    OpMagnitudePrunerConfig,\n",
    "    OptimizationConfig,\n",
    "    prune_weights,\n",
    ")\n",
    "\n",
    "op_config = OpMagnitudePrunerConfig(\n",
    "    target_sparsity=0.6,\n",
    "    weight_threshold=1024,\n",
    ")\n",
    "config = OptimizationConfig(global_config=op_config)\n",
    "magnitude_pruner = prune_weights(mlmodel, config=config)\n"
   ]
  },
  {
   "cell_type": "code",
   "execution_count": 28,
   "id": "7885ed75-cfa8-4190-b4ed-73bde31c581b",
   "metadata": {},
   "outputs": [],
   "source": [
    "magnitude_pruner.save(\"magnitude_pruner.mlpackage\")"
   ]
  },
  {
   "cell_type": "code",
   "execution_count": 29,
   "id": "42a71ccc-f243-4577-b852-ef1b833c07e4",
   "metadata": {},
   "outputs": [
    {
     "name": "stdout",
     "output_type": "stream",
     "text": [
      "Accuracy: 0.6382808231651794\n",
      "Size of the model: 0.12 KB\n"
     ]
    }
   ],
   "source": [
    "model_name = magnitude_pruner\n",
    "model_path = \"magnitude_pruner.mlpackage\"\n",
    "\n",
    "coreml_metrics(model_name, X_test, y_test, model_path)"
   ]
  },
  {
   "cell_type": "markdown",
   "id": "5b9a535d-1ba6-418c-9582-bd9113ddebb1",
   "metadata": {},
   "source": [
    "### Quantization"
   ]
  },
  {
   "cell_type": "code",
   "execution_count": 30,
   "id": "c194297c",
   "metadata": {},
   "outputs": [
    {
     "name": "stderr",
     "output_type": "stream",
     "text": [
      "Running compression pass linear_quantize_weights: 100%|████████████████████████████████████████| 5/5 [00:00<00:00, 2041.82 ops/s]\n",
      "Running MIL frontend_milinternal pipeline: 0 passes [00:00, ? passes/s]\n",
      "Running MIL default pipeline: 100%|███████████████████████████████████████████████████████| 69/69 [00:00<00:00, 4192.66 passes/s]\n",
      "Running MIL backend_mlprogram pipeline: 100%|█████████████████████████████████████████████| 12/12 [00:00<00:00, 7233.64 passes/s]\n"
     ]
    }
   ],
   "source": [
    "import coremltools.optimize.coreml as cto\n",
    "\n",
    "op_config = cto.OpLinearQuantizerConfig(mode=\"linear_symmetric\", weight_threshold=512)\n",
    "config = cto.OptimizationConfig(global_config=op_config)\n",
    "\n",
    "compressed_8_bit_model = cto.linear_quantize_weights(mlmodel, config=config)\n"
   ]
  },
  {
   "cell_type": "code",
   "execution_count": 31,
   "id": "633ef5db",
   "metadata": {},
   "outputs": [],
   "source": [
    "compressed_8_bit_model.save(\"8bitQuantized_mlmodel.mlpackage\")"
   ]
  },
  {
   "cell_type": "code",
   "execution_count": 32,
   "id": "ee0e4d9e",
   "metadata": {},
   "outputs": [
    {
     "name": "stdout",
     "output_type": "stream",
     "text": [
      "Accuracy: 0.9114186851211072\n",
      "Size of the model: 0.12 KB\n"
     ]
    }
   ],
   "source": [
    "model_name = compressed_8_bit_model\n",
    "model_path = \"8bitQuantized_mlmodel.mlpackage\"\n",
    "\n",
    "coreml_metrics(model_name, X_test, y_test, model_path)"
   ]
  }
 ],
 "metadata": {
  "kernelspec": {
   "display_name": "deepL",
   "language": "python",
   "name": "deepl"
  },
  "language_info": {
   "codemirror_mode": {
    "name": "ipython",
    "version": 3
   },
   "file_extension": ".py",
   "mimetype": "text/x-python",
   "name": "python",
   "nbconvert_exporter": "python",
   "pygments_lexer": "ipython3",
   "version": "3.8.18"
  }
 },
 "nbformat": 4,
 "nbformat_minor": 5
}
