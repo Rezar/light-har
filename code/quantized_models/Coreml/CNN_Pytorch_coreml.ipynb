{
 "cells": [
  {
   "cell_type": "code",
   "execution_count": 1,
   "outputs": [
    {
     "name": "stdout",
     "output_type": "stream",
     "text": [
      "Requirement already satisfied: torch in /opt/homebrew/lib/python3.10/site-packages (2.0.0)\r\n",
      "Requirement already satisfied: filelock in /opt/homebrew/lib/python3.10/site-packages (from torch) (3.13.4)\r\n",
      "Requirement already satisfied: typing-extensions in /opt/homebrew/lib/python3.10/site-packages (from torch) (4.11.0)\r\n",
      "Requirement already satisfied: sympy in /opt/homebrew/lib/python3.10/site-packages (from torch) (1.12)\r\n",
      "Requirement already satisfied: networkx in /opt/homebrew/lib/python3.10/site-packages (from torch) (3.3)\r\n",
      "Requirement already satisfied: jinja2 in /opt/homebrew/lib/python3.10/site-packages (from torch) (3.1.3)\r\n",
      "Requirement already satisfied: MarkupSafe>=2.0 in /opt/homebrew/lib/python3.10/site-packages (from jinja2->torch) (2.1.5)\r\n",
      "Requirement already satisfied: mpmath>=0.19 in /opt/homebrew/lib/python3.10/site-packages (from sympy->torch) (1.3.0)\r\n",
      "Note: you may need to restart the kernel to use updated packages.\n",
      "Requirement already satisfied: numpy in /opt/homebrew/lib/python3.10/site-packages (1.26.4)\r\n",
      "Note: you may need to restart the kernel to use updated packages.\n",
      "Requirement already satisfied: pandas in /opt/homebrew/lib/python3.10/site-packages (2.2.2)\r\n",
      "Requirement already satisfied: numpy>=1.22.4 in /opt/homebrew/lib/python3.10/site-packages (from pandas) (1.26.4)\r\n",
      "Requirement already satisfied: python-dateutil>=2.8.2 in /opt/homebrew/lib/python3.10/site-packages (from pandas) (2.9.0.post0)\r\n",
      "Requirement already satisfied: pytz>=2020.1 in /opt/homebrew/lib/python3.10/site-packages (from pandas) (2024.1)\r\n",
      "Requirement already satisfied: tzdata>=2022.7 in /opt/homebrew/lib/python3.10/site-packages (from pandas) (2024.1)\r\n",
      "Requirement already satisfied: six>=1.5 in /opt/homebrew/lib/python3.10/site-packages (from python-dateutil>=2.8.2->pandas) (1.16.0)\r\n",
      "Note: you may need to restart the kernel to use updated packages.\n",
      "Requirement already satisfied: scikit-learn in /opt/homebrew/lib/python3.10/site-packages (1.1.2)\r\n",
      "Requirement already satisfied: numpy>=1.17.3 in /opt/homebrew/lib/python3.10/site-packages (from scikit-learn) (1.26.4)\r\n",
      "Requirement already satisfied: scipy>=1.3.2 in /opt/homebrew/lib/python3.10/site-packages (from scikit-learn) (1.13.0)\r\n",
      "Requirement already satisfied: joblib>=1.0.0 in /opt/homebrew/lib/python3.10/site-packages (from scikit-learn) (1.4.0)\r\n",
      "Requirement already satisfied: threadpoolctl>=2.0.0 in /opt/homebrew/lib/python3.10/site-packages (from scikit-learn) (3.4.0)\r\n",
      "Note: you may need to restart the kernel to use updated packages.\n",
      "Requirement already satisfied: coremltools in /opt/homebrew/lib/python3.10/site-packages (7.1)\r\n",
      "Requirement already satisfied: numpy>=1.14.5 in /opt/homebrew/lib/python3.10/site-packages (from coremltools) (1.26.4)\r\n",
      "Requirement already satisfied: protobuf<=4.0.0,>=3.1.0 in /opt/homebrew/lib/python3.10/site-packages (from coremltools) (3.20.3)\r\n",
      "Requirement already satisfied: sympy in /opt/homebrew/lib/python3.10/site-packages (from coremltools) (1.12)\r\n",
      "Requirement already satisfied: tqdm in /opt/homebrew/lib/python3.10/site-packages (from coremltools) (4.66.2)\r\n",
      "Requirement already satisfied: packaging in /opt/homebrew/lib/python3.10/site-packages (from coremltools) (24.0)\r\n",
      "Requirement already satisfied: attrs>=21.3.0 in /opt/homebrew/lib/python3.10/site-packages (from coremltools) (23.2.0)\r\n",
      "Requirement already satisfied: cattrs in /opt/homebrew/lib/python3.10/site-packages (from coremltools) (23.2.3)\r\n",
      "Requirement already satisfied: pyaml in /opt/homebrew/lib/python3.10/site-packages (from coremltools) (23.12.0)\r\n",
      "Requirement already satisfied: exceptiongroup>=1.1.1 in /opt/homebrew/lib/python3.10/site-packages (from cattrs->coremltools) (1.2.0)\r\n",
      "Requirement already satisfied: typing-extensions!=4.6.3,>=4.1.0 in /opt/homebrew/lib/python3.10/site-packages (from cattrs->coremltools) (4.11.0)\r\n",
      "Requirement already satisfied: PyYAML in /opt/homebrew/lib/python3.10/site-packages (from pyaml->coremltools) (6.0.1)\r\n",
      "Requirement already satisfied: mpmath>=0.19 in /opt/homebrew/lib/python3.10/site-packages (from sympy->coremltools) (1.3.0)\r\n",
      "Note: you may need to restart the kernel to use updated packages.\n"
     ]
    }
   ],
   "source": [
    "%pip install torch\n",
    "%pip install numpy\n",
    "%pip install pandas\n",
    "%pip install scikit-learn\n",
    "%pip install coremltools"
   ],
   "metadata": {
    "collapsed": false,
    "ExecuteTime": {
     "end_time": "2024-04-11T18:33:18.586184Z",
     "start_time": "2024-04-11T18:33:13.861473Z"
    }
   },
   "id": "828ab5aa6d06636c"
  },
  {
   "cell_type": "code",
   "execution_count": 31,
   "id": "8fee4936",
   "metadata": {
    "ExecuteTime": {
     "end_time": "2024-04-11T20:45:29.464299Z",
     "start_time": "2024-04-11T20:45:29.447636Z"
    }
   },
   "outputs": [],
   "source": [
    "import os\n",
    "import torch\n",
    "import torch.nn as nn\n",
    "from torch.utils.data import DataLoader, TensorDataset\n",
    "from sklearn.model_selection import train_test_split\n",
    "import numpy as np\n",
    "import pandas as pd\n",
    "from numpy import genfromtxt\n",
    "from sklearn.preprocessing import LabelEncoder"
   ]
  },
  {
   "cell_type": "code",
   "execution_count": 32,
   "outputs": [],
   "source": [
    "# Set up the paths\n",
    "HOME_PATH = os.path.expanduser('~')\n",
    "MODELS_PATH = f'{HOME_PATH}/Developer/BU/research/models'\n",
    "DATASET_PATH = f'../../../data/'\n",
    "data_features = f'{DATASET_PATH}/WISDM_x.csv'\n",
    "data_labels = f'{DATASET_PATH}/WISDM_y.csv'"
   ],
   "metadata": {
    "collapsed": false,
    "ExecuteTime": {
     "end_time": "2024-04-11T20:45:29.936772Z",
     "start_time": "2024-04-11T20:45:29.934111Z"
    }
   },
   "id": "3f410ef183552f"
  },
  {
   "cell_type": "code",
   "execution_count": 30,
   "id": "15c2ac40",
   "metadata": {
    "ExecuteTime": {
     "end_time": "2024-04-11T20:05:15.685387Z",
     "start_time": "2024-04-11T20:05:13.481822Z"
    }
   },
   "outputs": [],
   "source": [
    "# Load Data\n",
    "x = genfromtxt(data_features, delimiter=',')\n",
    "y_df = pd.read_csv(data_labels)\n",
    "y = y_df.values.flatten()  # Flatten if y is 2D\n",
    "\n",
    "# Encode labels\n",
    "label_encoder = LabelEncoder()\n",
    "y_encoded = label_encoder.fit_transform(y)\n",
    "\n",
    "# Function to create time series dataset\n",
    "def create_series(x, y, timestep, overlap):\n",
    "    slide_step = int(timestep * (1 - overlap))\n",
    "    data_num = int((len(x) / slide_step) - 1)\n",
    "    dataset = np.ndarray(shape=(data_num, timestep, x.shape[1]))\n",
    "    labels = []\n",
    "\n",
    "    for i in range(data_num):\n",
    "        labels.append(y[slide_step * (i + 1) - 1])\n",
    "        for j in range(timestep):\n",
    "            dataset[i, j, :] = x[slide_step * i + j, :]\n",
    "\n",
    "    return dataset, np.array(labels)\n",
    "\n",
    "# Create time series\n",
    "timestep = 16  # Replace with your value\n",
    "overlap = 0.5  # Replace with your value\n",
    "X_series, y_series = create_series(x, y_encoded, timestep, overlap)"
   ]
  },
  {
   "cell_type": "code",
   "execution_count": 4,
   "id": "7842f098",
   "metadata": {
    "ExecuteTime": {
     "end_time": "2024-04-11T18:33:41.368301Z",
     "start_time": "2024-04-11T18:33:41.344736Z"
    }
   },
   "outputs": [
    {
     "name": "stdout",
     "output_type": "stream",
     "text": [
      "X_train shape:(104856, 16, 3), X_test shape:(26214, 16, 3), y_train shape:(104856,), y_test shape:(26214,)\n"
     ]
    }
   ],
   "source": [
    "# Split into train and test sets\n",
    "X_train, X_test, y_train, y_test = train_test_split(X_series, y_series, test_size=0.2, random_state=42)\n",
    "print(f'X_train shape:{X_train.shape}, X_test shape:{X_test.shape}, y_train shape:{y_train.shape}, y_test shape:{y_test.shape}')"
   ]
  },
  {
   "cell_type": "code",
   "execution_count": 5,
   "id": "6f4e9ec9",
   "metadata": {
    "ExecuteTime": {
     "end_time": "2024-04-11T18:33:43.312023Z",
     "start_time": "2024-04-11T18:33:43.304663Z"
    }
   },
   "outputs": [],
   "source": [
    "class MyModel(nn.Module):\n",
    "    def __init__(self, n_input, n_steps):\n",
    "        super(MyModel, self).__init__()\n",
    "        self.conv1 = nn.Conv1d(in_channels=n_input, out_channels=256, kernel_size=3)\n",
    "        self.conv2 = nn.Conv1d(in_channels=256, out_channels=128, kernel_size=3)\n",
    "        self.conv3 = nn.Conv1d(in_channels=128, out_channels=64, kernel_size=3)\n",
    "        self.conv4 = nn.Conv1d(in_channels=64, out_channels=32, kernel_size=3)\n",
    "        self.flatten = nn.Flatten()\n",
    "        self.fc = nn.Linear(32 * 8, 6)  # Adjusted for the output from the last Conv1d layer\n",
    "        self.dropout = nn.Dropout(0.2)\n",
    "        self.softmax = nn.Softmax(dim=1)\n",
    "\n",
    "    def forward(self, x):\n",
    "        x = self.dropout(torch.relu(self.conv1(x)))\n",
    "        x = self.dropout(torch.relu(self.conv2(x)))\n",
    "        x = self.dropout(torch.relu(self.conv3(x)))\n",
    "        x = self.dropout(torch.relu(self.conv4(x)))\n",
    "        x = self.flatten(x)\n",
    "        x = self.fc(x)\n",
    "        return self.softmax(x)\n",
    "\n",
    "# Example instantiation of the model\n",
    "model = MyModel(n_input=3, n_steps=16)\n"
   ]
  },
  {
   "cell_type": "code",
   "execution_count": 6,
   "id": "a929011a",
   "metadata": {
    "ExecuteTime": {
     "end_time": "2024-04-11T18:33:45.175291Z",
     "start_time": "2024-04-11T18:33:45.168384Z"
    }
   },
   "outputs": [],
   "source": [
    "# Convert arrays to PyTorch Tensors\n",
    "X_train = torch.tensor(X_train, dtype=torch.float32)\n",
    "y_train = torch.tensor(y_train, dtype=torch.long)  # Assuming y_train is class labels for classification\n",
    "X_test = torch.tensor(X_test, dtype=torch.float32)\n",
    "y_test = torch.tensor(y_test, dtype=torch.long)\n",
    "\n",
    "# Creating TensorDatasets\n",
    "train_dataset = TensorDataset(X_train, y_train)\n",
    "test_dataset = TensorDataset(X_test, y_test)\n",
    "\n",
    "# Creating DataLoaders\n",
    "batch_size = 64\n",
    "train_loader = DataLoader(dataset=train_dataset, batch_size=batch_size, shuffle=True)\n",
    "test_loader = DataLoader(dataset=test_dataset, batch_size=batch_size, shuffle=False)\n"
   ]
  },
  {
   "cell_type": "code",
   "execution_count": 7,
   "id": "d3cc6c89",
   "metadata": {
    "ExecuteTime": {
     "end_time": "2024-04-11T18:54:51.170622Z",
     "start_time": "2024-04-11T18:33:58.609860Z"
    }
   },
   "outputs": [
    {
     "name": "stdout",
     "output_type": "stream",
     "text": [
      "Epoch: 1/20 \tTraining Loss: 1.3195 \tValidation Loss: 1.2905 \tValidation Accuracy: 74.99%\n",
      "Epoch: 2/20 \tTraining Loss: 1.2648 \tValidation Loss: 1.2421 \tValidation Accuracy: 80.00%\n",
      "Epoch: 3/20 \tTraining Loss: 1.2471 \tValidation Loss: 1.2332 \tValidation Accuracy: 80.88%\n",
      "Epoch: 4/20 \tTraining Loss: 1.2369 \tValidation Loss: 1.2394 \tValidation Accuracy: 80.20%\n",
      "Epoch: 5/20 \tTraining Loss: 1.2216 \tValidation Loss: 1.1798 \tValidation Accuracy: 86.27%\n",
      "Epoch: 6/20 \tTraining Loss: 1.1983 \tValidation Loss: 1.2006 \tValidation Accuracy: 84.23%\n",
      "Epoch: 7/20 \tTraining Loss: 1.1952 \tValidation Loss: 1.1855 \tValidation Accuracy: 85.76%\n",
      "Epoch: 8/20 \tTraining Loss: 1.1960 \tValidation Loss: 1.1847 \tValidation Accuracy: 85.84%\n",
      "Epoch: 9/20 \tTraining Loss: 1.1967 \tValidation Loss: 1.1787 \tValidation Accuracy: 86.45%\n",
      "Epoch: 10/20 \tTraining Loss: 1.2013 \tValidation Loss: 1.2049 \tValidation Accuracy: 83.83%\n",
      "Epoch: 11/20 \tTraining Loss: 1.2089 \tValidation Loss: 1.1824 \tValidation Accuracy: 86.10%\n",
      "Epoch: 12/20 \tTraining Loss: 1.2055 \tValidation Loss: 1.2224 \tValidation Accuracy: 82.10%\n",
      "Epoch: 13/20 \tTraining Loss: 1.2076 \tValidation Loss: 1.2472 \tValidation Accuracy: 79.62%\n",
      "Epoch: 14/20 \tTraining Loss: 1.2108 \tValidation Loss: 1.1988 \tValidation Accuracy: 84.47%\n",
      "Epoch: 15/20 \tTraining Loss: 1.2130 \tValidation Loss: 1.2187 \tValidation Accuracy: 82.48%\n",
      "Epoch: 16/20 \tTraining Loss: 1.2116 \tValidation Loss: 1.1891 \tValidation Accuracy: 85.45%\n",
      "Epoch: 17/20 \tTraining Loss: 1.2181 \tValidation Loss: 1.2131 \tValidation Accuracy: 83.04%\n",
      "Epoch: 18/20 \tTraining Loss: 1.2168 \tValidation Loss: 1.1959 \tValidation Accuracy: 84.76%\n",
      "Epoch: 19/20 \tTraining Loss: 1.2220 \tValidation Loss: 1.2023 \tValidation Accuracy: 84.12%\n",
      "Epoch: 20/20 \tTraining Loss: 1.2196 \tValidation Loss: 1.2034 \tValidation Accuracy: 84.01%\n",
      "Training complete\n"
     ]
    }
   ],
   "source": [
    "import torch.optim as optim\n",
    "\n",
    "# Setting up the device (GPU/CPU)\n",
    "device = torch.device(\"cuda\" if torch.cuda.is_available() else \"cpu\")\n",
    "model.to(device)\n",
    "\n",
    "# Loss function and optimizer\n",
    "criterion = nn.CrossEntropyLoss()\n",
    "optimizer = optim.Adam(model.parameters(), lr=0.001)\n",
    "\n",
    "# Training loop\n",
    "epochs = 20\n",
    "for epoch in range(epochs):\n",
    "    model.train()  # Set the model to training mode\n",
    "    train_loss = 0.0\n",
    "\n",
    "    for inputs, labels in train_loader:\n",
    "        inputs, labels = inputs.to(device), labels.to(device)\n",
    "        inputs = inputs.view(-1, 3, 16)  # Reshape input to match model expectations\n",
    "        #print(f'Input size after reshaping: {inputs.size()}')\n",
    "\n",
    "        # Zero the parameter gradients\n",
    "        optimizer.zero_grad()\n",
    "\n",
    "        # Forward pass\n",
    "        outputs = model(inputs)\n",
    "        loss = criterion(outputs, labels)\n",
    "\n",
    "        # Backward pass and optimize\n",
    "        loss.backward()\n",
    "        optimizer.step()\n",
    "\n",
    "        train_loss += loss.item() * inputs.size(0)\n",
    "\n",
    "    # Validation phase\n",
    "    model.eval()  # Set the model to evaluation mode\n",
    "    val_loss = 0.0\n",
    "    correct = 0\n",
    "    total = 0\n",
    "\n",
    "    with torch.no_grad():\n",
    "        for inputs, labels in test_loader:\n",
    "            inputs, labels = inputs.to(device), labels.to(device)\n",
    "            inputs = inputs.view(-1, 3, 16)\n",
    "\n",
    "            outputs = model(inputs)\n",
    "            loss = criterion(outputs, labels)\n",
    "            val_loss += loss.item() * inputs.size(0)\n",
    "\n",
    "            _, predicted = torch.max(outputs.data, 1)\n",
    "            total += labels.size(0)\n",
    "            correct += (predicted == labels).sum().item()\n",
    "\n",
    "    # Calculate average losses and accuracy\n",
    "    train_loss = train_loss / len(train_loader.dataset)\n",
    "    val_loss = val_loss / len(test_loader.dataset)\n",
    "    val_accuracy = 100 * correct / total\n",
    "\n",
    "    # Print training/validation statistics\n",
    "    print(f'Epoch: {epoch+1}/{epochs} \\tTraining Loss: {train_loss:.4f} \\tValidation Loss: {val_loss:.4f} \\tValidation Accuracy: {val_accuracy:.2f}%')\n",
    "\n",
    "print('Training complete')\n"
   ]
  },
  {
   "cell_type": "code",
   "execution_count": 8,
   "id": "e7634a5c",
   "metadata": {
    "ExecuteTime": {
     "end_time": "2024-04-11T18:56:59.604691Z",
     "start_time": "2024-04-11T18:56:53.396416Z"
    }
   },
   "outputs": [
    {
     "name": "stdout",
     "output_type": "stream",
     "text": [
      "Input size after reshaping: torch.Size([64, 3, 16])\n",
      "Input size after reshaping: torch.Size([64, 3, 16])\n",
      "Input size after reshaping: torch.Size([64, 3, 16])\n",
      "Input size after reshaping: torch.Size([64, 3, 16])\n",
      "Input size after reshaping: torch.Size([64, 3, 16])\n",
      "Input size after reshaping: torch.Size([64, 3, 16])\n",
      "Input size after reshaping: torch.Size([64, 3, 16])\n",
      "Input size after reshaping: torch.Size([64, 3, 16])\n",
      "Input size after reshaping: torch.Size([64, 3, 16])\n",
      "Input size after reshaping: torch.Size([64, 3, 16])\n",
      "Input size after reshaping: torch.Size([64, 3, 16])\n",
      "Input size after reshaping: torch.Size([64, 3, 16])\n",
      "Input size after reshaping: torch.Size([64, 3, 16])\n",
      "Input size after reshaping: torch.Size([64, 3, 16])\n",
      "Input size after reshaping: torch.Size([64, 3, 16])\n",
      "Input size after reshaping: torch.Size([64, 3, 16])\n",
      "Input size after reshaping: torch.Size([64, 3, 16])\n",
      "Input size after reshaping: torch.Size([64, 3, 16])\n",
      "Input size after reshaping: torch.Size([64, 3, 16])\n",
      "Input size after reshaping: torch.Size([64, 3, 16])\n",
      "Input size after reshaping: torch.Size([64, 3, 16])\n",
      "Input size after reshaping: torch.Size([64, 3, 16])\n",
      "Input size after reshaping: torch.Size([64, 3, 16])\n",
      "Input size after reshaping: torch.Size([64, 3, 16])\n",
      "Input size after reshaping: torch.Size([64, 3, 16])\n",
      "Input size after reshaping: torch.Size([64, 3, 16])\n",
      "Input size after reshaping: torch.Size([64, 3, 16])\n",
      "Input size after reshaping: torch.Size([64, 3, 16])\n",
      "Input size after reshaping: torch.Size([64, 3, 16])\n",
      "Input size after reshaping: torch.Size([64, 3, 16])\n",
      "Input size after reshaping: torch.Size([64, 3, 16])\n",
      "Input size after reshaping: torch.Size([64, 3, 16])\n",
      "Input size after reshaping: torch.Size([64, 3, 16])\n",
      "Input size after reshaping: torch.Size([64, 3, 16])\n",
      "Input size after reshaping: torch.Size([64, 3, 16])\n",
      "Input size after reshaping: torch.Size([64, 3, 16])\n",
      "Input size after reshaping: torch.Size([64, 3, 16])\n",
      "Input size after reshaping: torch.Size([64, 3, 16])\n",
      "Input size after reshaping: torch.Size([64, 3, 16])\n",
      "Input size after reshaping: torch.Size([64, 3, 16])\n",
      "Input size after reshaping: torch.Size([64, 3, 16])\n",
      "Input size after reshaping: torch.Size([64, 3, 16])\n",
      "Input size after reshaping: torch.Size([64, 3, 16])\n",
      "Input size after reshaping: torch.Size([64, 3, 16])\n",
      "Input size after reshaping: torch.Size([64, 3, 16])\n",
      "Input size after reshaping: torch.Size([64, 3, 16])\n",
      "Input size after reshaping: torch.Size([64, 3, 16])\n",
      "Input size after reshaping: torch.Size([64, 3, 16])\n",
      "Input size after reshaping: torch.Size([64, 3, 16])\n",
      "Input size after reshaping: torch.Size([64, 3, 16])\n",
      "Input size after reshaping: torch.Size([64, 3, 16])\n",
      "Input size after reshaping: torch.Size([64, 3, 16])\n",
      "Input size after reshaping: torch.Size([64, 3, 16])\n",
      "Input size after reshaping: torch.Size([64, 3, 16])\n",
      "Input size after reshaping: torch.Size([64, 3, 16])\n",
      "Input size after reshaping: torch.Size([64, 3, 16])\n",
      "Input size after reshaping: torch.Size([64, 3, 16])\n",
      "Input size after reshaping: torch.Size([64, 3, 16])\n",
      "Input size after reshaping: torch.Size([64, 3, 16])\n",
      "Input size after reshaping: torch.Size([64, 3, 16])\n",
      "Input size after reshaping: torch.Size([64, 3, 16])\n",
      "Input size after reshaping: torch.Size([64, 3, 16])\n",
      "Input size after reshaping: torch.Size([64, 3, 16])\n",
      "Input size after reshaping: torch.Size([64, 3, 16])\n",
      "Input size after reshaping: torch.Size([64, 3, 16])\n",
      "Input size after reshaping: torch.Size([64, 3, 16])\n",
      "Input size after reshaping: torch.Size([64, 3, 16])\n",
      "Input size after reshaping: torch.Size([64, 3, 16])\n",
      "Input size after reshaping: torch.Size([64, 3, 16])\n",
      "Input size after reshaping: torch.Size([64, 3, 16])\n",
      "Input size after reshaping: torch.Size([64, 3, 16])\n",
      "Input size after reshaping: torch.Size([64, 3, 16])\n",
      "Input size after reshaping: torch.Size([64, 3, 16])\n",
      "Input size after reshaping: torch.Size([64, 3, 16])\n",
      "Input size after reshaping: torch.Size([64, 3, 16])\n",
      "Input size after reshaping: torch.Size([64, 3, 16])\n",
      "Input size after reshaping: torch.Size([64, 3, 16])\n",
      "Input size after reshaping: torch.Size([64, 3, 16])\n",
      "Input size after reshaping: torch.Size([64, 3, 16])\n",
      "Input size after reshaping: torch.Size([64, 3, 16])\n",
      "Input size after reshaping: torch.Size([64, 3, 16])\n",
      "Input size after reshaping: torch.Size([64, 3, 16])\n",
      "Input size after reshaping: torch.Size([64, 3, 16])\n",
      "Input size after reshaping: torch.Size([64, 3, 16])\n",
      "Input size after reshaping: torch.Size([64, 3, 16])\n",
      "Input size after reshaping: torch.Size([64, 3, 16])\n",
      "Input size after reshaping: torch.Size([64, 3, 16])\n",
      "Input size after reshaping: torch.Size([64, 3, 16])\n",
      "Input size after reshaping: torch.Size([64, 3, 16])\n",
      "Input size after reshaping: torch.Size([64, 3, 16])\n",
      "Input size after reshaping: torch.Size([64, 3, 16])\n",
      "Input size after reshaping: torch.Size([64, 3, 16])\n",
      "Input size after reshaping: torch.Size([64, 3, 16])\n",
      "Input size after reshaping: torch.Size([64, 3, 16])\n",
      "Input size after reshaping: torch.Size([64, 3, 16])\n",
      "Input size after reshaping: torch.Size([64, 3, 16])\n",
      "Input size after reshaping: torch.Size([64, 3, 16])\n",
      "Input size after reshaping: torch.Size([64, 3, 16])\n",
      "Input size after reshaping: torch.Size([64, 3, 16])\n",
      "Input size after reshaping: torch.Size([64, 3, 16])\n",
      "Input size after reshaping: torch.Size([64, 3, 16])\n",
      "Input size after reshaping: torch.Size([64, 3, 16])\n",
      "Input size after reshaping: torch.Size([64, 3, 16])\n",
      "Input size after reshaping: torch.Size([64, 3, 16])\n",
      "Input size after reshaping: torch.Size([64, 3, 16])\n",
      "Input size after reshaping: torch.Size([64, 3, 16])\n",
      "Input size after reshaping: torch.Size([64, 3, 16])\n",
      "Input size after reshaping: torch.Size([64, 3, 16])\n",
      "Input size after reshaping: torch.Size([64, 3, 16])\n",
      "Input size after reshaping: torch.Size([64, 3, 16])\n",
      "Input size after reshaping: torch.Size([64, 3, 16])\n",
      "Input size after reshaping: torch.Size([64, 3, 16])\n",
      "Input size after reshaping: torch.Size([64, 3, 16])\n",
      "Input size after reshaping: torch.Size([64, 3, 16])\n",
      "Input size after reshaping: torch.Size([64, 3, 16])\n",
      "Input size after reshaping: torch.Size([64, 3, 16])\n",
      "Input size after reshaping: torch.Size([64, 3, 16])\n",
      "Input size after reshaping: torch.Size([64, 3, 16])\n",
      "Input size after reshaping: torch.Size([64, 3, 16])\n",
      "Input size after reshaping: torch.Size([64, 3, 16])\n",
      "Input size after reshaping: torch.Size([64, 3, 16])\n",
      "Input size after reshaping: torch.Size([64, 3, 16])\n",
      "Input size after reshaping: torch.Size([64, 3, 16])\n",
      "Input size after reshaping: torch.Size([64, 3, 16])\n",
      "Input size after reshaping: torch.Size([64, 3, 16])\n",
      "Input size after reshaping: torch.Size([64, 3, 16])\n",
      "Input size after reshaping: torch.Size([64, 3, 16])\n",
      "Input size after reshaping: torch.Size([64, 3, 16])\n",
      "Input size after reshaping: torch.Size([64, 3, 16])\n",
      "Input size after reshaping: torch.Size([64, 3, 16])\n",
      "Input size after reshaping: torch.Size([64, 3, 16])\n",
      "Input size after reshaping: torch.Size([64, 3, 16])\n",
      "Input size after reshaping: torch.Size([64, 3, 16])\n",
      "Input size after reshaping: torch.Size([64, 3, 16])\n",
      "Input size after reshaping: torch.Size([64, 3, 16])\n",
      "Input size after reshaping: torch.Size([64, 3, 16])\n",
      "Input size after reshaping: torch.Size([64, 3, 16])\n",
      "Input size after reshaping: torch.Size([64, 3, 16])\n",
      "Input size after reshaping: torch.Size([64, 3, 16])\n",
      "Input size after reshaping: torch.Size([64, 3, 16])\n",
      "Input size after reshaping: torch.Size([64, 3, 16])\n",
      "Input size after reshaping: torch.Size([64, 3, 16])\n",
      "Input size after reshaping: torch.Size([64, 3, 16])\n",
      "Input size after reshaping: torch.Size([64, 3, 16])\n",
      "Input size after reshaping: torch.Size([64, 3, 16])\n",
      "Input size after reshaping: torch.Size([64, 3, 16])\n",
      "Input size after reshaping: torch.Size([64, 3, 16])\n",
      "Input size after reshaping: torch.Size([64, 3, 16])\n",
      "Input size after reshaping: torch.Size([64, 3, 16])\n",
      "Input size after reshaping: torch.Size([64, 3, 16])\n",
      "Input size after reshaping: torch.Size([64, 3, 16])\n",
      "Input size after reshaping: torch.Size([64, 3, 16])\n",
      "Input size after reshaping: torch.Size([64, 3, 16])\n",
      "Input size after reshaping: torch.Size([64, 3, 16])\n",
      "Input size after reshaping: torch.Size([64, 3, 16])\n",
      "Input size after reshaping: torch.Size([64, 3, 16])\n",
      "Input size after reshaping: torch.Size([64, 3, 16])\n",
      "Input size after reshaping: torch.Size([64, 3, 16])\n",
      "Input size after reshaping: torch.Size([64, 3, 16])\n",
      "Input size after reshaping: torch.Size([64, 3, 16])\n",
      "Input size after reshaping: torch.Size([64, 3, 16])\n",
      "Input size after reshaping: torch.Size([64, 3, 16])\n",
      "Input size after reshaping: torch.Size([64, 3, 16])\n",
      "Input size after reshaping: torch.Size([64, 3, 16])\n",
      "Input size after reshaping: torch.Size([64, 3, 16])\n",
      "Input size after reshaping: torch.Size([64, 3, 16])\n",
      "Input size after reshaping: torch.Size([64, 3, 16])\n",
      "Input size after reshaping: torch.Size([64, 3, 16])\n",
      "Input size after reshaping: torch.Size([64, 3, 16])\n",
      "Input size after reshaping: torch.Size([64, 3, 16])\n",
      "Input size after reshaping: torch.Size([64, 3, 16])\n",
      "Input size after reshaping: torch.Size([64, 3, 16])\n",
      "Input size after reshaping: torch.Size([64, 3, 16])\n",
      "Input size after reshaping: torch.Size([64, 3, 16])\n",
      "Input size after reshaping: torch.Size([64, 3, 16])\n",
      "Input size after reshaping: torch.Size([64, 3, 16])\n",
      "Input size after reshaping: torch.Size([64, 3, 16])\n",
      "Input size after reshaping: torch.Size([64, 3, 16])\n",
      "Input size after reshaping: torch.Size([64, 3, 16])\n",
      "Input size after reshaping: torch.Size([64, 3, 16])\n",
      "Input size after reshaping: torch.Size([64, 3, 16])\n",
      "Input size after reshaping: torch.Size([64, 3, 16])\n",
      "Input size after reshaping: torch.Size([64, 3, 16])\n",
      "Input size after reshaping: torch.Size([64, 3, 16])\n",
      "Input size after reshaping: torch.Size([64, 3, 16])\n",
      "Input size after reshaping: torch.Size([64, 3, 16])\n",
      "Input size after reshaping: torch.Size([64, 3, 16])\n",
      "Input size after reshaping: torch.Size([64, 3, 16])\n",
      "Input size after reshaping: torch.Size([64, 3, 16])\n",
      "Input size after reshaping: torch.Size([64, 3, 16])\n",
      "Input size after reshaping: torch.Size([64, 3, 16])\n",
      "Input size after reshaping: torch.Size([64, 3, 16])\n",
      "Input size after reshaping: torch.Size([64, 3, 16])\n",
      "Input size after reshaping: torch.Size([64, 3, 16])\n",
      "Input size after reshaping: torch.Size([64, 3, 16])\n",
      "Input size after reshaping: torch.Size([64, 3, 16])\n",
      "Input size after reshaping: torch.Size([64, 3, 16])\n",
      "Input size after reshaping: torch.Size([64, 3, 16])\n",
      "Input size after reshaping: torch.Size([64, 3, 16])\n",
      "Input size after reshaping: torch.Size([64, 3, 16])\n",
      "Input size after reshaping: torch.Size([64, 3, 16])\n",
      "Input size after reshaping: torch.Size([64, 3, 16])\n",
      "Input size after reshaping: torch.Size([64, 3, 16])\n",
      "Input size after reshaping: torch.Size([64, 3, 16])\n",
      "Input size after reshaping: torch.Size([64, 3, 16])\n",
      "Input size after reshaping: torch.Size([64, 3, 16])\n",
      "Input size after reshaping: torch.Size([64, 3, 16])\n",
      "Input size after reshaping: torch.Size([64, 3, 16])\n",
      "Input size after reshaping: torch.Size([64, 3, 16])\n",
      "Input size after reshaping: torch.Size([64, 3, 16])\n",
      "Input size after reshaping: torch.Size([64, 3, 16])\n",
      "Input size after reshaping: torch.Size([64, 3, 16])\n",
      "Input size after reshaping: torch.Size([64, 3, 16])\n",
      "Input size after reshaping: torch.Size([64, 3, 16])\n",
      "Input size after reshaping: torch.Size([64, 3, 16])\n",
      "Input size after reshaping: torch.Size([64, 3, 16])\n",
      "Input size after reshaping: torch.Size([64, 3, 16])\n",
      "Input size after reshaping: torch.Size([64, 3, 16])\n",
      "Input size after reshaping: torch.Size([64, 3, 16])\n",
      "Input size after reshaping: torch.Size([64, 3, 16])\n",
      "Input size after reshaping: torch.Size([64, 3, 16])\n",
      "Input size after reshaping: torch.Size([64, 3, 16])\n",
      "Input size after reshaping: torch.Size([64, 3, 16])\n",
      "Input size after reshaping: torch.Size([64, 3, 16])\n",
      "Input size after reshaping: torch.Size([64, 3, 16])\n",
      "Input size after reshaping: torch.Size([64, 3, 16])\n",
      "Input size after reshaping: torch.Size([64, 3, 16])\n",
      "Input size after reshaping: torch.Size([64, 3, 16])\n",
      "Input size after reshaping: torch.Size([64, 3, 16])\n",
      "Input size after reshaping: torch.Size([64, 3, 16])\n",
      "Input size after reshaping: torch.Size([64, 3, 16])\n",
      "Input size after reshaping: torch.Size([64, 3, 16])\n",
      "Input size after reshaping: torch.Size([64, 3, 16])\n",
      "Input size after reshaping: torch.Size([64, 3, 16])\n",
      "Input size after reshaping: torch.Size([64, 3, 16])\n",
      "Input size after reshaping: torch.Size([64, 3, 16])\n",
      "Input size after reshaping: torch.Size([64, 3, 16])\n",
      "Input size after reshaping: torch.Size([64, 3, 16])\n",
      "Input size after reshaping: torch.Size([64, 3, 16])\n",
      "Input size after reshaping: torch.Size([64, 3, 16])\n",
      "Input size after reshaping: torch.Size([64, 3, 16])\n",
      "Input size after reshaping: torch.Size([64, 3, 16])\n",
      "Input size after reshaping: torch.Size([64, 3, 16])\n",
      "Input size after reshaping: torch.Size([64, 3, 16])\n",
      "Input size after reshaping: torch.Size([64, 3, 16])\n",
      "Input size after reshaping: torch.Size([64, 3, 16])\n",
      "Input size after reshaping: torch.Size([64, 3, 16])\n",
      "Input size after reshaping: torch.Size([64, 3, 16])\n",
      "Input size after reshaping: torch.Size([64, 3, 16])\n",
      "Input size after reshaping: torch.Size([64, 3, 16])\n",
      "Input size after reshaping: torch.Size([64, 3, 16])\n",
      "Input size after reshaping: torch.Size([64, 3, 16])\n",
      "Input size after reshaping: torch.Size([64, 3, 16])\n",
      "Input size after reshaping: torch.Size([64, 3, 16])\n",
      "Input size after reshaping: torch.Size([64, 3, 16])\n",
      "Input size after reshaping: torch.Size([64, 3, 16])\n",
      "Input size after reshaping: torch.Size([64, 3, 16])\n",
      "Input size after reshaping: torch.Size([64, 3, 16])\n",
      "Input size after reshaping: torch.Size([64, 3, 16])\n",
      "Input size after reshaping: torch.Size([64, 3, 16])\n",
      "Input size after reshaping: torch.Size([64, 3, 16])\n",
      "Input size after reshaping: torch.Size([64, 3, 16])\n",
      "Input size after reshaping: torch.Size([64, 3, 16])\n",
      "Input size after reshaping: torch.Size([64, 3, 16])\n",
      "Input size after reshaping: torch.Size([64, 3, 16])\n",
      "Input size after reshaping: torch.Size([64, 3, 16])\n",
      "Input size after reshaping: torch.Size([64, 3, 16])\n",
      "Input size after reshaping: torch.Size([64, 3, 16])\n",
      "Input size after reshaping: torch.Size([64, 3, 16])\n",
      "Input size after reshaping: torch.Size([64, 3, 16])\n",
      "Input size after reshaping: torch.Size([64, 3, 16])\n",
      "Input size after reshaping: torch.Size([64, 3, 16])\n",
      "Input size after reshaping: torch.Size([64, 3, 16])\n",
      "Input size after reshaping: torch.Size([64, 3, 16])\n",
      "Input size after reshaping: torch.Size([64, 3, 16])\n",
      "Input size after reshaping: torch.Size([64, 3, 16])\n",
      "Input size after reshaping: torch.Size([64, 3, 16])\n",
      "Input size after reshaping: torch.Size([64, 3, 16])\n",
      "Input size after reshaping: torch.Size([64, 3, 16])\n",
      "Input size after reshaping: torch.Size([64, 3, 16])\n",
      "Input size after reshaping: torch.Size([64, 3, 16])\n",
      "Input size after reshaping: torch.Size([64, 3, 16])\n",
      "Input size after reshaping: torch.Size([64, 3, 16])\n",
      "Input size after reshaping: torch.Size([64, 3, 16])\n",
      "Input size after reshaping: torch.Size([64, 3, 16])\n",
      "Input size after reshaping: torch.Size([64, 3, 16])\n",
      "Input size after reshaping: torch.Size([64, 3, 16])\n",
      "Input size after reshaping: torch.Size([64, 3, 16])\n",
      "Input size after reshaping: torch.Size([64, 3, 16])\n",
      "Input size after reshaping: torch.Size([64, 3, 16])\n",
      "Input size after reshaping: torch.Size([64, 3, 16])\n",
      "Input size after reshaping: torch.Size([64, 3, 16])\n",
      "Input size after reshaping: torch.Size([64, 3, 16])\n",
      "Input size after reshaping: torch.Size([64, 3, 16])\n",
      "Input size after reshaping: torch.Size([64, 3, 16])\n",
      "Input size after reshaping: torch.Size([64, 3, 16])\n",
      "Input size after reshaping: torch.Size([64, 3, 16])\n",
      "Input size after reshaping: torch.Size([64, 3, 16])\n",
      "Input size after reshaping: torch.Size([64, 3, 16])\n",
      "Input size after reshaping: torch.Size([64, 3, 16])\n",
      "Input size after reshaping: torch.Size([64, 3, 16])\n",
      "Input size after reshaping: torch.Size([64, 3, 16])\n",
      "Input size after reshaping: torch.Size([64, 3, 16])\n",
      "Input size after reshaping: torch.Size([64, 3, 16])\n",
      "Input size after reshaping: torch.Size([64, 3, 16])\n",
      "Input size after reshaping: torch.Size([64, 3, 16])\n",
      "Input size after reshaping: torch.Size([64, 3, 16])\n",
      "Input size after reshaping: torch.Size([64, 3, 16])\n",
      "Input size after reshaping: torch.Size([64, 3, 16])\n",
      "Input size after reshaping: torch.Size([64, 3, 16])\n",
      "Input size after reshaping: torch.Size([64, 3, 16])\n",
      "Input size after reshaping: torch.Size([64, 3, 16])\n",
      "Input size after reshaping: torch.Size([64, 3, 16])\n",
      "Input size after reshaping: torch.Size([64, 3, 16])\n",
      "Input size after reshaping: torch.Size([64, 3, 16])\n",
      "Input size after reshaping: torch.Size([64, 3, 16])\n",
      "Input size after reshaping: torch.Size([64, 3, 16])\n",
      "Input size after reshaping: torch.Size([64, 3, 16])\n",
      "Input size after reshaping: torch.Size([64, 3, 16])\n",
      "Input size after reshaping: torch.Size([64, 3, 16])\n",
      "Input size after reshaping: torch.Size([64, 3, 16])\n",
      "Input size after reshaping: torch.Size([64, 3, 16])\n",
      "Input size after reshaping: torch.Size([64, 3, 16])\n",
      "Input size after reshaping: torch.Size([64, 3, 16])\n",
      "Input size after reshaping: torch.Size([64, 3, 16])\n",
      "Input size after reshaping: torch.Size([64, 3, 16])\n",
      "Input size after reshaping: torch.Size([64, 3, 16])\n",
      "Input size after reshaping: torch.Size([64, 3, 16])\n",
      "Input size after reshaping: torch.Size([64, 3, 16])\n",
      "Input size after reshaping: torch.Size([64, 3, 16])\n",
      "Input size after reshaping: torch.Size([64, 3, 16])\n",
      "Input size after reshaping: torch.Size([64, 3, 16])\n",
      "Input size after reshaping: torch.Size([64, 3, 16])\n",
      "Input size after reshaping: torch.Size([64, 3, 16])\n",
      "Input size after reshaping: torch.Size([64, 3, 16])\n",
      "Input size after reshaping: torch.Size([64, 3, 16])\n",
      "Input size after reshaping: torch.Size([64, 3, 16])\n",
      "Input size after reshaping: torch.Size([64, 3, 16])\n",
      "Input size after reshaping: torch.Size([64, 3, 16])\n",
      "Input size after reshaping: torch.Size([64, 3, 16])\n",
      "Input size after reshaping: torch.Size([64, 3, 16])\n",
      "Input size after reshaping: torch.Size([64, 3, 16])\n",
      "Input size after reshaping: torch.Size([64, 3, 16])\n",
      "Input size after reshaping: torch.Size([64, 3, 16])\n",
      "Input size after reshaping: torch.Size([64, 3, 16])\n",
      "Input size after reshaping: torch.Size([64, 3, 16])\n",
      "Input size after reshaping: torch.Size([64, 3, 16])\n",
      "Input size after reshaping: torch.Size([64, 3, 16])\n",
      "Input size after reshaping: torch.Size([64, 3, 16])\n",
      "Input size after reshaping: torch.Size([64, 3, 16])\n",
      "Input size after reshaping: torch.Size([64, 3, 16])\n",
      "Input size after reshaping: torch.Size([64, 3, 16])\n",
      "Input size after reshaping: torch.Size([64, 3, 16])\n",
      "Input size after reshaping: torch.Size([64, 3, 16])\n",
      "Input size after reshaping: torch.Size([64, 3, 16])\n",
      "Input size after reshaping: torch.Size([64, 3, 16])\n",
      "Input size after reshaping: torch.Size([64, 3, 16])\n",
      "Input size after reshaping: torch.Size([64, 3, 16])\n",
      "Input size after reshaping: torch.Size([64, 3, 16])\n",
      "Input size after reshaping: torch.Size([64, 3, 16])\n",
      "Input size after reshaping: torch.Size([64, 3, 16])\n",
      "Input size after reshaping: torch.Size([64, 3, 16])\n",
      "Input size after reshaping: torch.Size([64, 3, 16])\n",
      "Input size after reshaping: torch.Size([64, 3, 16])\n",
      "Input size after reshaping: torch.Size([64, 3, 16])\n",
      "Input size after reshaping: torch.Size([64, 3, 16])\n",
      "Input size after reshaping: torch.Size([64, 3, 16])\n",
      "Input size after reshaping: torch.Size([64, 3, 16])\n",
      "Input size after reshaping: torch.Size([64, 3, 16])\n",
      "Input size after reshaping: torch.Size([64, 3, 16])\n",
      "Input size after reshaping: torch.Size([64, 3, 16])\n",
      "Input size after reshaping: torch.Size([64, 3, 16])\n",
      "Input size after reshaping: torch.Size([64, 3, 16])\n",
      "Input size after reshaping: torch.Size([64, 3, 16])\n",
      "Input size after reshaping: torch.Size([64, 3, 16])\n",
      "Input size after reshaping: torch.Size([64, 3, 16])\n",
      "Input size after reshaping: torch.Size([64, 3, 16])\n",
      "Input size after reshaping: torch.Size([64, 3, 16])\n",
      "Input size after reshaping: torch.Size([64, 3, 16])\n",
      "Input size after reshaping: torch.Size([64, 3, 16])\n",
      "Input size after reshaping: torch.Size([64, 3, 16])\n",
      "Input size after reshaping: torch.Size([64, 3, 16])\n",
      "Input size after reshaping: torch.Size([64, 3, 16])\n",
      "Input size after reshaping: torch.Size([64, 3, 16])\n",
      "Input size after reshaping: torch.Size([64, 3, 16])\n",
      "Input size after reshaping: torch.Size([64, 3, 16])\n",
      "Input size after reshaping: torch.Size([64, 3, 16])\n",
      "Input size after reshaping: torch.Size([64, 3, 16])\n",
      "Input size after reshaping: torch.Size([64, 3, 16])\n",
      "Input size after reshaping: torch.Size([64, 3, 16])\n",
      "Input size after reshaping: torch.Size([64, 3, 16])\n",
      "Input size after reshaping: torch.Size([64, 3, 16])\n",
      "Input size after reshaping: torch.Size([64, 3, 16])\n",
      "Input size after reshaping: torch.Size([64, 3, 16])\n",
      "Input size after reshaping: torch.Size([64, 3, 16])\n",
      "Input size after reshaping: torch.Size([64, 3, 16])\n",
      "Input size after reshaping: torch.Size([64, 3, 16])\n",
      "Input size after reshaping: torch.Size([64, 3, 16])\n",
      "Input size after reshaping: torch.Size([64, 3, 16])\n",
      "Input size after reshaping: torch.Size([64, 3, 16])\n",
      "Input size after reshaping: torch.Size([64, 3, 16])\n",
      "Input size after reshaping: torch.Size([64, 3, 16])\n",
      "Input size after reshaping: torch.Size([64, 3, 16])\n",
      "Input size after reshaping: torch.Size([64, 3, 16])\n",
      "Input size after reshaping: torch.Size([64, 3, 16])\n",
      "Input size after reshaping: torch.Size([64, 3, 16])\n",
      "Input size after reshaping: torch.Size([64, 3, 16])\n",
      "Input size after reshaping: torch.Size([64, 3, 16])\n",
      "Input size after reshaping: torch.Size([64, 3, 16])\n",
      "Input size after reshaping: torch.Size([38, 3, 16])\n",
      "Test Loss: 1.2034 \tTest Accuracy: 84.01%\n"
     ]
    }
   ],
   "source": [
    "# Test phase - after training is complete\n",
    "model.eval()  # Set the model to evaluation mode\n",
    "test_loss = 0.0\n",
    "correct = 0\n",
    "total = 0\n",
    "\n",
    "with torch.no_grad():\n",
    "    for inputs, labels in test_loader:\n",
    "        inputs, labels = inputs.to(device), labels.to(device)\n",
    "        inputs = inputs.view(-1, 3, 16)\n",
    "        print(f'Input size after reshaping: {inputs.size()}')\n",
    "        \n",
    "        outputs = model(inputs)\n",
    "        loss = criterion(outputs, labels)\n",
    "        test_loss += loss.item() * inputs.size(0)\n",
    "\n",
    "        _, predicted = torch.max(outputs.data, 1)\n",
    "        total += labels.size(0)\n",
    "        correct += (predicted == labels).sum().item()\n",
    "\n",
    "# Calculate average loss and accuracy\n",
    "test_loss = test_loss / len(test_loader.dataset)\n",
    "test_accuracy = 100 * correct / total\n",
    "\n",
    "# Print test statistics\n",
    "print(f'Test Loss: {test_loss:.4f} \\tTest Accuracy: {test_accuracy:.2f}%')\n"
   ]
  },
  {
   "cell_type": "code",
   "execution_count": 9,
   "id": "e15fa929",
   "metadata": {
    "ExecuteTime": {
     "end_time": "2024-04-11T18:57:09.228998Z",
     "start_time": "2024-04-11T18:57:09.211643Z"
    }
   },
   "outputs": [
    {
     "data": {
      "text/plain": "MyModel(\n  (conv1): Conv1d(3, 256, kernel_size=(3,), stride=(1,))\n  (conv2): Conv1d(256, 128, kernel_size=(3,), stride=(1,))\n  (conv3): Conv1d(128, 64, kernel_size=(3,), stride=(1,))\n  (conv4): Conv1d(64, 32, kernel_size=(3,), stride=(1,))\n  (flatten): Flatten(start_dim=1, end_dim=-1)\n  (fc): Linear(in_features=256, out_features=6, bias=True)\n  (dropout): Dropout(p=0.2, inplace=False)\n  (softmax): Softmax(dim=1)\n)"
     },
     "execution_count": 9,
     "metadata": {},
     "output_type": "execute_result"
    }
   ],
   "source": [
    "model_path = f'{MODELS_PATH}/CNN_base.pth'\n",
    "torch.save(model.state_dict(), model_path)\n",
    "model.to(device)"
   ]
  },
  {
   "cell_type": "markdown",
   "id": "a4691a28",
   "metadata": {},
   "source": [
    "### Coreml Evaluation"
   ]
  },
  {
   "cell_type": "code",
   "execution_count": 10,
   "id": "c3c667b7",
   "metadata": {
    "ExecuteTime": {
     "end_time": "2024-04-11T18:57:12.890506Z",
     "start_time": "2024-04-11T18:57:12.886728Z"
    }
   },
   "outputs": [],
   "source": [
    "from pathlib import Path\n",
    "\n",
    "def coreml_metrics(model_name, X_test, y_test, model_path):\n",
    "    predictions = []\n",
    "    for i in range(len(X_test)):\n",
    "        X_test_sample = X_test[i].view(1, 3, 16)\n",
    "        #X_test_new = np.expand_dims(X_test[id], axis=0)\n",
    "        output_dict = model_name.predict({'x': X_test_sample.numpy()})\n",
    "        pred_class = np.argmax(output_dict['var_75'])\n",
    "        predictions.append(pred_class)\n",
    "    \n",
    "    accuracy = np.sum(np.array(predictions) == y_test.numpy()) / len(predictions)\n",
    "    print(\"Accuracy:\", accuracy)\n",
    "    \n",
    "    model_file = Path(model_path)\n",
    "    \n",
    "    # Size in bytes\n",
    "    model_size_bytes = model_file.stat().st_size\n",
    "    \n",
    "    # Convert size to kilobytes (optional)\n",
    "    model_size_kb = model_size_bytes / 1024\n",
    "    print(f\"Size of the model: {model_size_kb:.2f} KB\")"
   ]
  },
  {
   "cell_type": "markdown",
   "id": "376e4a9e",
   "metadata": {},
   "source": [
    "### Convert to coreml model"
   ]
  },
  {
   "cell_type": "code",
   "execution_count": 34,
   "id": "142fb4e2",
   "metadata": {
    "ExecuteTime": {
     "end_time": "2024-04-11T20:46:02.519055Z",
     "start_time": "2024-04-11T20:46:02.510248Z"
    }
   },
   "outputs": [
    {
     "data": {
      "text/plain": "<All keys matched successfully>"
     },
     "execution_count": 34,
     "metadata": {},
     "output_type": "execute_result"
    }
   ],
   "source": [
    "# Load the model\n",
    "model_path = f'{MODELS_PATH}/CNN_base.pth'\n",
    "model.load_state_dict(torch.load(model_path))\n"
   ]
  },
  {
   "cell_type": "code",
   "execution_count": 35,
   "id": "42fb01c7",
   "metadata": {
    "ExecuteTime": {
     "end_time": "2024-04-11T20:46:03.349177Z",
     "start_time": "2024-04-11T20:46:03.110803Z"
    }
   },
   "outputs": [
    {
     "name": "stderr",
     "output_type": "stream",
     "text": [
      "Converting PyTorch Frontend ==> MIL Ops:  98%|█████████▊| 58/59 [00:00<00:00, 12825.94 ops/s]\n",
      "Running MIL frontend_pytorch pipeline: 100%|██████████| 5/5 [00:00<00:00, 9433.88 passes/s]\n",
      "Running MIL default pipeline:   0%|          | 0/71 [00:00<?, ? passes/s]/opt/homebrew/lib/python3.10/site-packages/coremltools/converters/mil/mil/passes/defs/preprocess.py:267: UserWarning: Output, '75', of the source model, has been renamed to 'var_75' in the Core ML model.\n",
      "  warnings.warn(msg.format(var.name, new_name))\n",
      "Running MIL default pipeline: 100%|██████████| 71/71 [00:00<00:00, 2404.41 passes/s]\n",
      "Running MIL backend_mlprogram pipeline: 100%|██████████| 12/12 [00:00<00:00, 8053.06 passes/s]\n"
     ]
    }
   ],
   "source": [
    "import coremltools as ct\n",
    "example_input = torch.rand(1,3,16) \n",
    "\n",
    "model.eval()\n",
    "traced_model = torch.jit.trace(model, example_input)\n",
    "out = traced_model(example_input)\n",
    "\n",
    "# Convert to Core ML program using the Unified Conversion API.\n",
    "coreml_model = ct.convert(\n",
    "    traced_model,\n",
    "    convert_to=\"mlprogram\",\n",
    "    inputs=[ct.TensorType(shape=example_input.shape)]\n",
    " )\n",
    "\n",
    "# Save the converted model.\n",
    "coreml_model.save(f'{MODELS_PATH}/cnn.mlpackage')"
   ]
  },
  {
   "cell_type": "code",
   "execution_count": 36,
   "outputs": [
    {
     "data": {
      "text/plain": "input {\n  name: \"x\"\n  type {\n    multiArrayType {\n      shape: 1\n      shape: 3\n      shape: 16\n      dataType: FLOAT32\n    }\n  }\n}\noutput {\n  name: \"var_75\"\n  type {\n    multiArrayType {\n      shape: 1\n      shape: 6\n      dataType: FLOAT32\n    }\n  }\n}\nmetadata {\n  userDefined {\n    key: \"com.github.apple.coremltools.source\"\n    value: \"torch==2.0.0\"\n  }\n  userDefined {\n    key: \"com.github.apple.coremltools.source_dialect\"\n    value: \"TorchScript\"\n  }\n  userDefined {\n    key: \"com.github.apple.coremltools.version\"\n    value: \"7.1\"\n  }\n}"
     },
     "execution_count": 36,
     "metadata": {},
     "output_type": "execute_result"
    }
   ],
   "source": [
    "coreml_model"
   ],
   "metadata": {
    "collapsed": false,
    "ExecuteTime": {
     "end_time": "2024-04-11T20:46:05.436743Z",
     "start_time": "2024-04-11T20:46:05.423821Z"
    }
   },
   "id": "e96ea3d157a854f1"
  },
  {
   "cell_type": "code",
   "execution_count": 37,
   "id": "020e92b3",
   "metadata": {
    "ExecuteTime": {
     "end_time": "2024-04-11T20:46:13.841957Z",
     "start_time": "2024-04-11T20:46:13.759894Z"
    }
   },
   "outputs": [
    {
     "data": {
      "text/plain": "input {\n  name: \"x\"\n  type {\n    multiArrayType {\n      shape: 1\n      shape: 3\n      shape: 16\n      dataType: FLOAT32\n    }\n  }\n}\noutput {\n  name: \"var_75\"\n  type {\n    multiArrayType {\n      shape: 1\n      shape: 6\n      dataType: FLOAT32\n    }\n  }\n}\nmetadata {\n  userDefined {\n    key: \"com.github.apple.coremltools.source\"\n    value: \"torch==2.0.0\"\n  }\n  userDefined {\n    key: \"com.github.apple.coremltools.source_dialect\"\n    value: \"TorchScript\"\n  }\n  userDefined {\n    key: \"com.github.apple.coremltools.version\"\n    value: \"7.1\"\n  }\n}"
     },
     "execution_count": 37,
     "metadata": {},
     "output_type": "execute_result"
    }
   ],
   "source": [
    "import coremltools as ct\n",
    "import coremltools.optimize.coreml as cto\n",
    "\n",
    "cnn_coreml_model = ct.models.MLModel(f'{MODELS_PATH}/cnn.mlpackage')\n",
    "cnn_coreml_model"
   ]
  },
  {
   "cell_type": "code",
   "execution_count": 38,
   "id": "9618bab2",
   "metadata": {
    "ExecuteTime": {
     "end_time": "2024-04-11T20:46:27.344670Z",
     "start_time": "2024-04-11T20:46:25.336143Z"
    }
   },
   "outputs": [
    {
     "name": "stdout",
     "output_type": "stream",
     "text": [
      "Accuracy: 0.8402380407415885\n",
      "Size of the model: 0.12 KB\n"
     ]
    }
   ],
   "source": [
    "model_name = cnn_coreml_model\n",
    "model_path = f'{MODELS_PATH}/cnn.mlpackage'\n",
    "\n",
    "coreml_metrics(model_name, X_test, y_test, model_path)"
   ]
  },
  {
   "cell_type": "markdown",
   "source": [
    "## Post Training Optimization"
   ],
   "metadata": {
    "collapsed": false
   },
   "id": "62a1b7caf8ea0ff0"
  },
  {
   "cell_type": "code",
   "execution_count": 55,
   "outputs": [],
   "source": [
    "from coremltools.optimize.coreml import (\n",
    "    OpThresholdPrunerConfig,\n",
    "    OpMagnitudePrunerConfig,\n",
    "    OpPalettizerConfig,\n",
    "    OpLinearQuantizerConfig,\n",
    "    OptimizationConfig,\n",
    "    prune_weights,\n",
    ")"
   ],
   "metadata": {
    "collapsed": false,
    "ExecuteTime": {
     "end_time": "2024-04-19T21:26:38.736981Z",
     "start_time": "2024-04-19T21:26:38.712495Z"
    }
   },
   "id": "ead029b1c80bc49b"
  },
  {
   "cell_type": "markdown",
   "source": [
    "### Quantization"
   ],
   "metadata": {
    "collapsed": false
   },
   "id": "d489568a"
  },
  {
   "cell_type": "code",
   "execution_count": 39,
   "outputs": [
    {
     "name": "stderr",
     "output_type": "stream",
     "text": [
      "Running compression pass linear_quantize_weights: 100%|██████████| 9/9 [00:00<00:00, 1637.19 ops/s]\n",
      "Running MIL frontend_milinternal pipeline: 0 passes [00:00, ? passes/s]\n",
      "Running MIL default pipeline: 100%|██████████| 69/69 [00:00<00:00, 3225.67 passes/s]\n",
      "Running MIL backend_mlprogram pipeline: 100%|██████████| 12/12 [00:00<00:00, 5610.48 passes/s]\n"
     ]
    }
   ],
   "source": [
    "op_config = OpLinearQuantizerConfig(\n",
    "    mode=\"linear_symmetric\", weight_threshold=512\n",
    ")\n",
    "config = OptimizationConfig(global_config=op_config)\n",
    "\n",
    "compressed_8_bit_model = cto.linear_quantize_weights(cnn_coreml_model, config=config)"
   ],
   "metadata": {
    "collapsed": false,
    "ExecuteTime": {
     "start_time": "2024-04-11T20:46:30.786773Z"
    }
   },
   "id": "5c240f32"
  },
  {
   "cell_type": "code",
   "execution_count": 40,
   "outputs": [],
   "source": [
    "compressed_8_bit_model.save(f'{MODELS_PATH}/cnn_8bitQuantized_mlmodel.mlpackage')"
   ],
   "metadata": {
    "collapsed": false,
    "ExecuteTime": {
     "start_time": "2024-04-11T20:46:40.812378Z"
    }
   },
   "id": "e85789a6"
  },
  {
   "cell_type": "code",
   "execution_count": 41,
   "outputs": [
    {
     "name": "stdout",
     "output_type": "stream",
     "text": [
      "Accuracy: 0.8402761882963302\n",
      "Size of the model: 0.12 KB\n"
     ]
    }
   ],
   "source": [
    "model_name = compressed_8_bit_model\n",
    "model_path = f'{MODELS_PATH}/cnn_8bitQuantized_mlmodel.mlpackage'\n",
    "\n",
    "coreml_metrics(model_name, X_test, y_test, model_path)"
   ],
   "metadata": {
    "collapsed": false,
    "ExecuteTime": {
     "start_time": "2024-04-11T20:46:46.443024Z"
    }
   },
   "id": "51a56cac"
  },
  {
   "cell_type": "markdown",
   "source": [
    "### Pruning"
   ],
   "metadata": {
    "collapsed": false
   },
   "id": "b02dd9064cc867b9"
  },
  {
   "cell_type": "markdown",
   "source": [
    "#### a) OpMagnitudePrunerConfig: Prune the weights with a constant sparsity percentile"
   ],
   "metadata": {
    "collapsed": false
   },
   "id": "cec7284d7f6eb3d3"
  },
  {
   "cell_type": "code",
   "execution_count": 45,
   "outputs": [
    {
     "name": "stderr",
     "output_type": "stream",
     "text": [
      "Running compression pass prune_weights: 100%|██████████| 9/9 [00:00<00:00, 731.71 ops/s]\n",
      "Running MIL frontend_milinternal pipeline: 0 passes [00:00, ? passes/s]\n",
      "Running MIL default pipeline: 100%|██████████| 69/69 [00:00<00:00, 1963.17 passes/s]\n",
      "Running MIL backend_mlprogram pipeline: 100%|██████████| 12/12 [00:00<00:00, 5014.11 passes/s]\n"
     ]
    }
   ],
   "source": [
    "op_config = OpMagnitudePrunerConfig(\n",
    "    target_sparsity=0.6,\n",
    "    weight_threshold=1024,\n",
    ")\n",
    "config = OptimizationConfig(global_config=op_config)\n",
    "#magnitude_pruner = prune_weights(mlmodel, config=config)\n",
    "cnn_magnitude_pruner = prune_weights(cnn_coreml_model, config=config)\n"
   ],
   "metadata": {
    "collapsed": false,
    "ExecuteTime": {
     "end_time": "2024-04-19T21:15:27.068609Z",
     "start_time": "2024-04-19T21:15:26.820960Z"
    }
   },
   "id": "4df9a229"
  },
  {
   "cell_type": "code",
   "execution_count": 46,
   "outputs": [],
   "source": [
    "cnn_magnitude_pruner.save(f'{MODELS_PATH}/cnn_magnitude_pruner.mlpackage')"
   ],
   "metadata": {
    "collapsed": false,
    "ExecuteTime": {
     "end_time": "2024-04-19T21:15:29.899886Z",
     "start_time": "2024-04-19T21:15:29.880466Z"
    }
   },
   "id": "b7ab6bebb2628100"
  },
  {
   "cell_type": "code",
   "execution_count": 47,
   "outputs": [
    {
     "name": "stdout",
     "output_type": "stream",
     "text": [
      "Accuracy: 0.6924544136720836\n",
      "Size of the model: 0.12 KB\n"
     ]
    }
   ],
   "source": [
    "model_name = cnn_magnitude_pruner\n",
    "model_path = f'{MODELS_PATH}/cnn_magnitude_pruner.mlpackage'\n",
    "\n",
    "coreml_metrics(model_name, X_test, y_test, model_path)"
   ],
   "metadata": {
    "collapsed": false,
    "ExecuteTime": {
     "end_time": "2024-04-19T21:15:32.992085Z",
     "start_time": "2024-04-19T21:15:30.589946Z"
    }
   },
   "id": "53b13f578c6881cc"
  },
  {
   "cell_type": "markdown",
   "source": [
    "#### b) OpThresholdPrunerConfig: Sets all weight values below a certain value."
   ],
   "metadata": {
    "collapsed": false
   },
   "id": "b43a6abff98b4f29"
  },
  {
   "cell_type": "code",
   "execution_count": 50,
   "outputs": [
    {
     "name": "stderr",
     "output_type": "stream",
     "text": [
      "Running compression pass prune_weights:   0%|          | 0/9 [00:00<?, ? ops/s]weight value has sparsity of 0.0013020833333333333 < minimum_sparsity_percentile 0.01. Skipped.\n",
      "weight value has sparsity of 0.007527669270833333 < minimum_sparsity_percentile 0.01. Skipped.\n",
      "weight value has sparsity of 0.0079345703125 < minimum_sparsity_percentile 0.01. Skipped.\n",
      "weight value has sparsity of 0.00390625 < minimum_sparsity_percentile 0.01. Skipped.\n",
      "weight value has sparsity of 0.005208333333333333 < minimum_sparsity_percentile 0.01. Skipped.\n",
      "Running compression pass prune_weights: 100%|██████████| 9/9 [00:00<00:00, 2748.16 ops/s]\n",
      "Running MIL frontend_milinternal pipeline: 0 passes [00:00, ? passes/s]\n",
      "Running MIL default pipeline: 100%|██████████| 69/69 [00:00<00:00, 3242.22 passes/s]\n",
      "Running MIL backend_mlprogram pipeline: 100%|██████████| 12/12 [00:00<00:00, 7532.42 passes/s]\n"
     ]
    }
   ],
   "source": [
    "op_config = OpThresholdPrunerConfig(\n",
    "    threshold=0.001,\n",
    "    minimum_sparsity_percentile=0.01,\n",
    "    weight_threshold=1024,\n",
    ")\n",
    "\n",
    "config = OptimizationConfig(global_config=op_config)\n",
    "#magnitude_pruner = prune_weights(mlmodel, config=config)\n",
    "cnn_threshold_pruner = prune_weights(cnn_coreml_model, config=config)"
   ],
   "metadata": {
    "collapsed": false,
    "ExecuteTime": {
     "end_time": "2024-04-19T21:20:41.004809Z",
     "start_time": "2024-04-19T21:20:40.708064Z"
    }
   },
   "id": "691d090e2451fdd6"
  },
  {
   "cell_type": "code",
   "execution_count": 51,
   "outputs": [],
   "source": [
    "cnn_threshold_pruner.save(f'{MODELS_PATH}/cnn_threshold_pruner.mlpackage')"
   ],
   "metadata": {
    "collapsed": false,
    "ExecuteTime": {
     "end_time": "2024-04-19T21:21:50.748113Z",
     "start_time": "2024-04-19T21:21:50.722323Z"
    }
   },
   "id": "5f51cf6ec361aaa8"
  },
  {
   "cell_type": "code",
   "execution_count": 52,
   "outputs": [
    {
     "name": "stdout",
     "output_type": "stream",
     "text": [
      "Accuracy: 0.8402380407415885\n",
      "Size of the model: 0.12 KB\n"
     ]
    }
   ],
   "source": [
    "model_name = cnn_threshold_pruner\n",
    "model_path = f'{MODELS_PATH}/cnn_threshold_pruner.mlpackage'\n",
    "\n",
    "coreml_metrics(model_name, X_test, y_test, model_path)"
   ],
   "metadata": {
    "collapsed": false,
    "ExecuteTime": {
     "end_time": "2024-04-19T21:21:56.668154Z",
     "start_time": "2024-04-19T21:21:54.269375Z"
    }
   },
   "id": "7ffc143250e5bbba"
  },
  {
   "cell_type": "markdown",
   "source": [
    "### Palletization"
   ],
   "metadata": {
    "collapsed": false
   },
   "id": "d048f27718c7aaec"
  },
  {
   "cell_type": "code",
   "execution_count": 56,
   "outputs": [
    {
     "name": "stderr",
     "output_type": "stream",
     "text": [
      "Running compression pass palettize_weights: 100%|██████████| 9/9 [00:00<00:00, 11.33 ops/s]\n",
      "Running MIL frontend_milinternal pipeline: 0 passes [00:00, ? passes/s]\n",
      "Running MIL default pipeline: 100%|██████████| 69/69 [00:00<00:00, 2833.07 passes/s]\n",
      "Running MIL backend_mlprogram pipeline: 100%|██████████| 12/12 [00:00<00:00, 4259.62 passes/s]\n"
     ]
    }
   ],
   "source": [
    "op_config = OpPalettizerConfig(\n",
    "    mode=\"kmeans\", \n",
    "    nbits=6\n",
    ")\n",
    "\n",
    "config = OptimizationConfig(global_config=op_config)\n",
    "cnn_palettizer = cto.palettize_weights(cnn_coreml_model, config=config)"
   ],
   "metadata": {
    "collapsed": false,
    "ExecuteTime": {
     "end_time": "2024-04-19T21:26:43.101532Z",
     "start_time": "2024-04-19T21:26:42.096077Z"
    }
   },
   "id": "a97d85ab4d84d390"
  },
  {
   "cell_type": "code",
   "execution_count": 57,
   "outputs": [],
   "source": [
    "cnn_palettizer.save(f'{MODELS_PATH}/cnn_palettizer.mlpackage')"
   ],
   "metadata": {
    "collapsed": false,
    "ExecuteTime": {
     "end_time": "2024-04-19T21:27:17.769893Z",
     "start_time": "2024-04-19T21:27:17.742614Z"
    }
   },
   "id": "2cfe3fa83b413bfe"
  },
  {
   "cell_type": "code",
   "execution_count": 58,
   "outputs": [
    {
     "name": "stdout",
     "output_type": "stream",
     "text": [
      "Accuracy: 0.8400473029678798\n",
      "Size of the model: 0.12 KB\n"
     ]
    }
   ],
   "source": [
    "model_name = cnn_palettizer\n",
    "model_path = f'{MODELS_PATH}/cnn_palettizer.mlpackage'\n",
    "\n",
    "coreml_metrics(model_name, X_test, y_test, model_path)"
   ],
   "metadata": {
    "collapsed": false,
    "ExecuteTime": {
     "end_time": "2024-04-19T21:27:21.084683Z",
     "start_time": "2024-04-19T21:27:18.635153Z"
    }
   },
   "id": "f3cfaf466651232d"
  },
  {
   "cell_type": "code",
   "execution_count": null,
   "outputs": [],
   "source": [],
   "metadata": {
    "collapsed": false
   },
   "id": "6a0db87ec214f206"
  }
 ],
 "metadata": {
  "kernelspec": {
   "display_name": "Python 3 (ipykernel)",
   "language": "python",
   "name": "python3"
  },
  "language_info": {
   "codemirror_mode": {
    "name": "ipython",
    "version": 3
   },
   "file_extension": ".py",
   "mimetype": "text/x-python",
   "name": "python",
   "nbconvert_exporter": "python",
   "pygments_lexer": "ipython3",
   "version": "3.11.3"
  }
 },
 "nbformat": 4,
 "nbformat_minor": 5
}
