{
 "cells": [
  {
   "cell_type": "code",
   "execution_count": 2,
   "outputs": [
    {
     "name": "stdout",
     "output_type": "stream",
     "text": [
      "Requirement already satisfied: torch in /opt/homebrew/lib/python3.10/site-packages (2.0.0)\r\n",
      "Requirement already satisfied: filelock in /opt/homebrew/lib/python3.10/site-packages (from torch) (3.13.4)\r\n",
      "Requirement already satisfied: typing-extensions in /opt/homebrew/lib/python3.10/site-packages (from torch) (4.11.0)\r\n",
      "Requirement already satisfied: sympy in /opt/homebrew/lib/python3.10/site-packages (from torch) (1.12)\r\n",
      "Requirement already satisfied: networkx in /opt/homebrew/lib/python3.10/site-packages (from torch) (3.3)\r\n",
      "Requirement already satisfied: jinja2 in /opt/homebrew/lib/python3.10/site-packages (from torch) (3.1.3)\r\n",
      "Requirement already satisfied: MarkupSafe>=2.0 in /opt/homebrew/lib/python3.10/site-packages (from jinja2->torch) (2.1.5)\r\n",
      "Requirement already satisfied: mpmath>=0.19 in /opt/homebrew/lib/python3.10/site-packages (from sympy->torch) (1.3.0)\r\n",
      "Note: you may need to restart the kernel to use updated packages.\n",
      "Requirement already satisfied: numpy in /opt/homebrew/lib/python3.10/site-packages (1.26.4)\r\n",
      "Note: you may need to restart the kernel to use updated packages.\n",
      "Requirement already satisfied: pandas in /opt/homebrew/lib/python3.10/site-packages (2.2.2)\r\n",
      "Requirement already satisfied: numpy>=1.22.4 in /opt/homebrew/lib/python3.10/site-packages (from pandas) (1.26.4)\r\n",
      "Requirement already satisfied: python-dateutil>=2.8.2 in /opt/homebrew/lib/python3.10/site-packages (from pandas) (2.9.0.post0)\r\n",
      "Requirement already satisfied: pytz>=2020.1 in /opt/homebrew/lib/python3.10/site-packages (from pandas) (2024.1)\r\n",
      "Requirement already satisfied: tzdata>=2022.7 in /opt/homebrew/lib/python3.10/site-packages (from pandas) (2024.1)\r\n",
      "Requirement already satisfied: six>=1.5 in /opt/homebrew/lib/python3.10/site-packages (from python-dateutil>=2.8.2->pandas) (1.16.0)\r\n",
      "Note: you may need to restart the kernel to use updated packages.\n",
      "Requirement already satisfied: scikit-learn in /opt/homebrew/lib/python3.10/site-packages (1.1.2)\r\n",
      "Requirement already satisfied: numpy>=1.17.3 in /opt/homebrew/lib/python3.10/site-packages (from scikit-learn) (1.26.4)\r\n",
      "Requirement already satisfied: scipy>=1.3.2 in /opt/homebrew/lib/python3.10/site-packages (from scikit-learn) (1.13.0)\r\n",
      "Requirement already satisfied: joblib>=1.0.0 in /opt/homebrew/lib/python3.10/site-packages (from scikit-learn) (1.4.0)\r\n",
      "Requirement already satisfied: threadpoolctl>=2.0.0 in /opt/homebrew/lib/python3.10/site-packages (from scikit-learn) (3.4.0)\r\n",
      "Note: you may need to restart the kernel to use updated packages.\n",
      "Requirement already satisfied: coremltools in /opt/homebrew/lib/python3.10/site-packages (7.1)\r\n",
      "Requirement already satisfied: numpy>=1.14.5 in /opt/homebrew/lib/python3.10/site-packages (from coremltools) (1.26.4)\r\n",
      "Requirement already satisfied: protobuf<=4.0.0,>=3.1.0 in /opt/homebrew/lib/python3.10/site-packages (from coremltools) (3.20.3)\r\n",
      "Requirement already satisfied: sympy in /opt/homebrew/lib/python3.10/site-packages (from coremltools) (1.12)\r\n",
      "Requirement already satisfied: tqdm in /opt/homebrew/lib/python3.10/site-packages (from coremltools) (4.66.2)\r\n",
      "Requirement already satisfied: packaging in /opt/homebrew/lib/python3.10/site-packages (from coremltools) (24.0)\r\n",
      "Requirement already satisfied: attrs>=21.3.0 in /opt/homebrew/lib/python3.10/site-packages (from coremltools) (23.2.0)\r\n",
      "Requirement already satisfied: cattrs in /opt/homebrew/lib/python3.10/site-packages (from coremltools) (23.2.3)\r\n",
      "Requirement already satisfied: pyaml in /opt/homebrew/lib/python3.10/site-packages (from coremltools) (23.12.0)\r\n",
      "Requirement already satisfied: exceptiongroup>=1.1.1 in /opt/homebrew/lib/python3.10/site-packages (from cattrs->coremltools) (1.2.0)\r\n",
      "Requirement already satisfied: typing-extensions!=4.6.3,>=4.1.0 in /opt/homebrew/lib/python3.10/site-packages (from cattrs->coremltools) (4.11.0)\r\n",
      "Requirement already satisfied: PyYAML in /opt/homebrew/lib/python3.10/site-packages (from pyaml->coremltools) (6.0.1)\r\n",
      "Requirement already satisfied: mpmath>=0.19 in /opt/homebrew/lib/python3.10/site-packages (from sympy->coremltools) (1.3.0)\r\n",
      "Note: you may need to restart the kernel to use updated packages.\n"
     ]
    }
   ],
   "source": [
    "%pip install torch\n",
    "%pip install numpy\n",
    "%pip install pandas\n",
    "%pip install scikit-learn\n",
    "%pip install coremltools"
   ],
   "metadata": {
    "collapsed": false,
    "ExecuteTime": {
     "end_time": "2024-04-11T20:27:04.367495Z",
     "start_time": "2024-04-11T20:27:00.498409Z"
    }
   }
  },
  {
   "cell_type": "code",
   "execution_count": 7,
   "metadata": {
    "id": "UF_fkc-rEH5Q",
    "ExecuteTime": {
     "end_time": "2024-04-11T20:29:39.110229Z",
     "start_time": "2024-04-11T20:29:39.094240Z"
    }
   },
   "outputs": [],
   "source": [
    "import os\n",
    "import torch\n",
    "import torch.nn as nn\n",
    "import torch.nn.functional as F\n",
    "from torch.utils.data import DataLoader, TensorDataset\n",
    "from torch.optim import Adam\n",
    "from sklearn.model_selection import train_test_split\n",
    "import numpy as np\n",
    "import pandas as pd\n",
    "from numpy import genfromtxt\n",
    "from sklearn.preprocessing import LabelEncoder"
   ]
  },
  {
   "cell_type": "code",
   "execution_count": 8,
   "outputs": [],
   "source": [
    "# Set up the paths\n",
    "HOME_PATH = os.path.expanduser('~')\n",
    "MODELS_PATH = f'{HOME_PATH}/Developer/BU/research/models'\n",
    "DATASET_PATH = f'../../../data/'\n",
    "data_features = f'{DATASET_PATH}/WISDM_x.csv'\n",
    "data_labels = f'{DATASET_PATH}/WISDM_y.csv'"
   ],
   "metadata": {
    "collapsed": false,
    "ExecuteTime": {
     "end_time": "2024-04-11T20:29:39.603892Z",
     "start_time": "2024-04-11T20:29:39.600376Z"
    }
   }
  },
  {
   "cell_type": "code",
   "execution_count": 9,
   "metadata": {
    "id": "u9gSA8uiEilq",
    "ExecuteTime": {
     "end_time": "2024-04-11T20:29:42.742837Z",
     "start_time": "2024-04-11T20:29:40.568091Z"
    }
   },
   "outputs": [],
   "source": [
    "# Load Data\n",
    "x = genfromtxt(data_features, delimiter=',')\n",
    "y_df = pd.read_csv(data_labels)\n",
    "y = y_df.values.flatten()  # Flatten if y is 2D\n",
    "\n",
    "# Encode labels\n",
    "label_encoder = LabelEncoder()\n",
    "y_encoded = label_encoder.fit_transform(y)\n",
    "\n",
    "# Function to create time series dataset\n",
    "def create_series(x, y, timestep, overlap):\n",
    "    slide_step = int(timestep * (1 - overlap))\n",
    "    data_num = int((len(x) / slide_step) - 1)\n",
    "    dataset = np.ndarray(shape=(data_num, timestep, x.shape[1]))\n",
    "    labels = []\n",
    "\n",
    "    for i in range(data_num):\n",
    "        labels.append(y[slide_step * (i + 1) - 1])\n",
    "        for j in range(timestep):\n",
    "            dataset[i, j, :] = x[slide_step * i + j, :]\n",
    "\n",
    "    return dataset, np.array(labels)\n",
    "\n",
    "# Create time series\n",
    "timestep = 16  # Replace with your value\n",
    "overlap = 0.5  # Replace with your value\n",
    "X_series, y_series = create_series(x, y_encoded, timestep, overlap)"
   ]
  },
  {
   "cell_type": "code",
   "execution_count": 10,
   "metadata": {
    "id": "gLppIs7ZEiof",
    "ExecuteTime": {
     "end_time": "2024-04-11T20:29:43.561775Z",
     "start_time": "2024-04-11T20:29:43.535490Z"
    }
   },
   "outputs": [],
   "source": [
    "# Split into train and test sets\n",
    "X_train, X_test, y_train, y_test = train_test_split(X_series, y_series, test_size=0.2, random_state=42)\n",
    "\n",
    "# Convert to PyTorch tensors\n",
    "x_train_tensor = torch.tensor(X_train, dtype=torch.float32)\n",
    "x_test_tensor = torch.tensor(X_test, dtype=torch.float32)\n",
    "y_train_tensor = torch.tensor(y_train, dtype=torch.long)\n",
    "y_test_tensor = torch.tensor(y_test, dtype=torch.long)\n",
    "\n"
   ]
  },
  {
   "cell_type": "code",
   "execution_count": 11,
   "metadata": {
    "ExecuteTime": {
     "end_time": "2024-04-11T20:29:44.335756Z",
     "start_time": "2024-04-11T20:29:44.326511Z"
    }
   },
   "outputs": [],
   "source": [
    "class LSTMNet(nn.Module):\n",
    "    def __init__(self, input_size, hidden_size1, hidden_size2, output_size, n_steps):\n",
    "        super(LSTMNet, self).__init__()\n",
    "        self.hidden_size1 = hidden_size1\n",
    "        self.hidden_size2 = hidden_size2\n",
    "        self.lstm1 = nn.LSTM(input_size, hidden_size1, batch_first=True)\n",
    "        self.dropout1 = nn.Dropout(0.2)\n",
    "        self.lstm2 = nn.LSTM(hidden_size1, hidden_size2, batch_first=True)\n",
    "        self.dropout2 = nn.Dropout(0.2)\n",
    "        self.fc = nn.Linear(hidden_size2, output_size)\n",
    "\n",
    "    def forward(self, x):\n",
    "        # Initialize hidden state and cell state\n",
    "        h0 = torch.zeros(1, x.size(0), self.hidden_size1).to(x.device)\n",
    "        c0 = torch.zeros(1, x.size(0), self.hidden_size1).to(x.device)\n",
    "        \n",
    "        # First LSTM layer\n",
    "        out, _ = self.lstm1(x, (h0, c0))\n",
    "        out = self.dropout1(out)\n",
    "        \n",
    "        # Second LSTM layer\n",
    "        h1 = torch.zeros(1, x.size(0), self.hidden_size2).to(x.device)\n",
    "        c1 = torch.zeros(1, x.size(0), self.hidden_size2).to(x.device)\n",
    "        out, _ = self.lstm2(out, (h1, c1))\n",
    "        out = self.dropout2(out)\n",
    "\n",
    "        # Dense layer\n",
    "        out = self.fc(out[:, -1, :]) # Taking the last time step\n",
    "        return out\n"
   ]
  },
  {
   "cell_type": "code",
   "execution_count": 12,
   "metadata": {
    "ExecuteTime": {
     "end_time": "2024-04-11T20:29:45.354382Z",
     "start_time": "2024-04-11T20:29:45.344185Z"
    }
   },
   "outputs": [],
   "source": [
    "# Parameters\n",
    "input_size = 3  # Number of features\n",
    "hidden_size1 = 50\n",
    "hidden_size2 = 25\n",
    "output_size = 6\n",
    "n_steps = 16\n",
    "\n",
    "# Create the model\n",
    "model = LSTMNet(input_size, hidden_size1, hidden_size2, output_size, n_steps)\n",
    "\n",
    "# Training setup (for demonstration)\n",
    "# Define your dataset here\n",
    "train_dataset = TensorDataset(torch.tensor(X_train, dtype=torch.float32), torch.tensor(y_train, dtype=torch.int64))\n",
    "train_loader = DataLoader(train_dataset, batch_size=64, shuffle=True)\n",
    "\n",
    "loss_fn = nn.CrossEntropyLoss()\n",
    "optimizer = torch.optim.Adam(model.parameters(), lr=0.001)\n"
   ]
  },
  {
   "cell_type": "code",
   "execution_count": 13,
   "metadata": {
    "ExecuteTime": {
     "end_time": "2024-04-11T20:33:28.804359Z",
     "start_time": "2024-04-11T20:29:46.523332Z"
    }
   },
   "outputs": [
    {
     "name": "stdout",
     "output_type": "stream",
     "text": [
      "Epoch [1/20], Loss: 0.5909, Accuracy: 79.51%\n",
      "Epoch [2/20], Loss: 0.3590, Accuracy: 87.68%\n",
      "Epoch [3/20], Loss: 0.2889, Accuracy: 90.30%\n",
      "Epoch [4/20], Loss: 0.2527, Accuracy: 91.64%\n",
      "Epoch [5/20], Loss: 0.2293, Accuracy: 92.49%\n",
      "Epoch [6/20], Loss: 0.2120, Accuracy: 93.09%\n",
      "Epoch [7/20], Loss: 0.1968, Accuracy: 93.65%\n",
      "Epoch [8/20], Loss: 0.1863, Accuracy: 93.96%\n",
      "Epoch [9/20], Loss: 0.1772, Accuracy: 94.30%\n",
      "Epoch [10/20], Loss: 0.1698, Accuracy: 94.55%\n",
      "Epoch [11/20], Loss: 0.1624, Accuracy: 94.74%\n",
      "Epoch [12/20], Loss: 0.1567, Accuracy: 94.90%\n",
      "Epoch [13/20], Loss: 0.1509, Accuracy: 95.11%\n",
      "Epoch [14/20], Loss: 0.1462, Accuracy: 95.32%\n",
      "Epoch [15/20], Loss: 0.1399, Accuracy: 95.44%\n",
      "Epoch [16/20], Loss: 0.1378, Accuracy: 95.54%\n",
      "Epoch [17/20], Loss: 0.1345, Accuracy: 95.66%\n",
      "Epoch [18/20], Loss: 0.1300, Accuracy: 95.85%\n",
      "Epoch [19/20], Loss: 0.1265, Accuracy: 95.95%\n",
      "Epoch [20/20], Loss: 0.1239, Accuracy: 96.02%\n"
     ]
    }
   ],
   "source": [
    "def train(model, train_loader, loss_fn, optimizer, epochs=0):\n",
    "    for epoch in range(epochs):\n",
    "        model.train()\n",
    "        running_loss = 0.0\n",
    "        correct = 0\n",
    "        total = 0\n",
    "\n",
    "        for X_batch, y_batch in train_loader:\n",
    "            optimizer.zero_grad()\n",
    "            y_pred = model(X_batch)\n",
    "            loss = loss_fn(y_pred, y_batch)\n",
    "            loss.backward()\n",
    "            optimizer.step()\n",
    "\n",
    "            running_loss += loss.item()\n",
    "            _, predicted = torch.max(y_pred.data, 1)\n",
    "            total += y_batch.size(0)\n",
    "            correct += (predicted == y_batch).sum().item()\n",
    "\n",
    "        avg_loss = running_loss / len(train_loader)\n",
    "        accuracy = 100 * correct / total\n",
    "        print(f\"Epoch [{epoch+1}/{epochs}], Loss: {avg_loss:.4f}, Accuracy: {accuracy:.2f}%\")\n",
    "\n",
    "train(model, train_loader, loss_fn, optimizer, epochs=20)\n"
   ]
  },
  {
   "cell_type": "code",
   "execution_count": 14,
   "metadata": {
    "ExecuteTime": {
     "end_time": "2024-04-11T20:37:38.804245Z",
     "start_time": "2024-04-11T20:37:37.631699Z"
    }
   },
   "outputs": [
    {
     "name": "stdout",
     "output_type": "stream",
     "text": [
      "Test Loss: 0.1556, Test Accuracy: 0.9512\n"
     ]
    }
   ],
   "source": [
    "test_dataset = TensorDataset(torch.tensor(X_test, dtype=torch.float32), torch.tensor(y_test, dtype=torch.int64))\n",
    "test_loader = DataLoader(test_dataset, batch_size=64, shuffle=False)\n",
    "def evaluate(model, test_loader, loss_fn):\n",
    "    model.eval()\n",
    "    total_loss = 0\n",
    "    correct = 0\n",
    "    total = 0\n",
    "    with torch.no_grad():\n",
    "        for X_batch, y_batch in test_loader:\n",
    "            y_pred = model(X_batch)\n",
    "            total_loss += loss_fn(y_pred, y_batch).item()\n",
    "            _, predicted = torch.max(y_pred.data, 1)\n",
    "            total += y_batch.size(0)\n",
    "            correct += (predicted == y_batch).sum().item()\n",
    "\n",
    "    avg_loss = total_loss / len(test_loader)\n",
    "    accuracy = correct / total\n",
    "    return avg_loss, accuracy\n",
    "\n",
    "avg_loss, accuracy = evaluate(model, test_loader, loss_fn)\n",
    "print(f\"Test Loss: {avg_loss:.4f}, Test Accuracy: {accuracy:.4f}\")\n",
    "\n"
   ]
  },
  {
   "cell_type": "code",
   "execution_count": 16,
   "metadata": {
    "ExecuteTime": {
     "end_time": "2024-04-11T20:38:00.200246Z",
     "start_time": "2024-04-11T20:38:00.184639Z"
    }
   },
   "outputs": [],
   "source": [
    "model_path = f'{MODELS_PATH}/lstm_base.pth'\n",
    "torch.save(model.state_dict(), model_path)"
   ]
  },
  {
   "cell_type": "markdown",
   "metadata": {},
   "source": [
    "### Convert to Coreml"
   ]
  },
  {
   "cell_type": "code",
   "execution_count": 21,
   "metadata": {
    "ExecuteTime": {
     "end_time": "2024-04-11T20:39:03.517680Z",
     "start_time": "2024-04-11T20:39:03.234568Z"
    }
   },
   "outputs": [
    {
     "name": "stderr",
     "output_type": "stream",
     "text": [
      "Converting PyTorch Frontend ==> MIL Ops:  99%|█████████▉| 113/114 [00:00<00:00, 10060.63 ops/s]\n",
      "Running MIL frontend_pytorch pipeline: 100%|██████████| 5/5 [00:00<00:00, 3572.05 passes/s]\n",
      "Running MIL default pipeline: 100%|██████████| 71/71 [00:00<00:00, 1915.76 passes/s]\n",
      "Running MIL backend_mlprogram pipeline: 100%|██████████| 12/12 [00:00<00:00, 7937.49 passes/s]\n"
     ]
    }
   ],
   "source": [
    "import coremltools as ct\n",
    "example_input = torch.rand(1,16, 3) \n",
    "\n",
    "model.eval()\n",
    "traced_model = torch.jit.trace(model, example_input)\n",
    "out = traced_model(example_input)\n",
    "\n",
    "# Convert to Core ML program using the Unified Conversion API.\n",
    "mlp_coreml_model = ct.convert(\n",
    "    traced_model,\n",
    "    convert_to=\"mlprogram\",\n",
    "    inputs=[ct.TensorType(shape=example_input.shape)]\n",
    " )\n",
    "\n",
    "# Save the converted model.\n",
    "mlp_coreml_model.save(f'{MODELS_PATH}/lstm.mlpackage')"
   ]
  },
  {
   "cell_type": "markdown",
   "metadata": {},
   "source": [
    "### Define Coreml Metrics"
   ]
  },
  {
   "cell_type": "code",
   "execution_count": 30,
   "metadata": {
    "ExecuteTime": {
     "end_time": "2024-04-11T20:42:08.131403Z",
     "start_time": "2024-04-11T20:42:08.119437Z"
    }
   },
   "outputs": [],
   "source": [
    "from pathlib import Path\n",
    "\n",
    "def coreml_metrics(model_name, X_test, y_test, model_path):\n",
    "    predictions = []\n",
    "    for id in range(len(X_test)):\n",
    "        X_test_new = np.expand_dims(X_test[id], axis=0)\n",
    "        output_dict = model_name.predict({'x': X_test_new})\n",
    "        pred_class = np.argmax(output_dict['linear_0'])\n",
    "        predictions.append(pred_class)\n",
    "    \n",
    "    accuracy = np.sum(predictions == y_test) / len(predictions)\n",
    "    print(\"Accuracy:\", accuracy)\n",
    "    \n",
    "    model_file = Path(model_path)\n",
    "    \n",
    "    # Size in bytes\n",
    "    model_size_bytes = model_file.stat().st_size\n",
    "    \n",
    "    # Convert size to kilobytes (optional)\n",
    "    model_size_kb = model_size_bytes / 1024\n",
    "    print(f\"Size of the model: {model_size_kb:.2f} KB\")"
   ]
  },
  {
   "cell_type": "code",
   "execution_count": 31,
   "metadata": {
    "ExecuteTime": {
     "end_time": "2024-04-11T20:42:09.661567Z",
     "start_time": "2024-04-11T20:42:09.590776Z"
    }
   },
   "outputs": [],
   "source": [
    "import coremltools as ct\n",
    "import coremltools.optimize.coreml as cto\n",
    "\n",
    "lstm_coreml_model = ct.models.MLModel(f'{MODELS_PATH}/lstm.mlpackage')"
   ]
  },
  {
   "cell_type": "code",
   "execution_count": 32,
   "metadata": {
    "ExecuteTime": {
     "end_time": "2024-04-11T20:42:13.105146Z",
     "start_time": "2024-04-11T20:42:10.517024Z"
    }
   },
   "outputs": [
    {
     "name": "stdout",
     "output_type": "stream",
     "text": [
      "Accuracy: 0.9512474250400549\n",
      "Size of the model: 0.12 KB\n"
     ]
    }
   ],
   "source": [
    "model_name = lstm_coreml_model\n",
    "model_path = f'{MODELS_PATH}/lstm.mlpackage'\n",
    "\n",
    "coreml_metrics(model_name, X_test, y_test, model_path)"
   ]
  },
  {
   "cell_type": "markdown",
   "source": [
    "## Post Training Optimization"
   ],
   "metadata": {
    "collapsed": false
   }
  },
  {
   "cell_type": "code",
   "execution_count": 36,
   "outputs": [],
   "source": [
    "from coremltools.optimize.coreml import (\n",
    "    OpThresholdPrunerConfig,\n",
    "    OpMagnitudePrunerConfig,\n",
    "    OpPalettizerConfig,\n",
    "    OpLinearQuantizerConfig,\n",
    "    OptimizationConfig,\n",
    "    prune_weights,\n",
    ")"
   ],
   "metadata": {
    "collapsed": false,
    "ExecuteTime": {
     "end_time": "2024-04-19T21:54:06.505393Z",
     "start_time": "2024-04-19T21:54:06.484768Z"
    }
   }
  },
  {
   "cell_type": "markdown",
   "source": [
    "### Quantization"
   ],
   "metadata": {
    "collapsed": false
   }
  },
  {
   "cell_type": "code",
   "execution_count": 37,
   "outputs": [
    {
     "name": "stderr",
     "output_type": "stream",
     "text": [
      "Running compression pass linear_quantize_weights: 100%|██████████| 11/11 [00:00<00:00, 3076.85 ops/s]\n",
      "Running MIL frontend_milinternal pipeline: 0 passes [00:00, ? passes/s]\n",
      "Running MIL default pipeline: 100%|██████████| 69/69 [00:00<00:00, 2681.46 passes/s]\n",
      "Running MIL backend_mlprogram pipeline: 100%|██████████| 12/12 [00:00<00:00, 5464.30 passes/s]\n"
     ]
    }
   ],
   "source": [
    "op_config = OpLinearQuantizerConfig(\n",
    "    mode=\"linear_symmetric\", weight_threshold=512\n",
    ")\n",
    "config = OptimizationConfig(global_config=op_config)\n",
    "\n",
    "compressed_8_bit_model = cto.linear_quantize_weights(lstm_coreml_model, config=config)"
   ],
   "metadata": {
    "collapsed": false,
    "ExecuteTime": {
     "end_time": "2024-04-19T21:54:18.891951Z",
     "start_time": "2024-04-19T21:54:18.733155Z"
    }
   }
  },
  {
   "cell_type": "code",
   "execution_count": 38,
   "outputs": [],
   "source": [
    "compressed_8_bit_model.save(f'{MODELS_PATH}/lstm_8bitQuantized_mlmodel.mlpackage')"
   ],
   "metadata": {
    "collapsed": false,
    "ExecuteTime": {
     "end_time": "2024-04-19T21:54:35.250375Z",
     "start_time": "2024-04-19T21:54:35.226649Z"
    }
   }
  },
  {
   "cell_type": "code",
   "execution_count": 39,
   "outputs": [
    {
     "name": "stdout",
     "output_type": "stream",
     "text": [
      "Accuracy: 0.9509040970473792\n",
      "Size of the model: 0.12 KB\n"
     ]
    }
   ],
   "source": [
    "model_name = compressed_8_bit_model\n",
    "model_path = f'{MODELS_PATH}/lstm_8bitQuantized_mlmodel.mlpackage'\n",
    "\n",
    "coreml_metrics(model_name, X_test, y_test, model_path)"
   ],
   "metadata": {
    "collapsed": false,
    "ExecuteTime": {
     "end_time": "2024-04-19T21:54:44.234843Z",
     "start_time": "2024-04-19T21:54:40.728693Z"
    }
   }
  },
  {
   "cell_type": "markdown",
   "source": [
    "### Pruning"
   ],
   "metadata": {
    "collapsed": false
   }
  },
  {
   "cell_type": "markdown",
   "source": [
    "#### a) OpMagnitudePrunerConfig: Prune the weights with a constant sparsity percentile"
   ],
   "metadata": {
    "collapsed": false
   }
  },
  {
   "cell_type": "code",
   "execution_count": 40,
   "outputs": [
    {
     "name": "stderr",
     "output_type": "stream",
     "text": [
      "Running compression pass prune_weights: 100%|██████████| 11/11 [00:00<00:00, 2459.74 ops/s]\n",
      "Running MIL frontend_milinternal pipeline: 0 passes [00:00, ? passes/s]\n",
      "Running MIL default pipeline: 100%|██████████| 69/69 [00:00<00:00, 2707.27 passes/s]\n",
      "Running MIL backend_mlprogram pipeline: 100%|██████████| 12/12 [00:00<00:00, 5454.82 passes/s]\n"
     ]
    }
   ],
   "source": [
    "op_config = OpMagnitudePrunerConfig(\n",
    "    target_sparsity=0.6,\n",
    "    weight_threshold=1024,\n",
    ")\n",
    "config = OptimizationConfig(global_config=op_config)\n",
    "lstm_magnitude_pruner = prune_weights(lstm_coreml_model, config=config)\n"
   ],
   "metadata": {
    "collapsed": false,
    "ExecuteTime": {
     "end_time": "2024-04-19T21:54:58.404045Z",
     "start_time": "2024-04-19T21:54:58.200205Z"
    }
   }
  },
  {
   "cell_type": "code",
   "execution_count": 41,
   "outputs": [],
   "source": [
    "lstm_magnitude_pruner.save(f'{MODELS_PATH}/lstm_magnitude_pruner.mlpackage')"
   ],
   "metadata": {
    "collapsed": false,
    "ExecuteTime": {
     "end_time": "2024-04-19T21:55:14.965830Z",
     "start_time": "2024-04-19T21:55:14.947519Z"
    }
   }
  },
  {
   "cell_type": "code",
   "execution_count": 42,
   "outputs": [
    {
     "name": "stdout",
     "output_type": "stream",
     "text": [
      "Accuracy: 0.7891203173876554\n",
      "Size of the model: 0.12 KB\n"
     ]
    }
   ],
   "source": [
    "model_name = lstm_magnitude_pruner\n",
    "model_path = f'{MODELS_PATH}/lstm_magnitude_pruner.mlpackage'\n",
    "\n",
    "coreml_metrics(model_name, X_test, y_test, model_path)"
   ],
   "metadata": {
    "collapsed": false,
    "ExecuteTime": {
     "end_time": "2024-04-19T21:55:28.224537Z",
     "start_time": "2024-04-19T21:55:25.215500Z"
    }
   }
  },
  {
   "cell_type": "markdown",
   "source": [
    "#### b) OpThresholdPrunerConfig: Sets all weight values below a certain value."
   ],
   "metadata": {
    "collapsed": false
   }
  },
  {
   "cell_type": "code",
   "execution_count": 43,
   "outputs": [
    {
     "name": "stderr",
     "output_type": "stream",
     "text": [
      "Running compression pass prune_weights:   0%|          | 0/11 [00:00<?, ? ops/s]weight value has sparsity of 0.0024 < minimum_sparsity_percentile 0.01. Skipped.\n",
      "weight value has sparsity of 0.0028 < minimum_sparsity_percentile 0.01. Skipped.\n",
      "weight value has sparsity of 0.0052 < minimum_sparsity_percentile 0.01. Skipped.\n",
      "Running compression pass prune_weights: 100%|██████████| 11/11 [00:00<00:00, 7519.12 ops/s]\n",
      "Running MIL frontend_milinternal pipeline: 0 passes [00:00, ? passes/s]\n",
      "Running MIL default pipeline: 100%|██████████| 69/69 [00:00<00:00, 3322.58 passes/s]\n",
      "Running MIL backend_mlprogram pipeline: 100%|██████████| 12/12 [00:00<00:00, 6826.48 passes/s]\n"
     ]
    }
   ],
   "source": [
    "op_config = OpThresholdPrunerConfig(\n",
    "    threshold=0.001,\n",
    "    minimum_sparsity_percentile=0.01,\n",
    "    weight_threshold=1024,\n",
    ")\n",
    "\n",
    "config = OptimizationConfig(global_config=op_config)\n",
    "lstm_threshold_pruner = prune_weights(lstm_coreml_model, config=config)"
   ],
   "metadata": {
    "collapsed": false,
    "ExecuteTime": {
     "end_time": "2024-04-19T21:55:43.492413Z",
     "start_time": "2024-04-19T21:55:43.344732Z"
    }
   }
  },
  {
   "cell_type": "code",
   "execution_count": 44,
   "outputs": [],
   "source": [
    "lstm_threshold_pruner.save(f'{MODELS_PATH}/lstm_threshold_pruner.mlpackage')"
   ],
   "metadata": {
    "collapsed": false,
    "ExecuteTime": {
     "end_time": "2024-04-19T21:55:52.832768Z",
     "start_time": "2024-04-19T21:55:52.812765Z"
    }
   }
  },
  {
   "cell_type": "code",
   "execution_count": 45,
   "outputs": [
    {
     "name": "stdout",
     "output_type": "stream",
     "text": [
      "Accuracy: 0.9512474250400549\n",
      "Size of the model: 0.12 KB\n"
     ]
    }
   ],
   "source": [
    "model_name = lstm_threshold_pruner\n",
    "model_path = f'{MODELS_PATH}/lstm_threshold_pruner.mlpackage'\n",
    "\n",
    "coreml_metrics(model_name, X_test, y_test, model_path)"
   ],
   "metadata": {
    "collapsed": false,
    "ExecuteTime": {
     "end_time": "2024-04-19T21:56:05.568106Z",
     "start_time": "2024-04-19T21:56:02.326938Z"
    }
   }
  },
  {
   "cell_type": "markdown",
   "source": [
    "### Palletization"
   ],
   "metadata": {
    "collapsed": false
   }
  },
  {
   "cell_type": "code",
   "execution_count": 46,
   "outputs": [
    {
     "name": "stderr",
     "output_type": "stream",
     "text": [
      "Running compression pass palettize_weights: 100%|██████████| 11/11 [00:00<00:00, 30.84 ops/s]\n",
      "Running MIL frontend_milinternal pipeline: 0 passes [00:00, ? passes/s]\n",
      "Running MIL default pipeline: 100%|██████████| 69/69 [00:00<00:00, 2198.99 passes/s]\n",
      "Running MIL backend_mlprogram pipeline: 100%|██████████| 12/12 [00:00<00:00, 2636.82 passes/s]\n"
     ]
    }
   ],
   "source": [
    "op_config = OpPalettizerConfig(\n",
    "    mode=\"kmeans\", \n",
    "    nbits=6\n",
    ")\n",
    "\n",
    "config = OptimizationConfig(global_config=op_config)\n",
    "lstm_palettizer = cto.palettize_weights(lstm_coreml_model, config=config)"
   ],
   "metadata": {
    "collapsed": false,
    "ExecuteTime": {
     "end_time": "2024-04-19T21:56:18.323985Z",
     "start_time": "2024-04-19T21:56:17.797447Z"
    }
   }
  },
  {
   "cell_type": "code",
   "execution_count": 47,
   "outputs": [],
   "source": [
    "lstm_palettizer.save(f'{MODELS_PATH}/lstm_palettizer.mlpackage')"
   ],
   "metadata": {
    "collapsed": false,
    "ExecuteTime": {
     "end_time": "2024-04-19T21:56:27.171149Z",
     "start_time": "2024-04-19T21:56:27.152050Z"
    }
   }
  },
  {
   "cell_type": "code",
   "execution_count": 48,
   "outputs": [
    {
     "name": "stdout",
     "output_type": "stream",
     "text": [
      "Accuracy: 0.9506752117189288\n",
      "Size of the model: 0.12 KB\n"
     ]
    }
   ],
   "source": [
    "model_name = lstm_palettizer\n",
    "model_path = f'{MODELS_PATH}/lstm_palettizer.mlpackage'\n",
    "\n",
    "coreml_metrics(model_name, X_test, y_test, model_path)"
   ],
   "metadata": {
    "collapsed": false,
    "ExecuteTime": {
     "end_time": "2024-04-19T21:56:38.591300Z",
     "start_time": "2024-04-19T21:56:35.066700Z"
    }
   }
  },
  {
   "cell_type": "code",
   "execution_count": null,
   "outputs": [],
   "source": [],
   "metadata": {
    "collapsed": false
   }
  }
 ],
 "metadata": {
  "accelerator": "GPU",
  "colab": {
   "collapsed_sections": [
    "7sPHNxudGuMO"
   ],
   "provenance": []
  },
  "gpuClass": "standard",
  "kernelspec": {
   "display_name": "Python 3 (ipykernel)",
   "language": "python",
   "name": "python3"
  },
  "language_info": {
   "codemirror_mode": {
    "name": "ipython",
    "version": 3
   },
   "file_extension": ".py",
   "mimetype": "text/x-python",
   "name": "python",
   "nbconvert_exporter": "python",
   "pygments_lexer": "ipython3",
   "version": "3.11.3"
  }
 },
 "nbformat": 4,
 "nbformat_minor": 1
}
