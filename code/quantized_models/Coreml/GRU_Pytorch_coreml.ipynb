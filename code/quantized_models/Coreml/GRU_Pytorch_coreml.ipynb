{
 "cells": [
  {
   "cell_type": "code",
   "execution_count": 1,
   "outputs": [
    {
     "name": "stdout",
     "output_type": "stream",
     "text": [
      "Requirement already satisfied: torch in /opt/homebrew/lib/python3.10/site-packages (2.0.0)\r\n",
      "Requirement already satisfied: filelock in /opt/homebrew/lib/python3.10/site-packages (from torch) (3.13.4)\r\n",
      "Requirement already satisfied: typing-extensions in /opt/homebrew/lib/python3.10/site-packages (from torch) (4.11.0)\r\n",
      "Requirement already satisfied: sympy in /opt/homebrew/lib/python3.10/site-packages (from torch) (1.12)\r\n",
      "Requirement already satisfied: networkx in /opt/homebrew/lib/python3.10/site-packages (from torch) (3.3)\r\n",
      "Requirement already satisfied: jinja2 in /opt/homebrew/lib/python3.10/site-packages (from torch) (3.1.3)\r\n",
      "Requirement already satisfied: MarkupSafe>=2.0 in /opt/homebrew/lib/python3.10/site-packages (from jinja2->torch) (2.1.5)\r\n",
      "Requirement already satisfied: mpmath>=0.19 in /opt/homebrew/lib/python3.10/site-packages (from sympy->torch) (1.3.0)\r\n",
      "Note: you may need to restart the kernel to use updated packages.\n",
      "Requirement already satisfied: numpy in /opt/homebrew/lib/python3.10/site-packages (1.26.4)\r\n",
      "Note: you may need to restart the kernel to use updated packages.\n",
      "Requirement already satisfied: pandas in /opt/homebrew/lib/python3.10/site-packages (2.2.2)\r\n",
      "Requirement already satisfied: numpy>=1.22.4 in /opt/homebrew/lib/python3.10/site-packages (from pandas) (1.26.4)\r\n",
      "Requirement already satisfied: python-dateutil>=2.8.2 in /opt/homebrew/lib/python3.10/site-packages (from pandas) (2.9.0.post0)\r\n",
      "Requirement already satisfied: pytz>=2020.1 in /opt/homebrew/lib/python3.10/site-packages (from pandas) (2024.1)\r\n",
      "Requirement already satisfied: tzdata>=2022.7 in /opt/homebrew/lib/python3.10/site-packages (from pandas) (2024.1)\r\n",
      "Requirement already satisfied: six>=1.5 in /opt/homebrew/lib/python3.10/site-packages (from python-dateutil>=2.8.2->pandas) (1.16.0)\r\n",
      "Note: you may need to restart the kernel to use updated packages.\n",
      "Requirement already satisfied: scikit-learn in /opt/homebrew/lib/python3.10/site-packages (1.1.2)\r\n",
      "Requirement already satisfied: numpy>=1.17.3 in /opt/homebrew/lib/python3.10/site-packages (from scikit-learn) (1.26.4)\r\n",
      "Requirement already satisfied: scipy>=1.3.2 in /opt/homebrew/lib/python3.10/site-packages (from scikit-learn) (1.13.0)\r\n",
      "Requirement already satisfied: joblib>=1.0.0 in /opt/homebrew/lib/python3.10/site-packages (from scikit-learn) (1.4.0)\r\n",
      "Requirement already satisfied: threadpoolctl>=2.0.0 in /opt/homebrew/lib/python3.10/site-packages (from scikit-learn) (3.4.0)\r\n",
      "Note: you may need to restart the kernel to use updated packages.\n",
      "Requirement already satisfied: coremltools in /opt/homebrew/lib/python3.10/site-packages (7.1)\r\n",
      "Requirement already satisfied: numpy>=1.14.5 in /opt/homebrew/lib/python3.10/site-packages (from coremltools) (1.26.4)\r\n",
      "Requirement already satisfied: protobuf<=4.0.0,>=3.1.0 in /opt/homebrew/lib/python3.10/site-packages (from coremltools) (3.20.3)\r\n",
      "Requirement already satisfied: sympy in /opt/homebrew/lib/python3.10/site-packages (from coremltools) (1.12)\r\n",
      "Requirement already satisfied: tqdm in /opt/homebrew/lib/python3.10/site-packages (from coremltools) (4.66.2)\r\n",
      "Requirement already satisfied: packaging in /opt/homebrew/lib/python3.10/site-packages (from coremltools) (24.0)\r\n",
      "Requirement already satisfied: attrs>=21.3.0 in /opt/homebrew/lib/python3.10/site-packages (from coremltools) (23.2.0)\r\n",
      "Requirement already satisfied: cattrs in /opt/homebrew/lib/python3.10/site-packages (from coremltools) (23.2.3)\r\n",
      "Requirement already satisfied: pyaml in /opt/homebrew/lib/python3.10/site-packages (from coremltools) (23.12.0)\r\n",
      "Requirement already satisfied: exceptiongroup>=1.1.1 in /opt/homebrew/lib/python3.10/site-packages (from cattrs->coremltools) (1.2.0)\r\n",
      "Requirement already satisfied: typing-extensions!=4.6.3,>=4.1.0 in /opt/homebrew/lib/python3.10/site-packages (from cattrs->coremltools) (4.11.0)\r\n",
      "Requirement already satisfied: PyYAML in /opt/homebrew/lib/python3.10/site-packages (from pyaml->coremltools) (6.0.1)\r\n",
      "Requirement already satisfied: mpmath>=0.19 in /opt/homebrew/lib/python3.10/site-packages (from sympy->coremltools) (1.3.0)\r\n",
      "Note: you may need to restart the kernel to use updated packages.\n"
     ]
    }
   ],
   "source": [
    "%pip install torch\n",
    "%pip install numpy\n",
    "%pip install pandas\n",
    "%pip install scikit-learn\n",
    "%pip install coremltools"
   ],
   "metadata": {
    "collapsed": false,
    "ExecuteTime": {
     "end_time": "2024-04-11T19:22:13.084065Z",
     "start_time": "2024-04-11T19:22:09.254872Z"
    }
   }
  },
  {
   "cell_type": "code",
   "execution_count": 40,
   "metadata": {
    "id": "UF_fkc-rEH5Q",
    "ExecuteTime": {
     "end_time": "2024-04-11T20:44:23.924713Z",
     "start_time": "2024-04-11T20:44:23.921826Z"
    }
   },
   "outputs": [],
   "source": [
    "import os\n",
    "import torch\n",
    "from torch.utils.data import DataLoader, TensorDataset\n",
    "from sklearn.model_selection import train_test_split\n",
    "import numpy as np\n",
    "import pandas as pd\n",
    "from numpy import genfromtxt\n",
    "from sklearn.preprocessing import LabelEncoder"
   ]
  },
  {
   "cell_type": "code",
   "execution_count": 41,
   "outputs": [],
   "source": [
    "# Set up the paths\n",
    "HOME_PATH = os.path.expanduser('~')\n",
    "MODELS_PATH = f'{HOME_PATH}/Developer/BU/research/models'\n",
    "DATASET_PATH = f'../../../data/'\n",
    "data_features = f'{DATASET_PATH}/WISDM_x.csv'\n",
    "data_labels = f'{DATASET_PATH}/WISDM_y.csv'"
   ],
   "metadata": {
    "collapsed": false,
    "ExecuteTime": {
     "end_time": "2024-04-11T20:44:24.535345Z",
     "start_time": "2024-04-11T20:44:24.532592Z"
    }
   }
  },
  {
   "cell_type": "code",
   "execution_count": 3,
   "metadata": {
    "id": "u9gSA8uiEilq",
    "ExecuteTime": {
     "end_time": "2024-04-11T19:22:34.336227Z",
     "start_time": "2024-04-11T19:22:32.069046Z"
    }
   },
   "outputs": [],
   "source": [
    "# Load Data\n",
    "x = genfromtxt(data_features, delimiter=',')\n",
    "y_df = pd.read_csv(data_labels)\n",
    "y = y_df.values.flatten()  # Flatten if y is 2D\n",
    "\n",
    "# Encode labels\n",
    "label_encoder = LabelEncoder()\n",
    "y_encoded = label_encoder.fit_transform(y)\n",
    "\n",
    "# Function to create time series dataset\n",
    "def create_series(x, y, timestep, overlap):\n",
    "    slide_step = int(timestep * (1 - overlap))\n",
    "    data_num = int((len(x) / slide_step) - 1)\n",
    "    dataset = np.ndarray(shape=(data_num, timestep, x.shape[1]))\n",
    "    labels = []\n",
    "\n",
    "    for i in range(data_num):\n",
    "        labels.append(y[slide_step * (i + 1) - 1])\n",
    "        for j in range(timestep):\n",
    "            dataset[i, j, :] = x[slide_step * i + j, :]\n",
    "\n",
    "    return dataset, np.array(labels)\n",
    "\n",
    "# Create time series\n",
    "timestep = 16  # Replace with your value\n",
    "overlap = 0.5  # Replace with your value\n",
    "X_series, y_series = create_series(x, y_encoded, timestep, overlap)"
   ]
  },
  {
   "cell_type": "code",
   "execution_count": 4,
   "metadata": {
    "id": "gLppIs7ZEiof",
    "ExecuteTime": {
     "end_time": "2024-04-11T19:23:00.251194Z",
     "start_time": "2024-04-11T19:23:00.223433Z"
    }
   },
   "outputs": [],
   "source": [
    "# Split into train and test sets\n",
    "X_train, X_test, y_train, y_test = train_test_split(X_series, y_series, test_size=0.2, random_state=42)\n",
    "\n",
    "# Convert to PyTorch tensors\n",
    "x_train_tensor = torch.tensor(X_train, dtype=torch.float32)\n",
    "x_test_tensor = torch.tensor(X_test, dtype=torch.float32)\n",
    "y_train_tensor = torch.tensor(y_train, dtype=torch.long)\n",
    "y_test_tensor = torch.tensor(y_test, dtype=torch.long)\n",
    "\n"
   ]
  },
  {
   "cell_type": "code",
   "execution_count": 5,
   "metadata": {
    "ExecuteTime": {
     "end_time": "2024-04-11T19:23:01.135428Z",
     "start_time": "2024-04-11T19:23:01.124673Z"
    }
   },
   "outputs": [],
   "source": [
    "import torch\n",
    "import torch.nn as nn\n",
    "\n",
    "class GRUNet(nn.Module):\n",
    "    def __init__(self, input_size, hidden_size1, hidden_size2, output_size):\n",
    "        super(GRUNet, self).__init__()\n",
    "        self.hidden_size1 = hidden_size1\n",
    "        self.hidden_size2 = hidden_size2\n",
    "\n",
    "        self.gru1 = nn.GRU(input_size, hidden_size1, batch_first=True)\n",
    "        self.dropout1 = nn.Dropout(0.2)\n",
    "        self.gru2 = nn.GRU(hidden_size1, hidden_size2, batch_first=True)\n",
    "        self.dropout2 = nn.Dropout(0.2)\n",
    "        self.fc = nn.Linear(hidden_size2, output_size)\n",
    "\n",
    "    def forward(self, x):\n",
    "        # Initialize hidden state\n",
    "        h0 = torch.zeros(1, x.size(0), self.hidden_size1).to(x.device)\n",
    "        \n",
    "        # First GRU layer\n",
    "        out, _ = self.gru1(x, h0)\n",
    "        out = self.dropout1(out)\n",
    "        \n",
    "        # Second GRU layer\n",
    "        h1 = torch.zeros(1, x.size(0), self.hidden_size2).to(x.device)\n",
    "        out, _ = self.gru2(out, h1)\n",
    "        out = self.dropout2(out)\n",
    "\n",
    "        # Dense layer\n",
    "        out = self.fc(out[:, -1, :])  # Taking the last time step\n",
    "        return out\n"
   ]
  },
  {
   "cell_type": "code",
   "execution_count": 6,
   "metadata": {
    "ExecuteTime": {
     "end_time": "2024-04-11T19:23:02.209009Z",
     "start_time": "2024-04-11T19:23:02.200824Z"
    }
   },
   "outputs": [],
   "source": [
    "# Parameters\n",
    "input_size = 3  # Number of features\n",
    "hidden_size1 = 50\n",
    "hidden_size2 = 25\n",
    "output_size = 6\n",
    "n_steps = 16\n",
    "\n",
    "# Create the model\n",
    "model = GRUNet(input_size, hidden_size1, hidden_size2, output_size)\n",
    "\n",
    "# Training setup (for demonstration)\n",
    "# Define your dataset here\n",
    "train_dataset = TensorDataset(torch.tensor(X_train, dtype=torch.float32), torch.tensor(y_train, dtype=torch.int64))\n",
    "train_loader = DataLoader(train_dataset, batch_size=64, shuffle=True)\n",
    "\n",
    "loss_fn = nn.CrossEntropyLoss()\n",
    "optimizer = torch.optim.Adam(model.parameters(), lr=0.001)\n"
   ]
  },
  {
   "cell_type": "code",
   "execution_count": 7,
   "metadata": {
    "ExecuteTime": {
     "end_time": "2024-04-11T19:26:00.443217Z",
     "start_time": "2024-04-11T19:23:03.345649Z"
    }
   },
   "outputs": [
    {
     "name": "stdout",
     "output_type": "stream",
     "text": [
      "Epoch [1/20], Loss: 0.5832, Accuracy: 79.70%\n",
      "Epoch [2/20], Loss: 0.3713, Accuracy: 86.83%\n",
      "Epoch [3/20], Loss: 0.3040, Accuracy: 89.52%\n",
      "Epoch [4/20], Loss: 0.2685, Accuracy: 90.95%\n",
      "Epoch [5/20], Loss: 0.2435, Accuracy: 91.88%\n",
      "Epoch [6/20], Loss: 0.2249, Accuracy: 92.47%\n",
      "Epoch [7/20], Loss: 0.2139, Accuracy: 92.90%\n",
      "Epoch [8/20], Loss: 0.2015, Accuracy: 93.33%\n",
      "Epoch [9/20], Loss: 0.1940, Accuracy: 93.62%\n",
      "Epoch [10/20], Loss: 0.1854, Accuracy: 93.87%\n",
      "Epoch [11/20], Loss: 0.1801, Accuracy: 94.13%\n",
      "Epoch [12/20], Loss: 0.1760, Accuracy: 94.26%\n",
      "Epoch [13/20], Loss: 0.1688, Accuracy: 94.49%\n",
      "Epoch [14/20], Loss: 0.1638, Accuracy: 94.63%\n",
      "Epoch [15/20], Loss: 0.1595, Accuracy: 94.84%\n",
      "Epoch [16/20], Loss: 0.1575, Accuracy: 94.89%\n",
      "Epoch [17/20], Loss: 0.1510, Accuracy: 95.09%\n",
      "Epoch [18/20], Loss: 0.1487, Accuracy: 95.15%\n",
      "Epoch [19/20], Loss: 0.1459, Accuracy: 95.23%\n",
      "Epoch [20/20], Loss: 0.1431, Accuracy: 95.40%\n"
     ]
    }
   ],
   "source": [
    "def train(model, train_loader, loss_fn, optimizer, epochs=0):\n",
    "    for epoch in range(epochs):\n",
    "        model.train()\n",
    "        running_loss = 0.0\n",
    "        correct = 0\n",
    "        total = 0\n",
    "\n",
    "        for X_batch, y_batch in train_loader:\n",
    "            optimizer.zero_grad()\n",
    "            y_pred = model(X_batch)\n",
    "            loss = loss_fn(y_pred, y_batch)\n",
    "            loss.backward()\n",
    "            optimizer.step()\n",
    "\n",
    "            running_loss += loss.item()\n",
    "            _, predicted = torch.max(y_pred.data, 1)\n",
    "            total += y_batch.size(0)\n",
    "            correct += (predicted == y_batch).sum().item()\n",
    "\n",
    "        avg_loss = running_loss / len(train_loader)\n",
    "        accuracy = 100 * correct / total\n",
    "        print(f\"Epoch [{epoch+1}/{epochs}], Loss: {avg_loss:.4f}, Accuracy: {accuracy:.2f}%\")\n",
    "\n",
    "train(model, train_loader, loss_fn, optimizer, epochs=20)\n"
   ]
  },
  {
   "cell_type": "code",
   "execution_count": 28,
   "metadata": {
    "ExecuteTime": {
     "end_time": "2024-04-11T19:53:15.903219Z",
     "start_time": "2024-04-11T19:53:14.887164Z"
    }
   },
   "outputs": [
    {
     "name": "stdout",
     "output_type": "stream",
     "text": [
      "Test Loss: 0.1640, Test Accuracy: 0.9473\n"
     ]
    }
   ],
   "source": [
    "test_dataset = TensorDataset(torch.tensor(X_test, dtype=torch.float32), torch.tensor(y_test, dtype=torch.int64))\n",
    "test_loader = DataLoader(test_dataset, batch_size=64, shuffle=False)\n",
    "def evaluate(model, test_loader, loss_fn):\n",
    "    model.eval()\n",
    "    total_loss = 0\n",
    "    correct = 0\n",
    "    total = 0\n",
    "    with torch.no_grad():\n",
    "        for X_batch, y_batch in test_loader:\n",
    "            y_pred = model(X_batch)\n",
    "            total_loss += loss_fn(y_pred, y_batch).item()\n",
    "            _, predicted = torch.max(y_pred.data, 1)\n",
    "            total += y_batch.size(0)\n",
    "            correct += (predicted == y_batch).sum().item()\n",
    "\n",
    "    avg_loss = total_loss / len(test_loader)\n",
    "    accuracy = correct / total\n",
    "    return avg_loss, accuracy\n",
    "\n",
    "avg_loss, accuracy = evaluate(model, test_loader, loss_fn)\n",
    "print(f\"Test Loss: {avg_loss:.4f}, Test Accuracy: {accuracy:.4f}\")\n",
    "\n"
   ]
  },
  {
   "cell_type": "code",
   "execution_count": 42,
   "metadata": {
    "ExecuteTime": {
     "end_time": "2024-04-11T20:44:29.511097Z",
     "start_time": "2024-04-11T20:44:29.498569Z"
    }
   },
   "outputs": [],
   "source": [
    "model_path = f'{MODELS_PATH}/gru_base.pth'\n",
    "torch.save(model.state_dict(), model_path)"
   ]
  },
  {
   "cell_type": "markdown",
   "metadata": {},
   "source": [
    "### Coreml metrics"
   ]
  },
  {
   "cell_type": "code",
   "execution_count": 43,
   "metadata": {
    "ExecuteTime": {
     "end_time": "2024-04-11T20:44:35.119569Z",
     "start_time": "2024-04-11T20:44:34.766829Z"
    }
   },
   "outputs": [
    {
     "name": "stderr",
     "output_type": "stream",
     "text": [
      "Converting PyTorch Frontend ==> MIL Ops:  99%|█████████▊| 71/72 [00:00<00:00, 3231.25 ops/s]\n",
      "Running MIL frontend_pytorch pipeline: 100%|██████████| 5/5 [00:00<00:00, 2336.40 passes/s]\n",
      "Running MIL default pipeline: 100%|██████████| 71/71 [00:00<00:00, 885.03 passes/s]\n",
      "Running MIL backend_mlprogram pipeline: 100%|██████████| 12/12 [00:00<00:00, 2894.95 passes/s]\n"
     ]
    }
   ],
   "source": [
    "import coremltools as ct\n",
    "example_input = torch.rand(1,16, 3) \n",
    "\n",
    "model.eval()\n",
    "traced_model = torch.jit.trace(model, example_input)\n",
    "out = traced_model(example_input)\n",
    "\n",
    "# Convert to Core ML program using the Unified Conversion API.\n",
    "coreml_model = ct.convert(\n",
    "    traced_model,\n",
    "    convert_to=\"mlprogram\",\n",
    "    inputs=[ct.TensorType(shape=example_input.shape)]\n",
    " )\n",
    "\n",
    "# Save the converted model.\n",
    "coreml_model.save(f'{MODELS_PATH}/gru.mlpackage')"
   ]
  },
  {
   "cell_type": "code",
   "execution_count": 44,
   "metadata": {
    "ExecuteTime": {
     "end_time": "2024-04-11T20:44:36.387048Z",
     "start_time": "2024-04-11T20:44:36.373131Z"
    }
   },
   "outputs": [
    {
     "data": {
      "text/plain": "input {\n  name: \"x\"\n  type {\n    multiArrayType {\n      shape: 1\n      shape: 16\n      shape: 3\n      dataType: FLOAT32\n    }\n  }\n}\noutput {\n  name: \"linear_24\"\n  type {\n    multiArrayType {\n      shape: 1\n      shape: 6\n      dataType: FLOAT32\n    }\n  }\n}\nmetadata {\n  userDefined {\n    key: \"com.github.apple.coremltools.source\"\n    value: \"torch==2.0.0\"\n  }\n  userDefined {\n    key: \"com.github.apple.coremltools.source_dialect\"\n    value: \"TorchScript\"\n  }\n  userDefined {\n    key: \"com.github.apple.coremltools.version\"\n    value: \"7.1\"\n  }\n}"
     },
     "execution_count": 44,
     "metadata": {},
     "output_type": "execute_result"
    }
   ],
   "source": [
    "coreml_model"
   ]
  },
  {
   "cell_type": "code",
   "execution_count": 45,
   "metadata": {
    "ExecuteTime": {
     "end_time": "2024-04-11T20:44:46.082021Z",
     "start_time": "2024-04-11T20:44:46.067496Z"
    }
   },
   "outputs": [],
   "source": [
    "from pathlib import Path\n",
    "\n",
    "def coreml_metrics(model_name, X_test, y_test, model_path):\n",
    "    predictions = []\n",
    "    for id in range(len(X_test)):\n",
    "        X_test_new = np.expand_dims(X_test[id], axis=0)\n",
    "        output_dict = model_name.predict({'x': X_test_new})\n",
    "        pred_class = np.argmax(output_dict['linear_24'])\n",
    "       \n",
    "        predictions.append(pred_class)\n",
    "    \n",
    "    accuracy = np.sum(predictions == y_test) / len(predictions)\n",
    "    print(\"Accuracy:\", accuracy)\n",
    "    \n",
    "    model_file = Path(model_path)\n",
    "    \n",
    "    # Size in bytes\n",
    "    model_size_bytes = model_file.stat().st_size\n",
    "    \n",
    "    # Convert size to kilobytes (optional)\n",
    "    model_size_kb = model_size_bytes / 1024\n",
    "    print(f\"Size of the model: {model_size_kb:.2f} KB\")"
   ]
  },
  {
   "cell_type": "code",
   "execution_count": 46,
   "metadata": {
    "ExecuteTime": {
     "end_time": "2024-04-11T20:44:47.782741Z",
     "start_time": "2024-04-11T20:44:47.676507Z"
    }
   },
   "outputs": [
    {
     "data": {
      "text/plain": "input {\n  name: \"x\"\n  type {\n    multiArrayType {\n      shape: 1\n      shape: 16\n      shape: 3\n      dataType: FLOAT32\n    }\n  }\n}\noutput {\n  name: \"linear_24\"\n  type {\n    multiArrayType {\n      shape: 1\n      shape: 6\n      dataType: FLOAT32\n    }\n  }\n}\nmetadata {\n  userDefined {\n    key: \"com.github.apple.coremltools.source\"\n    value: \"torch==2.0.0\"\n  }\n  userDefined {\n    key: \"com.github.apple.coremltools.source_dialect\"\n    value: \"TorchScript\"\n  }\n  userDefined {\n    key: \"com.github.apple.coremltools.version\"\n    value: \"7.1\"\n  }\n}"
     },
     "execution_count": 46,
     "metadata": {},
     "output_type": "execute_result"
    }
   ],
   "source": [
    "import coremltools as ct\n",
    "import coremltools.optimize.coreml as cto\n",
    "\n",
    "coreml_model = ct.models.MLModel(f'{MODELS_PATH}/gru.mlpackage')\n",
    "coreml_model"
   ]
  },
  {
   "cell_type": "code",
   "execution_count": 47,
   "metadata": {
    "ExecuteTime": {
     "end_time": "2024-04-11T20:44:58.369041Z",
     "start_time": "2024-04-11T20:44:51.025944Z"
    }
   },
   "outputs": [
    {
     "name": "stdout",
     "output_type": "stream",
     "text": [
      "Accuracy: 0.9472800793469138\n",
      "Size of the model: 0.12 KB\n"
     ]
    }
   ],
   "source": [
    "model_name = coreml_model\n",
    "model_path = f'{MODELS_PATH}/gru.mlpackage'\n",
    "\n",
    "coreml_metrics(model_name, X_test, y_test, model_path)"
   ]
  },
  {
   "cell_type": "markdown",
   "source": [
    "## Post Training Optimization"
   ],
   "metadata": {
    "collapsed": false
   }
  },
  {
   "cell_type": "code",
   "execution_count": 51,
   "outputs": [],
   "source": [
    "from coremltools.optimize.coreml import (\n",
    "    OpThresholdPrunerConfig,\n",
    "    OpMagnitudePrunerConfig,\n",
    "    OpPalettizerConfig,\n",
    "    OpLinearQuantizerConfig,\n",
    "    OptimizationConfig,\n",
    "    prune_weights,\n",
    ")"
   ],
   "metadata": {
    "collapsed": false,
    "ExecuteTime": {
     "end_time": "2024-04-19T21:47:37.541060Z",
     "start_time": "2024-04-19T21:47:37.522613Z"
    }
   }
  },
  {
   "cell_type": "markdown",
   "source": [
    "### Quantization"
   ],
   "metadata": {
    "collapsed": false
   }
  },
  {
   "cell_type": "code",
   "execution_count": 52,
   "outputs": [
    {
     "name": "stderr",
     "output_type": "stream",
     "text": [
      "Running compression pass linear_quantize_weights: 0 ops [00:00, ? ops/s]\n",
      "Running compression pass linear_quantize_weights: 100%|██████████| 12/12 [00:00<00:00, 3425.79 ops/s]\n",
      "Running compression pass linear_quantize_weights: 0 ops [00:00, ? ops/s]\n",
      "Running compression pass linear_quantize_weights: 100%|██████████| 12/12 [00:00<00:00, 2649.59 ops/s]\n",
      "Running compression pass linear_quantize_weights:   0%|          | 0/3 [00:00<?, ? ops/s]/opt/homebrew/lib/python3.10/site-packages/coremltools/optimize/coreml/_quantization_passes.py:686: RuntimeWarning: invalid value encountered in divide\n",
      "  quantized_data = np.round(original_data / scale)\n",
      "/opt/homebrew/lib/python3.10/site-packages/coremltools/optimize/coreml/_quantization_passes.py:690: RuntimeWarning: invalid value encountered in cast\n",
      "  quantized_data = np.clip(quantized_data, q_val_min, q_val_max).astype(np_dtype)\n",
      "Running compression pass linear_quantize_weights: 100%|██████████| 3/3 [00:00<00:00, 3811.85 ops/s]\n",
      "Running MIL frontend_milinternal pipeline: 0 passes [00:00, ? passes/s]\n",
      "Running MIL default pipeline: 100%|██████████| 69/69 [00:00<00:00, 1318.70 passes/s]\n",
      "Running MIL backend_mlprogram pipeline: 100%|██████████| 12/12 [00:00<00:00, 1303.93 passes/s]\n"
     ]
    }
   ],
   "source": [
    "op_config = OpLinearQuantizerConfig(\n",
    "    mode=\"linear_symmetric\", weight_threshold=512\n",
    ")\n",
    "config = OptimizationConfig(global_config=op_config)\n",
    "\n",
    "compressed_8_bit_model = cto.linear_quantize_weights(coreml_model, config=config)"
   ],
   "metadata": {
    "collapsed": false,
    "ExecuteTime": {
     "end_time": "2024-04-19T21:47:45.104881Z",
     "start_time": "2024-04-19T21:47:44.783155Z"
    }
   }
  },
  {
   "cell_type": "code",
   "execution_count": 53,
   "outputs": [],
   "source": [
    "compressed_8_bit_model.save(f'{MODELS_PATH}/gru_8bitQuantized_mlmodel.mlpackage')"
   ],
   "metadata": {
    "collapsed": false,
    "ExecuteTime": {
     "end_time": "2024-04-19T21:47:48.352985Z",
     "start_time": "2024-04-19T21:47:48.336797Z"
    }
   }
  },
  {
   "cell_type": "code",
   "execution_count": 54,
   "outputs": [
    {
     "name": "stdout",
     "output_type": "stream",
     "text": [
      "Accuracy: 0.9472419317921721\n",
      "Size of the model: 0.12 KB\n"
     ]
    }
   ],
   "source": [
    "model_name = compressed_8_bit_model\n",
    "model_path = f'{MODELS_PATH}/gru_8bitQuantized_mlmodel.mlpackage'\n",
    "\n",
    "coreml_metrics(model_name, X_test, y_test, model_path)"
   ],
   "metadata": {
    "collapsed": false,
    "ExecuteTime": {
     "end_time": "2024-04-19T21:48:02.882340Z",
     "start_time": "2024-04-19T21:47:53.616035Z"
    }
   }
  },
  {
   "cell_type": "markdown",
   "source": [
    "### Pruning"
   ],
   "metadata": {
    "collapsed": false
   }
  },
  {
   "cell_type": "markdown",
   "source": [
    "#### a) OpMagnitudePrunerConfig: Prune the weights with a constant sparsity percentile"
   ],
   "metadata": {
    "collapsed": false
   }
  },
  {
   "cell_type": "code",
   "execution_count": 55,
   "outputs": [
    {
     "name": "stderr",
     "output_type": "stream",
     "text": [
      "Running compression pass prune_weights: 0 ops [00:00, ? ops/s]\n",
      "Running compression pass prune_weights: 100%|██████████| 12/12 [00:00<00:00, 3222.26 ops/s]\n",
      "Running compression pass prune_weights: 0 ops [00:00, ? ops/s]\n",
      "Running compression pass prune_weights: 100%|██████████| 12/12 [00:00<00:00, 4108.04 ops/s]\n",
      "Running compression pass prune_weights: 100%|██████████| 3/3 [00:00<00:00, 53773.13 ops/s]\n",
      "Running MIL frontend_milinternal pipeline: 0 passes [00:00, ? passes/s]\n",
      "Running MIL default pipeline: 100%|██████████| 69/69 [00:00<00:00, 1517.39 passes/s]\n",
      "Running MIL backend_mlprogram pipeline: 100%|██████████| 12/12 [00:00<00:00, 1822.55 passes/s]\n"
     ]
    }
   ],
   "source": [
    "op_config = OpMagnitudePrunerConfig(\n",
    "    target_sparsity=0.6,\n",
    "    weight_threshold=1024,\n",
    ")\n",
    "config = OptimizationConfig(global_config=op_config)\n",
    "gru_magnitude_pruner = prune_weights(coreml_model, config=config)\n"
   ],
   "metadata": {
    "collapsed": false,
    "ExecuteTime": {
     "end_time": "2024-04-19T21:48:10.522034Z",
     "start_time": "2024-04-19T21:48:10.266070Z"
    }
   }
  },
  {
   "cell_type": "code",
   "execution_count": 56,
   "outputs": [],
   "source": [
    "gru_magnitude_pruner.save(f'{MODELS_PATH}/gru_magnitude_pruner.mlpackage')"
   ],
   "metadata": {
    "collapsed": false,
    "ExecuteTime": {
     "end_time": "2024-04-19T21:48:12.836240Z",
     "start_time": "2024-04-19T21:48:12.819795Z"
    }
   }
  },
  {
   "cell_type": "code",
   "execution_count": 57,
   "outputs": [
    {
     "name": "stdout",
     "output_type": "stream",
     "text": [
      "Accuracy: 0.8627450980392157\n",
      "Size of the model: 0.12 KB\n"
     ]
    }
   ],
   "source": [
    "model_name = gru_magnitude_pruner\n",
    "model_path = f'{MODELS_PATH}/gru_magnitude_pruner.mlpackage'\n",
    "\n",
    "coreml_metrics(model_name, X_test, y_test, model_path)"
   ],
   "metadata": {
    "collapsed": false,
    "ExecuteTime": {
     "end_time": "2024-04-19T21:48:24.208206Z",
     "start_time": "2024-04-19T21:48:15.106254Z"
    }
   }
  },
  {
   "cell_type": "markdown",
   "source": [
    "#### b) OpThresholdPrunerConfig: Sets all weight values below a certain value."
   ],
   "metadata": {
    "collapsed": false
   }
  },
  {
   "cell_type": "code",
   "execution_count": 58,
   "outputs": [
    {
     "name": "stderr",
     "output_type": "stream",
     "text": [
      "Running compression pass prune_weights: 0 ops [00:00, ? ops/s]\n",
      "Running compression pass prune_weights:   0%|          | 0/12 [00:00<?, ? ops/s]weight value has sparsity of 0.0028 < minimum_sparsity_percentile 0.01. Skipped.\n",
      "weight value has sparsity of 0.0016 < minimum_sparsity_percentile 0.01. Skipped.\n",
      "weight value has sparsity of 0.0028 < minimum_sparsity_percentile 0.01. Skipped.\n",
      "Running compression pass prune_weights: 100%|██████████| 12/12 [00:00<00:00, 9057.34 ops/s]\n",
      "Running compression pass prune_weights: 0 ops [00:00, ? ops/s]\n",
      "Running compression pass prune_weights:   0%|          | 0/12 [00:00<?, ? ops/s]weight value has sparsity of 0.0048 < minimum_sparsity_percentile 0.01. Skipped.\n",
      "weight value has sparsity of 0.0008 < minimum_sparsity_percentile 0.01. Skipped.\n",
      "weight value has sparsity of 0.0048 < minimum_sparsity_percentile 0.01. Skipped.\n",
      "Running compression pass prune_weights: 100%|██████████| 12/12 [00:00<00:00, 8928.80 ops/s]\n",
      "Running compression pass prune_weights: 100%|██████████| 3/3 [00:00<00:00, 48395.82 ops/s]\n",
      "Running MIL frontend_milinternal pipeline: 0 passes [00:00, ? passes/s]\n",
      "Running MIL default pipeline: 100%|██████████| 69/69 [00:00<00:00, 1725.04 passes/s]\n",
      "Running MIL backend_mlprogram pipeline: 100%|██████████| 12/12 [00:00<00:00, 2224.60 passes/s]\n"
     ]
    }
   ],
   "source": [
    "op_config = OpThresholdPrunerConfig(\n",
    "    threshold=0.001,\n",
    "    minimum_sparsity_percentile=0.01,\n",
    "    weight_threshold=1024,\n",
    ")\n",
    "\n",
    "config = OptimizationConfig(global_config=op_config)\n",
    "gru_threshold_pruner = prune_weights(coreml_model, config=config)"
   ],
   "metadata": {
    "collapsed": false,
    "ExecuteTime": {
     "end_time": "2024-04-19T21:48:32.373272Z",
     "start_time": "2024-04-19T21:48:32.014777Z"
    }
   }
  },
  {
   "cell_type": "code",
   "execution_count": 59,
   "outputs": [],
   "source": [
    "gru_threshold_pruner.save(f'{MODELS_PATH}/gru_threshold_pruner.mlpackage')"
   ],
   "metadata": {
    "collapsed": false,
    "ExecuteTime": {
     "end_time": "2024-04-19T21:48:36.038870Z",
     "start_time": "2024-04-19T21:48:36.020491Z"
    }
   }
  },
  {
   "cell_type": "code",
   "execution_count": 60,
   "outputs": [
    {
     "name": "stdout",
     "output_type": "stream",
     "text": [
      "Accuracy: 0.9472800793469138\n",
      "Size of the model: 0.12 KB\n"
     ]
    }
   ],
   "source": [
    "model_name = gru_threshold_pruner\n",
    "model_path = f'{MODELS_PATH}/gru_threshold_pruner.mlpackage'\n",
    "\n",
    "coreml_metrics(model_name, X_test, y_test, model_path)"
   ],
   "metadata": {
    "collapsed": false,
    "ExecuteTime": {
     "end_time": "2024-04-19T21:48:46.779215Z",
     "start_time": "2024-04-19T21:48:37.479040Z"
    }
   }
  },
  {
   "cell_type": "markdown",
   "source": [
    "### Palletization"
   ],
   "metadata": {
    "collapsed": false
   }
  },
  {
   "cell_type": "code",
   "execution_count": 61,
   "outputs": [
    {
     "name": "stderr",
     "output_type": "stream",
     "text": [
      "Running compression pass palettize_weights: 0 ops [00:00, ? ops/s]\n",
      "Running compression pass palettize_weights: 100%|██████████| 12/12 [00:00<00:00, 36.64 ops/s]\n",
      "Running compression pass palettize_weights: 0 ops [00:00, ? ops/s]\n",
      "Running compression pass palettize_weights: 100%|██████████| 12/12 [00:00<00:00, 30211.07 ops/s]\n",
      "Running compression pass palettize_weights: 100%|██████████| 3/3 [00:00<00:00, 14546.72 ops/s]\n",
      "Running MIL frontend_milinternal pipeline: 0 passes [00:00, ? passes/s]\n",
      "Running MIL default pipeline: 100%|██████████| 69/69 [00:00<00:00, 1333.49 passes/s]\n",
      "Running MIL backend_mlprogram pipeline: 100%|██████████| 12/12 [00:00<00:00, 1802.32 passes/s]\n"
     ]
    }
   ],
   "source": [
    "op_config = OpPalettizerConfig(\n",
    "    mode=\"kmeans\", \n",
    "    nbits=6\n",
    ")\n",
    "\n",
    "config = OptimizationConfig(global_config=op_config)\n",
    "gru_palettizer = cto.palettize_weights(coreml_model, config=config)"
   ],
   "metadata": {
    "collapsed": false,
    "ExecuteTime": {
     "end_time": "2024-04-19T21:48:57.104466Z",
     "start_time": "2024-04-19T21:48:56.515753Z"
    }
   }
  },
  {
   "cell_type": "code",
   "execution_count": 62,
   "outputs": [],
   "source": [
    "gru_palettizer.save(f'{MODELS_PATH}/gru_palettizer.mlpackage')"
   ],
   "metadata": {
    "collapsed": false,
    "ExecuteTime": {
     "end_time": "2024-04-19T21:49:00.180381Z",
     "start_time": "2024-04-19T21:49:00.160092Z"
    }
   }
  },
  {
   "cell_type": "code",
   "execution_count": 63,
   "outputs": [
    {
     "name": "stdout",
     "output_type": "stream",
     "text": [
      "Accuracy: 0.946669718471046\n",
      "Size of the model: 0.12 KB\n"
     ]
    }
   ],
   "source": [
    "model_name = gru_palettizer\n",
    "model_path = f'{MODELS_PATH}/gru_palettizer.mlpackage'\n",
    "\n",
    "coreml_metrics(model_name, X_test, y_test, model_path)"
   ],
   "metadata": {
    "collapsed": false,
    "ExecuteTime": {
     "end_time": "2024-04-19T21:49:13.398078Z",
     "start_time": "2024-04-19T21:49:04.010487Z"
    }
   }
  },
  {
   "cell_type": "code",
   "execution_count": null,
   "outputs": [],
   "source": [],
   "metadata": {
    "collapsed": false
   }
  }
 ],
 "metadata": {
  "accelerator": "GPU",
  "colab": {
   "collapsed_sections": [
    "7sPHNxudGuMO"
   ],
   "provenance": []
  },
  "gpuClass": "standard",
  "kernelspec": {
   "display_name": "Python 3 (ipykernel)",
   "language": "python",
   "name": "python3"
  },
  "language_info": {
   "codemirror_mode": {
    "name": "ipython",
    "version": 3
   },
   "file_extension": ".py",
   "mimetype": "text/x-python",
   "name": "python",
   "nbconvert_exporter": "python",
   "pygments_lexer": "ipython3",
   "version": "3.11.3"
  }
 },
 "nbformat": 4,
 "nbformat_minor": 1
}
